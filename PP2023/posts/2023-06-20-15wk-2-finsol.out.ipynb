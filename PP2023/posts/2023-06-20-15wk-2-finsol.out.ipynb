{
  "cells": [
    {
      "cell_type": "markdown",
      "metadata": {},
      "source": [
        "# 15wk-2: 기말고사 풀이\n",
        "\n",
        "최규빈  \n",
        "2023-06-20\n",
        "\n",
        "<a href=\"https://colab.research.google.com/github/guebin/PP2023/blob/main/posts/2023-06-19-15wk-2-fin.ipynb\"><img src=\"https://colab.research.google.com/assets/colab-badge.svg\" style=\"text-align: left\"></a>\n",
        "\n",
        "**제출은 `*.ipynb`, `*.html`, `*.pdf` 파일로 제출할 것**\n",
        "\n",
        "-   `ipynb` 파일형태제출을 권장함.\n",
        "\n",
        "# imports"
      ],
      "id": "56598f89-6705-4d20-a073-a36715bded6f"
    },
    {
      "cell_type": "code",
      "execution_count": 5,
      "metadata": {},
      "outputs": [],
      "source": [
        "import numpy as np\n",
        "import matplotlib.pyplot as plt\n",
        "import datetime"
      ],
      "id": "21a5e3fe-6648-481d-8bfe-554d59f978e6"
    },
    {
      "cell_type": "markdown",
      "metadata": {},
      "source": [
        "# `1`. 묵찌빠 (150점)\n",
        "\n",
        "> **묵찌빠**\n",
        ">\n",
        "> ref: <https://namu.wiki/w/묵찌빠>\n",
        ">\n",
        "> 묵찌빠는 가위바위보의 변형 놀이이다. 보통 가위바위보의 게임과 연이어\n",
        "> 진행되는데, 가위바위보 승부 이후 이긴 사람이 공격권을 가지고,\n",
        "> 묵(바위)/찌(가위)/빠(보자기) 가운데 하나를 외치는 동시에 말한 것과\n",
        "> 일치하도록 손 모양을 바꾼다. 공격권을 가진 사람의 손 모양이\n",
        "> 상대(수비권을 가진 사람)의 손 모양과 일치하면 공격권을 가진 사람의\n",
        "> 승리한다. 승부가 갈리지 않았을 경우에는 다시 가위바위보를 하는 것이\n",
        "> 아니라, 현 상태에서 가위바위보 규칙 상 이긴 사람이 공격권을 가져가게\n",
        "> 된다.\n",
        "\n",
        "`(1)` 아래는 RPS_BASE 클래스의 구현예시이다."
      ],
      "id": "e5bab148-2d20-4162-87d9-873b7e1af8da"
    },
    {
      "cell_type": "code",
      "execution_count": 7,
      "metadata": {},
      "outputs": [],
      "source": [
        "class RPS_BASE:\n",
        "    def __init__(self,candidate):\n",
        "        self.candidate = candidate\n",
        "        self.actions = list() \n",
        "    def __setitem__(self,index,val):\n",
        "        self.actions[index] = val\n",
        "    def __getitem__(self,item):\n",
        "        return self.actions[item]        \n",
        "    def __len__(self):\n",
        "        return len(self.actions)\n",
        "    def __eq__(self,other):\n",
        "        return self[-1] == other[-1]\n",
        "    def __gt__(self,other):\n",
        "        return [self[-1],other[-1]] in [['묵','찌'],['찌','빠'],['빠','묵']]\n",
        "    def __ge__(self,other):\n",
        "        return (self == other) or (self > other)\n",
        "    def __lt__(self,other):\n",
        "        return not (self >= other)\n",
        "    def __le__(self,other):\n",
        "        return (self == other) or (self < other)    \n",
        "    def _repr_html_(self):\n",
        "        html_str = \"\"\"\n",
        "        낼 수 있는 패: {} <br/>\n",
        "        기록: {}\n",
        "        \"\"\"        \n",
        "        return html_str.format(self.candidate,self.actions)       \n",
        "    def pick(self):\n",
        "        self.actions.append(np.random.choice(self.candidate))        "
      ],
      "id": "19c7784a-2278-4b08-99b5-b4c1b2c73c0f"
    },
    {
      "cell_type": "markdown",
      "metadata": {},
      "source": [
        "이 클래스에서 아래와 같은 2명의 플레이어 인스턴스를 생성하라.\n",
        "\n",
        "-   `a`: \\[‘묵’,‘찌’\\] 중에 하나를 랜덤으로 선택\n",
        "-   `b`: \\[‘찌’,‘빠’\\] 중에 하나를 랜덤으로 선택\n",
        "\n",
        "두 인스턴스를 100회 랜덤대결하고 결과를 기록하라. 어떠한 플레이어가 더\n",
        "유리한가?\n",
        "\n",
        "> 답안은 100회중 a몇회 승리, b몇회 승리와 같은 숫자형식으로만 나오면\n",
        "> 인정한다. (코드를 정리하거나 별도의 클래스를 만드는 것을 요구하지\n",
        "> 않음)\n",
        "\n",
        "`(풀이)`"
      ],
      "id": "5895fe72-93b9-475a-ac3e-a221c00011b1"
    },
    {
      "cell_type": "code",
      "execution_count": 23,
      "metadata": {},
      "outputs": [],
      "source": [
        "a = RPS_BASE(['묵','찌'])\n",
        "b = RPS_BASE(['찌','빠'])"
      ],
      "id": "da9b2023-e885-4720-bbfd-78e1dbb0a753"
    },
    {
      "cell_type": "code",
      "execution_count": 24,
      "metadata": {},
      "outputs": [],
      "source": [
        "rslt = []\n",
        "for _ in range(100):\n",
        "    a.pick()\n",
        "    b.pick()\n",
        "    if a>b: \n",
        "        rslt.append('a')\n",
        "    elif a==b: \n",
        "        rslt.append('-')\n",
        "    else: \n",
        "        rslt.append('b')"
      ],
      "id": "2d61ea17-7f8b-48a2-8a68-122fdcda1261"
    },
    {
      "cell_type": "code",
      "execution_count": 25,
      "metadata": {},
      "outputs": [],
      "source": [
        "{'a의승리':rslt.count('a'),'무승부':rslt.count('-'),'b의승리':rslt.count('b')}"
      ],
      "id": "fc2bb7e8-417f-4693-8b33-01efa2d73bd3"
    },
    {
      "cell_type": "markdown",
      "metadata": {},
      "source": [
        "------------------------------------------------------------------------\n",
        "\n",
        "`(2)` RPS_BASE에서 아래와 같은 두명의 플레이어 인스턴스를 생성하라.\n",
        "\n",
        "-   `a`: \\[‘묵’,‘찌’,‘빠’\\] 중 하나를 랜덤으로 선택\n",
        "-   `b`: \\[‘찌’,‘빠’\\] 중 하나를 랜덤으로 선택\n",
        "\n",
        "아래와 같은 a,b의 attribute을 변경하라."
      ],
      "id": "1e76932c-692b-4406-a71d-2528a2169b10"
    },
    {
      "cell_type": "code",
      "execution_count": 672,
      "metadata": {},
      "outputs": [],
      "source": [
        "a.modes = [None]\n",
        "a.actions = [None] \n",
        "b.modes = [None]\n",
        "b.actions = [None]"
      ],
      "id": "13b5e638-5c0b-4d39-bce4-d1efe500df03"
    },
    {
      "cell_type": "markdown",
      "metadata": {},
      "source": [
        "플레이어 a,b를 이용하여 반복적으로 가위바위보 대결을 수행하고 아래와\n",
        "같이 대결결과에 따라 공격권을 결정하는 함수 `mul`을 만들어라.\n",
        "\n",
        "**경우1: 플레이어 a가 승리할 경우**\n",
        "\n",
        "-   a가 공격모드, b가 수비모드가 된다.\n",
        "-   `a.modes`에는 ‘Attack’ 이 `b.modes`에는 `Defence`가 추가된다.\n",
        "-   `a.actions`와 `b.actions`는 각각의 플레이어가 선택한 패(묵,찌,빠)가\n",
        "    기록된다.\n",
        "\n",
        "**경우2: 플레이어 b가 승리할 경우**\n",
        "\n",
        "-   b가 공격모드, a가 수비모드가 된다.\n",
        "-   `b.modes`에는 ‘Attack’ 이 `a.modes`에는 `Defence`가 추가된다.\n",
        "-   `a.actions`와 `b.actions`는 각각의 플레이어가 선택한 패(묵,찌,빠)가\n",
        "    기록된다.\n",
        "\n",
        "**경우3: 비길경우**\n",
        "\n",
        "-   공격권의 변화는 없다.\n",
        "-   `a.modes`,`b.modes`는 각각 이전의 값이 추가된다.\n",
        "-   `a.actions`와 `b.actions`는 각각의 플레이어가 선택한 패(묵,찌,빠)가\n",
        "    기록된다.\n",
        "\n",
        "아래는 함수 mul을 사용한 예시이다.\n",
        "\n",
        "**시점1: 둘다 찌를 내어 공격권을 아무도 획득하지못함**"
      ],
      "id": "b5d489b9-2ee3-4370-be24-deb9b227bd9a"
    },
    {
      "cell_type": "code",
      "execution_count": 693,
      "metadata": {},
      "outputs": [],
      "source": [
        "mul(a,b)"
      ],
      "id": "c6b8c6a8-5447-405f-81c7-15bea3a79c76"
    },
    {
      "cell_type": "code",
      "execution_count": 702,
      "metadata": {},
      "outputs": [],
      "source": [
        "a"
      ],
      "id": "813fce95-0054-4cb3-bb6d-6788dce352e0"
    },
    {
      "cell_type": "code",
      "execution_count": 703,
      "metadata": {},
      "outputs": [],
      "source": [
        "b"
      ],
      "id": "948237f0-44f5-4ad5-a099-dbaa623a38f7"
    },
    {
      "cell_type": "code",
      "execution_count": 704,
      "metadata": {},
      "outputs": [],
      "source": [
        "a.modes"
      ],
      "id": "b2a45c21-dfd5-45e6-b14f-7c66d6b62b76"
    },
    {
      "cell_type": "code",
      "execution_count": 705,
      "metadata": {},
      "outputs": [],
      "source": [
        "b.modes"
      ],
      "id": "f5d82d9a-c9ba-4d7f-90b7-c507b054f9e0"
    },
    {
      "cell_type": "markdown",
      "metadata": {},
      "source": [
        "**시점2:** 이번에도 둘다 찌를 내어 아무도 공격권을 획득하지 못함"
      ],
      "id": "b148cc3a-e762-4f98-b220-fefc13ce3538"
    },
    {
      "cell_type": "code",
      "execution_count": 706,
      "metadata": {},
      "outputs": [],
      "source": [
        "mul(a,b)"
      ],
      "id": "e143c1d8-1f73-42d9-ad37-10013b6d8dd0"
    },
    {
      "cell_type": "code",
      "execution_count": 707,
      "metadata": {},
      "outputs": [],
      "source": [
        "a"
      ],
      "id": "641e1aa1-7893-48df-88b4-15cf33f43b8d"
    },
    {
      "cell_type": "code",
      "execution_count": 708,
      "metadata": {},
      "outputs": [],
      "source": [
        "b"
      ],
      "id": "4a57f2c9-3dfd-41ba-9d5e-746e910ff1d5"
    },
    {
      "cell_type": "code",
      "execution_count": 709,
      "metadata": {},
      "outputs": [],
      "source": [
        "a.modes"
      ],
      "id": "98e5c03f-39ed-4377-8cbf-cfc6881f8d6f"
    },
    {
      "cell_type": "code",
      "execution_count": 710,
      "metadata": {},
      "outputs": [],
      "source": [
        "b.modes"
      ],
      "id": "8d42dad4-8121-41ad-8249-b9687fa84d76"
    },
    {
      "cell_type": "markdown",
      "metadata": {},
      "source": [
        "**시점3:** 이번에는 a가 공격권을 획득 (묵\\>찌)"
      ],
      "id": "a7f18c08-7f55-484b-9aa9-ac3d6a6588ec"
    },
    {
      "cell_type": "code",
      "execution_count": 711,
      "metadata": {},
      "outputs": [],
      "source": [
        "mul(a,b)"
      ],
      "id": "37981f02-123d-4902-90c1-123fc40a6f46"
    },
    {
      "cell_type": "code",
      "execution_count": 712,
      "metadata": {},
      "outputs": [],
      "source": [
        "a"
      ],
      "id": "74ded083-6c72-4069-be80-3a3ea982a7bc"
    },
    {
      "cell_type": "code",
      "execution_count": 713,
      "metadata": {},
      "outputs": [],
      "source": [
        "b"
      ],
      "id": "629fa94f-03c9-4c9e-91de-1d8a95dcece8"
    },
    {
      "cell_type": "code",
      "execution_count": 714,
      "metadata": {},
      "outputs": [],
      "source": [
        "a.modes"
      ],
      "id": "10c1a068-fe54-45d8-84aa-3309e8bb0a80"
    },
    {
      "cell_type": "code",
      "execution_count": 715,
      "metadata": {},
      "outputs": [],
      "source": [
        "b.modes"
      ],
      "id": "72e42d98-b8a9-43a1-9722-14b496d9e303"
    },
    {
      "cell_type": "markdown",
      "metadata": {},
      "source": [
        "**시점4:** 이번에는 b가 공격권을 획득 (찌\\>빠)"
      ],
      "id": "b6e48227-c155-47ce-8fcb-4726de38c1d3"
    },
    {
      "cell_type": "code",
      "execution_count": 716,
      "metadata": {},
      "outputs": [],
      "source": [
        "mul(a,b)"
      ],
      "id": "787eb3fa-3c4d-4c7b-b836-a4eb5de422e2"
    },
    {
      "cell_type": "code",
      "execution_count": 717,
      "metadata": {},
      "outputs": [],
      "source": [
        "a"
      ],
      "id": "c061b7c0-ed91-47c9-8f27-49e68bd7e5d9"
    },
    {
      "cell_type": "code",
      "execution_count": 718,
      "metadata": {},
      "outputs": [],
      "source": [
        "b"
      ],
      "id": "74cfc258-af52-4b76-9b93-254622cdf7fd"
    },
    {
      "cell_type": "code",
      "execution_count": 719,
      "metadata": {},
      "outputs": [],
      "source": [
        "a.modes"
      ],
      "id": "cfd3ecf1-4e32-4569-b13d-47803155b859"
    },
    {
      "cell_type": "code",
      "execution_count": 720,
      "metadata": {},
      "outputs": [],
      "source": [
        "b.modes"
      ],
      "id": "2ed06118-1734-4425-a896-c5ae11736f83"
    },
    {
      "cell_type": "markdown",
      "metadata": {},
      "source": [
        "`(풀이)` – 생략, (3)번 풀이로 대체\n",
        "\n",
        "------------------------------------------------------------------------\n",
        "\n",
        "`(3)` RPS_BASE를 상속받아 MookjjibbaPlayer라는 새로운 클래스를 정의하라.\n",
        "MookjjibbaPlayer 클래스에서 아래의 메소드를 새롭게 정의 혹은 재정의하여\n",
        "\n",
        "1.  `__init__`\n",
        "2.  `_repr_html_`\n",
        "3.  `__mul__`\n",
        "4.  `reset`\n",
        "\n",
        "인스턴스가 아래와 같은 동작을 하도록 설계하라.\n",
        "\n",
        "**시점0: 생성예시 (`__init__`)**"
      ],
      "id": "0d173772-0495-45ba-bc72-9ccce8859568"
    },
    {
      "cell_type": "code",
      "execution_count": 765,
      "metadata": {},
      "outputs": [],
      "source": [
        "a=MookjjibbaPlayer(['묵','찌','빠'])\n",
        "b=MookjjibbaPlayer(['묵','찌','빠'])"
      ],
      "id": "8984389b-00c8-492f-8bc5-cd1f2af91cdf"
    },
    {
      "cell_type": "code",
      "execution_count": 766,
      "metadata": {},
      "outputs": [],
      "source": [
        "a.actions"
      ],
      "id": "e13ad5c3-4193-40da-9e42-96222ced7ee0"
    },
    {
      "cell_type": "code",
      "execution_count": 767,
      "metadata": {},
      "outputs": [],
      "source": [
        "a.modes"
      ],
      "id": "fa83fcca-8076-4559-92fd-365e4d459c19"
    },
    {
      "cell_type": "markdown",
      "metadata": {},
      "source": [
        "> **`__init__` 의 동작**\n",
        ">\n",
        "> 1.  슈퍼클래스(RPS_BASE)의 `__init__`을 동작시킴\n",
        "> 2.  MookjjibbaPlayer의 인스턴가 가지는 actions, modes 값을 \\[None\\]\n",
        ">     으로 초기화\n",
        "\n",
        "**시점0: 출력예시(`_repr_html_`)**"
      ],
      "id": "70e6da2d-ff58-4d99-903e-384b89665b3d"
    },
    {
      "cell_type": "code",
      "execution_count": 770,
      "metadata": {},
      "outputs": [],
      "source": [
        "a"
      ],
      "id": "0c1fb8c9-075d-4809-adce-7b6f3e853023"
    },
    {
      "cell_type": "code",
      "execution_count": 771,
      "metadata": {},
      "outputs": [],
      "source": [
        "b"
      ],
      "id": "686ccd5a-4e52-4f66-8e66-48b9b3e1d646"
    },
    {
      "cell_type": "markdown",
      "metadata": {},
      "source": [
        "> **`_repr_html_` 의 동작**\n",
        ">\n",
        "> 위와 같이 “낼 수 있는 패”, “기록”, “모드” 가 함께 출력되도록 설계할 것\n",
        "\n",
        "**시점1: 대결 및 결과출력 (`__mul__`, `_repr_html_`)**"
      ],
      "id": "a08234bc-c22d-4c07-9367-0f5120113ca4"
    },
    {
      "cell_type": "code",
      "execution_count": 772,
      "metadata": {},
      "outputs": [],
      "source": [
        "a*b"
      ],
      "id": "0cb07dd4-8247-40d5-aa0f-5a654ef3ffa0"
    },
    {
      "cell_type": "code",
      "execution_count": 773,
      "metadata": {},
      "outputs": [],
      "source": [
        "a"
      ],
      "id": "bbce9c1e-5550-491e-8fe7-9d09cc0e44c6"
    },
    {
      "cell_type": "code",
      "execution_count": 774,
      "metadata": {},
      "outputs": [],
      "source": [
        "b"
      ],
      "id": "42d07d26-a154-4df5-a176-b8084e3f40f8"
    },
    {
      "cell_type": "markdown",
      "metadata": {},
      "source": [
        "> **`__mul__` 의 동작**\n",
        ">\n",
        "> 1.  두 플레이어의 대결을 진행\n",
        "> 2.  결과를 보고 modes 의 값을 update\n",
        ">\n",
        "> 위의 상황은 두 플레이어 모두 “묵”을 내어 어느쪽도 공격권을 가지지 못한\n",
        "> 상태를 의미\n",
        "\n",
        "**시점2: 대결 및 결과출력 (`__mul__`, `_repr_html_`)**"
      ],
      "id": "3afaf44c-b57a-4ff3-bf6e-7f9f6f8ae690"
    },
    {
      "cell_type": "code",
      "execution_count": 775,
      "metadata": {},
      "outputs": [],
      "source": [
        "a*b"
      ],
      "id": "2435db8a-0efb-440a-8bdc-8c32ff209eb5"
    },
    {
      "cell_type": "code",
      "execution_count": 776,
      "metadata": {},
      "outputs": [],
      "source": [
        "a"
      ],
      "id": "c2e33f6d-2edf-46f1-8cce-105a5c7c0e4b"
    },
    {
      "cell_type": "code",
      "execution_count": 777,
      "metadata": {},
      "outputs": [],
      "source": [
        "b"
      ],
      "id": "177b8374-6bda-4bc3-a3f4-a17698cdc597"
    },
    {
      "cell_type": "markdown",
      "metadata": {},
      "source": [
        "> **`__mul__` 의 동작**\n",
        ">\n",
        "> 1.  두 플레이어의 대결을 진행\n",
        "> 2.  결과를 보고 modes 의 값을 update\n",
        ">\n",
        "> 위의 상황은 a가 묵, b가 빠를 내어 b가 공격권을 획득한 상황을 의미\n",
        "\n",
        "**시점3: 대결결과의 초기화 (`reset`)**"
      ],
      "id": "ceba20b0-9016-45ee-894b-a684782c7dfd"
    },
    {
      "cell_type": "code",
      "execution_count": 778,
      "metadata": {},
      "outputs": [],
      "source": [
        "a"
      ],
      "id": "c2d05499-b3e0-4fcb-8eea-c2bca07ea62b"
    },
    {
      "cell_type": "code",
      "execution_count": 779,
      "metadata": {},
      "outputs": [],
      "source": [
        "a.reset()"
      ],
      "id": "b5189cd5-443b-4ce0-a932-5162b25a9c43"
    },
    {
      "cell_type": "code",
      "execution_count": 780,
      "metadata": {},
      "outputs": [],
      "source": [
        "a"
      ],
      "id": "751baed7-6444-41d2-aeea-17ded64758e1"
    },
    {
      "cell_type": "markdown",
      "metadata": {},
      "source": [
        "> **`reset` 의 동작**\n",
        ">\n",
        "> 1.  플레이어의 기록을 초기화\n",
        "> 2.  플레이어의 모드를 초기화\n",
        "\n",
        "`(풀이)`"
      ],
      "id": "ce603361-77fb-4a14-8b07-4a1b62bd3bb6"
    },
    {
      "cell_type": "code",
      "execution_count": 26,
      "metadata": {},
      "outputs": [],
      "source": [
        "class MookjjibbaPlayer(RPS_BASE):\n",
        "    def __init__(self,candidate):\n",
        "        super().__init__(candidate)\n",
        "        self.modes = [None]\n",
        "        self.actions = [None]\n",
        "    def __mul__(self,other):\n",
        "        self.pick()\n",
        "        other.pick()\n",
        "        if self > other:\n",
        "            self.modes.append('Attack')\n",
        "            other.modes.append('Defence')\n",
        "        elif self < other:\n",
        "            self.modes.append('Defence')\n",
        "            other.modes.append('Attack')\n",
        "        else: \n",
        "            self.modes.append(self.modes[-1]) \n",
        "            other.modes.append(other.modes[-1])\n",
        "    def _repr_html_(self):\n",
        "        html_str = \"\"\"\n",
        "        낼 수 있는 패: {} <br/>\n",
        "        기록: {} <br/>\n",
        "        모드: {} <br/>\n",
        "        \"\"\"        \n",
        "        return html_str.format(self.candidate,self.actions,self.modes)\n",
        "    def reset(self):\n",
        "        self.__init__(self.candidate)"
      ],
      "id": "365e5ef5-7977-408d-9721-b7caa4ffb515"
    },
    {
      "cell_type": "markdown",
      "metadata": {},
      "source": [
        "**`__init__`, `_repr_html_`** 체크"
      ],
      "id": "648a1c12-97c7-4b04-a848-67d0f4c70ede"
    },
    {
      "cell_type": "code",
      "execution_count": 36,
      "metadata": {},
      "outputs": [],
      "source": [
        "a=MookjjibbaPlayer(['묵','찌','빠'])\n",
        "b=MookjjibbaPlayer(['묵','찌','빠'])"
      ],
      "id": "497917e5-ba58-4c29-95dc-c980325686f5"
    },
    {
      "cell_type": "code",
      "execution_count": 37,
      "metadata": {},
      "outputs": [],
      "source": [
        "a"
      ],
      "id": "d112f6b1-602f-4838-ae1c-07695c01d8c3"
    },
    {
      "cell_type": "code",
      "execution_count": 38,
      "metadata": {},
      "outputs": [],
      "source": [
        "b"
      ],
      "id": "beca7342-95db-4bdb-aefc-32e42704c9ad"
    },
    {
      "cell_type": "markdown",
      "metadata": {},
      "source": [
        "**`__mul__`, `_repr_html_`, `reset`** 체크"
      ],
      "id": "50af9fc6-4c73-4b16-942e-2cc4827d4723"
    },
    {
      "cell_type": "code",
      "execution_count": 39,
      "metadata": {},
      "outputs": [],
      "source": [
        "for _ in range(3):\n",
        "    a*b"
      ],
      "id": "7d824723-2cc0-477b-81c4-f03eed4e37bf"
    },
    {
      "cell_type": "code",
      "execution_count": 40,
      "metadata": {},
      "outputs": [],
      "source": [
        "a"
      ],
      "id": "55ccccca-9e23-4e92-b37b-5d5871bd0ad8"
    },
    {
      "cell_type": "code",
      "execution_count": 41,
      "metadata": {},
      "outputs": [],
      "source": [
        "b"
      ],
      "id": "f8f3e863-272d-41ce-963e-aba6de935dfa"
    },
    {
      "cell_type": "code",
      "execution_count": 42,
      "metadata": {},
      "outputs": [],
      "source": [
        "a.reset()"
      ],
      "id": "6c02f3c3-72c2-4cc8-9d5f-2d562f2ceee7"
    },
    {
      "cell_type": "code",
      "execution_count": 43,
      "metadata": {},
      "outputs": [],
      "source": [
        "a"
      ],
      "id": "ebfc6aa5-3f31-4773-b0ae-3bf948d65636"
    },
    {
      "cell_type": "markdown",
      "metadata": {},
      "source": [
        "------------------------------------------------------------------------\n",
        "\n",
        "`(4)` `(3)` 에서 생성된 MookjjibbaPlayer의 두 개의 인스턴스 a,b를\n",
        "입력으로 받고 최초공격권을 결정하는 함수 `jumpball`을 설계하라.\n",
        "\n",
        "아래는 jumpball함수의 사용예시이다."
      ],
      "id": "82a409ae-b5a4-499e-9db6-474d108979a0"
    },
    {
      "cell_type": "code",
      "execution_count": null,
      "metadata": {},
      "outputs": [],
      "source": [
        "a"
      ],
      "id": "49527017-c897-492c-8065-92acc37c222d"
    },
    {
      "cell_type": "code",
      "execution_count": 875,
      "metadata": {},
      "outputs": [],
      "source": [
        "b"
      ],
      "id": "670e06d5-c03f-4ea2-a9f2-77df420346c6"
    },
    {
      "cell_type": "code",
      "execution_count": 876,
      "metadata": {},
      "outputs": [],
      "source": [
        "jumpball(a,b)"
      ],
      "id": "78af2550-0da2-4ad7-a052-134c5dcc9b04"
    },
    {
      "cell_type": "code",
      "execution_count": 877,
      "metadata": {},
      "outputs": [],
      "source": [
        "a"
      ],
      "id": "e0217bbe-72f6-4805-96cd-cf6bbeabf46a"
    },
    {
      "cell_type": "code",
      "execution_count": 878,
      "metadata": {},
      "outputs": [],
      "source": [
        "b"
      ],
      "id": "05e63fee-8ac2-4ff0-b80b-85373803cf52"
    },
    {
      "cell_type": "markdown",
      "metadata": {},
      "source": [
        "> 처음 2번의 가위,바위,보는 비겼으나 이후에 b가 승리하여 초기공격권을\n",
        "> b가 획득하였음.\n",
        "\n",
        "`(풀이)` – 생략, (5)번풀이 참고\n",
        "\n",
        "------------------------------------------------------------------------\n",
        "\n",
        "`(5)` 지금까지 코드를 바탕으로\n",
        "\n",
        "-   a: \\[‘묵’,‘찌’\\] 중 하나를 랜덤으로 고르는 플레이어\n",
        "-   b: \\[‘찌’,‘빠’\\] 중 하나를 랜덤으로 고르는 플레이어\n",
        "\n",
        "를 설정하여 100회 가상대결을 진행하라. 100회 가상대결결과를 제시하라.\n",
        "\n",
        "(참고) – 아래는 제가 구현한 예시입니다. 참고용일 뿐이며 이와 같은\n",
        "방식으로 구현할 필요는 없습니다.\n",
        "\n",
        "**1. a,b 두명의 플레이어 생성**"
      ],
      "id": "dfb88699-3dac-435d-8da4-c06be149789a"
    },
    {
      "cell_type": "code",
      "execution_count": null,
      "metadata": {},
      "outputs": [],
      "source": [
        "a=MookjjibbaPlayer(['묵','찌'])\n",
        "b=MookjjibbaPlayer(['찌','빠'])"
      ],
      "id": "d2e3ce17-77e5-4402-8f59-db68b9d9a0d6"
    },
    {
      "cell_type": "code",
      "execution_count": null,
      "metadata": {},
      "outputs": [],
      "source": [
        "a"
      ],
      "id": "954789d6-5e6e-42a7-93bb-35e8a72c0914"
    },
    {
      "cell_type": "code",
      "execution_count": null,
      "metadata": {},
      "outputs": [],
      "source": [
        "b"
      ],
      "id": "6014c33c-3058-41ae-8ba5-939783ca1677"
    },
    {
      "cell_type": "markdown",
      "metadata": {},
      "source": [
        "> a,b 플레이어가 초기화\n",
        "\n",
        "**2. a,b 두명의 플레이어를 입력으로 하여 게임1을 생성후 1회 게임진행**"
      ],
      "id": "561a0073-c058-4125-b400-16f2409c5948"
    },
    {
      "cell_type": "code",
      "execution_count": null,
      "metadata": {},
      "outputs": [],
      "source": [
        "game = PlayMookjjibba(a,b)"
      ],
      "id": "9ee012f7-062e-46d6-b8f9-cbcd390885b2"
    },
    {
      "cell_type": "code",
      "execution_count": null,
      "metadata": {},
      "outputs": [],
      "source": [
        "game.play()"
      ],
      "id": "56aae94f-6e9f-4021-b0f2-4c667fa9cfe8"
    },
    {
      "cell_type": "code",
      "execution_count": null,
      "metadata": {},
      "outputs": [],
      "source": [
        "a"
      ],
      "id": "a533429f-928e-4f70-8675-43f025436ec7"
    },
    {
      "cell_type": "code",
      "execution_count": null,
      "metadata": {},
      "outputs": [],
      "source": [
        "b"
      ],
      "id": "4b5e9448-7397-4561-b385-208d6b62dbc6"
    },
    {
      "cell_type": "markdown",
      "metadata": {},
      "source": [
        "> a가 찌, b가 빠를 내어 최초 공격권을 a가 획득하였지만 이후 공격권을\n",
        "> 상실한 상실함. 이후 4번째 가위바위보에서 b가 a가 동시에 찌를 내며 b의\n",
        "> 승리로 마무리됨\n",
        "\n",
        "**3. game.records 에 b의 승리가 기록되어 있음**"
      ],
      "id": "dda6444e-983d-493c-9987-74f94479d668"
    },
    {
      "cell_type": "code",
      "execution_count": null,
      "metadata": {},
      "outputs": [],
      "source": [
        "game.records "
      ],
      "id": "1efcadb0-b63d-4600-a1e7-25bcbaf1f6ba"
    },
    {
      "cell_type": "markdown",
      "metadata": {},
      "source": [
        "**4. 1회 대결기록을 삭제하고 또 다른 게임을 진행: 이번에는 a의 승리**"
      ],
      "id": "4830e405-c336-44bb-b41f-ce627d8a3646"
    },
    {
      "cell_type": "code",
      "execution_count": null,
      "metadata": {},
      "outputs": [],
      "source": [
        "game.reset_player_history()"
      ],
      "id": "61f29fac-80af-490a-b707-dc91390e531b"
    },
    {
      "cell_type": "code",
      "execution_count": null,
      "metadata": {},
      "outputs": [],
      "source": [
        "a"
      ],
      "id": "f459dade-2c1f-4463-bc5a-f875bc16eb32"
    },
    {
      "cell_type": "code",
      "execution_count": null,
      "metadata": {},
      "outputs": [],
      "source": [
        "b"
      ],
      "id": "47e5f29d-33f0-43c4-9eda-79e03cf64016"
    },
    {
      "cell_type": "code",
      "execution_count": null,
      "metadata": {},
      "outputs": [],
      "source": [
        "game.play()"
      ],
      "id": "18b8ef2c-4fc2-4983-8b82-1c602125d129"
    },
    {
      "cell_type": "code",
      "execution_count": null,
      "metadata": {},
      "outputs": [],
      "source": [
        "a"
      ],
      "id": "1e4e79e1-8891-43bc-b292-e0f24d19710b"
    },
    {
      "cell_type": "code",
      "execution_count": null,
      "metadata": {},
      "outputs": [],
      "source": [
        "b"
      ],
      "id": "971ae2e2-7167-43e9-840a-eb4b7ed0b168"
    },
    {
      "cell_type": "markdown",
      "metadata": {},
      "source": [
        "> 공격권은 2번만에 A가 획득, 1번의 공격을 통하여 마무리\n",
        "\n",
        "**5. 이번에는 a의 승리가 기록됨**"
      ],
      "id": "3a921135-cc04-4487-8fa1-efd1c8a2a6d9"
    },
    {
      "cell_type": "code",
      "execution_count": null,
      "metadata": {},
      "outputs": [],
      "source": [
        "game.records"
      ],
      "id": "eedbd398-4d5b-4aba-9a27-ec7a0c0bb25c"
    },
    {
      "cell_type": "markdown",
      "metadata": {},
      "source": [
        "`(풀이)`"
      ],
      "id": "0d83c433-297b-4736-b773-f23f865e04b3"
    },
    {
      "cell_type": "code",
      "execution_count": 56,
      "metadata": {},
      "outputs": [],
      "source": [
        "class PlayMookjjibba:\n",
        "    def __init__(self,a,b):\n",
        "        self.a = a\n",
        "        self.b = b\n",
        "        self.records = list()\n",
        "    def reset_player_history(self):\n",
        "        self.a.reset()\n",
        "        self.b.reset()\n",
        "    def record(self):\n",
        "        if self.a.modes[-1] == 'Attack':\n",
        "            self.records.append('a')\n",
        "        else:\n",
        "            self.records.append('b')\n",
        "    def jumpball(self):\n",
        "        self.a * self.b \n",
        "        while self.a == self.b:\n",
        "            self.a * self.b \n",
        "    def play(self):\n",
        "        self.jumpball()\n",
        "        while self.a != self.b:\n",
        "            self.a * self.b \n",
        "        self.record()"
      ],
      "id": "49b3334e-957f-4512-8fd7-7c399de2577d"
    },
    {
      "cell_type": "code",
      "execution_count": 57,
      "metadata": {},
      "outputs": [],
      "source": [
        "a=MookjjibbaPlayer(['묵','찌'])\n",
        "b=MookjjibbaPlayer(['찌','빠'])\n",
        "game = PlayMookjjibba(a,b)"
      ],
      "id": "231c1d74-0942-43ff-91a1-cae9262a5918"
    },
    {
      "cell_type": "code",
      "execution_count": 58,
      "metadata": {},
      "outputs": [],
      "source": [
        "for _ in range(1000):\n",
        "    game.play()"
      ],
      "id": "f5e2b86d-048a-4405-9923-733811b40293"
    },
    {
      "cell_type": "code",
      "execution_count": 59,
      "metadata": {},
      "outputs": [],
      "source": [
        "{'a':game.records.count('a'),'b':game.records.count('b')}"
      ],
      "id": "339e5e5d-8eec-4332-be46-03c353bb1b24"
    },
    {
      "cell_type": "markdown",
      "metadata": {},
      "source": [
        "------------------------------------------------------------------------\n",
        "\n",
        "# `2`. 종합문항 (50점)\n",
        "\n",
        "`(1)` LinearRegression 이라는 이름의 클래스를 만들고 아래의 기능을\n",
        "넣어라.\n",
        "\n",
        "**`__init__`**: “클래스 $\\to$ 인스턴스” 인 시점에 길이가 $n$인 numpy\n",
        "array ${\\bf x}=(x_1,\\dots,x_n)$, ${\\bf y}=(y_1,\\dots,y_n)$을 입력으로\n",
        "받아 내부에 저장한다.\n",
        "\n",
        "**`fit`**: fit은 내부에 저장된 ${\\bf x}$, ${\\bf y}$를 이용하여\n",
        "$\\hat{\\bf y}=(\\hat{y}_1,\\dots,\\hat{y}_n)$을 계산하는 역할을 한다. 계산은\n",
        "아래의 수식을 이용한다.\n",
        "$$\\hat{\\bf y}= {\\bf X}({\\bf X}^T {\\bf X})^{-1}{\\bf X}^T {\\bf y}, \\quad {\\bf X}=\\begin{bmatrix} 1 & x_1 \\\\ 1 & x_2 \\\\ \\dots \\\\ 1 & x_n \\end{bmatrix}$$\n",
        "\n",
        "**`plot`**: plot은 $(x_i,y_i)$와 $(x_i,\\hat{y}_i)$를 시각화하는 역할을\n",
        "한다.\n",
        "\n",
        "아래의 자료를 LinearRegression의 입력으로 받고 시각화하는 분석을\n",
        "수행하라."
      ],
      "id": "c2ffa537-df35-406b-a2ee-60daeeebb337"
    },
    {
      "cell_type": "code",
      "execution_count": 62,
      "metadata": {},
      "outputs": [
        {
          "output_type": "display_data",
          "metadata": {},
          "data": {
            "image/png": "[encoded data removed]"
          }
        }
      ],
      "source": [
        "x = np.linspace(0,1,100)\n",
        "y = 2*x + np.random.normal(size=100)\n",
        "plt.plot(x,y,'o')"
      ],
      "id": "7c268703-3d76-4583-94b1-b1c6196b13d7"
    },
    {
      "cell_type": "markdown",
      "metadata": {},
      "source": [
        "`(풀이)`"
      ],
      "id": "9ad664d5-61f2-45a7-b579-f3a6b8919ecf"
    },
    {
      "cell_type": "code",
      "execution_count": 63,
      "metadata": {},
      "outputs": [],
      "source": [
        "class LinearRegression: \n",
        "    def __init__(self,x,y):\n",
        "        self.x = x\n",
        "        self.y = y \n",
        "    def fit(self):\n",
        "        n = len(self.x)\n",
        "        self.X = np.stack([np.ones(n),self.x],axis=1)\n",
        "        self.yhat = self.X@np.linalg.inv(self.X.T@self.X)@self.X.T@self.y \n",
        "    def plot(self):\n",
        "        plt.plot(self.x,self.y,'o',label=r'$(x_i,y_i)$')\n",
        "        plt.plot(self.x,self.yhat,'--',label=r'$(x_i,\\hat{y}_i)$')\n",
        "        plt.legend()"
      ],
      "id": "dca70ffb-206b-4eab-9971-8f37a5d4bdbf"
    },
    {
      "cell_type": "code",
      "execution_count": 64,
      "metadata": {},
      "outputs": [
        {
          "output_type": "display_data",
          "metadata": {},
          "data": {
            "image/png": "[encoded data removed]"
          }
        }
      ],
      "source": [
        "linreg = LinearRegression(x,y)\n",
        "linreg.fit()\n",
        "linreg.plot()"
      ],
      "id": "1ab13e45-a048-43f9-966c-82f9b32540b0"
    },
    {
      "cell_type": "markdown",
      "metadata": {},
      "source": [
        "> 5월24일 12wk-2 숙제참고\n",
        "\n",
        "------------------------------------------------------------------------\n",
        "\n",
        "`(2)` 앞면과 뒷면이 나올 확률이 각각 1/2인 동전을 생각하자. 하니와\n",
        "규빈은 이 동전을 연속으로 던져서 아래와 같은 룰을 정하여 내기를 하였다.\n",
        "\n",
        "-   동전을 연속으로 반복하여 던진다. 최근 2회의 결과가 (뒷면,앞면) 이\n",
        "    나오면 하니의 승리\n",
        "-   동전을 연속으로 반복하여 던진다. 최근 2회의 결과가 (뒷면,뒷면) 이\n",
        "    나오면 규빈의 승리\n",
        "\n",
        "이 내기는 하니가 유리한가? 규빈이 유리한가? 시뮬레이션을 통해 검증하라.\n",
        "\n",
        "> **Note**\n",
        ">\n",
        "> **hint**: 똑같이 유리하다\n",
        "\n",
        "`(풀이)`\n",
        "\n",
        "**Step1** CoinFlipper 설계"
      ],
      "id": "7c7b03fb-355d-4587-a96c-f67b3f6c75de"
    },
    {
      "cell_type": "code",
      "execution_count": 241,
      "metadata": {},
      "outputs": [],
      "source": [
        "class CoinFlipper: \n",
        "    def __init__(self):\n",
        "        self.coins = list()\n",
        "        self.win_cond = {'하니':[],'규빈':[]}\n",
        "        self.winner = str()        \n",
        "    def __iter__(self):\n",
        "        return self \n",
        "    def __next__(self):\n",
        "        self.coins.append(np.random.choice(['앞면','뒷면']))\n",
        "        if self.coins[-2:] == self.win_cond['하니']:\n",
        "            self.winner = '하니'\n",
        "            raise StopIteration\n",
        "        elif self.coins[-2:] == self.win_cond['규빈']:\n",
        "            self.winner = '규빈'\n",
        "            raise StopIteration        \n",
        "        else:\n",
        "            pass\n",
        "    def __call__(self,win_cond):\n",
        "        self.win_cond = win_cond\n",
        "        for _ in self:\n",
        "            pass \n",
        "    def __repr__(self):\n",
        "        repr_str = '하니의 승리조건: {}\\n규빈의 승리조건: {}\\n동전을 던진결과들: {}\\n최종승리자: {}'.format(\n",
        "            self.win_cond['하니'],\n",
        "            self.win_cond['규빈'],\n",
        "            self.coins,\n",
        "            self.winner\n",
        "        )\n",
        "        return repr_str"
      ],
      "id": "a6b99a05-8b51-49ba-ab8b-24bd0b86824e"
    },
    {
      "cell_type": "code",
      "execution_count": 242,
      "metadata": {},
      "outputs": [],
      "source": [
        "coin_fliper = CoinFlipper()"
      ],
      "id": "632cd3b6-8f30-4019-9db5-45a725d2446e"
    },
    {
      "cell_type": "code",
      "execution_count": 235,
      "metadata": {},
      "outputs": [],
      "source": [
        "coin_fliper"
      ],
      "id": "71f59b42-7668-4c44-a725-52e3a6eef5bb"
    },
    {
      "cell_type": "code",
      "execution_count": 236,
      "metadata": {},
      "outputs": [],
      "source": [
        "win_cond = {\n",
        "    '하니':['앞면','뒷면'],\n",
        "    '규빈':['뒷면','앞면']\n",
        "}\n",
        "coin_fliper(win_cond)"
      ],
      "id": "2f6699c5-5e96-4207-9879-7b2dd2c7b894"
    },
    {
      "cell_type": "code",
      "execution_count": 237,
      "metadata": {},
      "outputs": [],
      "source": [
        "coin_fliper"
      ],
      "id": "bf1bc4b5-1666-4961-a749-de83c3eaf172"
    },
    {
      "cell_type": "markdown",
      "metadata": {},
      "source": [
        "**Step2:** 100회 대결진행"
      ],
      "id": "cd10264f-a8af-4725-b9f9-4c6eac0af550"
    },
    {
      "cell_type": "code",
      "execution_count": 238,
      "metadata": {},
      "outputs": [],
      "source": [
        "coinfliper_lst = [CoinFlipper() for _ in range(100)]\n",
        "winners = [] \n",
        "for coinfliper in coinfliper_lst:\n",
        "    coinfliper(win_cond)\n",
        "    winners.append(coinfliper.winner)"
      ],
      "id": "46348d6a-95f0-48ff-b642-7b7755143e92"
    },
    {
      "cell_type": "code",
      "execution_count": 239,
      "metadata": {},
      "outputs": [],
      "source": [
        "{'하니':winners.count('하니'), '규빈':winners.count('규빈')}"
      ],
      "id": "3257073e-381a-4899-b1b7-bda57c2ee16f"
    },
    {
      "cell_type": "markdown",
      "metadata": {},
      "source": [
        "------------------------------------------------------------------------\n",
        "\n",
        "참고로 $n$회 대결결과는 아래와 같이 조회가능"
      ],
      "id": "2da5f188-ab3e-4030-9482-7a79b4b4039e"
    },
    {
      "cell_type": "code",
      "execution_count": 240,
      "metadata": {},
      "outputs": [],
      "source": [
        "coinfliper_lst[3]"
      ],
      "id": "fd5e3b07-75e9-4a0b-ba4d-d717221eaea9"
    },
    {
      "cell_type": "markdown",
      "metadata": {},
      "source": [
        "------------------------------------------------------------------------\n",
        "\n",
        "`(3)` 앞면과 뒷면이 나올 확률이 각각 1/2인 동전을 생각하자. 하니와\n",
        "규빈은 이 동전을 연속으로 던져서 아래와 같은 룰을 정하여 내기를 하였다.\n",
        "\n",
        "-   동전을 연속으로 반복하여 던진다. 최근 2회의 결과가 (앞면,뒷면) 이\n",
        "    나오면 하니의 승리\n",
        "-   동전을 연속으로 반복하여 던진다. 최근 2회의 결과가 (뒷면,뒷면) 이\n",
        "    나오면 규빈의 승리\n",
        "\n",
        "이 내기는 하니가 유리한가? 규빈이 유리한가? 시뮬레이션을 통해 검증하라.\n",
        "\n",
        "> **Note**\n",
        ">\n",
        "> **hint**: 이 내기는 하니가 유리하다.\n",
        "\n",
        "`(풀이)`"
      ],
      "id": "285bf77b-9f83-42e6-b0ee-cc01f4f734c9"
    },
    {
      "cell_type": "code",
      "execution_count": 246,
      "metadata": {},
      "outputs": [],
      "source": [
        "win_cond = {\n",
        "    '하니':['앞면','뒷면'],\n",
        "    '규빈':['뒷면','뒷면']\n",
        "}\n",
        "coin_fliper(win_cond)"
      ],
      "id": "7b79ce04-86c9-43d2-8c7a-0d449d633714"
    },
    {
      "cell_type": "code",
      "execution_count": 247,
      "metadata": {},
      "outputs": [],
      "source": [
        "coinfliper_lst = [CoinFlipper() for _ in range(100)]\n",
        "winners = [] \n",
        "for coinfliper in coinfliper_lst:\n",
        "    coinfliper(win_cond)\n",
        "    winners.append(coinfliper.winner)"
      ],
      "id": "54c26e71-6a8f-4a98-b7c4-6f79f5e567f7"
    },
    {
      "cell_type": "code",
      "execution_count": 248,
      "metadata": {},
      "outputs": [],
      "source": [
        "{'하니':winners.count('하니'), '규빈':winners.count('규빈')}"
      ],
      "id": "32135e93-56e2-4584-990f-e0d7949e9914"
    },
    {
      "cell_type": "markdown",
      "metadata": {},
      "source": [
        "------------------------------------------------------------------------\n",
        "\n",
        "`(4)` Time을 상속받아 Init 클래스를 만들고 `__repr__`을 조작하여 아래와\n",
        "같이 인스턴스 생성시점을 출력하는 기능을 구현하라."
      ],
      "id": "a71674af-b233-4716-a176-4316057a65d8"
    },
    {
      "cell_type": "code",
      "execution_count": 230,
      "metadata": {},
      "outputs": [],
      "source": [
        "class Time:\n",
        "    def time(self):\n",
        "        return datetime.datetime.now().strftime('%y-%m-%d %X')"
      ],
      "id": "bdf5381e-7a91-4c8d-a74a-42684628be2f"
    },
    {
      "cell_type": "markdown",
      "metadata": {},
      "source": [
        "`(풀이)`"
      ],
      "id": "232fdef3-ad69-472d-8b18-8b2a148cc694"
    },
    {
      "cell_type": "code",
      "execution_count": 249,
      "metadata": {},
      "outputs": [],
      "source": [
        "class Init(Time):\n",
        "    def __init__(self):\n",
        "        self.init_time = self.time()\n",
        "    def __repr__(self):\n",
        "        return '인스턴스생성시점: {}'.format(self.init_time)"
      ],
      "id": "b75df7e7-335b-4051-a6e4-c26645c10c8c"
    },
    {
      "cell_type": "code",
      "execution_count": 250,
      "metadata": {},
      "outputs": [],
      "source": [
        "a = Init()"
      ],
      "id": "03cc19b6-4197-4f45-9dd6-421b6c4e49a2"
    },
    {
      "cell_type": "code",
      "execution_count": 251,
      "metadata": {},
      "outputs": [],
      "source": [
        "a"
      ],
      "id": "37468a08-14e9-4613-9c26-e53c7cd1567d"
    },
    {
      "cell_type": "code",
      "execution_count": 252,
      "metadata": {},
      "outputs": [],
      "source": [
        "b = Init()"
      ],
      "id": "a3f4d1cc-d3e6-49e9-8e88-a9813d3d879e"
    },
    {
      "cell_type": "code",
      "execution_count": 253,
      "metadata": {},
      "outputs": [],
      "source": [
        "a,b"
      ],
      "id": "64f0e7aa-381e-45f5-9038-17877ab5e31e"
    },
    {
      "cell_type": "markdown",
      "metadata": {},
      "source": [
        "------------------------------------------------------------------------\n",
        "\n",
        "`(5)` tuple 클래스와 아래의 Check를 상속받아 아래와 같은 역할을 하는\n",
        "새로운 Tuple 클래스를 만들라."
      ],
      "id": "45d66a14-6253-4380-8884-a7abc5d53fdb"
    },
    {
      "cell_type": "code",
      "execution_count": 254,
      "metadata": {},
      "outputs": [],
      "source": [
        "class Check:\n",
        "    def ckeck(self):\n",
        "        return [l for l in dir(self) if l[0]!='_']"
      ],
      "id": "acfd1c37-e900-4544-9099-158d0d806321"
    },
    {
      "cell_type": "markdown",
      "metadata": {},
      "source": [
        "`(풀이)`"
      ],
      "id": "66817353-006c-471b-ac86-1c7233b7aae2"
    },
    {
      "cell_type": "code",
      "execution_count": 271,
      "metadata": {},
      "outputs": [],
      "source": [
        "class Tuple(Check,tuple):\n",
        "    def freq(self):\n",
        "        return {s:self.count(s) for s in set(self)}\n",
        "    def __repr__(self):\n",
        "        return super().__repr__() + '\\n' +'methods={}'.format(self.ckeck())"
      ],
      "id": "04304069-3696-456f-a8d9-f9c96b6ce041"
    },
    {
      "cell_type": "code",
      "execution_count": 272,
      "metadata": {},
      "outputs": [],
      "source": [
        "tpl = Tuple('asdfassdfsasdf')\n",
        "tpl # 값과 함께 사용가능한 메소드가 함께 출력 "
      ],
      "id": "fdae6374-c612-491b-9eb8-780c160d0292"
    },
    {
      "cell_type": "code",
      "execution_count": 273,
      "metadata": {},
      "outputs": [],
      "source": [
        "tpl.freq()"
      ],
      "id": "9f2f73c2-0f3c-447c-a4c2-0c04d5f37949"
    },
    {
      "cell_type": "markdown",
      "metadata": {},
      "source": [
        "------------------------------------------------------------------------\n",
        "\n",
        "`(6)` 아래와 같은 클래스를 고려하자."
      ],
      "id": "db224288-bc25-4199-9945-ca663ba11f74"
    },
    {
      "cell_type": "code",
      "execution_count": 1103,
      "metadata": {},
      "outputs": [],
      "source": [
        "class Init(object):\n",
        "    def __init__(self,value):\n",
        "        self.value = value\n",
        "        \n",
        "class Times2(Init):\n",
        "    def __init__(self,value):\n",
        "        super().__init__(value)\n",
        "        self.value = self.value * 2\n",
        "        \n",
        "class Plus5(Init):\n",
        "    def __init__(self,value):\n",
        "        super().__init__(value)\n",
        "        self.value = self.value + 5"
      ],
      "id": "2ed230a8-1c61-43fd-8ebc-4485e17e6c51"
    },
    {
      "cell_type": "markdown",
      "metadata": {},
      "source": [
        "`Plus5`와 `Times2`를 상속하여 적당한 클래스 `Times2Plus5`를 정의하고\n",
        "생성과 동시에 $x \\to (x\\times 2)+5$ 를 수행도록 하라.\n",
        "\n",
        "`(풀이)`"
      ],
      "id": "130903d1-f8d8-45fd-ab01-88d51dc5e01e"
    },
    {
      "cell_type": "code",
      "execution_count": null,
      "metadata": {},
      "outputs": [],
      "source": [
        "class Times2Plus5(Plus5,Times2):\n",
        "    def __init__(self,value):\n",
        "        super().__init__(value)"
      ],
      "id": "1618c537-ad35-49ec-9ca8-68012edd3535"
    },
    {
      "cell_type": "markdown",
      "metadata": {},
      "source": [
        "**사용예시**"
      ],
      "id": "9424eb1e-163a-4426-9fcf-05d3beb9b7d3"
    },
    {
      "cell_type": "code",
      "execution_count": 1105,
      "metadata": {},
      "outputs": [],
      "source": [
        "a=Times2Plus5(0)\n",
        "a.value"
      ],
      "id": "a3cf737e-8864-4628-9dec-3afac5d154b8"
    },
    {
      "cell_type": "code",
      "execution_count": 1106,
      "metadata": {},
      "outputs": [],
      "source": [
        "a=Times2Plus5(1)\n",
        "a.value"
      ],
      "id": "5de1aebe-d00e-41c6-8e25-839b0beb2622"
    },
    {
      "cell_type": "code",
      "execution_count": 1107,
      "metadata": {},
      "outputs": [],
      "source": [
        "a=Times2Plus5(5)\n",
        "a.value"
      ],
      "id": "b916f7ae-83f6-49fc-a265-9c9dd74f1702"
    },
    {
      "cell_type": "markdown",
      "metadata": {},
      "source": [
        "------------------------------------------------------------------------\n",
        "\n",
        "`(7)` 아래의 함수가 있다고 하자."
      ],
      "id": "fdb2cb42-ce45-4b81-9655-ea21c07d9c93"
    },
    {
      "cell_type": "code",
      "execution_count": 276,
      "metadata": {},
      "outputs": [],
      "source": [
        "def f(x): \n",
        "    return np.sin(x)"
      ],
      "id": "3fbe5122-be5f-4ef4-b531-c4b3608a47e4"
    },
    {
      "cell_type": "markdown",
      "metadata": {},
      "source": [
        "적당한 함수 `derivate`를 정의하여 함수를 입력으로 받으면 그 도함수를\n",
        "출력으로 리턴하도록 하라. 아래의 코드를 이용하여 검증하라."
      ],
      "id": "0f60f5f2-708b-4a8c-8c51-376285a4f097"
    },
    {
      "cell_type": "code",
      "execution_count": 277,
      "metadata": {},
      "outputs": [
        {
          "output_type": "display_data",
          "metadata": {},
          "data": {
            "image/png": "[encoded data removed]"
          }
        }
      ],
      "source": [
        "x = np.linspace(-6,6,100)\n",
        "plt.plot(x,f(x),label=r'$f(x)=\\sin(x)$')\n",
        "plt.plot(x,(derivate(f))(x),label=r'$f\\'(x)=\\cos(x)$')\n",
        "plt.legend()"
      ],
      "id": "b5e24b2c-bdea-43fd-a22c-28cd08878551"
    },
    {
      "cell_type": "markdown",
      "metadata": {},
      "source": [
        "`(풀이)`"
      ],
      "id": "7785c7ab-feae-4c10-b9cf-714ab9f0df8e"
    },
    {
      "cell_type": "code",
      "execution_count": 280,
      "metadata": {},
      "outputs": [],
      "source": [
        "def f(x): \n",
        "    return np.sin(x)\n",
        "def derivate(f): \n",
        "    # step1: 함수오브젝트 f는 입력으로 받은상태 \n",
        "    # step2: 함수오브젝트 f를 이용하여 df라는 함수를 정의 \n",
        "    def df(x): \n",
        "        h=0.000000000001\n",
        "        return (f(x+h)-f(x))/h \n",
        "    # step3: 정의된 df를 리턴\n",
        "    return df"
      ],
      "id": "5ad2f7e5-bd95-4115-ae10-0c3ec26a27aa"
    },
    {
      "cell_type": "code",
      "execution_count": 281,
      "metadata": {},
      "outputs": [
        {
          "output_type": "display_data",
          "metadata": {},
          "data": {
            "image/png": "[encoded data removed]"
          }
        }
      ],
      "source": [
        "x = np.linspace(-6,6,100)\n",
        "plt.plot(x,f(x),label=r'$f(x)=\\sin(x)$')\n",
        "plt.plot(x,(derivate(f))(x),label=r'$f\\'(x)=\\cos(x)$')\n",
        "plt.legend()"
      ],
      "id": "57861473-4ef6-43c9-9367-e52269f9d6bd"
    },
    {
      "cell_type": "markdown",
      "metadata": {},
      "source": [
        "------------------------------------------------------------------------\n",
        "\n",
        "`(8)` Student 클래스를 생성지침 및 사용예시를 참고하여 설계하라.\n",
        "\n",
        "**`생성지침`**\n",
        "\n",
        "**attributes**\n",
        "\n",
        "-   `name`: 이름을 저장하는 변수\n",
        "-   `age`: 나이를 저장하는 변수\n",
        "-   `semester`: 학기를 저장하는 변수\n",
        "\n",
        "**methods**\n",
        "\n",
        "-   `__init__`: name, age, semester 세 가지 매개변수를 입력받아\n",
        "    인스턴스의 attribute로 저장\n",
        "-   `__str__`: 인스턴스의 정보(이름,나이,학기)를 문자열 형태로 반환\n",
        "\n",
        "**`사용예시`**"
      ],
      "id": "3c8b8feb-fe2c-4187-abec-1b39e57a4116"
    },
    {
      "cell_type": "code",
      "execution_count": 224,
      "metadata": {},
      "outputs": [
        {
          "output_type": "stream",
          "name": "stdout",
          "text": [
            "이름: 김보람\n",
            "나이: 20\n",
            "학기: 1"
          ]
        }
      ],
      "source": [
        "# 사용 예시\n",
        "boram = Student(name='김보람', age=20, semester=1)\n",
        "print(boram)"
      ],
      "id": "ac042625-284c-443f-b04c-ae8048359d59"
    },
    {
      "cell_type": "markdown",
      "metadata": {},
      "source": [
        "`(풀이)`"
      ],
      "id": "85f42c2c-1ee3-4e87-977b-6b3d1e9009e5"
    },
    {
      "cell_type": "code",
      "execution_count": 331,
      "metadata": {},
      "outputs": [],
      "source": [
        "class Student:\n",
        "    def __init__(self,name='김보람',age=20,semester=0): \n",
        "        self.name = name\n",
        "        self.age = age\n",
        "        self.semester = semester\n",
        "    def __str__(self):\n",
        "        print_str = '''이름: {}\\n나이: {}\\n학기: {}'''.format(self.name,self.age,self.semester)\n",
        "        return print_str"
      ],
      "id": "1808dcfb-a0b2-4411-9d7f-b1e5a92d0636"
    },
    {
      "cell_type": "code",
      "execution_count": 332,
      "metadata": {},
      "outputs": [
        {
          "output_type": "stream",
          "name": "stdout",
          "text": [
            "이름: 김보람\n",
            "나이: 20\n",
            "학기: 1"
          ]
        }
      ],
      "source": [
        "# 사용 예시\n",
        "boram = Student(name='김보람', age=20, semester=1)\n",
        "print(boram)"
      ],
      "id": "f569ca4b-4245-4473-8d17-d89bdd2cf035"
    },
    {
      "cell_type": "markdown",
      "metadata": {},
      "source": [
        "------------------------------------------------------------------------\n",
        "\n",
        "`(9)` 8의 클래스를 상속받아 Student2 만들라. `__add__` 재정의하여\n",
        "Student2의 인스턴스가 아래와 같이 동작하도록 하라."
      ],
      "id": "994a1d88-f957-4b41-954a-c1ef0166ae75"
    },
    {
      "cell_type": "code",
      "execution_count": 336,
      "metadata": {},
      "outputs": [
        {
          "output_type": "stream",
          "name": "stdout",
          "text": [
            "입학을 축하합니다. 당신의 나이는 20이고 현재 학기는 0학기 입니다."
          ]
        }
      ],
      "source": [
        "boram = Student2()"
      ],
      "id": "cdbbbc5c-5dc7-412e-a5bd-a45fdd5c47e3"
    },
    {
      "cell_type": "code",
      "execution_count": 337,
      "metadata": {},
      "outputs": [],
      "source": [
        "boram + '등록'+ '휴학' + '등록' + '휴학'\n",
        "boram"
      ],
      "id": "86c23d64-1333-410b-bcbc-072bdb1f7f49"
    },
    {
      "cell_type": "markdown",
      "metadata": {},
      "source": [
        "> 4학기가 지났으므로 나이는 22살이 된다. 4학기중 2학기만 등록하였으므로\n",
        "> 현재는 2학기를 마친상태이다.\n",
        "\n",
        "`(풀이)`"
      ],
      "id": "316fd682-355d-4d08-b95b-22b331352c7b"
    },
    {
      "cell_type": "code",
      "execution_count": 333,
      "metadata": {},
      "outputs": [],
      "source": [
        "class Student2(Student):\n",
        "    def __init__(self,name='김보람',age=20,semester=0): \n",
        "        super().__init__()\n",
        "        print(\"입학을 축하합니다. 당신의 나이는 {}이고 현재 학기는 {}학기 입니다.\".format(self.age,self.semester))\n",
        "    def __add__(self,registration_status): \n",
        "        if registration_status=='휴학': \n",
        "            self.age=self.age+0.5\n",
        "        elif registration_status=='등록':\n",
        "            self.age=self.age+0.5 \n",
        "            self.semester= self.semester+1 \n",
        "        return self\n",
        "    def _repr_html_(self):\n",
        "        html_str = \"\"\"\n",
        "        나이: {} <br/>\n",
        "        학기: {} <br/>\n",
        "        \"\"\"\n",
        "        return html_str.format(self.age,self.semester)"
      ],
      "id": "ff1cb2a3-ed72-47cb-a9bd-533abec5db0a"
    },
    {
      "cell_type": "code",
      "execution_count": 334,
      "metadata": {},
      "outputs": [
        {
          "output_type": "stream",
          "name": "stdout",
          "text": [
            "입학을 축하합니다. 당신의 나이는 20이고 현재 학기는 0학기 입니다."
          ]
        }
      ],
      "source": [
        "boram = Student2()"
      ],
      "id": "4b0540b0-d5fd-4c74-99c4-19ed1691bcce"
    },
    {
      "cell_type": "code",
      "execution_count": 335,
      "metadata": {},
      "outputs": [],
      "source": [
        "boram + '등록'+ '휴학' + '등록' + '휴학'\n",
        "boram"
      ],
      "id": "f975154d-0d5f-4f29-81c2-a8415a34a72a"
    },
    {
      "cell_type": "markdown",
      "metadata": {},
      "source": [
        "------------------------------------------------------------------------\n",
        "\n",
        "`(10)` 적당한 클래스를 선언하여 $f(x)=x+{\\tt const}$를 수행하는 함수를\n",
        "생성하도록 하라.\n",
        "\n",
        "**사용예시1**"
      ],
      "id": "59ea354a-d7c2-4c9f-ba8e-ac9bd8637162"
    },
    {
      "cell_type": "code",
      "execution_count": 265,
      "metadata": {},
      "outputs": [],
      "source": [
        "f = AddConstant(5) # f(x) = x+5 "
      ],
      "id": "0bada165-89ff-4735-ad32-7064ca4fab7a"
    },
    {
      "cell_type": "code",
      "execution_count": 266,
      "metadata": {},
      "outputs": [],
      "source": [
        "f(10)"
      ],
      "id": "50bd0e97-f4e7-419e-9cd4-97bde3a78f6d"
    },
    {
      "cell_type": "markdown",
      "metadata": {},
      "source": [
        "**사용예시2**"
      ],
      "id": "19ffbd59-d46d-4dd0-8441-47d4413d52f6"
    },
    {
      "cell_type": "code",
      "execution_count": 267,
      "metadata": {},
      "outputs": [],
      "source": [
        "f = AddConstant(-3) # f(x) = x-3"
      ],
      "id": "a2fab431-486d-413b-807c-eb0b216fe24b"
    },
    {
      "cell_type": "code",
      "execution_count": 268,
      "metadata": {},
      "outputs": [],
      "source": [
        "f(10)"
      ],
      "id": "e51199e0-f454-415e-b917-2f64e34c7d90"
    },
    {
      "cell_type": "markdown",
      "metadata": {},
      "source": [
        "`(풀이)`"
      ],
      "id": "6ca9c4f9-dc2d-4ff8-bc40-8ed29eeebce7"
    },
    {
      "cell_type": "code",
      "execution_count": 264,
      "metadata": {},
      "outputs": [],
      "source": [
        "class AddConstant: \n",
        "    def __init__(self,const):\n",
        "        self.const = const \n",
        "    def __call__(self,x):\n",
        "        return x + self.const"
      ],
      "id": "247912c3-2293-4e92-8a81-fbe6a7a1bd79"
    },
    {
      "cell_type": "code",
      "execution_count": 269,
      "metadata": {},
      "outputs": [],
      "source": [
        "f = AddConstant(5) # f(x) = x+5 \n",
        "f(10)"
      ],
      "id": "6e5e9dc3-686f-48ae-b328-0c73ab208e7f"
    },
    {
      "cell_type": "code",
      "execution_count": 270,
      "metadata": {},
      "outputs": [],
      "source": [
        "f = AddConstant(-3) # f(x) = x-3\n",
        "f(10)"
      ],
      "id": "17f159f4-8219-4d4d-8fc3-6fb4b42aa76c"
    }
  ],
  "nbformat": 4,
  "nbformat_minor": 5,
  "metadata": {
    "kernelspec": {
      "name": "python3",
      "display_name": "Python 3",
      "language": "python"
    },
    "language_info": {
      "name": "python",
      "codemirror_mode": {
        "name": "ipython",
        "version": "3"
      },
      "file_extension": ".py",
      "mimetype": "text/x-python",
      "nbconvert_exporter": "python",
      "pygments_lexer": "ipython3",
      "version": "3.8.16"
    }
  }
}