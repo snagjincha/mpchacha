{
  "cells": [
    {
      "cell_type": "markdown",
      "metadata": {},
      "source": [
        "# 13wk-1: 깊은복사와 얕은복사\n",
        "\n",
        "최규빈  \n",
        "2023-06-21\n",
        "\n",
        "<a href=\"https://colab.research.google.com/github/guebin/PP2023/blob/main/posts/2023-06-21-13wk-1.ipynb\"><img src=\"https://colab.research.google.com/assets/colab-badge.svg\" style=\"text-align: left\"></a>\n",
        "\n",
        "> 모르고 살았다면 더 좋았을 내용\n",
        "\n",
        "# 강의영상\n",
        "\n",
        "> youtube:\n",
        "> <https://youtube.com/playlist?list=PLQqh36zP38-x1VTi4A3DVjHwcc56J9mwj>\n",
        "\n",
        "# import"
      ],
      "id": "ece2ec2a-f583-43fa-9c3b-dcc8159dc5f3"
    },
    {
      "cell_type": "code",
      "execution_count": 2,
      "metadata": {},
      "outputs": [],
      "source": [
        "import numpy as np\n",
        "import pandas as pd "
      ],
      "id": "483637f3-9c67-4350-977d-f248b75d6c39"
    },
    {
      "cell_type": "markdown",
      "metadata": {},
      "source": [
        "# Introduction\n",
        "\n",
        "## 예제1: 비상식적인 append\n",
        "\n",
        "> 포인트: 이상한 일의 관찰\n",
        "\n",
        "`-` 원소의 추가: `+` 이용"
      ],
      "id": "ebe1c42f-08e6-47a2-b0b4-6ca110ed0466"
    },
    {
      "cell_type": "code",
      "execution_count": 33,
      "metadata": {},
      "outputs": [],
      "source": [
        "a=[1,2,3]\n",
        "b=a\n",
        "a=a+[4]"
      ],
      "id": "91397342-7e71-4573-ae37-aff657cc3ea6"
    },
    {
      "cell_type": "code",
      "execution_count": 34,
      "metadata": {},
      "outputs": [],
      "source": [
        "a"
      ],
      "id": "44243af4-3dc0-4a53-a901-b4cb5a2831ef"
    },
    {
      "cell_type": "code",
      "execution_count": 35,
      "metadata": {},
      "outputs": [],
      "source": [
        "b"
      ],
      "id": "0086fc1e-b32a-4fff-b471-9002ae416da7"
    },
    {
      "cell_type": "markdown",
      "metadata": {},
      "source": [
        "`-` 원소의 추가 `.append` 이용"
      ],
      "id": "0d905d34-c488-43b1-803e-ab22f5c98d03"
    },
    {
      "cell_type": "code",
      "execution_count": 36,
      "metadata": {},
      "outputs": [],
      "source": [
        "a=[1,2,3]\n",
        "b=a\n",
        "a.append(4) # a=a+[4]"
      ],
      "id": "6fedbcfa-1282-4a2c-94b5-a20ca70f7313"
    },
    {
      "cell_type": "code",
      "execution_count": 37,
      "metadata": {},
      "outputs": [],
      "source": [
        "a"
      ],
      "id": "e19606a1-b1f8-4776-b510-02dad5b37871"
    },
    {
      "cell_type": "code",
      "execution_count": 38,
      "metadata": {},
      "outputs": [],
      "source": [
        "b"
      ],
      "id": "9cd3448e-6110-4367-b6b0-b19f51035c3f"
    },
    {
      "cell_type": "markdown",
      "metadata": {},
      "source": [
        "## append의 동작원리: 틀린상상\n",
        "\n",
        "`-` 상자로서의 변수: 변수가 데이터를 저장하는 일종의 상자와 같다. \\<–\n",
        "아주 흔한 오해 (Fluent Python)\n",
        "\n",
        "> 흔히 비유하는 ‘상자로서의 변수’ 개념이 실제로는 객체지향적 언어에서\n",
        "> 참조변수를 이해하는 데 방해가 된다.\n",
        "\n",
        "`-` “상자로서의 변수” 관점에서 아래의 코드를 해석하자. (일단 아래의\n",
        "해석들이 틀린해석이라는 사실을 명심할 것)\n",
        "\n",
        "``` python\n",
        "a=[1,2,3]\n",
        "b=a\n",
        "a.append(4)\n",
        "```\n",
        "\n",
        "a,b라는 변수들은 메모리에 어떻게 저장이 되어있을까?\n",
        "\n",
        "상상력을 조금 발휘하면 아래와 같이 여길 수 있다.\n",
        "\n",
        "1.  메모리는 변수를 담을 방이 여러개 있는 호텔이라고 생각하자.\n",
        "\n",
        "2.  아래를 실행하였을 경우\n",
        "\n",
        "``` python\n",
        "a=[1,2,3]\n",
        "```\n",
        "\n",
        "-   메모리주소1에 존재하는 방을 a라고 하고, 그 방에 \\[1,2,3\\]을 넣는다.\n",
        "\n",
        "1.  아래를 실행하였을 경우\n",
        "\n",
        "``` python\n",
        "b=a\n",
        "```\n",
        "\n",
        "-   메모리주소2에 존재하는 방을 b라고 하고, 그 방에 a를 넣어야하는데,\n",
        "    a는 \\[1,2,3\\]이니까 \\[1,2,3\\]을 넣는다.\n",
        "\n",
        "1.  아래를 실행하면\n",
        "\n",
        "``` python\n",
        "a.append(4)\n",
        "```\n",
        "\n",
        "-   방 a로가서 \\[1,2,3\\]을 \\[1,2,3,4\\]로 바꾼다.\n",
        "-   그리고 방 b에는 아무것도 하지 않는다.\n",
        "\n",
        "`-` R에서는 맞는 비유인데, 파이썬은 적절하지 않은 비유이다.\n",
        "\n",
        "### 틀린이유"
      ],
      "id": "1a4ce248-54e5-4c26-98df-d3f5487d287e"
    },
    {
      "cell_type": "code",
      "execution_count": 41,
      "metadata": {},
      "outputs": [],
      "source": [
        "id(a)"
      ],
      "id": "f0d2737e-84d7-4edc-87b9-21656eabf801"
    },
    {
      "cell_type": "code",
      "execution_count": 42,
      "metadata": {},
      "outputs": [],
      "source": [
        "id(b)"
      ],
      "id": "976206f0-57a2-4090-a409-996dd489674a"
    },
    {
      "cell_type": "markdown",
      "metadata": {},
      "source": [
        "## append의 동작원리: 올바른 상상\n",
        "\n",
        "> 파이썬에서의 변수는 자바에서의 참조변수와 같으므로 변수는 객체에 붙은\n",
        "> 레이블이라고 생각하는 것이 좋다.\n",
        "\n",
        "`-` 파이썬에서는 아래가 더 적절한 비유이다.\n",
        "\n",
        "1.  메모리는 변수를 담을 방이 여러개 있는 호텔이라고 생각하자.\n",
        "\n",
        "2.  아래를 실행하였을 경우\n",
        "\n",
        "``` python\n",
        "a=[1,2,3]\n",
        "```\n",
        "\n",
        "-   메모리주소 `139753545242336`에서 \\[1,2,3\\]을 생성\n",
        "-   방 `139753545242336`의 방문에 `a`라는 포스트잇을 붙인다.\n",
        "-   앞으로 \\[1,2,3\\]에 접근하기 위해서는 여러 메모리방중에서 `a`라는\n",
        "    포스트잇이 붙은 방을 찾아가면 된다.\n",
        "\n",
        "1.  아래를 실행하였을 경우\n",
        "\n",
        "``` python\n",
        "b=a\n",
        "```\n",
        "\n",
        "-   `a`라는 포스트잇이 지칭하는 객체를 가져옴. 그리고 그 객체에 `b`라는\n",
        "    포스트잇을 붙인다.\n",
        "-   쉽게말하면 `b`라는 포스트잇을 방 `139753545242336`의 방문에 붙인다는\n",
        "    이야기.\n",
        "-   앞으로 \\[1,2,3\\]에 접근하기 위해서는 여러 메모리방중에서 `a`라는\n",
        "    포스트잇이 붙어 있거나 `b`라는 포스트잇이 붙어있는 방을 찾아가면\n",
        "    된다.\n",
        "\n",
        "1.  아래를 실행하면\n",
        "\n",
        "``` python\n",
        "a.append(4)\n",
        "```\n",
        "\n",
        "-   `a`라는 포스트잇이 붙어있는 방으로 가서, 그 내용물에 `append`함수를\n",
        "    적용하여 4를 추가하라. 즉 내용물 \\[1,2,3\\]을 \\[1,2,3,4\\]로 바꾸라.\n",
        "-   같은방(`139753545242336`)에 `a`,`b`라는 포스트잇이 모두 붙어있음.\n",
        "    따라서 `b`라는 포스트잇이 붙은 방을 찾아가서 내용물을 열어보면\n",
        "    \\[1,2,3,4\\]가 나온다.\n",
        "\n",
        "# 할당문(=)의 이해\n",
        "\n",
        "`-` 파이썬에서 할당문을 이해하기 위해서는 언제나 오른쪽을 먼저 읽어야\n",
        "한다.\n",
        "\n",
        "-   할당문의 오른쪽에서는 객체를 “생성”하거나 “가져옴”\n",
        "-   그 후에 라벨을 붙이듯이 할당문 왼쪽의 변수가 할당문 오른쪽의 객체에\n",
        "    바인딩 된다. (참조)\n",
        "\n",
        "`-` `b=a`는\n",
        "\n",
        "> 나는 이미 a가 의미하는게 무엇인지 알고있어. 그런데 그 실체를 b라고도\n",
        "> 부르고 싶어.\n",
        "\n",
        "라는 것과 같다. 즉 이미 `a`라고 부르고 있는것을 내가 `b`라고도 부르고\n",
        "싶다는 의미인데 이는 마치 별명과 같다. (`b`는 `a`의 별명, alias) 그리고\n",
        "이처럼 하나의 오브젝트에 여러개의 이름을 붙이는 것을 에일리어싱이라고\n",
        "부른다.\n",
        "\n",
        "# id, value\n",
        "\n",
        "## 예제1: 같은 value, 다른 id\n",
        "\n",
        "> 포인트: (1) 포스트잇 개념의 확실한 이해 (2) 할당문을 새로운 시각으로\n",
        "> 해석하는 연습 (3) “생성-\\>할당”과 “참조/에일리어싱”의 구분"
      ],
      "id": "faaeb72b-c597-4f7b-b547-017499ba3ef9"
    },
    {
      "cell_type": "code",
      "execution_count": 30,
      "metadata": {},
      "outputs": [],
      "source": [
        "a=[1,2,3] # 우변: 생성된 오브젝트, 좌변: 이름 \n",
        "b=a # 우변: 가져온 오브젝트, 좌변: 별명 --> 참조, 에일리어싱(별칭부여)이라고 한다\n",
        "a.append(4) # a라는 오브젝트를 직접변경\n",
        "c=[1,2,3,4] # 우변: 생성된 오브젝트, 좌변: 이름"
      ],
      "id": "17e8752d-48a4-4520-b57d-37beaecbd911"
    },
    {
      "cell_type": "markdown",
      "metadata": {},
      "source": [
        "여기에서 a,b,c는 모두 같은 value를 가진다."
      ],
      "id": "b194dd09-8462-4eb3-9c7c-fa6428151825"
    },
    {
      "cell_type": "code",
      "execution_count": 15,
      "metadata": {},
      "outputs": [],
      "source": [
        "a"
      ],
      "id": "084f7221-eed5-4ae0-a0ea-82a9fe18e482"
    },
    {
      "cell_type": "code",
      "execution_count": 16,
      "metadata": {},
      "outputs": [],
      "source": [
        "b"
      ],
      "id": "59572bba-0421-4439-a548-6ae2b7b481fc"
    },
    {
      "cell_type": "code",
      "execution_count": 17,
      "metadata": {},
      "outputs": [],
      "source": [
        "c"
      ],
      "id": "8a0c15c2-fe77-4a95-b0f1-288d65bc8aa7"
    },
    {
      "cell_type": "markdown",
      "metadata": {},
      "source": [
        "하지만 그 id까지 같은 것은 아니다."
      ],
      "id": "0353c141-5780-4449-b703-d8f96c7f96d3"
    },
    {
      "cell_type": "code",
      "execution_count": 18,
      "metadata": {},
      "outputs": [],
      "source": [
        "id(a), id(b), id(c)"
      ],
      "id": "7056a969-853d-4d1d-bdd5-509a4c5361e6"
    },
    {
      "cell_type": "markdown",
      "metadata": {},
      "source": [
        "## 예제2\n",
        "\n",
        "> 선행지식: “생성-\\>할당” 과 “참조/에일리어싱”의 구분\n",
        "\n",
        "> 포인트: 재할당의 이해!!\n",
        "\n",
        "(관찰)"
      ],
      "id": "3620a44a-2f64-425a-b204-8c9c8130a3c0"
    },
    {
      "cell_type": "code",
      "execution_count": 44,
      "metadata": {},
      "outputs": [
        {
          "output_type": "stream",
          "name": "stdout",
          "text": [
            "a= [1, 2, 3, 4]\n",
            "b= [1, 2, 3]"
          ]
        }
      ],
      "source": [
        "a=[1,2,3] # 생성->할당\n",
        "b=a # 참조/에일리어싱 \n",
        "a=a+[4] # 생성->재할당 \n",
        "print('a=',a)\n",
        "print('b=',b)"
      ],
      "id": "358e36b2-67a3-4a90-9b2b-8f54c2b16776"
    },
    {
      "cell_type": "markdown",
      "metadata": {},
      "source": [
        "(해설)"
      ],
      "id": "0d94d62e-b678-4c79-94fd-f070c0dd8ce1"
    },
    {
      "cell_type": "code",
      "execution_count": 20,
      "metadata": {},
      "outputs": [],
      "source": [
        "id(a),id(b)"
      ],
      "id": "9a5bf633-d3ea-4f58-aaf7-0a91d87bfbea"
    },
    {
      "cell_type": "markdown",
      "metadata": {},
      "source": [
        "-   포인트: \\[1,2,3\\]+\\[4\\] 가 실행되는 순간 새로운 오브젝트가\n",
        "    만들어지고 그 오브젝트를 a라는 이름으로 다시 할당되었음. (재할당)\n",
        "\n",
        "# 인터닝\n",
        "\n",
        "## 예제1\n",
        "\n",
        "> 선행지식: “생성-\\>할당,재할당” 과 “참조/에일리어싱”의 구분\n",
        "\n",
        "> 포인트: 인터닝을 위한 떡밥예제"
      ],
      "id": "0667bcf6-bf83-4519-a5da-b186b413bb5f"
    },
    {
      "cell_type": "code",
      "execution_count": 25,
      "metadata": {},
      "outputs": [],
      "source": [
        "a=1+2021\n",
        "id(a)"
      ],
      "id": "1a7cac44-3de3-462c-a53d-b241f963651b"
    },
    {
      "cell_type": "code",
      "execution_count": 26,
      "metadata": {},
      "outputs": [],
      "source": [
        "b=2023-1\n",
        "id(b)"
      ],
      "id": "e67d70d0-bfb8-4f25-9c39-f8341ede577c"
    },
    {
      "cell_type": "code",
      "execution_count": 27,
      "metadata": {},
      "outputs": [],
      "source": [
        "id(2022)"
      ],
      "id": "d23a4f7b-5988-4a4c-bd9c-0110fd0386d7"
    },
    {
      "cell_type": "markdown",
      "metadata": {},
      "source": [
        "-   당연한결과임.\n",
        "\n",
        "## 예제2: 이제 다 이해했다고 생각했는데..\n",
        "\n",
        "> 선행지식: “생성-\\>할당,재할당” 과 “참조/에일리어싱”의 구분\n",
        "\n",
        "> 포인트: 인터닝의 이해"
      ],
      "id": "8403e479-bc0b-4003-a117-a1c575c790dd"
    },
    {
      "cell_type": "code",
      "execution_count": 22,
      "metadata": {},
      "outputs": [],
      "source": [
        "a=1+2 \n",
        "id(a)"
      ],
      "id": "4d8163bb-9ffa-4b86-9c30-bdfa3edeb487"
    },
    {
      "cell_type": "code",
      "execution_count": 23,
      "metadata": {},
      "outputs": [],
      "source": [
        "b=4-1\n",
        "id(b)"
      ],
      "id": "0b7ef7e3-4d22-4110-879e-15da4301f5a9"
    },
    {
      "cell_type": "markdown",
      "metadata": {},
      "source": [
        "-   id(a)와 id(b)가 왜 똑같지..?\n",
        "\n",
        "(해설) 파이썬의 경우 효율성을 위해서 -5~256까지의 정수를 미리 저장해둠."
      ],
      "id": "c0afcb6f-df11-49ad-8ff0-bfaff41922f9"
    },
    {
      "cell_type": "code",
      "execution_count": 14,
      "metadata": {},
      "outputs": [],
      "source": [
        "id(3)"
      ],
      "id": "34344327-fd27-423d-9182-24eec3533ada"
    },
    {
      "cell_type": "markdown",
      "metadata": {},
      "source": [
        "-   3은 언제나 7394720에 지박령마냥 밖혀있음\n",
        "\n",
        "# `.copy()`의 사용 (shallow copy의 사용)\n",
        "\n",
        "> 선행지식: “생성-\\>할당,재할당” 과 “참조/에일리어싱”의 구분\n",
        "\n",
        "> 포인트: “생성-\\>할당,재할당” 과 “참조/에일리어싱”의 연습, 복사를 위한\n",
        "> 떡밥예제\n",
        "\n",
        "## 예제1\n",
        "\n",
        "(관찰) 아래의 예제를 살펴보자. 참조를 제대로 이해했다면 아래의 예제는\n",
        "자연스럽게 이해가능할 것임."
      ],
      "id": "0e642975-7cd9-4d7d-b762-74b03c959578"
    },
    {
      "cell_type": "code",
      "execution_count": 6,
      "metadata": {},
      "outputs": [
        {
          "output_type": "stream",
          "name": "stdout",
          "text": [
            "시점1\n",
            "l1= [3, [66, 55, 44]]\n",
            "l2= [3, [66, 55, 44]]\n",
            "시점2\n",
            "l1= [4, [66, 55, 44]]\n",
            "l2= [4, [66, 55, 44]]\n",
            "시점3\n",
            "l1= [4, [66, 55, 44], 5]\n",
            "l2= [4, [66, 55, 44], 5]"
          ]
        }
      ],
      "source": [
        "l1 = [3, [66,55,44]]\n",
        "l2 = l1 \n",
        "print('시점1')\n",
        "print('l1=',l1)\n",
        "print('l2=',l2)\n",
        "\n",
        "l1[0]=4 \n",
        "print('시점2')\n",
        "print('l1=',l1)\n",
        "print('l2=',l2)\n",
        "\n",
        "l2.append(5)\n",
        "print('시점3')\n",
        "print('l1=',l1)\n",
        "print('l2=',l2)"
      ],
      "id": "629799b4-01ea-45b2-8d79-27f327c73837"
    },
    {
      "cell_type": "markdown",
      "metadata": {},
      "source": [
        "(해설)"
      ],
      "id": "d1b09a10-3e05-44f8-a7ff-70eb4e884019"
    },
    {
      "cell_type": "code",
      "execution_count": 7,
      "metadata": {},
      "outputs": [],
      "source": [
        "l1 = [3, [66,55,44]]\n",
        "l2 = l1 "
      ],
      "id": "abd78f06-ac53-4069-a176-781f052cd7e5"
    },
    {
      "cell_type": "code",
      "execution_count": 8,
      "metadata": {},
      "outputs": [],
      "source": [
        "id(l1),id(l2)"
      ],
      "id": "12c4e081-13c5-4e02-a7bd-040e68ba5a94"
    },
    {
      "cell_type": "markdown",
      "metadata": {},
      "source": [
        "이해는 되지만 우리가 원한건 이런게 아니야\n",
        "\n",
        "## 예제2: R과 같이 = 를 쓰고 싶다면?\n",
        "\n",
        "> 선행지식: “생성-\\>할당,재할당” 과 “참조/에일리어싱”의 구분\n",
        "\n",
        "> 포인트: 복사의 사용, 얕은복사의 떡밥\n",
        "\n",
        "(관찰)"
      ],
      "id": "41fab14d-eb2b-4ae6-97ce-9c1737597594"
    },
    {
      "cell_type": "code",
      "execution_count": 11,
      "metadata": {},
      "outputs": [
        {
          "output_type": "stream",
          "name": "stdout",
          "text": [
            "시점1\n",
            "l1= [3, [66, 55, 44]]\n",
            "l2= [3, [66, 55, 44]]\n",
            "시점2\n",
            "l1= [4, [66, 55, 44]]\n",
            "l2= [3, [66, 55, 44]]\n",
            "시점3\n",
            "l1= [4, [66, 55, 44]]\n",
            "l2= [3, [66, 55, 44], 5]"
          ]
        }
      ],
      "source": [
        "l1 = [3, [66,55,44]]\n",
        "l2 = l1.copy()\n",
        "print('시점1')\n",
        "print('l1=',l1)\n",
        "print('l2=',l2)\n",
        "\n",
        "l1[0]=4 \n",
        "print('시점2')\n",
        "print('l1=',l1)\n",
        "print('l2=',l2)\n",
        "\n",
        "l2.append(5)\n",
        "print('시점3')\n",
        "print('l1=',l1)\n",
        "print('l2=',l2)"
      ],
      "id": "513c42be-ea60-493c-a71c-4956a0180341"
    },
    {
      "cell_type": "markdown",
      "metadata": {},
      "source": [
        "(해설)"
      ],
      "id": "d43056f0-e958-4a14-a60b-4de8c13dbb4c"
    },
    {
      "cell_type": "code",
      "execution_count": 12,
      "metadata": {},
      "outputs": [],
      "source": [
        "l1 = [3, [66,55,44]]\n",
        "l2 = l1.copy()"
      ],
      "id": "1741f081-2173-4a1b-8f3e-9da5667f6264"
    },
    {
      "cell_type": "code",
      "execution_count": 13,
      "metadata": {},
      "outputs": [],
      "source": [
        "id(l1),id(l2) ## 드디어 주소가 달라졌다."
      ],
      "id": "93a0100d-12a2-421c-a8ff-7393857487d0"
    },
    {
      "cell_type": "markdown",
      "metadata": {},
      "source": [
        "## 예제3: 이제 다 이해했다고 생각했는데..\n",
        "\n",
        "> 선행지식: “생성-\\>할당,재할당” 과 “참조/에일리어싱”의 구분, 복사의\n",
        "> 사용\n",
        "\n",
        "> 포인트: 얕은복사를 이해하지 못할때 생기는 개념충돌\n",
        "\n",
        "(관찰)"
      ],
      "id": "270734f7-690c-45f0-bea7-50291e82d8d3"
    },
    {
      "cell_type": "code",
      "execution_count": 14,
      "metadata": {},
      "outputs": [
        {
          "output_type": "stream",
          "name": "stdout",
          "text": [
            "l1= [3, [66, 55, 44, 33]]\n",
            "l2= [3, [66, 55, 44, 33]]"
          ]
        }
      ],
      "source": [
        "l1 = [3,[66,55,44]]\n",
        "l2 = l1.copy()\n",
        "l1[1].append(33)\n",
        "print('l1=',l1)\n",
        "print('l2=',l2)"
      ],
      "id": "91eef950-4e7a-40fd-b23b-00d6b6f04ed5"
    },
    {
      "cell_type": "markdown",
      "metadata": {},
      "source": [
        "(의문)"
      ],
      "id": "f6a2081c-5618-483a-a177-67092e016293"
    },
    {
      "cell_type": "code",
      "execution_count": 15,
      "metadata": {},
      "outputs": [],
      "source": [
        "id(l1),id(l2)"
      ],
      "id": "c99d8558-9d02-4cb3-8335-7dcf7fdf8525"
    },
    {
      "cell_type": "markdown",
      "metadata": {},
      "source": [
        "-   l1이랑 l2의 주소도 다르게 나오는데 왜 또 참조한것마냥 l1과 l2가 같이\n",
        "    바뀌고 있지?\n",
        "\n",
        "***나는 진정한 복사(=깊은복사)를 하고싶다***\n",
        "\n",
        "# Shallow copy의 이해\n",
        "\n",
        "`-` 방금 살펴본 예제3을 이해하기 위해서는 shallow copy를 이해해야 한다.\n",
        "\n",
        "## 예제1\n",
        "\n",
        "> 선행지식: 이전까지 모든것\n",
        "\n",
        "> 포인트: 0차원 자료형의 메모리 구조 이해, 1차원 자료형의 메모리 구조를\n",
        "> 위한 떡밥\n",
        "\n",
        "(관찰+해설)"
      ],
      "id": "1b0dd482-97ee-4fd9-a02a-0e828a37eac7"
    },
    {
      "cell_type": "code",
      "execution_count": 53,
      "metadata": {},
      "outputs": [],
      "source": [
        "a=2222\n",
        "b=2222"
      ],
      "id": "62afd5ae-2e11-4e26-a2f8-41a84211de3f"
    },
    {
      "cell_type": "code",
      "execution_count": 54,
      "metadata": {},
      "outputs": [],
      "source": [
        "id(a),id(b)"
      ],
      "id": "2635aa01-c913-47d7-9275-16a0bd6fe257"
    },
    {
      "cell_type": "markdown",
      "metadata": {},
      "source": [
        "메모리 상황\n",
        "\n",
        "1.  2222라는 오브젝트가 어떤공간(`139753545300880`)에 생성되고 그 공간에\n",
        "    `a`라는 라벨이 붙음\n",
        "2.  2222라는 오브젝트가 어떤공간(`139753545301808`)에 생성되고 그 공간에\n",
        "    `b`라는 라벨이 붙음\n",
        "\n",
        "즉 -5~256 이외의 2개의 메모리 공간을 추가적으로 사용\n",
        "\n",
        "## 예제2\n",
        "\n",
        "> 선행지식: 이전까지 모든것, 0차원 자료형의 메모리저장상태 이해\n",
        "\n",
        "> 포인트: (1) 1차원 자료형의 메모리 구조 이해 (2) 가변형객체라는 표현의\n",
        "> 의미\n",
        "\n",
        "(관찰)"
      ],
      "id": "61c7f8d2-2434-42b1-9f6e-e01492ab1f83"
    },
    {
      "cell_type": "code",
      "execution_count": 3,
      "metadata": {},
      "outputs": [
        {
          "output_type": "stream",
          "name": "stdout",
          "text": [
            "a= [1, 2, 2222, 4]\n",
            "b= [1, 2, 2222]"
          ]
        }
      ],
      "source": [
        "a=[1,2,2222]\n",
        "b=[1,2,2222]\n",
        "a.append(4)\n",
        "print('a=',a)\n",
        "print('b=',b)"
      ],
      "id": "e90fc56b-cf8d-460e-a963-1a4a25156ba3"
    },
    {
      "cell_type": "markdown",
      "metadata": {},
      "source": [
        "(해설)"
      ],
      "id": "061bd1af-ff1a-4b79-ab5d-0a76fa269908"
    },
    {
      "cell_type": "code",
      "execution_count": 1,
      "metadata": {},
      "outputs": [],
      "source": [
        "a=[1,2,2222]\n",
        "b=[1,2,2222]"
      ],
      "id": "1c6323d2-b4c6-491d-a3a0-55a8ea9d12b7"
    },
    {
      "cell_type": "code",
      "execution_count": 2,
      "metadata": {},
      "outputs": [],
      "source": [
        "id(a), [id(a[0]),id(a[1]),id(a[2])] # a=[1,2,2222]"
      ],
      "id": "87faa6a2-95d9-4adc-a8aa-2f74aaf065b5"
    },
    {
      "cell_type": "code",
      "execution_count": 3,
      "metadata": {},
      "outputs": [],
      "source": [
        "id(b), [id(b[0]),id(b[1]),id(b[2])] # b=[1,2,2222] "
      ],
      "id": "d70a66dc-adf0-4b08-a0ec-c4b64f8b6896"
    },
    {
      "cell_type": "code",
      "execution_count": 4,
      "metadata": {},
      "outputs": [],
      "source": [
        "a.append(4)"
      ],
      "id": "eaf96d1d-a08e-44d8-b9fc-caa463780721"
    },
    {
      "cell_type": "code",
      "execution_count": 5,
      "metadata": {},
      "outputs": [],
      "source": [
        "a"
      ],
      "id": "0b619398-a79e-4a4e-98eb-2e822048dd15"
    },
    {
      "cell_type": "code",
      "execution_count": 6,
      "metadata": {},
      "outputs": [],
      "source": [
        "b"
      ],
      "id": "f445522e-a3c6-4aea-b89d-d9a391ecf6bc"
    },
    {
      "cell_type": "code",
      "execution_count": 7,
      "metadata": {},
      "outputs": [],
      "source": [
        "id(a)"
      ],
      "id": "cbb70194-6612-41cc-8d93-5e70e0794437"
    },
    {
      "cell_type": "markdown",
      "metadata": {},
      "source": [
        "메모리상황\n",
        "\n",
        "1.  -5~256까지의 숫자는 미리 메모리에 저장되어 있다. 이중에서 1은\n",
        "    `7394656`, 2는 `7394688`에 저장되어있음.\n",
        "2.  2222가 공간 `139753178093776`에서 만들어진다.\n",
        "3.  어떠한 리스트오브젝트가 공간 `139753182327904`에서 만들어지고 원소로\n",
        "    \\[1,2,2222\\]를 가진다. 이 공간에 `a`라는 포스트잇을 붙인다.\n",
        "4.  2222가 공간 `139753178095568`에서 만들어진다.\n",
        "5.  어떠한 리스트오브젝트가 공간 `139753173818656`에서 만들어지고 원소로\n",
        "    \\[1,2,2222\\]를 가진다. 이 공간에 `b`라는 포스트잇을 붙인다.\n",
        "6.  `a`라는 포스트잇이 붙은 공간으로 이동하여 원소에 4를 추가시킨다.\n",
        "\n",
        "즉 -5~256이외에 4개의 메모리 공간을 추가사용 (a,b,a의 2222,b의 2222)\n",
        "\n",
        "## 예제3\n",
        "\n",
        "> 선행지식: 이전까지 모든 것\n",
        "\n",
        "> 포인트: `l2=l1` 와 `l2=l1.copy()` 의 차이점\n",
        "\n",
        "(관찰)"
      ],
      "id": "25ad4c89-d319-423e-befb-74798632f4cb"
    },
    {
      "cell_type": "code",
      "execution_count": 4,
      "metadata": {},
      "outputs": [
        {
          "output_type": "stream",
          "name": "stdout",
          "text": [
            "l1= [7777, [66, 55, 44]]\n",
            "l2= [3, [66, 55, 44]]"
          ]
        }
      ],
      "source": [
        "l1 = [3,[66,55,44]]\n",
        "l2 = l1.copy()\n",
        "l1[0] = 7777\n",
        "print('l1=',l1)\n",
        "print('l2=',l2)"
      ],
      "id": "0f314b35-548b-4d7c-8995-17fbe8006ad2"
    },
    {
      "cell_type": "markdown",
      "metadata": {},
      "source": [
        "(해설)"
      ],
      "id": "d8c35a17-3d8a-4deb-9cc9-39aa151270f4"
    },
    {
      "cell_type": "code",
      "execution_count": 258,
      "metadata": {},
      "outputs": [],
      "source": [
        "l1 = [3,[66,55,44]]\n",
        "l2 = l1.copy()"
      ],
      "id": "f0d0a997-1d9c-49d5-a4d3-6376c7fa3d99"
    },
    {
      "cell_type": "code",
      "execution_count": 259,
      "metadata": {},
      "outputs": [],
      "source": [
        "id(l1), [id(l1[0]), id(l1[1])]"
      ],
      "id": "273a9ca9-f631-4491-b190-010790a35ad7"
    },
    {
      "cell_type": "code",
      "execution_count": 260,
      "metadata": {},
      "outputs": [],
      "source": [
        "id(l2), [id(l2[0]), id(l2[1])]"
      ],
      "id": "51c2e227-1ae3-4125-ac8c-2a497c933183"
    },
    {
      "cell_type": "markdown",
      "metadata": {},
      "source": [
        "메모리상황\n",
        "\n",
        "1.  -5~256까지의 숫자가 메모리에 저장되어 있다.\n",
        "2.  저장된 숫자중 66,55,44를 묶어서 리스트로 구성하고 이 리스트를 공간\n",
        "    `139753183707216`에 저장.\n",
        "3.  숫자 3과 공간 `139753183707216`에 저장된 리스트 \\[66,55,44\\]를\n",
        "    하나로 묶어서 새로운 리스트를 구성하고 이를 공간 `139753183437040`에\n",
        "    저장. 공간 `139753183437040`에 `l1`이라는 포스트잇 생성.\n",
        "4.  공간 `139753182311120`에 `l1`의 원소들을 모아서 새로운 리스트를\n",
        "    구성함. 공간 `139753182311120`에 `l2`라는 포스트잇 생성. 그런데\n",
        "    따져보니까 내부구성은 똑같아?"
      ],
      "id": "9ff67ed4-2717-4741-a783-f4750b46768d"
    },
    {
      "cell_type": "code",
      "execution_count": 261,
      "metadata": {},
      "outputs": [],
      "source": [
        "l1[0] = 7777\n",
        "l1,l2"
      ],
      "id": "c8d9bf1c-6702-4667-99b9-f6f97a6b273c"
    },
    {
      "cell_type": "code",
      "execution_count": 262,
      "metadata": {},
      "outputs": [],
      "source": [
        "id(l1), [id(l1[0]), id(l1[1])]"
      ],
      "id": "dbd7d5a6-6e28-4bdb-a9df-87b0da2501e0"
    },
    {
      "cell_type": "code",
      "execution_count": 263,
      "metadata": {},
      "outputs": [],
      "source": [
        "id(l2), [id(l2[0]), id(l2[1])]"
      ],
      "id": "5d316e11-2362-4a69-af75-c2e0826987d5"
    },
    {
      "cell_type": "markdown",
      "metadata": {},
      "source": [
        "1.  l1\\[0\\]은 원래 공간 `7394720`와 binding 되어 있었음.  \n",
        "2.  그런데 7777이라는 새로운 오브젝트가 공간 `139753178092080`에\n",
        "    생성되고 l1\\[0\\]이 공간 `139753178092080`와 다시 binding 됨.\n",
        "\n",
        "## 예제4\n",
        "\n",
        "> 선행지식: 이전까지 모든것, `.copy()`의 동작원리\n",
        "\n",
        "> 포인트: `.copy()`의 동작원리 재학습\n",
        "\n",
        "(관찰)"
      ],
      "id": "30a1286a-40cc-40a3-87be-7296610fad43"
    },
    {
      "cell_type": "code",
      "execution_count": 5,
      "metadata": {},
      "outputs": [
        {
          "output_type": "stream",
          "name": "stdout",
          "text": [
            "l1= [3, [66, 55, 44], 7777]\n",
            "l2= [3, [66, 55, 44]]"
          ]
        }
      ],
      "source": [
        "l1 = [3,[66,55,44]]\n",
        "l2 = l1.copy()\n",
        "l1.append(7777)\n",
        "print('l1=',l1)\n",
        "print('l2=',l2)"
      ],
      "id": "0a140cdc-c788-4bac-9a20-84fc04868823"
    },
    {
      "cell_type": "markdown",
      "metadata": {},
      "source": [
        "(해설)"
      ],
      "id": "f1fa3458-d0c8-4c35-a40a-939944ddabf5"
    },
    {
      "cell_type": "code",
      "execution_count": 282,
      "metadata": {},
      "outputs": [],
      "source": [
        "l1 = [3,[66,55,44]]\n",
        "l2 = l1.copy()\n",
        "l1.append(7777)"
      ],
      "id": "9e61fe6b-dfdb-4cf0-af62-6d3781708f4b"
    },
    {
      "cell_type": "code",
      "execution_count": 283,
      "metadata": {},
      "outputs": [],
      "source": [
        "l1,l2"
      ],
      "id": "123b252e-501d-4418-b154-c98ff5321abb"
    },
    {
      "cell_type": "code",
      "execution_count": 278,
      "metadata": {},
      "outputs": [],
      "source": [
        "id(l1), [id(l1[0]), id(l1[1]), id(l1[2])]"
      ],
      "id": "ce53f367-21e1-4c8c-8b93-4c897bc447d0"
    },
    {
      "cell_type": "code",
      "execution_count": 279,
      "metadata": {},
      "outputs": [],
      "source": [
        "id(l2), [id(l2[0]), id(l2[1])]"
      ],
      "id": "b067c054-555c-423b-93ea-4f01dd3e2584"
    },
    {
      "cell_type": "markdown",
      "metadata": {},
      "source": [
        "## 예제5: 우리를 힘들게 했던 그 예제.\n",
        "\n",
        "> 선행지식: 이전까지 모든것, `.copy()`의 동작원리\n",
        "\n",
        "> 포인트: (1) `.copy()`의 한계, (2) 얕은복사라는 명칭의 유래\n",
        "\n",
        "(관찰)"
      ],
      "id": "4f32ff23-8d51-427c-a5a6-d2c7fd3a4bb8"
    },
    {
      "cell_type": "code",
      "execution_count": 6,
      "metadata": {},
      "outputs": [
        {
          "output_type": "stream",
          "name": "stdout",
          "text": [
            "l1= [3, [66, 55, 44, 7777]]\n",
            "l2= [3, [66, 55, 44, 7777]]"
          ]
        }
      ],
      "source": [
        "l1 = [3,[66,55,44]]\n",
        "l2 = l1.copy()\n",
        "l1[1].append(7777)\n",
        "print('l1=',l1)\n",
        "print('l2=',l2)"
      ],
      "id": "f5af594a-bf60-41a3-8d21-f152157b5c2a"
    },
    {
      "cell_type": "markdown",
      "metadata": {},
      "source": [
        "(해설-시점1)"
      ],
      "id": "99efb92e-33b2-4382-95f7-29a35e118fac"
    },
    {
      "cell_type": "code",
      "execution_count": 284,
      "metadata": {},
      "outputs": [],
      "source": [
        "l1 = [3,[66,55,44]]\n",
        "l2 = l1.copy()"
      ],
      "id": "9d1f3300-f986-49e0-8c22-ce50436eb7d5"
    },
    {
      "cell_type": "code",
      "execution_count": 285,
      "metadata": {},
      "outputs": [],
      "source": [
        "l1,l2"
      ],
      "id": "33cb32e8-aad0-41a6-8a7e-e59576b42bea"
    },
    {
      "cell_type": "code",
      "execution_count": 286,
      "metadata": {},
      "outputs": [],
      "source": [
        "id(l1), [id(l1[0]), id(l1[1])]"
      ],
      "id": "b21c083a-1724-4aad-bb38-d829c72cb48c"
    },
    {
      "cell_type": "code",
      "execution_count": 287,
      "metadata": {},
      "outputs": [],
      "source": [
        "id(l2), [id(l2[0]), id(l2[1])]"
      ],
      "id": "bde34f96-8555-49e2-bf66-ea14a7052a8d"
    },
    {
      "cell_type": "markdown",
      "metadata": {},
      "source": [
        "(해설-시점2)"
      ],
      "id": "05cad246-5a25-45c5-860d-41424b78e38a"
    },
    {
      "cell_type": "code",
      "execution_count": 288,
      "metadata": {},
      "outputs": [],
      "source": [
        "l1[1].append(7777)"
      ],
      "id": "77c73615-3a44-493f-9ebb-2ed7f67b63b5"
    },
    {
      "cell_type": "code",
      "execution_count": 289,
      "metadata": {},
      "outputs": [],
      "source": [
        "l1,l2"
      ],
      "id": "1864785c-d8bb-4ec1-90af-8d00c057feeb"
    },
    {
      "cell_type": "code",
      "execution_count": 290,
      "metadata": {},
      "outputs": [],
      "source": [
        "id(l1), [id(l1[0]), id(l1[1])]"
      ],
      "id": "030e911b-927b-4e4a-9def-5578633038f1"
    },
    {
      "cell_type": "code",
      "execution_count": 291,
      "metadata": {},
      "outputs": [],
      "source": [
        "id(l2), [id(l2[0]), id(l2[1])]"
      ],
      "id": "3e3adec3-7a77-4d90-a11b-55a8c54505e0"
    },
    {
      "cell_type": "markdown",
      "metadata": {},
      "source": [
        "해설: 사실 시점1에서 메모리 주소상황을 잘 이해했다면 신기한 일이 아니다.\n",
        "`.copy()`는 l1과 l2의 주소만 다르게 만들 뿐 내용물인 `l1[0]`,`l1[1]`는\n",
        "동일하니까.\n",
        "\n",
        "## 예제6: 신임교수=\\[‘최규빈’,‘이영미’\\]\n",
        "\n",
        "> 선행지식: 이전까지의 모든것\n",
        "\n",
        "> 포인트: 이전까지의 모든것 점검\n",
        "\n",
        "`-` 최규빈, 이영미는 신임교수임"
      ],
      "id": "ccdf760d-b6f7-49d5-9ab5-5c120fec3cd2"
    },
    {
      "cell_type": "code",
      "execution_count": 316,
      "metadata": {},
      "outputs": [],
      "source": [
        "신임교수 = ['최규빈','이영미']"
      ],
      "id": "fb158478-5e67-4cb7-99f7-08a0c2f66d15"
    },
    {
      "cell_type": "code",
      "execution_count": 317,
      "metadata": {},
      "outputs": [],
      "source": [
        "id(신임교수), id('최규빈'), id('이영미')"
      ],
      "id": "9b12ebb1-21fc-49c1-b1ff-7211e49f44ee"
    },
    {
      "cell_type": "markdown",
      "metadata": {},
      "source": [
        "`-` 신임교수를 누군가는 막내들이라고 부르기도 함."
      ],
      "id": "df97e584-a12f-40f8-a130-e24cbbaa821b"
    },
    {
      "cell_type": "code",
      "execution_count": 318,
      "metadata": {},
      "outputs": [],
      "source": [
        "막내들 = 신임교수 "
      ],
      "id": "37ccd5f3-30a5-4a65-9835-f3f234fd7783"
    },
    {
      "cell_type": "code",
      "execution_count": 319,
      "metadata": {},
      "outputs": [],
      "source": [
        "id(막내들), id(신임교수)"
      ],
      "id": "a0662e3c-5098-4f4c-b4ac-c28bab70bb57"
    },
    {
      "cell_type": "markdown",
      "metadata": {},
      "source": [
        "“막내들”이라는 단어와 “신임교수”라는 단어는 사실 같은 말임\n",
        "\n",
        "`-` 새로운 교수 “박혜원”이 뽑혔음."
      ],
      "id": "7619837f-da0d-4bdd-8d47-92213cb522da"
    },
    {
      "cell_type": "code",
      "execution_count": 320,
      "metadata": {},
      "outputs": [],
      "source": [
        "신임교수.append(\"박혜원\")"
      ],
      "id": "c0ef6364-3dcf-4d31-b03d-522758c9e6bf"
    },
    {
      "cell_type": "code",
      "execution_count": 321,
      "metadata": {},
      "outputs": [],
      "source": [
        "신임교수, 막내들"
      ],
      "id": "adfa1442-5b7b-41bb-874e-481f00b44b60"
    },
    {
      "cell_type": "markdown",
      "metadata": {},
      "source": [
        "`-` 전북대 통계학과에서 R특강팀을 구성하여 방학중 R교육을 실시하고자함.\n",
        "특강팀은 우선 신임교수들로 구성."
      ],
      "id": "80cdd40e-f471-4d49-9564-172d02c3008e"
    },
    {
      "cell_type": "code",
      "execution_count": 322,
      "metadata": {},
      "outputs": [],
      "source": [
        "R특강팀 = 신임교수.copy()\n",
        "R특강팀 "
      ],
      "id": "539f71da-7d1c-489e-91a7-c3f42f5e1006"
    },
    {
      "cell_type": "markdown",
      "metadata": {},
      "source": [
        "`-` R특강팀에 `최혜미`교수님 추가. (그렇지만 최혜미교수님이 막내는\n",
        "아니야.. // 참조와 shallow copy의 차이점)"
      ],
      "id": "b900fea9-bc6a-4d38-a7ee-4382edbc7c00"
    },
    {
      "cell_type": "code",
      "execution_count": 323,
      "metadata": {},
      "outputs": [],
      "source": [
        "R특강팀.append(\"최혜미\") "
      ],
      "id": "6c0df593-0a84-4d93-ae69-b57730cce57f"
    },
    {
      "cell_type": "code",
      "execution_count": 324,
      "metadata": {},
      "outputs": [],
      "source": [
        "R특강팀, 신임교수, 막내들"
      ],
      "id": "1561932e-8f09-450d-91dd-72d31c94adbe"
    },
    {
      "cell_type": "markdown",
      "metadata": {},
      "source": [
        "`-` R특강팀에서 양성준 교수를 추가하여 파이썬 특강팀을 구성 (R특강팀의\n",
        "구분을 위해서 중첩리스트 구조로 만들자)"
      ],
      "id": "c8e4ed74-25d1-4318-9974-b44578e41e01"
    },
    {
      "cell_type": "code",
      "execution_count": 326,
      "metadata": {},
      "outputs": [],
      "source": [
        "파이썬특강팀 = [R특강팀, \"양성준\"]\n",
        "파이썬특강팀"
      ],
      "id": "ff6abacd-ebd4-429d-892f-a904878dd547"
    },
    {
      "cell_type": "markdown",
      "metadata": {},
      "source": [
        "`-` 이영미교수는 다른 일이 많아서 R특강 팀에서 제외됨. (그럼 자연히\n",
        "파이썬에서도 제외됨!!)"
      ],
      "id": "f778c13b-2f16-4461-baa6-8e1d7e878ee7"
    },
    {
      "cell_type": "code",
      "execution_count": 327,
      "metadata": {},
      "outputs": [],
      "source": [
        "R특강팀.remove(\"이영미\")"
      ],
      "id": "432b3055-7133-410f-a485-38fe5d1126a9"
    },
    {
      "cell_type": "code",
      "execution_count": 328,
      "metadata": {},
      "outputs": [],
      "source": [
        "R특강팀, 파이썬특강팀"
      ],
      "id": "b1b102bb-1d97-4fa8-bee8-aef99aabc2c6"
    },
    {
      "cell_type": "markdown",
      "metadata": {},
      "source": [
        "하지만 이영미교수는 여전히 신임교수이면서 막내들임"
      ],
      "id": "2fae7b22-af2e-4601-b30e-f3caaa577acf"
    },
    {
      "cell_type": "code",
      "execution_count": 329,
      "metadata": {},
      "outputs": [],
      "source": [
        "신임교수, 막내들"
      ],
      "id": "15594b32-1647-458f-8774-06e9480cd1ac"
    },
    {
      "cell_type": "markdown",
      "metadata": {},
      "source": [
        "`-` 새로운 교수로 “손흥민”이 임용됨."
      ],
      "id": "23724571-be06-4baa-aeb4-a6e2b65cc048"
    },
    {
      "cell_type": "code",
      "execution_count": 330,
      "metadata": {},
      "outputs": [],
      "source": [
        "막내들.append(\"손흥민\")"
      ],
      "id": "451aae63-78e5-45ac-883a-7ab85593edbd"
    },
    {
      "cell_type": "code",
      "execution_count": 331,
      "metadata": {},
      "outputs": [],
      "source": [
        "막내들, 신임교수"
      ],
      "id": "9c0cd78c-9383-45b3-9258-8d25e7dc516e"
    },
    {
      "cell_type": "markdown",
      "metadata": {},
      "source": [
        "`-` 그렇다고 해서 손흥민 교수가 바로 R이나 파이썬 특강팀에\n",
        "자동소속되는건 아님"
      ],
      "id": "0142e88f-527e-4fa7-8918-3870190a8bac"
    },
    {
      "cell_type": "code",
      "execution_count": 332,
      "metadata": {},
      "outputs": [],
      "source": [
        "R특강팀, 파이썬특강팀"
      ],
      "id": "80b07b06-17d9-4d5e-939a-2ced4b7f0963"
    },
    {
      "cell_type": "markdown",
      "metadata": {},
      "source": [
        "# Deep copy\n",
        "\n",
        "## 예제1: Motivation example\n",
        "\n",
        "`-` 아래의 상황을 다시 생각해보자."
      ],
      "id": "2096e50a-e041-4e94-a2f0-8db12d9cff50"
    },
    {
      "cell_type": "code",
      "execution_count": 6,
      "metadata": {},
      "outputs": [],
      "source": [
        "파이썬특강팀 = [\"양성준\",[\"최규빈\",\"이영미\",\"최혜미\"]]\n",
        "ADSP특강팀 = 파이썬특강팀.copy()\n",
        "파이썬특강팀[-1].remove(\"이영미\")"
      ],
      "id": "24cade23-8f97-4234-a01f-bc9d88a2c26f"
    },
    {
      "cell_type": "code",
      "execution_count": 7,
      "metadata": {},
      "outputs": [],
      "source": [
        "파이썬특강팀, ADSP특강팀"
      ],
      "id": "288d7c22-68da-44b0-a144-34d86e65e45d"
    },
    {
      "cell_type": "markdown",
      "metadata": {},
      "source": [
        "**이슈:** 이영미교수가 파이썬특강에서 제외되면서 ADSP특강팀에서도\n",
        "제외되었음. 그런데 사실 이영미교수가 파이썬특강팀에서만 제외되길 원한\n",
        "것이지 ADSP특강팀에서 제외되길 원한게 아닐수도 있음.\n",
        "\n",
        "**해결**: Deep copy의 사용"
      ],
      "id": "93e18085-de1e-4f36-b91b-e9ea07e3d5f4"
    },
    {
      "cell_type": "code",
      "execution_count": 8,
      "metadata": {},
      "outputs": [],
      "source": [
        "import copy"
      ],
      "id": "31c127ae-cced-4781-9e51-8db5770e7f8b"
    },
    {
      "cell_type": "code",
      "execution_count": 9,
      "metadata": {},
      "outputs": [],
      "source": [
        "파이썬특강팀 = [\"양성준\",[\"최규빈\",\"이영미\",\"최혜미\"]]\n",
        "ADSP특강팀 = copy.deepcopy(파이썬특강팀)\n",
        "파이썬특강팀[-1].remove(\"이영미\")"
      ],
      "id": "4006f93e-b5c4-4eb1-953f-995df756f2ad"
    },
    {
      "cell_type": "code",
      "execution_count": 10,
      "metadata": {},
      "outputs": [],
      "source": [
        "파이썬특강팀, ADSP특강팀"
      ],
      "id": "91fcdcd0-7ff0-4e2d-bba0-986bd334ac27"
    },
    {
      "cell_type": "markdown",
      "metadata": {},
      "source": [
        "## 예제2\n",
        "\n",
        "> 선행지식: 이전까지 모든것, 얕은복사\n",
        "\n",
        "> 포인트: (1) 깊은복사 (2) 복사의 레벨을 이해 (3) 얕은복사 = 1단계\n",
        "> 깊은복사\n",
        "\n",
        "`-` deepcopy"
      ],
      "id": "058b6452-6c03-466e-8d4c-f5ea252f8238"
    },
    {
      "cell_type": "code",
      "execution_count": 11,
      "metadata": {},
      "outputs": [],
      "source": [
        "l1 = [3,[66,[55,44]]] \n",
        "l2 = copy.deepcopy(l1)"
      ],
      "id": "351119a6-8484-458e-8b09-0d2e21d1410f"
    },
    {
      "cell_type": "code",
      "execution_count": 12,
      "metadata": {},
      "outputs": [],
      "source": [
        "l2[1][1].append(33)"
      ],
      "id": "e4cebd53-bbcb-4dc9-af03-28905584811b"
    },
    {
      "cell_type": "code",
      "execution_count": 13,
      "metadata": {},
      "outputs": [],
      "source": [
        "l1,l2"
      ],
      "id": "088ccc11-d3ca-4c6e-86cf-1cb0f6e45a25"
    },
    {
      "cell_type": "code",
      "execution_count": 14,
      "metadata": {},
      "outputs": [
        {
          "output_type": "stream",
          "name": "stdout",
          "text": [
            "level 1\n",
            "l1: 140137133270656\n",
            "l2: 140137132727232"
          ]
        }
      ],
      "source": [
        "print('level 1')\n",
        "print('l1:', id(l1))\n",
        "print('l2:', id(l2))"
      ],
      "id": "27944192-794e-4646-8114-e3e503433832"
    },
    {
      "cell_type": "markdown",
      "metadata": {},
      "source": [
        "-   레벨1: `l1`,`l2` 의 메모리 주소가 다름을 확인"
      ],
      "id": "62320a13-38db-42a6-bb09-a1987f866795"
    },
    {
      "cell_type": "code",
      "execution_count": 15,
      "metadata": {},
      "outputs": [
        {
          "output_type": "stream",
          "name": "stdout",
          "text": [
            "level 2\n",
            "l1: 140137133270656 [7585536, 140137133267712]\n",
            "l2: 140137132727232 [7585536, 140137133267456]"
          ]
        }
      ],
      "source": [
        "print('level 2')\n",
        "print('l1:', id(l1), [id(l1[0]),id(l1[1])])\n",
        "print('l2:', id(l2), [id(l2[0]),id(l2[1])])"
      ],
      "id": "7d3642ab-6523-46a5-8135-d7cc5a5064d8"
    },
    {
      "cell_type": "markdown",
      "metadata": {},
      "source": [
        "-   레벨2: `l1안에 있는 [66,[55,44]]`와 `l2안에 있는 [66,[55,44]]`의\n",
        "    메모리 주소가 다름도 확인."
      ],
      "id": "dcdd0856-8629-4ab6-b8da-8ad62f789127"
    },
    {
      "cell_type": "code",
      "execution_count": 16,
      "metadata": {},
      "outputs": [
        {
          "output_type": "stream",
          "name": "stdout",
          "text": [
            "level 3\n",
            "l1: 140137133270656 [7585536, [7587552, 140137133704320]]\n",
            "l2: 140137132727232 [7585536, [7587552, 140137137410624]]"
          ]
        }
      ],
      "source": [
        "print('level 3')\n",
        "print('l1:', id(l1), [id(l1[0]),[id(l1[1][0]),id(l1[1][1])]])\n",
        "print('l2:', id(l2), [id(l2[0]),[id(l2[1][0]),id(l2[1][1])]])"
      ],
      "id": "f4b96ad5-4d5a-4a7b-a919-0c8883c9be26"
    },
    {
      "cell_type": "markdown",
      "metadata": {},
      "source": [
        "-   레벨3: `l1안의 [66,[55,44]] 안의 [55,44]`와\n",
        "    `l2안의 [66,[55,44]] 안의 [55,44]`의 메모리 주소까지도 다름을 확인.\n",
        "\n",
        "`-` 비교를 위한 shallow copy"
      ],
      "id": "14ab561d-340d-426c-bda9-266a96e405f7"
    },
    {
      "cell_type": "code",
      "execution_count": 17,
      "metadata": {},
      "outputs": [],
      "source": [
        "l1 = [3,[66,[55,44]]] \n",
        "l2 = l1.copy()"
      ],
      "id": "e3ea4ba5-427e-4737-8e8b-703d24c2e98f"
    },
    {
      "cell_type": "code",
      "execution_count": 18,
      "metadata": {},
      "outputs": [],
      "source": [
        "l2[1][1].append(33)"
      ],
      "id": "eaa1c8c6-249a-445d-823a-c91b2d34fb64"
    },
    {
      "cell_type": "code",
      "execution_count": 19,
      "metadata": {},
      "outputs": [],
      "source": [
        "l1,l2"
      ],
      "id": "2fbacc77-7df7-4acd-8e30-9a01262f57e5"
    },
    {
      "cell_type": "code",
      "execution_count": 20,
      "metadata": {},
      "outputs": [
        {
          "output_type": "stream",
          "name": "stdout",
          "text": [
            "level 1\n",
            "l1: 140137133470528\n",
            "l2: 140137137411136"
          ]
        }
      ],
      "source": [
        "print('level 1')\n",
        "print('l1:', id(l1))\n",
        "print('l2:', id(l2))"
      ],
      "id": "ac3948d2-81be-4689-a669-5c1209e93559"
    },
    {
      "cell_type": "markdown",
      "metadata": {},
      "source": [
        "-   레벨1: `l1`,`l2` 의 메모리 주소가 다름을 확인"
      ],
      "id": "69cdbdcb-0f2f-4e54-b29c-87614378396d"
    },
    {
      "cell_type": "code",
      "execution_count": 21,
      "metadata": {},
      "outputs": [
        {
          "output_type": "stream",
          "name": "stdout",
          "text": [
            "level 2\n",
            "l1: 140137133470528 [7585536, 140137133703424]\n",
            "l2: 140137137411136 [7585536, 140137133703424]"
          ]
        }
      ],
      "source": [
        "print('level 2')\n",
        "print('l1:', id(l1), [id(l1[0]),id(l1[1])])\n",
        "print('l2:', id(l2), [id(l2[0]),id(l2[1])])"
      ],
      "id": "a12874ae-ecea-425c-aad4-de7bfe3d120f"
    },
    {
      "cell_type": "markdown",
      "metadata": {},
      "source": [
        "-   레벨2: `l1안에 있는 [66,[55,44]]`와 `l2안에 있는 [66,[55,44]]`의\n",
        "    메모리 주소는 같음!!"
      ],
      "id": "fd4ff876-abb6-4f3a-9f2f-65e2cb575c4a"
    },
    {
      "cell_type": "code",
      "execution_count": 24,
      "metadata": {},
      "outputs": [
        {
          "output_type": "stream",
          "name": "stdout",
          "text": [
            "level 3\n",
            "l1: 140137133470528 [7585536, [7587552, 140137137410880]]\n",
            "l2: 140137137411136 [7585536, [7587552, 140137137410880]]"
          ]
        }
      ],
      "source": [
        "print('level 3')\n",
        "print('l1:', id(l1), [id(l1[0]),[id(l1[1][0]),id(l1[1][1])]])\n",
        "print('l2:', id(l2), [id(l2[0]),[id(l2[1][0]),id(l2[1][1])]])"
      ],
      "id": "22d105c6-10c0-4ff8-bc0b-a4c3104bc1f7"
    },
    {
      "cell_type": "markdown",
      "metadata": {},
      "source": [
        "-   레벨3: `l1안의 [66,[55,44]] 안의 [55,44]`와\n",
        "    `l2안의 [66,[55,44]] 안의 [55,44]`의 메모리 주소도 같음!!\n",
        "\n",
        "`-` 비교를 위한 참조"
      ],
      "id": "5f13b736-db8d-4124-abae-bf1e66eec521"
    },
    {
      "cell_type": "code",
      "execution_count": 25,
      "metadata": {},
      "outputs": [],
      "source": [
        "l1 = [3,[66,[55,44]]] \n",
        "l2 = l1"
      ],
      "id": "3d81d2f6-d501-4e81-8336-02872c2cb68c"
    },
    {
      "cell_type": "code",
      "execution_count": 26,
      "metadata": {},
      "outputs": [],
      "source": [
        "l2[1][1].append(33)"
      ],
      "id": "3eac46b8-45af-4b62-ae8a-dd727f28f285"
    },
    {
      "cell_type": "code",
      "execution_count": 27,
      "metadata": {},
      "outputs": [],
      "source": [
        "l1,l2"
      ],
      "id": "3df64867-06ab-470f-a387-f26da5884e3e"
    },
    {
      "cell_type": "code",
      "execution_count": 28,
      "metadata": {},
      "outputs": [
        {
          "output_type": "stream",
          "name": "stdout",
          "text": [
            "level 1\n",
            "l1: 140137133223232\n",
            "l2: 140137133223232"
          ]
        }
      ],
      "source": [
        "print('level 1')\n",
        "print('l1:', id(l1))\n",
        "print('l2:', id(l2))"
      ],
      "id": "7ca7cdf0-a84e-452a-9509-45a5e804738d"
    },
    {
      "cell_type": "markdown",
      "metadata": {},
      "source": [
        "-   레벨1: `l1`,`l2` 여기서부터 메모리 주소가 같다."
      ],
      "id": "ddccbf5d-9380-4e07-870a-e99a31b550b1"
    },
    {
      "cell_type": "code",
      "execution_count": 29,
      "metadata": {},
      "outputs": [
        {
          "output_type": "stream",
          "name": "stdout",
          "text": [
            "level 2\n",
            "l1: 140137133223232 [7585536, 140137133698560]\n",
            "l2: 140137133223232 [7585536, 140137133698560]"
          ]
        }
      ],
      "source": [
        "print('level 2')\n",
        "print('l1:', id(l1), [id(l1[0]),id(l1[1])])\n",
        "print('l2:', id(l2), [id(l2[0]),id(l2[1])])"
      ],
      "id": "d6c7c746-8593-4233-a5f6-cab79075da4e"
    },
    {
      "cell_type": "code",
      "execution_count": 30,
      "metadata": {},
      "outputs": [
        {
          "output_type": "stream",
          "name": "stdout",
          "text": [
            "level 3\n",
            "l1: 140137133223232 [7585536, [7587552, 140137133438144]]\n",
            "l2: 140137133223232 [7585536, [7587552, 140137133438144]]"
          ]
        }
      ],
      "source": [
        "print('level 3')\n",
        "print('l1:', id(l1), [id(l1[0]),[id(l1[1][0]),id(l1[1][1])]])\n",
        "print('l2:', id(l2), [id(l2[0]),[id(l2[1][0]),id(l2[1][1])]])"
      ],
      "id": "90bf6c4b-afe9-4d5a-aa36-4ca1235323ca"
    },
    {
      "cell_type": "markdown",
      "metadata": {},
      "source": [
        "> Note: 문헌에 따라서 shallow copy를 level1 deep copy라고 부르기도 한다.\n",
        "\n",
        "# Shallow copy 연습문제\n",
        "\n",
        "## 예제1\n",
        "\n",
        "> 선행지식: 이전까지 모든것\n",
        "\n",
        "> 포인트: 얕은복사의 한계점 이해\n",
        "\n",
        "`-` 아래의 코드결과를 예측하라. 결과가 나오는 이유를 설명하라."
      ],
      "id": "8afa0f75-868d-4bbe-afc7-de36cc1792ba"
    },
    {
      "cell_type": "code",
      "execution_count": 54,
      "metadata": {},
      "outputs": [],
      "source": [
        "l1= [3,[66,55,44]]\n",
        "l2= l1.copy() \n",
        "l1[-1].append(33)"
      ],
      "id": "738cfd8c-81c0-4e73-a56d-edc389d0cdf7"
    },
    {
      "cell_type": "code",
      "execution_count": 56,
      "metadata": {},
      "outputs": [
        {
          "output_type": "stream",
          "name": "stdout",
          "text": [
            "l1= [3, [66, 55, 44, 33]]\n",
            "l2= [3, [66, 55, 44, 33]]"
          ]
        }
      ],
      "source": [
        "print('l1=', l1)\n",
        "print('l2=', l2)"
      ],
      "id": "b514c259-65b3-4c18-969d-819dab29c6cf"
    },
    {
      "cell_type": "markdown",
      "metadata": {},
      "source": [
        "-   포인트: shallow copy (=level 1 deep copy) 이므로\n",
        "    `l1안의 [66,55,44]`와 `l2안의 [66,55,44]`는 같은 메모리 주소를 가짐\n",
        "\n",
        "## 예제2\n",
        "\n",
        "> 선행지식: 이전까지 모든것\n",
        "\n",
        "> 포인트: 재할당의 활용하여 얕은복사의 한계점 극복\n",
        "\n",
        "`-` 아래의 코드결과를 예측하라. 결과가 나오는 이유를 설명하라."
      ],
      "id": "ddb2e77a-bee7-4ed2-9410-6210c2f41961"
    },
    {
      "cell_type": "code",
      "execution_count": 58,
      "metadata": {},
      "outputs": [],
      "source": [
        "l1= [3,[66,55,44]] \n",
        "l2= l1.copy() \n",
        "l1[-1] = l1[-1]+[33] "
      ],
      "id": "49dbcbb7-0601-4eb7-b896-10795107a481"
    },
    {
      "cell_type": "code",
      "execution_count": 59,
      "metadata": {},
      "outputs": [
        {
          "output_type": "stream",
          "name": "stdout",
          "text": [
            "l1= [3, [66, 55, 44, 33]]\n",
            "l2= [3, [66, 55, 44]]"
          ]
        }
      ],
      "source": [
        "print('l1=', l1)\n",
        "print('l2=', l2)"
      ],
      "id": "6a654347-1434-4e00-ba37-0a6400f5c252"
    },
    {
      "cell_type": "markdown",
      "metadata": {},
      "source": [
        "-   포인트: `l1[-1]+[33]`가 실행되는 순간 새로운 오브젝트가 생성되고 이\n",
        "    새로운 오브젝트가 l1의 마지막 원소에 새롭게 할당된다.\n",
        "\n",
        "## 예제3\n",
        "\n",
        "> 선행지식: 이전까지 모든것\n",
        "\n",
        "> 포인트: 재할당의 활용하여 얕은복사의 한계점 극복, 예제4를 위한 떡밥"
      ],
      "id": "ee839f15-cd1e-4012-b118-7aeda8bcfd7b"
    },
    {
      "cell_type": "code",
      "execution_count": 66,
      "metadata": {},
      "outputs": [],
      "source": [
        "l1= [3,[66,55,44]] \n",
        "l2= l1.copy() \n",
        "l1[-1] = l1[-1]+[33] \n",
        "l1[-1].remove(33)"
      ],
      "id": "41c8d6a1-b091-46e7-869d-33bedb91956d"
    },
    {
      "cell_type": "code",
      "execution_count": 67,
      "metadata": {},
      "outputs": [
        {
          "output_type": "stream",
          "name": "stdout",
          "text": [
            "l1= [3, [66, 55, 44]]\n",
            "l2= [3, [66, 55, 44]]"
          ]
        }
      ],
      "source": [
        "print('l1=', l1)\n",
        "print('l2=', l2)"
      ],
      "id": "887eee9c-817f-4449-bd31-b584843e64dd"
    },
    {
      "cell_type": "markdown",
      "metadata": {},
      "source": [
        "-   포인트: 이 상황에서 `l1안의 [66,55,44]`와 `l2안의 [66,55,44]`는 서로\n",
        "    다른 메모리 주소를 가진다.\n",
        "\n",
        "## 예제4\n",
        "\n",
        "> 선행지식: 이전까지 모든것\n",
        "\n",
        "> 포인트: 재할당으로 인해 메모리주소가 틀어짐을 이용한 트릭예제, 예제5의\n",
        "> 떡밥예제"
      ],
      "id": "15d371da-94ac-443e-a6b4-0a3a7ec8d6fb"
    },
    {
      "cell_type": "code",
      "execution_count": 31,
      "metadata": {},
      "outputs": [],
      "source": [
        "l1= [3,[66,55,44]] \n",
        "l2= l1.copy() \n",
        "l1[-1] = l1[-1]+[33]\n",
        "l1[-1].remove(33) \n",
        "l1[-1].append(33)"
      ],
      "id": "1325d80f-bbf0-4a62-b6a4-7c54520290df"
    },
    {
      "cell_type": "markdown",
      "metadata": {},
      "source": [
        "(잘못된 상상) 아래의 코드와 결과가 같을거야!!"
      ],
      "id": "ed617cb7-fe8a-4af4-a21a-b2dddc11dfaa"
    },
    {
      "cell_type": "code",
      "execution_count": 36,
      "metadata": {},
      "outputs": [],
      "source": [
        "l1= [3,[66,55,44]] \n",
        "l2= l1.copy() \n",
        "# l1[-1] = l1[-1]+[33] \n",
        "# l1[-1].remove(33)\n",
        "l1[-1].append(33)"
      ],
      "id": "7dd6f3d0-8e35-4551-8540-50c18ed3aac8"
    },
    {
      "cell_type": "code",
      "execution_count": 33,
      "metadata": {},
      "outputs": [
        {
          "output_type": "stream",
          "name": "stdout",
          "text": [
            "l1= [3, [66, 55, 44, 33]]\n",
            "l2= [3, [66, 55, 44, 33]]"
          ]
        }
      ],
      "source": [
        "print('l1=', l1)\n",
        "print('l2=', l2)"
      ],
      "id": "97170731-b910-49a4-8fa6-da649f9d3861"
    },
    {
      "cell_type": "markdown",
      "metadata": {},
      "source": [
        "(하지만 현실은)"
      ],
      "id": "916291e6-ba00-45d5-bddb-7b86a6c9927a"
    },
    {
      "cell_type": "code",
      "execution_count": 34,
      "metadata": {},
      "outputs": [],
      "source": [
        "l1= [3,[66,55,44]] \n",
        "l2= l1.copy() \n",
        "l1[-1] = l1[-1]+[33] \n",
        "l1[-1].remove(33)\n",
        "l1[-1].append(33)"
      ],
      "id": "b0cc0643-eefd-42e4-b8b7-905fa72a6dd1"
    },
    {
      "cell_type": "code",
      "execution_count": 35,
      "metadata": {},
      "outputs": [
        {
          "output_type": "stream",
          "name": "stdout",
          "text": [
            "l1= [3, [66, 55, 44, 33]]\n",
            "l2= [3, [66, 55, 44]]"
          ]
        }
      ],
      "source": [
        "print('l1=', l1)\n",
        "print('l2=', l2)"
      ],
      "id": "40645d05-a59a-424d-bb7c-99073c43d80a"
    },
    {
      "cell_type": "markdown",
      "metadata": {},
      "source": [
        "## 예제5\n",
        "\n",
        "> 선행지식: 이전까지 모든것\n",
        "\n",
        "> 포인트: `+=`는 재할당이 아니다."
      ],
      "id": "bc7b682f-4ea9-43e0-aa19-808776b9c224"
    },
    {
      "cell_type": "code",
      "execution_count": 73,
      "metadata": {},
      "outputs": [],
      "source": [
        "l1= [3,[66,55,44]] \n",
        "l2= l1.copy() \n",
        "l1[-1] += [33] # l1[-1] = l1[-1]+[33] \n",
        "l1[-1].remove(33)\n",
        "l1[-1].append(33)"
      ],
      "id": "51ca9c01-9929-4fa7-ab83-b9b3f8a8efaf"
    },
    {
      "cell_type": "code",
      "execution_count": 74,
      "metadata": {},
      "outputs": [
        {
          "output_type": "stream",
          "name": "stdout",
          "text": [
            "l1= [3, [66, 55, 44, 33]]\n",
            "l2= [3, [66, 55, 44, 33]]"
          ]
        }
      ],
      "source": [
        "print('l1=', l1)\n",
        "print('l2=', l2)"
      ],
      "id": "de249109-583c-4591-9086-427647262fb8"
    },
    {
      "cell_type": "markdown",
      "metadata": {},
      "source": [
        "***`+=` 연산자의 올바른 이해***\n",
        "\n",
        "> ??? 예제4랑 예제5는 같은코드가 아니었음!!! `a += [1]` 는 새로운\n",
        "> 오브젝트를 만드는게 아니고, 기존의 오브젝트를 변형하는 스타일의\n",
        "> 코드였음! (마치 append 메소드처럼)\n",
        "\n",
        "# 불변형 객체\n",
        "\n",
        "## 예제1: Motivation example\n",
        "\n",
        "> 선행지식: 이전까지 모든것\n",
        "\n",
        "> 포인트: `+=`는 재할당이 아니다.\n",
        "\n",
        "`-` 우리는 이제 아래의 내용은 마스터함"
      ],
      "id": "6850d9b9-ae74-4b8a-9e40-b1bf7793e4b8"
    },
    {
      "cell_type": "code",
      "execution_count": 75,
      "metadata": {},
      "outputs": [],
      "source": [
        "l1= [3,[66,55,44]] \n",
        "l2= l1.copy() \n",
        "l1[-1] += [33] # l1[-1].append(33)이랑 같은거.."
      ],
      "id": "8caef4d3-51a5-4293-a567-5c36f9884cbf"
    },
    {
      "cell_type": "code",
      "execution_count": 76,
      "metadata": {},
      "outputs": [
        {
          "output_type": "stream",
          "name": "stdout",
          "text": [
            "l1= [3, [66, 55, 44, 33]]\n",
            "l2= [3, [66, 55, 44, 33]]"
          ]
        }
      ],
      "source": [
        "print('l1=', l1)\n",
        "print('l2=', l2)"
      ],
      "id": "3f6aed1a-2ed0-4d6c-91a1-9f22aa17eb3d"
    },
    {
      "cell_type": "markdown",
      "metadata": {},
      "source": [
        "`-` 아래의 결과를 한번 예측해볼까?"
      ],
      "id": "ea6c9d12-e286-467b-b160-9746bd128445"
    },
    {
      "cell_type": "code",
      "execution_count": 77,
      "metadata": {},
      "outputs": [],
      "source": [
        "l1=[3,(66,55,44)]\n",
        "l2=l1.copy()\n",
        "l2[1] += (33,)"
      ],
      "id": "b470cb94-6bae-4f40-b934-b094a5f8d850"
    },
    {
      "cell_type": "code",
      "execution_count": 78,
      "metadata": {},
      "outputs": [
        {
          "output_type": "stream",
          "name": "stdout",
          "text": [
            "l1= [3, (66, 55, 44)]\n",
            "l2= [3, (66, 55, 44, 33)]"
          ]
        }
      ],
      "source": [
        "print('l1=', l1)\n",
        "print('l2=', l2)"
      ],
      "id": "12536f0e-9bf2-4228-9764-8c7c191d62aa"
    },
    {
      "cell_type": "markdown",
      "metadata": {},
      "source": [
        "## 해설\n",
        "\n",
        "(시점1)"
      ],
      "id": "d350b81f-811f-4608-8732-d57944efe6fd"
    },
    {
      "cell_type": "code",
      "execution_count": 9,
      "metadata": {},
      "outputs": [],
      "source": [
        "l1=[3,(66,55,44)]\n",
        "l2=l1.copy()"
      ],
      "id": "208f3f5d-d6d2-4a94-98b2-43f103acce5d"
    },
    {
      "cell_type": "code",
      "execution_count": 10,
      "metadata": {},
      "outputs": [],
      "source": [
        "l1,l2"
      ],
      "id": "60295c45-cf9b-4ea0-a979-4a310f91f212"
    },
    {
      "cell_type": "code",
      "execution_count": 11,
      "metadata": {},
      "outputs": [
        {
          "output_type": "stream",
          "name": "stdout",
          "text": [
            "level 1\n",
            "l1: 140006812656640\n",
            "l2: 140006812645888"
          ]
        }
      ],
      "source": [
        "print('level 1')\n",
        "print('l1:', id(l1))\n",
        "print('l2:', id(l2))"
      ],
      "id": "c6622b57-12a5-419d-a7ed-3f5cf20e0d7b"
    },
    {
      "cell_type": "code",
      "execution_count": 12,
      "metadata": {},
      "outputs": [
        {
          "output_type": "stream",
          "name": "stdout",
          "text": [
            "level 2\n",
            "l1: 140006812656640 [7585536, 140006812590400]\n",
            "l2: 140006812645888 [7585536, 140006812590400]"
          ]
        }
      ],
      "source": [
        "print('level 2')\n",
        "print('l1:', id(l1), [id(l1[0]),id(l1[1])])\n",
        "print('l2:', id(l2), [id(l2[0]),id(l2[1])])"
      ],
      "id": "4228d504-a845-48b8-bce8-525278073e2e"
    },
    {
      "cell_type": "markdown",
      "metadata": {},
      "source": [
        "(시점2)"
      ],
      "id": "728120da-4ae7-4324-9836-9dd4224e4c5f"
    },
    {
      "cell_type": "code",
      "execution_count": 13,
      "metadata": {},
      "outputs": [],
      "source": [
        "l2[1] += (33,)"
      ],
      "id": "754a2aff-5abb-44e6-aae9-98007fb8efd9"
    },
    {
      "cell_type": "code",
      "execution_count": 14,
      "metadata": {},
      "outputs": [],
      "source": [
        "l1,l2"
      ],
      "id": "5a0e77fe-9888-4cb9-b361-4e00164916a8"
    },
    {
      "cell_type": "code",
      "execution_count": 15,
      "metadata": {},
      "outputs": [
        {
          "output_type": "stream",
          "name": "stdout",
          "text": [
            "level 1\n",
            "l1: 140006812656640\n",
            "l2: 140006812645888"
          ]
        }
      ],
      "source": [
        "print('level 1')\n",
        "print('l1:', id(l1))\n",
        "print('l2:', id(l2))"
      ],
      "id": "3ba02838-5e86-4d28-84df-cb62fad3c73e"
    },
    {
      "cell_type": "code",
      "execution_count": 16,
      "metadata": {},
      "outputs": [
        {
          "output_type": "stream",
          "name": "stdout",
          "text": [
            "level 2\n",
            "l1: 140006812656640 [7585536, 140006812590400]\n",
            "l2: 140006812645888 [7585536, 140006813422272]"
          ]
        }
      ],
      "source": [
        "print('level 2')\n",
        "print('l1:', id(l1), [id(l1[0]),id(l1[1])])\n",
        "print('l2:', id(l2), [id(l2[0]),id(l2[1])])"
      ],
      "id": "3d257e1d-ad8b-4743-b1e1-2495eb16c814"
    },
    {
      "cell_type": "markdown",
      "metadata": {},
      "source": [
        "주소 `140006812590400:(66,55,44)`에 있는 값을 바꾸고 싶지만 불변형이라\n",
        "못바꿈 $\\to$ 그냥 새로 만들자. 그래서 그걸 `140006813422272`에 저장하자.\n",
        "\n",
        "# Shallow-copy vs Deep-copy\n",
        "\n",
        "`-` 암기용문구: “얕은복사는 껍데기만 복사한다. 깊은복사는 내부까지\n",
        "복사한다.”\n",
        "\n",
        "`-` 일부교재에서는 경우에 따라 얕은복사가 선호될 수 있다는 식으로\n",
        "설명되어있으나 솔직히 대부분 코드에서 얕은복사의 동작을 정확하게\n",
        "의도하고 코드를 사용하진 않는다. 대부분의 경우에서 얕은복사는 불필요한\n",
        "side effect을 유발하는 쓸모없는 개념이라 생각한다. (복사를 이미 하려고\n",
        "마음먹었으면 보통 깊은복사를 생각함, 그게 아니라면 차라리 참조를\n",
        "썼겠지..)\n",
        "\n",
        "`-` 그럼 얕은복사의 장점은 무엇인가? 얕은복사가 깊은복사보다 메모리를 더\n",
        "적게 사용한다.\n",
        "\n",
        "``` python\n",
        "## 예제1\n",
        "lst1 = ['양성준',['최규빈','이영미','최혜미']]\n",
        "lst2 = lst1.copy()\n",
        "## 예제2 \n",
        "lst1 = ['양성준',['최규빈','이영미','최혜미']]\n",
        "lst2 = copy.deepcopy(lst1)\n",
        "```\n",
        "\n",
        "-   예제1: 4+1+2 = 7개의 공간 사용\n",
        "-   예제2: 4+2+2 = 8개의 공간 사용\n",
        "\n",
        "**요약**\n",
        "\n",
        "`-` 파이썬은 메모리를 아끼기 위해서 얕은복사라는 이상한 행동을 한다.\n",
        "(하지만 우리는 보통 얕은복사를 원하지 않아. 우리는 깊은복사만 쓰고\n",
        "싶음!)\n",
        "\n",
        "`-` 통찰1: 그런데 오묘하게도 \\[1,2,3,4,5,6\\]와 같이 1차원 리스트인\n",
        "경우는 문제가 되지 않음.\n",
        "\n",
        "-   1차원 리스트의 경우(= 중첩된 리스트가 아닐 경우)는 “레벨1 수준의\n",
        "    깊은복사”만 있으면 충분하다. 따라서 “shallow copy = deep copy” 임.\n",
        "\n",
        "`-` 통찰2: 생각해보니까 모든 자료형이 불변형인 경우에도 문제가 되지\n",
        "않음. (R은 모든 자료형이 불변형이다)\n",
        "\n",
        "`-` 문제상황요약: \\[\\[1,2\\],\\[3,4\\]\\] 와 같이 리스트에 리스트가 포함된\n",
        "형태라면 문제가 생긴다. $\\to$ 그런데 우리가 자주 쓰는 매트릭스가 사실\n",
        "이러한 중첩된 리스트 구조 아니야? 이거 문제인데?\n",
        "\n",
        "-   해결책1: 깊은복사를 하면 된다. (이미했음)\n",
        "-   해결책2: 넘파이를 쓰면된다. (이걸로 뭘 어떻게 개선한다는거야?)\n",
        "\n",
        "# numpy"
      ],
      "id": "440d9ded-3ab4-4d1a-a806-e478884548a6"
    },
    {
      "cell_type": "code",
      "execution_count": 93,
      "metadata": {},
      "outputs": [],
      "source": [
        "import numpy as np"
      ],
      "id": "e0d893e0-5948-48ea-a1a6-02ec80d1f143"
    },
    {
      "cell_type": "markdown",
      "metadata": {},
      "source": [
        "## 2차원의 실체\n",
        "\n",
        "`-` 2차원 array a,b를 선언하자."
      ],
      "id": "7f44d03d-09cd-4aff-9d31-babfffb5ff9b"
    },
    {
      "cell_type": "code",
      "execution_count": 99,
      "metadata": {},
      "outputs": [],
      "source": [
        "a = np.array([[11,22,33,44]]).reshape(2,2)\n",
        "b = np.array([[11,22,33,44,55,66]]).reshape(2,3)\n",
        "c = np.array([11,22,33,44]).reshape(4,1)\n",
        "d = np.array([11,22,33,44]) # 1d"
      ],
      "id": "75281cca-ec0c-4267-870c-424e3fc040cb"
    },
    {
      "cell_type": "markdown",
      "metadata": {},
      "source": [
        "`-` a,b,c,d 속성비교"
      ],
      "id": "ad44d1d4-4984-4099-b70c-195c4174767c"
    },
    {
      "cell_type": "code",
      "execution_count": 100,
      "metadata": {},
      "outputs": [],
      "source": [
        "a.shape, b.shape, c.shape, d.shape ## 차원 "
      ],
      "id": "47ed423a-4c43-4bbb-982d-ba928350a6a7"
    },
    {
      "cell_type": "code",
      "execution_count": 4,
      "metadata": {},
      "outputs": [],
      "source": [
        "a.strides, b.strides, c.strides, d.strides ## 차원이랑 관련이 있어보임.. + 8의 배수 "
      ],
      "id": "92ededd2-66d0-40cf-a91c-23181a3381b8"
    },
    {
      "cell_type": "markdown",
      "metadata": {},
      "source": [
        "`-` ((16, 8), (24, 8), (8, 8), (8,)) 와 같은 저 숫자들이 도데체 무엇을\n",
        "의미하는거야?!\n",
        "\n",
        "-   사전지식: 컴퓨터는 하나의 숫자를 저장하는데 메모리를 8칸 쓴다.\n",
        "-   가정: 만약에 컴퓨터가 1차원으로만 숫자를 저장한다면??\n",
        "-   strides의 의미: (다음 행으로 가기위해서 JUMP해야하는 메모리 공간수,\n",
        "    다음 열로 가기위해서 JUMP해야하는 메모리 공간수)\n",
        "\n",
        "`-` 통찰: strides의 존재로 인해서 유추할 수 있는 것은 a,b,c,d 는 모두\n",
        "1차원으로 저장되어있다는 사실이다. (중첩된 리스트꼴이 아니라)\n",
        "\n",
        "`-` 그렇다면.. shallow copy = deep copy?!"
      ],
      "id": "7985f8f6-123f-4101-8ad3-a4c8f9a73517"
    },
    {
      "cell_type": "code",
      "execution_count": 102,
      "metadata": {},
      "outputs": [],
      "source": [
        "A1=[[1,2],[3,4]]\n",
        "A2=A1.copy()\n",
        "B1=np.array([[1,2],[3,4]])\n",
        "B2=B1.copy()"
      ],
      "id": "cde939db-d2f6-40b9-85b7-ea6085805e7c"
    },
    {
      "cell_type": "code",
      "execution_count": 104,
      "metadata": {},
      "outputs": [],
      "source": [
        "B1"
      ],
      "id": "d3e3e7e7-d753-414f-b0bf-5fe956487da6"
    },
    {
      "cell_type": "code",
      "execution_count": 105,
      "metadata": {},
      "outputs": [],
      "source": [
        "A2[0][0]=11\n",
        "B2[0][0]=11"
      ],
      "id": "9d16b8e9-2d90-4dff-8d2b-2978a943f0d0"
    },
    {
      "cell_type": "code",
      "execution_count": 106,
      "metadata": {},
      "outputs": [],
      "source": [
        "A1,A2"
      ],
      "id": "81fdf2bf-6976-40b0-b4dd-6b1dfee5904b"
    },
    {
      "cell_type": "code",
      "execution_count": 107,
      "metadata": {},
      "outputs": [],
      "source": [
        "B1,B2"
      ],
      "id": "6cdf8058-3fc5-4c1a-9f5a-a91e1a9153d2"
    },
    {
      "cell_type": "markdown",
      "metadata": {},
      "source": [
        "`-` 해방: 넘파이를 쓰면 `copy.deepcopy()`를 쓰지 않아도 된다.\n",
        "\n",
        "`-` 용어정리: (필요할까..?)\n",
        "\n",
        "-   numpy 한정 `.copy()` 는 copy모듈의 deep copy와 동등한 효과를 준다.\n",
        "    하지만 실제로는 shallow copy 이다.\n",
        "    [공식문서](https://numpy.org/doc/stable/reference/generated/numpy.copy.html)에는\n",
        "    “Note that np.copy is a shallow copy and will not copy object\n",
        "    elements within arrays.” 라고 명시되어 있음.\n",
        "-   일부 블로그에서 deep copy라고 주장하기도 함.\n",
        "    [블로그1](https://humaneer.net/292),\n",
        "    [블로그2](https://python.plainenglish.io/shallow-copy-and-deep-copy-in-python-numpy-8861e0870c5f),\n",
        "    [블로그3](https://yeko90.tistory.com/entry/%EB%84%98%ED%8C%8C%EC%9D%B4-%EA%B8%B0%EC%B4%88-%EA%B9%8A%EC%9D%80-%EB%B3%B5%EC%82%AC-%EC%96%95%EC%9D%80-%EB%B3%B5%EC%82%AC-copy-view)\n",
        "    // 블로그2의 경우 참조와 shallow copy도 구분못함..\n",
        "-   이따가 view라는 개념도 나올텐데 `.copy()`를 deep copy라고 주장하는\n",
        "    블로거들 대부분 `.view()`를 shallow copy 혹은 참조라고 주장한다.\n",
        "    하지만 copy와 view를 설명하는\n",
        "    [공식문서](https://numpy.org/doc/stable/user/basics.copies.html)에서는\n",
        "    view가 shallow copy라는 말을 찾아볼 수 없음.\n",
        "\n",
        "`-` 정리 (넘파이한정)\n",
        "\n",
        "-   `nparray.copy()`: 실제로는 shallow copy, 그런데 느낌은 deep copy\n",
        "-   `nparray.view()`: 실제로는 shallow copy 보다 더 얕은 단계의 카피,\n",
        "    그런데 느낌은 shallow copy\n",
        "\n",
        "## 참조\n",
        "\n",
        "`-` a를 선언, b는 a의 참조"
      ],
      "id": "a4fd6c0a-6363-4897-88c3-0da23fc40b86"
    },
    {
      "cell_type": "code",
      "execution_count": 9,
      "metadata": {},
      "outputs": [],
      "source": [
        "a=np.array([[1,2],[3,4]])\n",
        "b=a ## 참조 "
      ],
      "id": "a732d4d7-03a4-4a92-93eb-dc8844edd9e6"
    },
    {
      "cell_type": "code",
      "execution_count": 10,
      "metadata": {},
      "outputs": [],
      "source": [
        "a"
      ],
      "id": "92a6f8c9-066d-44b9-a738-d220a5f49f77"
    },
    {
      "cell_type": "code",
      "execution_count": 11,
      "metadata": {},
      "outputs": [],
      "source": [
        "b"
      ],
      "id": "10b335d8-4732-440f-8336-ac60e979c014"
    },
    {
      "cell_type": "code",
      "execution_count": 12,
      "metadata": {},
      "outputs": [],
      "source": [
        "a.shape"
      ],
      "id": "ae961c63-4bed-4a3e-a3a5-b211273b25de"
    },
    {
      "cell_type": "code",
      "execution_count": 13,
      "metadata": {},
      "outputs": [],
      "source": [
        "b.shape"
      ],
      "id": "5c7c6c3c-b8b5-4db6-8a30-25c3d21a0380"
    },
    {
      "cell_type": "markdown",
      "metadata": {},
      "source": [
        "`-` a의 shape을 바꾸어보자 $\\to$ b도 같이 바뀐다"
      ],
      "id": "6c000809-afdc-406a-a985-397c050da36c"
    },
    {
      "cell_type": "code",
      "execution_count": 14,
      "metadata": {},
      "outputs": [],
      "source": [
        "a.shape = (4,)"
      ],
      "id": "2e00f42c-8db7-4eea-ba34-2334ad87592c"
    },
    {
      "cell_type": "code",
      "execution_count": 15,
      "metadata": {},
      "outputs": [],
      "source": [
        "a"
      ],
      "id": "6006c139-5ef8-4943-a76c-0c2a19bba16d"
    },
    {
      "cell_type": "code",
      "execution_count": 16,
      "metadata": {},
      "outputs": [],
      "source": [
        "b"
      ],
      "id": "ed5a5569-5bd0-48fc-a126-9e4145cdb5c3"
    },
    {
      "cell_type": "code",
      "execution_count": 17,
      "metadata": {},
      "outputs": [],
      "source": [
        "id(a),id(b)"
      ],
      "id": "0d65267b-7d76-4ee9-a253-5084c151876a"
    },
    {
      "cell_type": "markdown",
      "metadata": {},
      "source": [
        "## view\n",
        "\n",
        "`-` a를 선언, b는 a의 view"
      ],
      "id": "160b6b18-6e88-4906-83d6-dd2a972b5828"
    },
    {
      "cell_type": "code",
      "execution_count": 30,
      "metadata": {},
      "outputs": [],
      "source": [
        "a=np.array([[1,2],[3,4]]) \n",
        "b=a.view() ## 어떤 블로그등에서는 shallow copy라고 부르기도 한다. 그렇게 공부하지 마세여.."
      ],
      "id": "e68ba710-a5f5-4eca-ba34-ce07dcb78b66"
    },
    {
      "cell_type": "code",
      "execution_count": 31,
      "metadata": {},
      "outputs": [],
      "source": [
        "a"
      ],
      "id": "34f91923-ce17-47ec-9d04-743f8bd46251"
    },
    {
      "cell_type": "code",
      "execution_count": 32,
      "metadata": {},
      "outputs": [],
      "source": [
        "b"
      ],
      "id": "853bc126-bd9b-4a7f-ad7f-22acf509cfa5"
    },
    {
      "cell_type": "code",
      "execution_count": 33,
      "metadata": {},
      "outputs": [],
      "source": [
        "a.shape"
      ],
      "id": "a1128c6d-bcb0-44e4-949c-17a497e6ff5c"
    },
    {
      "cell_type": "code",
      "execution_count": 34,
      "metadata": {},
      "outputs": [],
      "source": [
        "b.shape"
      ],
      "id": "933c2902-45eb-455d-ab8d-e257b9975642"
    },
    {
      "cell_type": "code",
      "execution_count": 35,
      "metadata": {},
      "outputs": [],
      "source": [
        "a.shape= (4,1)"
      ],
      "id": "c3f37926-e3d3-43d8-965c-9a2dc9d43515"
    },
    {
      "cell_type": "code",
      "execution_count": 36,
      "metadata": {},
      "outputs": [],
      "source": [
        "a"
      ],
      "id": "69a30307-3f44-4b7e-85a8-0cd4a6349cd4"
    },
    {
      "cell_type": "code",
      "execution_count": 37,
      "metadata": {},
      "outputs": [],
      "source": [
        "b"
      ],
      "id": "9d724e66-daab-4838-9254-d3bc27331618"
    },
    {
      "cell_type": "code",
      "execution_count": 38,
      "metadata": {},
      "outputs": [],
      "source": [
        "id(a), id(b)"
      ],
      "id": "99909af1-5b78-4253-85f5-3878ccccf4c2"
    },
    {
      "cell_type": "markdown",
      "metadata": {},
      "source": [
        "`-` 그런데.."
      ],
      "id": "98e74847-d635-4a08-ae90-4e8b39322d77"
    },
    {
      "cell_type": "code",
      "execution_count": 39,
      "metadata": {},
      "outputs": [],
      "source": [
        "a[0]=100"
      ],
      "id": "48f51d2c-4a45-4c93-9b38-640712b2dcdf"
    },
    {
      "cell_type": "code",
      "execution_count": 40,
      "metadata": {},
      "outputs": [],
      "source": [
        "a"
      ],
      "id": "e54428ac-83c4-413e-a1a7-1598e17ed264"
    },
    {
      "cell_type": "code",
      "execution_count": 41,
      "metadata": {},
      "outputs": [],
      "source": [
        "b"
      ],
      "id": "0cb558eb-90b8-4742-aa02-8529b1cef82d"
    },
    {
      "cell_type": "markdown",
      "metadata": {},
      "source": [
        "`-` 출생의 비밀"
      ],
      "id": "8940e799-9db5-4d7b-952c-c6e454eb0edd"
    },
    {
      "cell_type": "code",
      "execution_count": 42,
      "metadata": {},
      "outputs": [],
      "source": [
        "b"
      ],
      "id": "e5b51b34-796e-41f2-9e01-118ce63b49f6"
    },
    {
      "cell_type": "code",
      "execution_count": 43,
      "metadata": {},
      "outputs": [],
      "source": [
        "b.base"
      ],
      "id": "89fa22ec-60db-48c0-82bf-be21d1729fd2"
    },
    {
      "cell_type": "markdown",
      "metadata": {},
      "source": [
        "-   ? 이거 바뀐 a아니야?"
      ],
      "id": "7849bc19-72fc-4560-8811-a7d18b5ad8ea"
    },
    {
      "cell_type": "code",
      "execution_count": 44,
      "metadata": {},
      "outputs": [],
      "source": [
        "id(b.base), id(a)"
      ],
      "id": "f44f6000-1c02-49e9-9f90-a2c38813389d"
    },
    {
      "cell_type": "markdown",
      "metadata": {},
      "source": [
        "`-` View\n",
        "\n",
        "-   b가 a의 뷰라는 의미는, b가 a를 소스로하여 만들어진 오브젝트란\n",
        "    의미이다.\n",
        "-   따라서 이때 b.base는 a가 된다.\n",
        "-   b는 자체적으로 데이터를 가지고 있지 않으며 a와 공유한다.\n",
        "\n",
        "`note1` 원본 ndarray의 일 경우는 .base가 None으로 나온다."
      ],
      "id": "4e87243b-d176-46b5-bdf8-7d681048fc8b"
    },
    {
      "cell_type": "code",
      "execution_count": 45,
      "metadata": {},
      "outputs": [],
      "source": [
        "a.base"
      ],
      "id": "f6416fb3-aa7a-4506-80c0-c2a5e23237cf"
    },
    {
      "cell_type": "markdown",
      "metadata": {},
      "source": [
        "`note2` b.base의 shpae과 b의 shape은 아무 관련없다."
      ],
      "id": "6985592a-b564-4f49-bd24-ce96eaa368ed"
    },
    {
      "cell_type": "code",
      "execution_count": 46,
      "metadata": {},
      "outputs": [],
      "source": [
        "b.shape"
      ],
      "id": "36f09048-ccf8-4de9-a907-4889ea7092ec"
    },
    {
      "cell_type": "code",
      "execution_count": 47,
      "metadata": {},
      "outputs": [],
      "source": [
        "b.base.shape # a.shape과 같음"
      ],
      "id": "40799344-45f7-40f1-8b52-3e59af9ae792"
    },
    {
      "cell_type": "markdown",
      "metadata": {},
      "source": [
        "`-` numpy에서 view를 사용하는 예시 (transpose)"
      ],
      "id": "ad0985e6-f345-4260-b164-93338750d803"
    },
    {
      "cell_type": "code",
      "execution_count": 48,
      "metadata": {},
      "outputs": [],
      "source": [
        "X = np.random.normal(size=[100,2])\n",
        "id((X.T).base), id(X)"
      ],
      "id": "73bb35d5-ff2f-4c01-baac-739ab26e4076"
    },
    {
      "cell_type": "markdown",
      "metadata": {},
      "source": [
        "-   `X.T` 는 `X`의 view 이다."
      ],
      "id": "2f03514e-b843-444f-a782-017c85d0a602"
    },
    {
      "cell_type": "code",
      "execution_count": 49,
      "metadata": {},
      "outputs": [],
      "source": [
        "X.T @ X ## 실제로 X.T를 메모리공간에 새로 만들어 숫자를 저장하지않고 X.T @ X를 계산할 수 있음 (R과차이점) "
      ],
      "id": "baca5a82-dc8f-445e-8f35-b34a94b10d42"
    },
    {
      "cell_type": "markdown",
      "metadata": {},
      "source": [
        "## copy\n",
        "\n",
        "`-` a를 선언, b는 a의 copy"
      ],
      "id": "937c7172-62e7-4655-9288-520c82f935ef"
    },
    {
      "cell_type": "code",
      "execution_count": 50,
      "metadata": {},
      "outputs": [],
      "source": [
        "a=np.array([[1,2],[3,4]])\n",
        "b=a.copy() # 껍데기를 새로 생성 (strides, shape) + 데이터도 a와 독립적으로 새로 생성하여 따로 메모리에 저장함. "
      ],
      "id": "5f02d51e-1768-403d-887b-62a6e146dac3"
    },
    {
      "cell_type": "code",
      "execution_count": 51,
      "metadata": {},
      "outputs": [],
      "source": [
        "id(a),id(b)"
      ],
      "id": "e87128a2-121e-4c58-88ce-af2001510268"
    },
    {
      "cell_type": "markdown",
      "metadata": {},
      "source": [
        "`-` a의 shape을 바꿔도 b에는 적용되지 않음"
      ],
      "id": "96720440-d18a-45c8-9a30-d0f5358c776b"
    },
    {
      "cell_type": "code",
      "execution_count": 52,
      "metadata": {},
      "outputs": [],
      "source": [
        "a.shape = (4,1)\n",
        "a"
      ],
      "id": "78451c28-f21d-4454-a235-5926e274295e"
    },
    {
      "cell_type": "code",
      "execution_count": 53,
      "metadata": {},
      "outputs": [],
      "source": [
        "b"
      ],
      "id": "e2457cc9-8d23-4738-a4bb-1b5020540a8e"
    },
    {
      "cell_type": "markdown",
      "metadata": {},
      "source": [
        "`-` 그리고 a\\[0\\]의 값을 바꿔도 b에는 적용되지 않음."
      ],
      "id": "da8ccbbf-823e-4211-ad1e-d1ca843b9f5a"
    },
    {
      "cell_type": "code",
      "execution_count": 54,
      "metadata": {},
      "outputs": [],
      "source": [
        "a[0]=100"
      ],
      "id": "93ea0dcd-d816-4885-868b-ee3ba7a8d660"
    },
    {
      "cell_type": "code",
      "execution_count": 55,
      "metadata": {},
      "outputs": [],
      "source": [
        "a"
      ],
      "id": "336e840e-4e7c-4aae-9cd8-83e5d62f12c6"
    },
    {
      "cell_type": "code",
      "execution_count": 56,
      "metadata": {},
      "outputs": [],
      "source": [
        "b"
      ],
      "id": "149eab56-64a1-4d60-8718-3078a1dcfbbe"
    },
    {
      "cell_type": "markdown",
      "metadata": {},
      "source": [
        "`-` b의 출생을 조사해보니.."
      ],
      "id": "88f6d0de-a778-4a01-adcd-36c772939942"
    },
    {
      "cell_type": "code",
      "execution_count": 57,
      "metadata": {},
      "outputs": [],
      "source": [
        "a.base,b.base"
      ],
      "id": "e1c978e0-8d59-4f66-a5d1-ec6b9c3528a4"
    },
    {
      "cell_type": "markdown",
      "metadata": {},
      "source": [
        "출생의 비밀은 없었다. 둘다 원본.\n",
        "\n",
        "`-` `.view()` 는 껍데기만 새로생성 // `.copy()` 는 껍데기와 데이터를\n",
        "모두 새로 생성\n",
        "\n",
        "### ***Appendix: .copy의 한계(?)***\n",
        "\n",
        "(관찰)"
      ],
      "id": "b3f08a49-950a-4916-ae24-11440bae12c3"
    },
    {
      "cell_type": "code",
      "execution_count": 58,
      "metadata": {},
      "outputs": [
        {
          "output_type": "stream",
          "name": "stdout",
          "text": [
            "시점1\n",
            "a= [1 list([1, 2])]\n",
            "b= [1 list([1, 2])]\n",
            "시점2\n",
            "a= [222 list([1, 2])]\n",
            "b= [1 list([1, 2])]\n",
            "시점2\n",
            "a= [222 list([333, 2])]\n",
            "b= [1 list([333, 2])]"
          ]
        }
      ],
      "source": [
        "a=np.array([1,[1,2]],dtype='O')\n",
        "b=a.copy()\n",
        "print('시점1')\n",
        "print('a=',a)\n",
        "print('b=',b)\n",
        "\n",
        "a[0]=222\n",
        "print('시점2')\n",
        "print('a=',a)\n",
        "print('b=',b)\n",
        "\n",
        "a[1][0]=333\n",
        "print('시점2')\n",
        "print('a=',a)\n",
        "print('b=',b)"
      ],
      "id": "630a68c8-12b3-47fc-a43f-dc8d2d58b2cb"
    },
    {
      "cell_type": "markdown",
      "metadata": {},
      "source": [
        "-   왜 또 시점2에서는 a와 b가 같이 움직여?\n",
        "\n",
        "***해결책: 더 깊은 복사***"
      ],
      "id": "35c1c292-343f-4b27-9a30-3f9a23adb382"
    },
    {
      "cell_type": "code",
      "execution_count": 60,
      "metadata": {},
      "outputs": [],
      "source": [
        "import copy"
      ],
      "id": "7dd31017-6d97-41a7-a913-a7f5af02e5cb"
    },
    {
      "cell_type": "code",
      "execution_count": 61,
      "metadata": {
        "tags": []
      },
      "outputs": [
        {
          "output_type": "stream",
          "name": "stdout",
          "text": [
            "시점1\n",
            "a= [1 list([1, 2])]\n",
            "b= [1 list([1, 2])]\n",
            "시점2\n",
            "a= [222 list([1, 2])]\n",
            "b= [1 list([1, 2])]\n",
            "시점2\n",
            "a= [222 list([333, 2])]\n",
            "b= [1 list([1, 2])]"
          ]
        }
      ],
      "source": [
        "a=np.array([1,[1,2]],dtype='O')\n",
        "b=copy.deepcopy(a)\n",
        "print('시점1')\n",
        "print('a=',a)\n",
        "print('b=',b)\n",
        "\n",
        "a[0]=222\n",
        "print('시점2')\n",
        "print('a=',a)\n",
        "print('b=',b)\n",
        "\n",
        "a[1][0]=333\n",
        "print('시점2')\n",
        "print('a=',a)\n",
        "print('b=',b)"
      ],
      "id": "da5766fb-e6b8-426f-ae0b-93458049a004"
    },
    {
      "cell_type": "markdown",
      "metadata": {},
      "source": [
        "`-` 중간요약\n",
        "\n",
        "-   사실 `b=a.copy()`는 에서 `.copy()`는 사실 온전한 deep-copy가 아니다.\n",
        "-   그래서 `a`의 데이터가 중첩구조를 가지는 경우는 온전한 deep-copy가\n",
        "    수행되지 않는다.\n",
        "-   그런데 일반적으로 넘파이를 이용할때 자주 사용하는 데이터 구조인\n",
        "    행렬, 텐서등은 데이터가 중첩구조를 가지지 않는다. (1차원 array로만\n",
        "    저장되어 있음)\n",
        "-   따라서 행렬, 텐서에 한정하면 `.copy()`는 온전한 deep-copy라고\n",
        "    이해해도 무방하다. \\<– 이것만 기억해!\n",
        "\n",
        "## 요약\n",
        "\n",
        "아래를 구분할 수 있으면 잘 이해한 것!!\n",
        "\n",
        "``` python\n",
        "arr = np.array(...) # arr -- [arr.shape, arr.strides, arr.base, ... ] \n",
        "arr2 = arr \n",
        "arr2 = arr.view()\n",
        "arr2 = arr.copy()\n",
        "arr2 = copy.deepcopy(arr)\n",
        "```\n",
        "\n",
        "## 별명, 뷰, 카피\n",
        "\n",
        "`-` test 함수 작성"
      ],
      "id": "ff180078-94f4-4229-bbbb-4d6a325cb3eb"
    },
    {
      "cell_type": "code",
      "execution_count": 63,
      "metadata": {},
      "outputs": [],
      "source": [
        "def test(a,b): \n",
        "    if id(a) == id(b): \n",
        "        print(\"별명\")\n",
        "    elif id(a) == id(b.base) or id(a.base)==id(b): \n",
        "        print(\"뷰\")\n",
        "    elif (id(a.base)!=id(None) and id(b.base)!=id(None)) and id(a.base) == id(b.base):\n",
        "        print(\"공통의 base를 가짐\")\n",
        "    else: \n",
        "        print(\"카피, 혹은 아무 관련없는 오브젝트\") "
      ],
      "id": "892f6649-b689-4bcd-af81-e42d4c38edb4"
    },
    {
      "cell_type": "markdown",
      "metadata": {},
      "source": [
        "`-` 잘 동작하나?\n",
        "\n",
        "(테스트1)"
      ],
      "id": "6072c3e4-def8-4729-b099-0fde35a7b278"
    },
    {
      "cell_type": "code",
      "execution_count": 64,
      "metadata": {},
      "outputs": [],
      "source": [
        "a=np.array([1,2,3,4])\n",
        "b=a"
      ],
      "id": "b98016da-91d6-419d-b423-829320edcd02"
    },
    {
      "cell_type": "code",
      "execution_count": 65,
      "metadata": {},
      "outputs": [
        {
          "output_type": "stream",
          "name": "stdout",
          "text": [
            "별명"
          ]
        }
      ],
      "source": [
        "test(a,b)"
      ],
      "id": "e91e4381-88ec-4a29-b8c5-ca3c886633c4"
    },
    {
      "cell_type": "markdown",
      "metadata": {},
      "source": [
        "(테스트2)"
      ],
      "id": "161eb999-941e-444e-a1ce-bded01d76d7f"
    },
    {
      "cell_type": "code",
      "execution_count": 66,
      "metadata": {},
      "outputs": [],
      "source": [
        "a=np.array([1,2,3,4])\n",
        "b=a.view()"
      ],
      "id": "62bb9759-7c97-4781-b83b-f4806125182e"
    },
    {
      "cell_type": "code",
      "execution_count": 67,
      "metadata": {},
      "outputs": [
        {
          "output_type": "stream",
          "name": "stdout",
          "text": [
            "뷰"
          ]
        }
      ],
      "source": [
        "test(a,b)"
      ],
      "id": "60eeed8f-2526-4519-ba09-b4808829c0cf"
    },
    {
      "cell_type": "markdown",
      "metadata": {},
      "source": [
        "(테스트3)"
      ],
      "id": "88bcdd70-97e1-468b-9912-c45d069922c9"
    },
    {
      "cell_type": "code",
      "execution_count": 68,
      "metadata": {},
      "outputs": [],
      "source": [
        "a=np.array([1,2,3,4])\n",
        "b=a.view()\n",
        "c=a.view()"
      ],
      "id": "b00f729d-9d98-41a0-b3a0-b121bc069b27"
    },
    {
      "cell_type": "code",
      "execution_count": 69,
      "metadata": {},
      "outputs": [
        {
          "output_type": "stream",
          "name": "stdout",
          "text": [
            "공통의 base를 가짐"
          ]
        }
      ],
      "source": [
        "test(b,c)"
      ],
      "id": "db21efc9-01fd-42a1-a34d-c1025bf95d97"
    },
    {
      "cell_type": "code",
      "execution_count": 70,
      "metadata": {},
      "outputs": [
        {
          "output_type": "stream",
          "name": "stdout",
          "text": [
            "뷰"
          ]
        }
      ],
      "source": [
        "test(a,b)"
      ],
      "id": "ac077c11-90df-4743-ac28-2f7f1a89afbc"
    },
    {
      "cell_type": "code",
      "execution_count": 71,
      "metadata": {},
      "outputs": [
        {
          "output_type": "stream",
          "name": "stdout",
          "text": [
            "뷰"
          ]
        }
      ],
      "source": [
        "test(a,c)"
      ],
      "id": "b20f5021-f559-4f48-8fd1-f41d8c0db26a"
    },
    {
      "cell_type": "markdown",
      "metadata": {},
      "source": [
        "(테스트4)"
      ],
      "id": "28cf0892-c375-46a4-a303-fa583076b4b2"
    },
    {
      "cell_type": "code",
      "execution_count": 72,
      "metadata": {},
      "outputs": [],
      "source": [
        "a=np.array([1,2,3,4])\n",
        "b=a.copy()"
      ],
      "id": "b010ccc8-7a04-47e4-b71e-1dec43e50d61"
    },
    {
      "cell_type": "code",
      "execution_count": 73,
      "metadata": {},
      "outputs": [
        {
          "output_type": "stream",
          "name": "stdout",
          "text": [
            "카피, 혹은 아무 관련없는 오브젝트"
          ]
        }
      ],
      "source": [
        "test(a,b)"
      ],
      "id": "baf65e1c-7f05-44e5-b03c-a3caa46813bc"
    },
    {
      "cell_type": "markdown",
      "metadata": {},
      "source": [
        "## 결론\n",
        "\n",
        "`-` 참조, 뷰, 카피의 개념을 잘 알고 있고 때에 따라 메모리를 아끼면서\n",
        "이들을 적절하게 사용하고 싶을것 같음. 하지만 이건 불가능한 소망임.\n",
        "\n",
        "`-` 우리가 사용했던 어떠한 것들이 뷰가 나올지 카피가 나올지 잘 모른다.\n",
        "(그래서 원리를 이해해도 대응할 방법이 사실없음)\n",
        "\n",
        "### 예시1"
      ],
      "id": "1b6c9115-a160-4103-85f5-deb5067d2d82"
    },
    {
      "cell_type": "code",
      "execution_count": 74,
      "metadata": {},
      "outputs": [],
      "source": [
        "a=np.array([1,2,3,4])\n",
        "b=a[:3]"
      ],
      "id": "f42357fc-b520-4974-9304-f50373fcc51d"
    },
    {
      "cell_type": "code",
      "execution_count": 75,
      "metadata": {},
      "outputs": [],
      "source": [
        "a"
      ],
      "id": "d81ba309-11ed-4299-b640-30f546bc9c20"
    },
    {
      "cell_type": "code",
      "execution_count": 76,
      "metadata": {},
      "outputs": [],
      "source": [
        "b"
      ],
      "id": "f0d1d52b-4f29-4906-a438-bd9d78d9537a"
    },
    {
      "cell_type": "code",
      "execution_count": 77,
      "metadata": {},
      "outputs": [
        {
          "output_type": "stream",
          "name": "stdout",
          "text": [
            "뷰"
          ]
        }
      ],
      "source": [
        "test(a,b)"
      ],
      "id": "d352b9ac-ad77-4d1e-a4f4-60f652aa3cc0"
    },
    {
      "cell_type": "code",
      "execution_count": 78,
      "metadata": {},
      "outputs": [],
      "source": [
        "c=a[[0,1,2]]\n",
        "c"
      ],
      "id": "025e80a7-3b48-4d3d-b208-a6b93f2702bf"
    },
    {
      "cell_type": "code",
      "execution_count": 79,
      "metadata": {},
      "outputs": [
        {
          "output_type": "stream",
          "name": "stdout",
          "text": [
            "카피, 혹은 아무 관련없는 오브젝트"
          ]
        }
      ],
      "source": [
        "test(a,c)"
      ],
      "id": "cf3af2f8-648d-4f6f-97e1-c3a1f19a732d"
    },
    {
      "cell_type": "markdown",
      "metadata": {},
      "source": [
        "### 예시2"
      ],
      "id": "673d69d1-4b83-4e1f-bb60-eed4413dca1f"
    },
    {
      "cell_type": "code",
      "execution_count": 114,
      "metadata": {},
      "outputs": [],
      "source": [
        "a=np.array([[1,2],[3,4]])\n",
        "a"
      ],
      "id": "f0181623-b313-4180-a8b9-ae5d5a8026ec"
    },
    {
      "cell_type": "code",
      "execution_count": 87,
      "metadata": {},
      "outputs": [],
      "source": [
        "b=a.flatten() # 플래튼은 펼치는건데..\n",
        "c=a.ravel() # 라벨도 펼치라는 뜻인데..\n",
        "d=a.reshape(-1) # 이것도 뜻은 펼치는건데..\n",
        "# 걍 다 똑같은거아냐?"
      ],
      "id": "a1c6bf09-7fe2-4d55-8041-c713f03ded0e"
    },
    {
      "cell_type": "code",
      "execution_count": 88,
      "metadata": {},
      "outputs": [
        {
          "output_type": "stream",
          "name": "stdout",
          "text": [
            "카피, 혹은 아무 관련없는 오브젝트"
          ]
        }
      ],
      "source": [
        "test(a,b)"
      ],
      "id": "0ba19a29-8a3c-42a1-9090-73cab583eff3"
    },
    {
      "cell_type": "code",
      "execution_count": 89,
      "metadata": {},
      "outputs": [
        {
          "output_type": "stream",
          "name": "stdout",
          "text": [
            "뷰"
          ]
        }
      ],
      "source": [
        "test(a,c)"
      ],
      "id": "be6c0116-1e1c-45e9-a889-e3295f5ee99e"
    },
    {
      "cell_type": "code",
      "execution_count": 90,
      "metadata": {},
      "outputs": [
        {
          "output_type": "stream",
          "name": "stdout",
          "text": [
            "뷰"
          ]
        }
      ],
      "source": [
        "test(a,d)"
      ],
      "id": "48d404fb-bce9-4b84-ba0f-f37cf4fdd5fb"
    },
    {
      "cell_type": "code",
      "execution_count": 91,
      "metadata": {},
      "outputs": [
        {
          "output_type": "stream",
          "name": "stdout",
          "text": [
            "공통의 base를 가짐"
          ]
        }
      ],
      "source": [
        "test(c,d)"
      ],
      "id": "f3705747-c532-425f-a7d2-c3f2fe1389d7"
    },
    {
      "cell_type": "code",
      "execution_count": 92,
      "metadata": {},
      "outputs": [
        {
          "output_type": "stream",
          "name": "stdout",
          "text": [
            "카피, 혹은 아무 관련없는 오브젝트"
          ]
        }
      ],
      "source": [
        "test(b,c)"
      ],
      "id": "a509b9ab-2bd1-4b20-985e-e0c2b724c8c4"
    },
    {
      "cell_type": "markdown",
      "metadata": {},
      "source": [
        "`-` 심지어 copy인줄 알았던것이 사실 view라서 원치않는 side effect이\n",
        "생길수 있음. $\\to$ 그냥 방어적 프로그래밍이 최선인듯"
      ],
      "id": "bebffc29-311b-4485-8f07-3fdb76301680"
    }
  ],
  "nbformat": 4,
  "nbformat_minor": 5,
  "metadata": {
    "kernelspec": {
      "name": "python3",
      "display_name": "Python 3",
      "language": "python"
    },
    "language_info": {
      "name": "python",
      "codemirror_mode": {
        "name": "ipython",
        "version": "3"
      },
      "file_extension": ".py",
      "mimetype": "text/x-python",
      "nbconvert_exporter": "python",
      "pygments_lexer": "ipython3",
      "version": "3.8.16"
    }
  }
}