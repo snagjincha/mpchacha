{
  "cells": [
    {
      "cell_type": "markdown",
      "metadata": {},
      "source": [
        "# 14wk-2: 클래스공부 4단계 – 파이썬의 비밀 (3)\n",
        "\n",
        "최규빈  \n",
        "2023-06-07\n",
        "\n",
        "<a href=\"https://colab.research.google.com/github/guebin/PP2023/blob/main/posts/03_Class/2023-06-07-14wk-2.ipynb\"><img src=\"https://colab.research.google.com/assets/colab-badge.svg\" style=\"text-align: left\"></a>\n",
        "\n",
        "# 강의영상\n",
        "\n",
        "> youtube:\n",
        "> <https://youtube.com/playlist?list=PLQqh36zP38-yZWViSW4CktNpOM7Km4BAe>\n",
        "\n",
        "# imports"
      ],
      "id": "1f13ef06-2d8b-4d17-b496-7f6a02cba10e"
    },
    {
      "cell_type": "code",
      "execution_count": 14,
      "metadata": {},
      "outputs": [],
      "source": [
        "import numpy as np\n",
        "import pandas as pd"
      ],
      "id": "0af2488d-77b4-46d5-acd6-bc02c0b5c65b"
    },
    {
      "cell_type": "markdown",
      "metadata": {},
      "source": [
        "# 클래스공부 4단계: 파이썬의 비밀 (3)\n",
        "\n",
        "## 비밀12: `__iter__` ($\\star\\star\\star\\star\\star$)\n",
        "\n",
        "### ***for문의 복습***\n",
        "\n",
        "`-` 아래와 같은 예제들을 관찰하여 for문을 복습하자.\n",
        "\n",
        "(예제1) \\[1,2,3,4\\]"
      ],
      "id": "515e43f9-894e-4712-a243-70261abba363"
    },
    {
      "cell_type": "code",
      "execution_count": 2,
      "metadata": {},
      "outputs": [
        {
          "output_type": "stream",
          "name": "stdout",
          "text": [
            "1\n",
            "2\n",
            "33\n",
            "4"
          ]
        }
      ],
      "source": [
        "for i in [1,2,33,4]:\n",
        "    print(i)"
      ],
      "id": "c3515406-eb8d-4246-a099-5bb57d4829cc"
    },
    {
      "cell_type": "markdown",
      "metadata": {},
      "source": [
        "(예제2) (1,2,3,4)"
      ],
      "id": "246e3934-f9f6-48fc-824a-db88d80109d7"
    },
    {
      "cell_type": "code",
      "execution_count": 3,
      "metadata": {},
      "outputs": [
        {
          "output_type": "stream",
          "name": "stdout",
          "text": [
            "1\n",
            "2\n",
            "33\n",
            "4"
          ]
        }
      ],
      "source": [
        "for i in (1,2,33,4):\n",
        "    print(i)"
      ],
      "id": "d7674f54-6283-4c1a-9b12-17dde6a6ec1c"
    },
    {
      "cell_type": "markdown",
      "metadata": {},
      "source": [
        "(예제3) ‘1234’"
      ],
      "id": "7b1446ce-d9ae-43b2-b3fc-e9458200ba71"
    },
    {
      "cell_type": "code",
      "execution_count": 4,
      "metadata": {},
      "outputs": [
        {
          "output_type": "stream",
          "name": "stdout",
          "text": [
            "1\n",
            "2\n",
            "3\n",
            "a\n",
            "s\n",
            "d\n",
            "f"
          ]
        }
      ],
      "source": [
        "for i in '123asdf':\n",
        "    print(i)"
      ],
      "id": "0666f79a-6857-4318-a907-454d1f55b7a6"
    },
    {
      "cell_type": "markdown",
      "metadata": {},
      "source": [
        "(예제4) 5"
      ],
      "id": "7a4094c6-69d6-45f4-a9c2-d0f5a664eb19"
    },
    {
      "cell_type": "code",
      "execution_count": 7,
      "metadata": {},
      "outputs": [],
      "source": [
        "for i in 5:\n",
        "    print(i)"
      ],
      "id": "d099e8e7-feda-43db-a439-6a628e04e450"
    },
    {
      "cell_type": "markdown",
      "metadata": {},
      "source": [
        "`-` 의문1:\n",
        "\n",
        "``` python\n",
        "for i in ???:\n",
        "    print(i)\n",
        "```\n",
        "\n",
        "에서 ??? 자리에 올수 있는 것이 무엇일까?\n",
        "\n",
        "(예제5) \\[\\[1,2,3,4\\],\\[3,4,5,6\\]\\],\n",
        "pd.DataFrame(\\[\\[1,2,3,4\\],\\[3,4,5,6\\]\\])"
      ],
      "id": "aaed76f7-cbb2-407f-b760-5b4b3765d1e8"
    },
    {
      "cell_type": "code",
      "execution_count": 9,
      "metadata": {},
      "outputs": [],
      "source": [
        "lst = [[1,2,3,4],[3,4,5,6]]\n",
        "lst"
      ],
      "id": "e4d7419c-9b6f-4335-97dc-641061103241"
    },
    {
      "cell_type": "code",
      "execution_count": 22,
      "metadata": {},
      "outputs": [
        {
          "output_type": "stream",
          "name": "stdout",
          "text": [
            "[1, 2, 3, 4]\n",
            "[3, 4, 5, 6]"
          ]
        }
      ],
      "source": [
        "for l in lst:\n",
        "    print(l)"
      ],
      "id": "7aacc913-bbc9-4043-b564-80c6705be6fa"
    },
    {
      "cell_type": "code",
      "execution_count": 23,
      "metadata": {},
      "outputs": [
        {
          "output_type": "stream",
          "name": "stdout",
          "text": [
            "[1 2 3 4]\n",
            "[3 4 5 6]"
          ]
        }
      ],
      "source": [
        "for l in np.array(lst):\n",
        "    print(l)"
      ],
      "id": "a0e3a92e-b049-4a66-8536-21d361661390"
    },
    {
      "cell_type": "code",
      "execution_count": 24,
      "metadata": {},
      "outputs": [
        {
          "output_type": "stream",
          "name": "stdout",
          "text": [
            "0\n",
            "1\n",
            "2\n",
            "3"
          ]
        }
      ],
      "source": [
        "for l in pd.DataFrame(lst):\n",
        "    print(l)"
      ],
      "id": "a45256f8-0f6c-4b48-a0ba-170a1bba8e74"
    },
    {
      "cell_type": "markdown",
      "metadata": {},
      "source": [
        "`-` 데이터프레임인 경우는 colname이 반복"
      ],
      "id": "4da7ff36-28a5-40ab-8079-7b9a704b3667"
    },
    {
      "cell_type": "code",
      "execution_count": 25,
      "metadata": {},
      "outputs": [],
      "source": [
        "df = pd.DataFrame({'x':[1,2,3],'y':[2,3,4]})\n",
        "df"
      ],
      "id": "40b1abb5-0b7f-4f48-b46e-af06b47f7ca5"
    },
    {
      "cell_type": "code",
      "execution_count": 26,
      "metadata": {},
      "outputs": [
        {
          "output_type": "stream",
          "name": "stdout",
          "text": [
            "x\n",
            "y"
          ]
        }
      ],
      "source": [
        "for d in df:\n",
        "    print(d)"
      ],
      "id": "c62e9ad0-cdd2-44e0-8971-e27f523fec58"
    },
    {
      "cell_type": "markdown",
      "metadata": {},
      "source": [
        "`-` 의문2: for의 출력결과는 어떻게 예측할 수 있을까?\n",
        "\n",
        "### ***for문의 동작원리***\n",
        "\n",
        "`-` 의문1의 해결: 아래의 ??? 자리에 올 수 있는 것은 dir()하여\n",
        "`__iter__`가 있는 object이다.\n",
        "\n",
        "``` python\n",
        "for i in ???:\n",
        "    print(i)\n",
        "```\n",
        "\n",
        "이러한 오브젝트를 iterable object라고 한다.\n",
        "\n",
        "`-` 예제1~4 확인"
      ],
      "id": "86b9ee00-d148-46a1-876e-1039d72b6f4c"
    },
    {
      "cell_type": "code",
      "execution_count": 34,
      "metadata": {},
      "outputs": [],
      "source": [
        "lst = [1,2,3]\n",
        "set(dir(lst)) & {'__iter__'}"
      ],
      "id": "c716fb7b-36ab-451f-a7ea-3258b3d51985"
    },
    {
      "cell_type": "code",
      "execution_count": 35,
      "metadata": {},
      "outputs": [],
      "source": [
        "tpl = 1,2,3\n",
        "set(dir(tpl)) & {'__iter__'}"
      ],
      "id": "55b4d22f-1569-4559-a3a6-86207d237cc0"
    },
    {
      "cell_type": "code",
      "execution_count": 36,
      "metadata": {},
      "outputs": [],
      "source": [
        "string = '123'\n",
        "set(dir(string)) & {'__iter__'}"
      ],
      "id": "7ff2313c-977a-46a2-8743-3977d47ab0b3"
    },
    {
      "cell_type": "code",
      "execution_count": 37,
      "metadata": {},
      "outputs": [],
      "source": [
        "a = 5\n",
        "set(dir(a)) & {'__iter__'}"
      ],
      "id": "2ff13329-9df5-4735-8535-c02a40cf18a1"
    },
    {
      "cell_type": "markdown",
      "metadata": {},
      "source": [
        "`-` `__iter__`의 역할: iterable object를 iterator로 만들 수 있다!"
      ],
      "id": "81ea28a2-00ba-4aeb-897f-0f706ed2a614"
    },
    {
      "cell_type": "code",
      "execution_count": 68,
      "metadata": {},
      "outputs": [],
      "source": [
        "lst = [1,22,-33]"
      ],
      "id": "32b7ca53-acab-41c8-be28-c4cc14c94ccb"
    },
    {
      "cell_type": "code",
      "execution_count": 69,
      "metadata": {},
      "outputs": [],
      "source": [
        "lst_iterator = lst.__iter__() \n",
        "# lst_iterator = iter(lst)"
      ],
      "id": "fe3f5cc9-e9fa-4e97-91ac-d6cebf5e9385"
    },
    {
      "cell_type": "markdown",
      "metadata": {},
      "source": [
        "`-` iterator가 되면 무엇이 좋은가? -\\> 숨겨진 기능 `__next__`가 열린다."
      ],
      "id": "4f77f8ec-7c74-4527-bfd8-d215cf157a74"
    },
    {
      "cell_type": "code",
      "execution_count": 70,
      "metadata": {},
      "outputs": [],
      "source": [
        "set(dir(lst_iterator)) & {'__next__'}"
      ],
      "id": "64ba4d1c-6d3a-4ee1-90b4-f558a4a4935c"
    },
    {
      "cell_type": "markdown",
      "metadata": {},
      "source": [
        "`-` 그래서 `__next__`의 기능은? -\\> 원소를 차례대로 꺼내준다 + 더 이상\n",
        "꺼낼 원소가 없으면 StopIteration Error를 발생시킨다."
      ],
      "id": "ec3d6e02-ddd4-4f02-b2d2-efac9c6af7d1"
    },
    {
      "cell_type": "code",
      "execution_count": 71,
      "metadata": {},
      "outputs": [],
      "source": [
        "next(lst_iterator)\n",
        "# lst_iterator.__next__() # 같은코드"
      ],
      "id": "9f16e514-c552-47ba-89bf-1841b5d3f85a"
    },
    {
      "cell_type": "code",
      "execution_count": 72,
      "metadata": {},
      "outputs": [],
      "source": [
        "next(lst_iterator)\n",
        "# lst_iterator.__next__() # 같은코드"
      ],
      "id": "50f2c387-13b4-4059-8098-1a69975ef6b2"
    },
    {
      "cell_type": "code",
      "execution_count": 73,
      "metadata": {},
      "outputs": [],
      "source": [
        "next(lst_iterator)\n",
        "# lst_iterator.__next__() # 같은코드"
      ],
      "id": "60f08ee2-90fe-4c1a-8798-b8cd78b78756"
    },
    {
      "cell_type": "code",
      "execution_count": 74,
      "metadata": {},
      "outputs": [],
      "source": [
        "next(lst_iterator)\n",
        "# lst_iterator.__next__() # 같은코드"
      ],
      "id": "2ddc5af2-3940-45fe-bf5a-46fdde7de0c1"
    },
    {
      "cell_type": "markdown",
      "metadata": {},
      "source": [
        "`-` for문의 동작원리\n",
        "\n",
        "``` python\n",
        "for i in iterable:\n",
        "    ...\n",
        "```\n",
        "\n",
        "1.  이터레이터생성: `.__iter__()` 혹은 `iter()`을 이용하여 iterable을\n",
        "    iterator로 만든다.\n",
        "\n",
        "2.  $i$생성 및 반복: 1에서 만들어진 iterator에서 `.__next__()`함수를\n",
        "    호출하고 결과를 $i$에 저장한뒤 for문 블락안의 내용 (들여쓰기 된\n",
        "    내용) 을 실행한다. $\\to$ 반복한다.\n",
        "\n",
        "3.  정지: `.__next__()`함수를 호출할때 StopIteration Error가 나오면\n",
        "    for문을 멈춘다."
      ],
      "id": "818158cf-81cf-4332-8c86-51e7614404e3"
    },
    {
      "cell_type": "code",
      "execution_count": null,
      "metadata": {},
      "outputs": [],
      "source": [],
      "id": "4f5d88dc-88d2-442b-a4f3-152b7bd36157"
    },
    {
      "cell_type": "markdown",
      "metadata": {},
      "source": [
        "`-` 아래의 구조도 잘 돌아갈까?\n",
        "\n",
        "``` python\n",
        "for i in iterator:\n",
        "    print(i)\n",
        "```\n",
        "\n",
        "> iterator의 iter가 자기자신을 리턴하도록 하는 트릭을 쓰면\n",
        "> “1.이터레이터생성 2.$i$생성 및 반복 3.정지”의 동작원리를 수정하지 않고\n",
        "> for문을 안전하게 돌릴 수 있다."
      ],
      "id": "d4e27e77-edb2-4888-ab84-0935f9fb3c01"
    },
    {
      "cell_type": "code",
      "execution_count": null,
      "metadata": {},
      "outputs": [],
      "source": [],
      "id": "06c5b0bc-bbce-4529-9b5a-1e8ab43f7152"
    },
    {
      "cell_type": "markdown",
      "metadata": {},
      "source": [
        "`-` 요약\n",
        "\n",
        "-   iterable object는 숨겨진 기능으로 `__iter__`를 가진다.\n",
        "-   iterator는 숨겨진 기능으로 `__iter__`와 `__next__`를 가진다. 따라서\n",
        "    정의상 iterator는 그 자체로 iterable object가 된다!\n",
        "-   iterator의 `__iter__`는 자기자신을 리턴한다.\n",
        "\n",
        "`-` 의문2의 해결: for의 출력결과는 어떻게 예측할 수 있을까? iterator를\n",
        "만들어서 `.__next__()`의 출력값을 확인하면 알 수 있다."
      ],
      "id": "3f2999cf-3343-483b-a9ea-7044b1aba18b"
    },
    {
      "cell_type": "code",
      "execution_count": 81,
      "metadata": {},
      "outputs": [],
      "source": [
        "_df_itertor = iter(df)"
      ],
      "id": "36465038-7850-45bc-9d7d-298f8bbb3351"
    },
    {
      "cell_type": "code",
      "execution_count": 82,
      "metadata": {},
      "outputs": [],
      "source": [
        "next(_df_itertor)"
      ],
      "id": "30668b93-7494-4e85-b2cc-8b5e1c07f2e9"
    },
    {
      "cell_type": "code",
      "execution_count": 83,
      "metadata": {},
      "outputs": [],
      "source": [
        "next(_df_itertor)"
      ],
      "id": "c02e70ae-24f2-4697-bd50-1d3906b49df2"
    },
    {
      "cell_type": "code",
      "execution_count": 84,
      "metadata": {},
      "outputs": [],
      "source": [
        "next(_df_itertor)"
      ],
      "id": "6880e7ea-8e1a-4bc8-8e76-e184b34bad5f"
    },
    {
      "cell_type": "markdown",
      "metadata": {},
      "source": [
        "### ***사용자정의 이터레이터***\n",
        "\n",
        "`-` 내가 이터레이터를 만들어보자.\n",
        "\n",
        "`-` 찌를 내는 순간 for문이 멈추도록 하는 이터레이터를 만들자."
      ],
      "id": "57062ea1-56c3-44ca-8623-54dd40f42ce3"
    },
    {
      "cell_type": "code",
      "execution_count": 86,
      "metadata": {},
      "outputs": [],
      "source": [
        "class RPS_ITERATOR: # 찌를 내는순간 for문이 멈추도록 하는 이터레이터를 만들자\n",
        "    def __init__(self): \n",
        "        self.candidate = [\"묵\",\"찌\",\"빠\"] \n",
        "    def __iter__(self):\n",
        "        return self \n",
        "    def __next__(self):\n",
        "        action = np.random.choice(self.candidate)\n",
        "        if action == \"찌\":\n",
        "            print(\"찌가 나와서 for문을 멈춥니다\")\n",
        "            raise StopIteration\n",
        "        else:\n",
        "            return action"
      ],
      "id": "2f51c263-fad2-4f51-83fb-df8f8844687f"
    },
    {
      "cell_type": "code",
      "execution_count": 87,
      "metadata": {},
      "outputs": [],
      "source": [
        "a = RPS_ITERATOR()"
      ],
      "id": "3b046906-92a8-4bbd-ba39-75d4aee6be87"
    },
    {
      "cell_type": "code",
      "execution_count": 89,
      "metadata": {},
      "outputs": [],
      "source": [
        "a.__next__()"
      ],
      "id": "0356608f-a756-4a08-aa76-837bf05bbe1d"
    },
    {
      "cell_type": "code",
      "execution_count": 90,
      "metadata": {},
      "outputs": [],
      "source": [
        "a.__next__()"
      ],
      "id": "1b33cb7e-32ab-4bee-bb2f-ad4a8bbe702b"
    },
    {
      "cell_type": "code",
      "execution_count": 91,
      "metadata": {},
      "outputs": [],
      "source": [
        "a.__next__()"
      ],
      "id": "bec9cf1a-0c7e-425b-afb5-8a6768d7c845"
    },
    {
      "cell_type": "code",
      "execution_count": 92,
      "metadata": {},
      "outputs": [
        {
          "output_type": "stream",
          "name": "stdout",
          "text": [
            "찌가 나와서 for문을 멈춥니다"
          ]
        }
      ],
      "source": [
        "a.__next__()"
      ],
      "id": "6d32df3e-4d94-4d09-945c-d207d385e7ea"
    },
    {
      "cell_type": "code",
      "execution_count": 94,
      "metadata": {},
      "outputs": [
        {
          "output_type": "stream",
          "name": "stdout",
          "text": [
            "빠\n",
            "묵\n",
            "묵\n",
            "빠\n",
            "빠\n",
            "찌가 나와서 for문을 멈춥니다"
          ]
        }
      ],
      "source": [
        "for i in a:\n",
        "    print(i)"
      ],
      "id": "93d632ec-5416-44e8-8441-8863e7771c3b"
    },
    {
      "cell_type": "markdown",
      "metadata": {},
      "source": [
        "### ***range()***\n",
        "\n",
        "`-` 파이썬에서 for문을 처음 배울 때: range(5)를 써라!"
      ],
      "id": "4122b57e-6c63-4d94-8ca3-c634434cff16"
    },
    {
      "cell_type": "code",
      "execution_count": 95,
      "metadata": {},
      "outputs": [
        {
          "output_type": "stream",
          "name": "stdout",
          "text": [
            "0\n",
            "1\n",
            "2\n",
            "3\n",
            "4"
          ]
        }
      ],
      "source": [
        "for i in range(5):\n",
        "    print(i)"
      ],
      "id": "91bfd470-e70b-4fcb-a2c3-abea705292f0"
    },
    {
      "cell_type": "markdown",
      "metadata": {},
      "source": [
        "-   range(5)가 도데체 무엇이길래?\n",
        "\n",
        "`-` `range(5)`의 정체는 그냥 iterable object이다."
      ],
      "id": "44e63cd1-5712-4e3f-931d-ef9e4fb5b543"
    },
    {
      "cell_type": "code",
      "execution_count": 101,
      "metadata": {},
      "outputs": [],
      "source": [
        "set(dir(range(5))) & {'__iter__','__next__'}"
      ],
      "id": "aee229a8-0e90-47e2-8fb9-f8fd85946bec"
    },
    {
      "cell_type": "markdown",
      "metadata": {},
      "source": [
        "`-` 그래서 언제든지 iterator로 바꿀 수 있다."
      ],
      "id": "ba2b1d50-0f36-4b83-9022-19a102bacecd"
    },
    {
      "cell_type": "code",
      "execution_count": 102,
      "metadata": {},
      "outputs": [],
      "source": [
        "rtor= iter(range(5))\n",
        "rtor"
      ],
      "id": "d677e733-4e89-4ead-8a3c-e1077c87d40e"
    },
    {
      "cell_type": "code",
      "execution_count": 103,
      "metadata": {},
      "outputs": [],
      "source": [
        "set(dir(rtor)) &  {'__iter__','__next__'}"
      ],
      "id": "f37ac9f2-b5f6-4c4c-8bef-028479339141"
    },
    {
      "cell_type": "markdown",
      "metadata": {},
      "source": [
        "`-` for문에서 range(5)가 행동하는 방법?"
      ],
      "id": "d0a9d9a9-816e-440b-b216-2c6cd56e1e9d"
    },
    {
      "cell_type": "code",
      "execution_count": 104,
      "metadata": {},
      "outputs": [],
      "source": [
        "rtor = iter(range(5))"
      ],
      "id": "3053bffb-861a-4e68-8ad2-521454d9ffb5"
    },
    {
      "cell_type": "code",
      "execution_count": 105,
      "metadata": {},
      "outputs": [],
      "source": [
        "rtor.__next__()"
      ],
      "id": "6f1e13d8-c8d6-4f67-afaf-b5fa26256659"
    },
    {
      "cell_type": "code",
      "execution_count": 106,
      "metadata": {},
      "outputs": [],
      "source": [
        "rtor.__next__()"
      ],
      "id": "266c263f-39bc-4b29-a788-b3c71bc19c1a"
    },
    {
      "cell_type": "code",
      "execution_count": 107,
      "metadata": {},
      "outputs": [],
      "source": [
        "rtor.__next__()"
      ],
      "id": "f8c072f7-579c-4f27-9662-0fb9fc1f6826"
    },
    {
      "cell_type": "code",
      "execution_count": 108,
      "metadata": {},
      "outputs": [],
      "source": [
        "rtor.__next__()"
      ],
      "id": "f9fb7229-8628-4e01-91f7-edff221a7e96"
    },
    {
      "cell_type": "code",
      "execution_count": 109,
      "metadata": {},
      "outputs": [],
      "source": [
        "rtor.__next__()"
      ],
      "id": "18ffad6d-7345-4988-94c4-db498e140c1e"
    },
    {
      "cell_type": "code",
      "execution_count": 110,
      "metadata": {},
      "outputs": [],
      "source": [
        "rtor.__next__()"
      ],
      "id": "f4c0bdec-1e2d-44aa-a645-c9fe45a48a67"
    },
    {
      "cell_type": "markdown",
      "metadata": {},
      "source": [
        "### ***zip***\n",
        "\n",
        "`-` 이터레이터의 개념을 알면 for문에 대한 이해도가 대폭 상승한다."
      ],
      "id": "5988f3bd-9db5-4355-94ee-1f9553947707"
    },
    {
      "cell_type": "code",
      "execution_count": 114,
      "metadata": {},
      "outputs": [
        {
          "output_type": "stream",
          "name": "stdout",
          "text": [
            "1 a\n",
            "2 b\n",
            "3 c"
          ]
        }
      ],
      "source": [
        "for i,j in zip([1,2,3],'abc'):\n",
        "    print(i,j)"
      ],
      "id": "9b639b6b-149c-4e29-88d8-fa224201f310"
    },
    {
      "cell_type": "markdown",
      "metadata": {},
      "source": [
        "-   zip은 뭐지?"
      ],
      "id": "1f86dff8-fce7-4f79-beea-fffabc9053bb"
    },
    {
      "cell_type": "code",
      "execution_count": 115,
      "metadata": {},
      "outputs": [],
      "source": [
        "zip([1,2,3],'abc')"
      ],
      "id": "4f338722-e742-40fa-b109-99bdfe69c7a8"
    },
    {
      "cell_type": "markdown",
      "metadata": {},
      "source": [
        "`-` 어차피 `for i in ????`: 의 ???? 자리는 iterable object의 자리이다."
      ],
      "id": "e51cbf74-3cda-4dde-adcb-d4fcb117a04b"
    },
    {
      "cell_type": "code",
      "execution_count": 116,
      "metadata": {},
      "outputs": [],
      "source": [
        "set(dir(zip([1,2,3],'abc'))) & {'__iter__','__next__'}"
      ],
      "id": "535e9f82-4120-449e-be3f-05eb46593b8e"
    },
    {
      "cell_type": "markdown",
      "metadata": {},
      "source": [
        "-   `__next__()`함수가 있음 $\\to$ `zip([1,2,3],'abc')`은 그자체로\n",
        "    iterator 였다!"
      ],
      "id": "28481771-9d16-4a0b-834b-e55f3489344b"
    },
    {
      "cell_type": "code",
      "execution_count": 117,
      "metadata": {},
      "outputs": [],
      "source": [
        "z= zip([1,2,3],'abc')"
      ],
      "id": "a9e36aa7-b5a1-41c6-b6de-d4eda6f7f6bd"
    },
    {
      "cell_type": "code",
      "execution_count": 118,
      "metadata": {},
      "outputs": [],
      "source": [
        "z.__next__()"
      ],
      "id": "09473d01-67ed-4121-9b8f-457b858e462c"
    },
    {
      "cell_type": "code",
      "execution_count": 119,
      "metadata": {},
      "outputs": [],
      "source": [
        "z.__next__()"
      ],
      "id": "da12e92b-1643-44c8-8371-a8a9163ca0ae"
    },
    {
      "cell_type": "code",
      "execution_count": 120,
      "metadata": {},
      "outputs": [],
      "source": [
        "z.__next__()"
      ],
      "id": "067399f3-3017-4dc8-af9a-50d3b93b4f2e"
    },
    {
      "cell_type": "code",
      "execution_count": 121,
      "metadata": {},
      "outputs": [],
      "source": [
        "z.__next__()"
      ],
      "id": "8ddb2fcb-d6c1-4c92-b8d8-1f8a469578f2"
    },
    {
      "cell_type": "markdown",
      "metadata": {},
      "source": [
        "***또다른 이해: 그러고보니까 `zip([1,2,3],'abc')`은 뭐하는 문법이지?***"
      ],
      "id": "ffd458d3-79b6-402e-a697-8b7821a0594a"
    },
    {
      "cell_type": "code",
      "execution_count": 489,
      "metadata": {},
      "outputs": [],
      "source": [
        "zip?"
      ],
      "id": "7f4b88f6-e8c4-4e6d-9306-1da2f4a6a83d"
    },
    {
      "cell_type": "markdown",
      "metadata": {},
      "source": [
        "-   너 클래스였어?"
      ],
      "id": "59d173f8-e495-418f-ac08-ee108545fc35"
    },
    {
      "cell_type": "code",
      "execution_count": 124,
      "metadata": {},
      "outputs": [],
      "source": [
        "iterator_from_zip = zip.__call__([1,2,3],'abc')"
      ],
      "id": "f3300349-d57e-4d33-8787-fb2e10e1d9a6"
    },
    {
      "cell_type": "code",
      "execution_count": 125,
      "metadata": {},
      "outputs": [
        {
          "output_type": "stream",
          "name": "stdout",
          "text": [
            "1 a\n",
            "2 b\n",
            "3 c"
          ]
        }
      ],
      "source": [
        "for i,j in iterator_from_zip:\n",
        "    print(i,j)"
      ],
      "id": "fafceb95-b673-4cb8-a862-540b585f910a"
    },
    {
      "cell_type": "markdown",
      "metadata": {},
      "source": [
        "> 파이썬의 작은 비밀: zip은 iterator를 찍어내는 클래스이다.\n",
        "\n",
        "### ***enumerate***\n",
        "\n",
        "`-` zip의 짝궁으로 enumerate가 있음"
      ],
      "id": "76231caa-5f5e-413d-ae9f-9d8fe45cfb11"
    },
    {
      "cell_type": "code",
      "execution_count": 129,
      "metadata": {},
      "outputs": [
        {
          "output_type": "stream",
          "name": "stdout",
          "text": [
            "0 a\n",
            "1 b\n",
            "2 c"
          ]
        }
      ],
      "source": [
        "for i,s in enumerate('abc'):\n",
        "    print(i,s)"
      ],
      "id": "dd0a4471-a643-457e-b24d-4c65b454b114"
    },
    {
      "cell_type": "markdown",
      "metadata": {},
      "source": [
        "`-` `enumerate('abc')`도 문법상 iterable object 아니면 iterator 임."
      ],
      "id": "13348d8a-8631-479d-b155-2244b505672a"
    },
    {
      "cell_type": "code",
      "execution_count": 130,
      "metadata": {},
      "outputs": [],
      "source": [
        "set(dir(enumerate('abc'))) & {'__iter__', '__next__'}"
      ],
      "id": "3f37cf2b-31bc-4732-88ec-00c0712b227a"
    },
    {
      "cell_type": "markdown",
      "metadata": {},
      "source": [
        "-   iterator 였군"
      ],
      "id": "b7eb58b7-5029-441c-bc5e-557107c94b64"
    },
    {
      "cell_type": "code",
      "execution_count": 131,
      "metadata": {},
      "outputs": [],
      "source": [
        "iterator = enumerate('abc')"
      ],
      "id": "7a0aecad-2e5b-497f-bc50-3865f3764257"
    },
    {
      "cell_type": "code",
      "execution_count": 132,
      "metadata": {},
      "outputs": [],
      "source": [
        "next(iterator)"
      ],
      "id": "7fde70d4-2157-479f-a5bd-9275945b4218"
    },
    {
      "cell_type": "code",
      "execution_count": 133,
      "metadata": {},
      "outputs": [],
      "source": [
        "next(iterator)"
      ],
      "id": "8963f8bc-8836-4eaf-a219-1ce09ecdaeb4"
    },
    {
      "cell_type": "code",
      "execution_count": 134,
      "metadata": {},
      "outputs": [],
      "source": [
        "next(iterator)"
      ],
      "id": "615973c0-1882-47bb-ad1a-2d367fe5a404"
    },
    {
      "cell_type": "code",
      "execution_count": 135,
      "metadata": {},
      "outputs": [],
      "source": [
        "next(iterator)"
      ],
      "id": "8678ca9b-9d77-4434-8e41-2084dd597c95"
    },
    {
      "cell_type": "markdown",
      "metadata": {},
      "source": [
        "`-` 참고: enumerate 는 클래스임"
      ],
      "id": "df2e2052-9b3f-4494-bce3-d0f670baec56"
    },
    {
      "cell_type": "code",
      "execution_count": 136,
      "metadata": {},
      "outputs": [],
      "source": [
        "enumerate?"
      ],
      "id": "0df4d6ff-6bbc-42d4-8f45-f013e6a831b7"
    },
    {
      "cell_type": "markdown",
      "metadata": {},
      "source": [
        "> 파이썬의 작은 비밀: enumerate 역시 iterator를 찍어내는 클래스다.\n",
        "\n",
        "> 파이썬의 비밀12: iterator나 iterable object만 for문과 함께 사용할 수\n",
        "> 있다.\n",
        "\n",
        "## 비밀을 알아서 좋은점\n",
        "\n",
        "### ***파이썬의 에러메시지 이해***\n",
        "\n",
        "`TypeError`: 타입이 맞지 않는 연산을 수행하려고 할 때 발생. 예를 들어,\n",
        "숫자와 문자열을 더하려고 할 때 발생."
      ],
      "id": "b095cddf-833a-43d5-b152-eeac4de3b827"
    },
    {
      "cell_type": "code",
      "execution_count": 25,
      "metadata": {},
      "outputs": [],
      "source": [
        "result = 10 + \"20\"  # TypeError: unsupported operand type(s) for +: 'int' and 'str'"
      ],
      "id": "381349be-dd27-42e0-88de-115ab7bfe2c2"
    },
    {
      "cell_type": "markdown",
      "metadata": {},
      "source": [
        "`SyntaxError`: 코드의 구문이 잘못되었을 때 발생. 주로 오타, 괄호 불일치,\n",
        "콜론(:) 빠뜨림 등의 문제로 인해 발생."
      ],
      "id": "34a7461f-04f0-4644-b185-a344780030e4"
    },
    {
      "cell_type": "code",
      "execution_count": 23,
      "metadata": {},
      "outputs": [],
      "source": [
        "if x == 5\n",
        "    print(\"x is equal to 5\")  # SyntaxError: invalid syntax"
      ],
      "id": "1c3866b8-1eed-443b-8db9-513cabe8177e"
    },
    {
      "cell_type": "markdown",
      "metadata": {},
      "source": [
        "`NameError`: 정의되지 않은 변수나 함수를 사용하려고 할 때 발생."
      ],
      "id": "4e4a1291-4226-430d-8ed3-14985ea8e540"
    },
    {
      "cell_type": "code",
      "execution_count": 24,
      "metadata": {},
      "outputs": [],
      "source": [
        "print(unknown_variable)  # NameError: name 'unknown_variable' is not defined"
      ],
      "id": "09d96f74-5c42-490c-9c38-20c9c587eee1"
    },
    {
      "cell_type": "markdown",
      "metadata": {},
      "source": [
        "`ValueError`: 함수나 메서드에 전달되는 인자의 값이 올바르지 않을 때\n",
        "발생."
      ],
      "id": "7749ee60-42c2-4075-9b3c-6e381bf835dd"
    },
    {
      "cell_type": "code",
      "execution_count": 31,
      "metadata": {},
      "outputs": [],
      "source": [
        "int_value = int(\"abc\")  # ValueError: invalid literal for int() with base 10: 'abc'"
      ],
      "id": "6a7636ea-5b3e-4947-b4b1-3d538ac5f73b"
    },
    {
      "cell_type": "markdown",
      "metadata": {},
      "source": [
        "`AttributeError`: 객체가 속성(attribute)이나 메서드(method)를 가지고\n",
        "있지 않을 때 발생"
      ],
      "id": "1ca2cc6e-905b-4740-a052-a16dbf114799"
    },
    {
      "cell_type": "code",
      "execution_count": 32,
      "metadata": {},
      "outputs": [],
      "source": [
        "my_list = [1, 2, 3]\n",
        "my_list.append(4)\n",
        "my_list.upper()  # AttributeError: 'list' object has no attribute 'upper'"
      ],
      "id": "a518b251-f7b6-4482-80bc-e7e00175d731"
    },
    {
      "cell_type": "markdown",
      "metadata": {},
      "source": [
        "`ImportError`: 모듈을 임포트하는 과정에서 문제가 발생할 때 발생.\n",
        "임포트하려는 모듈이 존재하지 않거나, 임포트 경로 설정이 잘못된 경우에\n",
        "해당."
      ],
      "id": "cd1c1637-2df1-4398-aa0e-a209b35a3c9f"
    },
    {
      "cell_type": "code",
      "execution_count": 33,
      "metadata": {},
      "outputs": [],
      "source": [
        "import non_existent_module  # ImportError: No module named 'non_existent_module'"
      ],
      "id": "26d3f7d9-5848-446d-b21d-0899ba8ae378"
    },
    {
      "cell_type": "markdown",
      "metadata": {},
      "source": [
        "`IOError`: 파일 입출력 작업 중에 발생하는 에러. 파일이 존재하지 않거나,\n",
        "파일에 쓰기 권한이 없는 경우 등에 해당."
      ],
      "id": "954f5bac-c2b0-490b-8ed8-6931703d11ee"
    },
    {
      "cell_type": "code",
      "execution_count": 34,
      "metadata": {},
      "outputs": [],
      "source": [
        "file = open('file.txt', 'r')  # IOError: [Errno 2] No such file or directory: 'file.txt'"
      ],
      "id": "50ea1825-86e9-44e8-9167-003735a2b3e2"
    },
    {
      "cell_type": "markdown",
      "metadata": {},
      "source": [
        "`KeyboardInterrupt`: 사용자가 프로그램의 실행을 중단할 때 발생."
      ],
      "id": "5a18fce1-31e2-4609-92bf-98b7b331c2d5"
    },
    {
      "cell_type": "code",
      "execution_count": 137,
      "metadata": {},
      "outputs": [],
      "source": [
        "while True:\n",
        "    pass  # 무한 루프\n",
        "# KeyboardInterrupt: \n"
      ],
      "id": "e66466d3-cbfe-4b25-81db-b38f66026423"
    },
    {
      "cell_type": "markdown",
      "metadata": {},
      "source": [
        "`IndexError`: 유효하지 않은 인덱스를 사용하여 시퀀스(리스트, 튜플,\n",
        "문자열 등)의 요소에 접근하려고 할 때 발생."
      ],
      "id": "2dcbdd45-f05a-415b-9829-d0c66e4323aa"
    },
    {
      "cell_type": "code",
      "execution_count": 27,
      "metadata": {},
      "outputs": [],
      "source": [
        "my_list = [1, 2, 3]\n",
        "print(my_list[5])  # IndexError: list index out of range"
      ],
      "id": "2e5de641-9383-44f6-ab8f-9c0c96a166aa"
    },
    {
      "cell_type": "markdown",
      "metadata": {},
      "source": [
        "`KeyError`: 딕셔너리에서 존재하지 않는 키를 사용하여 요소에 접근하려고\n",
        "할 때 발생."
      ],
      "id": "e6218f3c-1c5c-4e18-ab85-fab10fe6da1c"
    },
    {
      "cell_type": "code",
      "execution_count": 28,
      "metadata": {},
      "outputs": [],
      "source": [
        "my_dict = {'name': 'John', 'age': 25}\n",
        "print(my_dict['address'])  # KeyError: 'address'"
      ],
      "id": "be04a2fc-ef62-4b60-85ea-ab4062f28ffa"
    },
    {
      "cell_type": "markdown",
      "metadata": {},
      "source": [
        "`FileNotFoundError`: 존재하지 않는 파일을 열려고 할 때 발생."
      ],
      "id": "9427a2ee-0d7f-4395-aae7-fd9e19a0ac66"
    },
    {
      "cell_type": "code",
      "execution_count": 29,
      "metadata": {},
      "outputs": [],
      "source": [
        "file = open('nonexistent_file.txt')  # FileNotFoundError: [Errno 2] No such file or directory: 'nonexistent_file.txt'"
      ],
      "id": "efda775f-2532-4bd9-8539-7e93d0a1fd42"
    },
    {
      "cell_type": "markdown",
      "metadata": {},
      "source": [
        "`ZeroDivisionError`: 0으로 나누기 연산을 수행하려고 할 때 발생."
      ],
      "id": "cc86c58e-8408-4130-97fe-1edca3f8cd49"
    },
    {
      "cell_type": "code",
      "execution_count": 30,
      "metadata": {},
      "outputs": [],
      "source": [
        "result = 10 / 0  # ZeroDivisionError: division by zero"
      ],
      "id": "bfb2b66c-ced4-4b84-b688-62e8770389f0"
    },
    {
      "cell_type": "markdown",
      "metadata": {},
      "source": [
        "### ***`TypeError`에 대한 심층분석***\n",
        "\n",
        "`-` `.__add__` 가 올바르게 정의되지 않아서 생기는 경우\n",
        "\n",
        "    ---------------------------------------------------------------------------\n",
        "    TypeError                                 Traceback (most recent call last)\n",
        "    Cell In[37], line 1\n",
        "    ----> 1 boram + '등록'+ '휴학' + '등록' + '휴학'\n",
        "\n",
        "    TypeError: unsupported operand type(s) for +: 'NoneType' and 'str'\n",
        "\n",
        "`-` `.__getitem__`이 정의되지 않은 오브젝트에서 인덱싱을 시도할때 생기는\n",
        "오류\n",
        "\n",
        "    ---------------------------------------------------------------------------\n",
        "    TypeError                                 Traceback (most recent call last)\n",
        "    Cell In[57], line 1\n",
        "    ----> 1 a[0], a[1]\n",
        "\n",
        "    TypeError: 'RPS' object is not subscriptable\n",
        "\n",
        "`-` `.__setitem__`이 정의되지 않은 오브젝트에서 할당을 시도할때 생기는\n",
        "오류\n",
        "\n",
        "    ---------------------------------------------------------------------------\n",
        "    TypeError                                 Traceback (most recent call last)\n",
        "    Cell In[77], line 1\n",
        "    ----> 1 a[0] = '보' \n",
        "\n",
        "    TypeError: 'RPS_Ver2' object does not support item assignment\n",
        "\n",
        "`-` `.__len__` 이 정의되지 않은 오브젝트에서 len을 이용할때 생기는 오류\n",
        "\n",
        "    ---------------------------------------------------------------------------\n",
        "    TypeError                                 Traceback (most recent call last)\n",
        "    Cell In[122], line 1\n",
        "    ----> 1 len(a)\n",
        "\n",
        "    TypeError: object of type 'RPS_Ver3' has no len()\n",
        "\n",
        "`-` `.__call__`이 정의되지 않은 오브젝트를 함수처럼 이용하려 할때 생기는\n",
        "오류\n",
        "\n",
        "    ---------------------------------------------------------------------------\n",
        "    TypeError                                 Traceback (most recent call last)\n",
        "    Cell In[402], line 1\n",
        "    ----> 1 a()\n",
        "\n",
        "    TypeError: 'Klass' object is not callable\n",
        "\n",
        "`-` `.__iter__`가 정의되지 않은 오브젝트를 iterable 오브젝트처럼\n",
        "사용하려 할때 생기는 오류\n",
        "\n",
        "    ---------------------------------------------------------------------------\n",
        "    TypeError                                 Traceback (most recent call last)\n",
        "    Cell In[422], line 2\n",
        "          1 a=5 \n",
        "    ----> 2 for i in a:\n",
        "          3     print(i) \n",
        "\n",
        "    TypeError: 'int' object is not iterable\n",
        "\n",
        "# 숙제\n",
        "\n",
        "`(1)` 아래의 코드를 관찰하라."
      ],
      "id": "94329020-d317-4a99-a7ab-23f4daa767f6"
    },
    {
      "cell_type": "code",
      "execution_count": 459,
      "metadata": {},
      "outputs": [],
      "source": [
        "iterator = enumerate('abcf',1)"
      ],
      "id": "11bf8ab9-54ff-4b0c-acdd-0ed84d6646bf"
    },
    {
      "cell_type": "code",
      "execution_count": 460,
      "metadata": {},
      "outputs": [],
      "source": [
        "next(iterator)"
      ],
      "id": "63f0be42-b892-4a5b-b4de-9ae5d4202f43"
    },
    {
      "cell_type": "code",
      "execution_count": 461,
      "metadata": {},
      "outputs": [],
      "source": [
        "next(iterator)"
      ],
      "id": "a8e2aee0-8082-404f-a1a6-04778870f13e"
    },
    {
      "cell_type": "code",
      "execution_count": 462,
      "metadata": {},
      "outputs": [],
      "source": [
        "next(iterator)"
      ],
      "id": "96e2098d-7e9e-4789-931d-fae161da893b"
    },
    {
      "cell_type": "code",
      "execution_count": 463,
      "metadata": {},
      "outputs": [],
      "source": [
        "next(iterator)"
      ],
      "id": "f50f96a3-bf32-4276-aa2f-b84fe221813a"
    },
    {
      "cell_type": "code",
      "execution_count": 464,
      "metadata": {},
      "outputs": [],
      "source": [
        "next(iterator)"
      ],
      "id": "c6e65bb7-0b0b-411a-a358-e86c11d7e187"
    },
    {
      "cell_type": "markdown",
      "metadata": {},
      "source": [
        "이를 바탕으로 `enumerate('abcf',1)`의 기능을 유추해볼 것.\n",
        "\n",
        "`(2)` enumrate를 이용하여 아래의 코드를 개선하여라."
      ],
      "id": "afd2678a-453c-412d-9415-0164cbdd2bcf"
    },
    {
      "cell_type": "code",
      "execution_count": 465,
      "metadata": {},
      "outputs": [
        {
          "output_type": "stream",
          "name": "stdout",
          "text": [
            "1: 아이언맨\n",
            "2: 토르\n",
            "3: 헐크\n",
            "4: 블랙위도우\n",
            "5: 로키"
          ]
        }
      ],
      "source": [
        "lst = ['아이언맨','토르','헐크','블랙위도우','로키']\n",
        "for i in range(len(lst)):\n",
        "    print('{}: {}'.format(i+1,lst[i]))"
      ],
      "id": "d8b56f1d-9872-4719-9a80-d6da5903ce42"
    },
    {
      "cell_type": "markdown",
      "metadata": {},
      "source": [
        "`(3)` 앞면과 뒷면이 나올 확률이 각각 1/2인 동전을 생각하자. 하니와\n",
        "규빈은 이 동전을 연속으로 던져서 아래와 같은 룰을 정하여 내기를 하였다.\n",
        "\n",
        "-   동전을 연속으로 반복하여 던진다. 최근 2회의 결과가 (앞면,앞면) 이\n",
        "    나오면 하니의 승리\n",
        "-   동전을 연속으로 반복하여 던진다. 최근 2회의 결과가 (뒷면,뒷면) 이\n",
        "    나오면 규빈의 승리\n",
        "\n",
        "예를들어 동전을 반복하여 던져 아래와 같이 나온다면 하니의 승리이다.\n",
        "\n",
        "-   (앞면, 뒷면, 앞면, 뒷면, 앞면, 앞면)\n",
        "-   (앞면, 뒷면, 앞면, 앞면)\n",
        "\n",
        "동전을 반복하여 던져 아래와 같이 나온다면 규빈의 승리이다.\n",
        "\n",
        "-   (앞면, 뒷면, 앞면, 뒷면, 뒷면)\n",
        "-   (뒷면, 앞면, 뒷면, 뒷면)\n",
        "\n",
        "이 내기는 하니가 유리한가? 규빈이 유리한가? 시뮬레이션을 통해 검증하라.\n",
        "\n",
        "> **Note**\n",
        ">\n",
        "> **hint**: 당연히 5:5겠죠?\n",
        "\n",
        "`(4)` 앞면과 뒷면이 나올 확률이 각각 1/2인 동전을 생각하자. 하니와\n",
        "규빈은 이 동전을 연속으로 던져서 아래와 같은 룰을 정하여 내기를 하였다.\n",
        "\n",
        "-   동전을 연속으로 반복하여 던진다. 최근 2회의 결과가 (뒷면,앞면) 이\n",
        "    나오면 하니의 승리\n",
        "-   동전을 연속으로 반복하여 던진다. 최근 2회의 결과가 (뒷면,뒷면) 이\n",
        "    나오면 규빈의 승리\n",
        "\n",
        "이 내기는 하니가 유리한가? 규빈이 유리한가? 시뮬레이션을 통해 검증하라.\n",
        "\n",
        "> **Note**\n",
        ">\n",
        "> **hint**: 이 경우도 똑같이 유리합니다.\n",
        "\n",
        "`(5)` 앞면과 뒷면이 나올 확률이 각각 1/2인 동전을 생각하자. 하니와\n",
        "규빈은 이 동전을 연속으로 던져서 아래와 같은 룰을 정하여 내기를 하였다.\n",
        "\n",
        "-   동전을 연속으로 반복하여 던진다. 최근 2회의 결과가 (앞면,뒷면) 이\n",
        "    나오면 하니의 승리\n",
        "-   동전을 연속으로 반복하여 던진다. 최근 2회의 결과가 (뒷면,뒷면) 이\n",
        "    나오면 규빈의 승리\n",
        "\n",
        "이 내기는 하니가 유리한가? 규빈이 유리한가? 시뮬레이션을 통해 검증하라.\n",
        "\n",
        "> **Note**\n",
        ">\n",
        "> **hint**: 이 내기는 하니가 유리합니다. 저는 1000회 시뮬레이션 결과\n",
        ">\n",
        ">     {'하니': 761, '규빈': 239} ## 하니가 761번 승리\n",
        ">\n",
        "> 와 같이 결과가 나왔습니다. 왜 하니가 유리한지 스스로 고민해보시기\n",
        "> 바랍니다. (질문해도 되고요)"
      ],
      "id": "fd76cf09-9aaa-451c-9790-16d29eac1567"
    }
  ],
  "nbformat": 4,
  "nbformat_minor": 5,
  "metadata": {
    "kernelspec": {
      "name": "python3",
      "display_name": "Python 3",
      "language": "python"
    },
    "language_info": {
      "name": "python",
      "codemirror_mode": {
        "name": "ipython",
        "version": "3"
      },
      "file_extension": ".py",
      "mimetype": "text/x-python",
      "nbconvert_exporter": "python",
      "pygments_lexer": "ipython3",
      "version": "3.8.16"
    }
  }
}