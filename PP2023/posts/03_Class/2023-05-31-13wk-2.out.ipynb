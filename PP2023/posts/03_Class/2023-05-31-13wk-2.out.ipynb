{
  "cells": [
    {
      "cell_type": "markdown",
      "metadata": {},
      "source": [
        "# 13wk-2: 클래스공부 4단계 – 파이썬의 비밀 (1)\n",
        "\n",
        "최규빈  \n",
        "2023-05-31\n",
        "\n",
        "<a href=\"https://colab.research.google.com/github/guebin/PP2023/blob/main/posts/03_Class/2023-05-31-13wk-2.ipynb\"><img src=\"https://colab.research.google.com/assets/colab-badge.svg\" style=\"text-align: left\"></a>\n",
        "\n",
        "# 강의영상\n",
        "\n",
        "> youtube:\n",
        "> <https://youtube.com/playlist?list=PLQqh36zP38-wvGt0tmUiESB7Fm-eA7VYx>\n",
        "\n",
        "# import"
      ],
      "id": "de69085a-bef0-4341-a75a-d399e8b8fe9f"
    },
    {
      "cell_type": "code",
      "execution_count": 156,
      "metadata": {},
      "outputs": [],
      "source": [
        "from IPython.core.display import HTML\n",
        "import numpy as np\n",
        "import pandas as pd"
      ],
      "id": "b8b4b0dc-a34f-416e-90e9-09e6eaa80816"
    },
    {
      "cell_type": "markdown",
      "metadata": {},
      "source": [
        "# 클래스공부 4단계: 파이썬의 비밀\n",
        "\n",
        "## 비밀1: 자료형에 대한 비밀\n",
        "\n",
        "***탐구***: 인스턴스의 자료형이 뭔지 탐구해보자!\n",
        "\n",
        "`-` 아래의 클래스를 선언해보자."
      ],
      "id": "56169b45-226f-4777-814b-c62077004d6b"
    },
    {
      "cell_type": "code",
      "execution_count": 25,
      "metadata": {},
      "outputs": [],
      "source": [
        "class JungKKuckMa:\n",
        "    def __init__(self):\n",
        "        self.title = '파이썬 프로그래밍 중간고사 패배는 괜찮다.'\n",
        "        self.imgurl = 'https://github.com/guebin/PP2023/blob/main/posts/03_Class/PP2023mid.jpg?raw=true?'\n",
        "        self.ques = \"Q: 파이썬 프로그래밍 기말고사, 어떤 점에 유의해야 할까?\"\n",
        "        self.ans = \"A: 최규빈 교수 문제 스타일에 대해서 더 분석할 건 없는 것 같고, 내가 내 코드를 잘 구현하는 게 제일 중요한 것 같고 중간고사는 망하긴 했지만 제 스스로 안 무너지면 충분히 기말고사는 잘 볼 수 있을 것 같아요.\"\n",
        "        self.highlight = '마음'\n",
        "        self.html_str =\\\n",
        "        '''\n",
        "        <style>\n",
        "            .title {{\n",
        "                font-family: \"Times New Roman\", serif;\n",
        "                font-size: 30px;\n",
        "                font-weight: 900;\n",
        "            }}\n",
        "            .text {{\n",
        "                font-family: \"Arial\", sans-serif;\n",
        "                font-size: 20px;\n",
        "                font-style: italic;\n",
        "            }}\n",
        "            .highlight {{\n",
        "                font-family: \"Montserrat\", monospace;\n",
        "                font-size: 35px;\n",
        "                font-weight: 900;\n",
        "                text-decoration: underline;\n",
        "                font-style: normal;\n",
        "                color: darkblue;\n",
        "                background-color: #FFFF00;\n",
        "            }}\n",
        "        </style>\n",
        "        <p class=\"title\">{ttl}</p>\n",
        "        <img src={url} width=\"600\">\n",
        "        <p> \\n </p>\n",
        "        <p class=\"text\">{Q}</p>\n",
        "        <p class=\"text\">{A}</p>\n",
        "        <p class=\"title\">중요한 것은 꺾이지 않는 <span class=\"highlight\">{hl}</span></p>\n",
        "        '''    \n",
        "    def show(self):\n",
        "        _str = self.html_str.format(\n",
        "            ttl = self.title,\n",
        "            url = self.imgurl,\n",
        "            Q = self.ques,\n",
        "            A = self.ans,\n",
        "            hl = self.highlight\n",
        "        )\n",
        "        display(HTML(_str)) "
      ],
      "id": "96db4ae3-9c16-4058-8528-94aff85bac9a"
    },
    {
      "cell_type": "markdown",
      "metadata": {},
      "source": [
        "`-` 인스턴스를 생성해보자."
      ],
      "id": "8c700c2d-2018-46e9-9b90-6077f15db7a0"
    },
    {
      "cell_type": "code",
      "execution_count": 26,
      "metadata": {},
      "outputs": [],
      "source": [
        "pp2023 = JungKKuckMa()"
      ],
      "id": "95c6eb43-c285-4e28-9145-9db67452d1a9"
    },
    {
      "cell_type": "code",
      "execution_count": 27,
      "metadata": {},
      "outputs": [],
      "source": [
        "pp2023.show()"
      ],
      "id": "7156cc2f-82f7-45f3-95ca-d50b9470bfe7"
    },
    {
      "cell_type": "markdown",
      "metadata": {},
      "source": [
        "`-` 타입을 알아보자."
      ],
      "id": "c7dc62e8-3236-4adb-89ba-638b08e47b29"
    },
    {
      "cell_type": "code",
      "execution_count": 29,
      "metadata": {},
      "outputs": [],
      "source": [
        "pp2023?"
      ],
      "id": "2e0a1da3-ed6b-4df3-955a-2cf5b4f25df7"
    },
    {
      "cell_type": "markdown",
      "metadata": {},
      "source": [
        "`-` ??? 타입은 자료형, 즉 `int`, `float`, `list` 이런것 아니었나??"
      ],
      "id": "d6686b56-a2f1-4072-a9fa-b0ec79434be7"
    },
    {
      "cell_type": "code",
      "execution_count": 30,
      "metadata": {},
      "outputs": [],
      "source": [
        "a=[1,2,3]\n",
        "a?"
      ],
      "id": "d0e46e5d-eaba-4fb0-9219-1b4f3fb6aaff"
    },
    {
      "cell_type": "markdown",
      "metadata": {},
      "source": [
        "`-` 그런데 지금 pp2023의 자료형은 JungKKuckMa 이다.\n",
        "\n",
        "-   가설1: 사실 파이썬 내부에 JungKKuckMa 이라는 자료형이 있었다. 그런데\n",
        "    내가 만든 pp2023 이라는 인스턴스는 우연히 그 자료형을 따르는 것!\n",
        "    (이건 너무 억지스럽다)\n",
        "-   가설2: 사실 “인스턴스의 자료형 = 인스턴스를 찍어낸 클래스 이름”\n",
        "    이다. 따라서 pp2023의 자료형이 JungKKuckMa 가 된다. 그렇다면\n",
        "    자료형이 list인것은 사실 list라는 클래스에서 생긴 인스턴스라고\n",
        "    유추할 수 있다 -\\> 리스트자료형을 찍어낼 수 있는 어떠한 클래스가\n",
        "    파이썬에 내부적으로 존재할 것이다. (이게 맞는것 같다)\n",
        "\n",
        "***깨달음1***\n",
        "\n",
        "`-` 가설2가 맞다? 그렇다면 아래는 모두 어딘가에서 찍혀진 인스턴스이다."
      ],
      "id": "b9851b13-69f9-48fd-93ad-43ee40b84168"
    },
    {
      "cell_type": "code",
      "execution_count": 59,
      "metadata": {},
      "outputs": [],
      "source": [
        "a=[1,2,3]\n",
        "a?"
      ],
      "id": "a6e20fae-d914-4212-9191-a411193095ba"
    },
    {
      "cell_type": "code",
      "execution_count": 60,
      "metadata": {},
      "outputs": [],
      "source": [
        "a=1,2,3\n",
        "a?"
      ],
      "id": "eec41f45-d49f-47ce-8aee-1756a0b3a185"
    },
    {
      "cell_type": "code",
      "execution_count": 61,
      "metadata": {},
      "outputs": [],
      "source": [
        "a=1\n",
        "a?"
      ],
      "id": "ca675f64-5baa-42e1-9afb-655397824b84"
    },
    {
      "cell_type": "code",
      "execution_count": 62,
      "metadata": {},
      "outputs": [],
      "source": [
        "a='1'\n",
        "a?"
      ],
      "id": "61f491c7-89cf-4430-bd5e-ee7fd2407ee9"
    },
    {
      "cell_type": "markdown",
      "metadata": {},
      "source": [
        "`-` 그리고 위의 `a=[1,2,3]`과 같은 것들은 모두 “클래스-\\>인스턴스”에\n",
        "해당하는 과정이었음\n",
        "\n",
        "***깨달음2***\n",
        "\n",
        "`-` 생각해보니까 아래와 같이 list를 선언하는 방식도 있었음"
      ],
      "id": "0e6c9771-d162-4ae1-8312-ea9aa39fa717"
    },
    {
      "cell_type": "code",
      "execution_count": 63,
      "metadata": {},
      "outputs": [],
      "source": [
        "a=list()\n",
        "a"
      ],
      "id": "2ed70046-7a1e-42b2-ba39-874ccb4265fe"
    },
    {
      "cell_type": "markdown",
      "metadata": {},
      "source": [
        "-   이거 지금 생각하니까 list라는 이름의 클래스에서 a라는 인스턴스를\n",
        "    찍어내는 문법이다?!\n",
        "\n",
        "`-` 아래도 가능함"
      ],
      "id": "ffc6b551-faa4-4ac2-a22a-e37cfde0df1d"
    },
    {
      "cell_type": "code",
      "execution_count": 70,
      "metadata": {},
      "outputs": [],
      "source": [
        "a=list((1,2,3))\n",
        "a?"
      ],
      "id": "1891ce6b-aaeb-4fea-9e4b-5ac09c54619e"
    },
    {
      "cell_type": "markdown",
      "metadata": {},
      "source": [
        "-   이것도 지금 보니까 list라는 이름의 클래스에서 a라는 인스턴스를\n",
        "    찍어내는 문법이다. 여기에서 (1,2,3)은 `__init__()`의 입력이다.\n",
        "\n",
        "***깨달음3***\n",
        "\n",
        "`-` 그러고보니까 각 자료형마다 특수한 기능들이 있었음"
      ],
      "id": "b43248eb-03a8-4841-9c20-d8017f33b40d"
    },
    {
      "cell_type": "code",
      "execution_count": 74,
      "metadata": {},
      "outputs": [],
      "source": [
        "a=[1,2,3] "
      ],
      "id": "9adb4e56-f49a-4811-96c3-37a29a7c73b0"
    },
    {
      "cell_type": "markdown",
      "metadata": {},
      "source": [
        "`-` `a.`+tab 을 하면 append, clear 등등이 나온다.\n",
        "\n",
        "`-` 이러한 기능은 지금까지 우리가 “list자료형 특수기능들”이라고 부르면서\n",
        "사용했었다. 그런데 a가 list클래스에서 생성된 인스턴스라는 관점에서 보면\n",
        "이러한 기능들은 list클래스에서 정의된 메소드라고 볼 수 있다.\n",
        "\n",
        "> 파이썬의 비밀1: 인스턴스의 자료형은 클래스의 이름이다.\n",
        "\n",
        "## 비밀2: `__init__`\n",
        "\n",
        "`-` 예시1"
      ],
      "id": "b0ebda50-75d3-4a24-9397-048178fc17c6"
    },
    {
      "cell_type": "code",
      "execution_count": 107,
      "metadata": {},
      "outputs": [],
      "source": [
        "a = '123'  \n",
        "list(a)"
      ],
      "id": "2187b9ae-6cab-4a1a-8efc-1cdec1cc475e"
    },
    {
      "cell_type": "markdown",
      "metadata": {},
      "source": [
        "`-` 예시2"
      ],
      "id": "61bf56be-3e89-49a6-a505-9c1a6e3d6dc9"
    },
    {
      "cell_type": "code",
      "execution_count": 113,
      "metadata": {},
      "outputs": [],
      "source": [
        "a = list()\n",
        "a.__init__('123')\n",
        "a"
      ],
      "id": "82b1b1b7-2b29-4185-ba2c-bd5d0845da4d"
    },
    {
      "cell_type": "markdown",
      "metadata": {},
      "source": [
        "`-` 예시3"
      ],
      "id": "f618c09c-9a40-4836-8e00-fb474da7c7ff"
    },
    {
      "cell_type": "code",
      "execution_count": 112,
      "metadata": {},
      "outputs": [],
      "source": [
        "a = list()\n",
        "a.__init__('123') \n",
        "a.__init__() # 이런식으로 다시 리스트롤 초기화하는 것도 가능\n",
        "a"
      ],
      "id": "67a4a3a3-3f53-4339-8fd9-654d991914a4"
    },
    {
      "cell_type": "markdown",
      "metadata": {},
      "source": [
        "> 파이썬의 비밀2: list(‘123’)은 사실 자료형을 변환하는 것이 아니라,\n",
        "> ’123’을 list 클래스의 `__init__()` 입력으로 하여 “list 클래스 $\\to$\n",
        "> 인스턴스” 를 수행하는 코드로 해석가능하다.\n",
        "\n",
        "## 비밀3: `__str__`\n",
        "\n",
        "### ***motive***\n",
        "\n",
        "`-` 아래와 같은 클래스를 관찰하자."
      ],
      "id": "d7eda839-5c78-4b48-8154-dbd5d9e8256d"
    },
    {
      "cell_type": "code",
      "execution_count": 70,
      "metadata": {},
      "outputs": [],
      "source": [
        "class UpJump:\n",
        "    def __init__(self):\n",
        "        self.reset()\n",
        "    def up(self):\n",
        "        self.a = self.a + 1  \n",
        "        print(\"a의 값이 1 증가합니다.\")\n",
        "    def jump(self,jump_size):\n",
        "        self.a = self.a + jump_size      \n",
        "        print(\"a의 값이 {} 증가합니다.\".format(jump_size))\n",
        "    def show(self):\n",
        "        print('a={}'.format(self.a))\n",
        "    def reset(self):\n",
        "        self.a = 0\n",
        "        print(\"a의 값이 0으로 초기화 되었습니다.\")"
      ],
      "id": "7555c37b-6dcc-4fdc-a4b4-d479a0024661"
    },
    {
      "cell_type": "code",
      "execution_count": 71,
      "metadata": {},
      "outputs": [
        {
          "output_type": "stream",
          "name": "stdout",
          "text": [
            "a의 값이 0으로 초기화 되었습니다."
          ]
        }
      ],
      "source": [
        "upjump = UpJump()"
      ],
      "id": "5c5d280d-74e8-49fc-94ec-98b7f728a05d"
    },
    {
      "cell_type": "code",
      "execution_count": 72,
      "metadata": {},
      "outputs": [],
      "source": [
        "upjump?"
      ],
      "id": "5d88822d-0f47-461e-aed9-335ae215b775"
    },
    {
      "cell_type": "code",
      "execution_count": 73,
      "metadata": {},
      "outputs": [
        {
          "output_type": "stream",
          "name": "stdout",
          "text": [
            "a의 값이 1 증가합니다."
          ]
        }
      ],
      "source": [
        "upjump.up()"
      ],
      "id": "4da5d63c-b1f5-4c3a-ba9c-ef7b927d346b"
    },
    {
      "cell_type": "code",
      "execution_count": 74,
      "metadata": {},
      "outputs": [
        {
          "output_type": "stream",
          "name": "stdout",
          "text": [
            "a의 값이 -2 증가합니다."
          ]
        }
      ],
      "source": [
        "upjump.jump(-2)"
      ],
      "id": "50ae7ae8-8b88-4f6c-a6df-a9347ce86468"
    },
    {
      "cell_type": "code",
      "execution_count": 75,
      "metadata": {},
      "outputs": [
        {
          "output_type": "stream",
          "name": "stdout",
          "text": [
            "a=-1"
          ]
        }
      ],
      "source": [
        "upjump.show()"
      ],
      "id": "ba51bc16-3d5f-4d52-8455-e1b8010ce518"
    },
    {
      "cell_type": "code",
      "execution_count": 76,
      "metadata": {},
      "outputs": [
        {
          "output_type": "stream",
          "name": "stdout",
          "text": [
            "a의 값이 0으로 초기화 되었습니다."
          ]
        }
      ],
      "source": [
        "upjump.reset()"
      ],
      "id": "53493a07-3ce0-407a-8daa-0b88c595b21e"
    },
    {
      "cell_type": "markdown",
      "metadata": {},
      "source": [
        "`-` 모티브: 생각해보니까 show와 print의 기능이 거의 비슷함 $\\to$\n",
        "print(upjump)를 하면 upjump.show()와 동일한 효과를 내도록 만들수 있을까?\n",
        "\n",
        "`-` 말도 안되는 소리 같음. 왜?\n",
        "\n",
        "-   이유1: print는 파이썬 내장기능이다. 내장기능을 우리가 마음대로\n",
        "    커스터마이징해서 쓰기는 어려울 것 같다.\n",
        "-   이유2: 이유1이 해결된다고 쳐도 문제이다. 그럼 지금까지 우리가 써왔던\n",
        "    수많은 print()의 결과는 어떻게 되는가?\n",
        "\n",
        "`-` 그런데 upjump의 자료형(UpJump자료형)에 해당하는 오브젝트들에\n",
        "한정하여 print를 수정하는 방법이 가능하다면? (그럼 다른 오브젝트들은\n",
        "수정된 print에 영향을 받지 않음)\n",
        "\n",
        "### ***관찰1***\n",
        "\n",
        "`-` 현재 print(upjump)의 결과는 아래와 같다."
      ],
      "id": "e51fa2d9-254a-4cdf-9514-eff630cf755a"
    },
    {
      "cell_type": "code",
      "execution_count": 78,
      "metadata": {},
      "outputs": [
        {
          "output_type": "stream",
          "name": "stdout",
          "text": [
            "<__main__.UpJump object at 0x7f02a149f0a0>"
          ]
        }
      ],
      "source": [
        "print(upjump)"
      ],
      "id": "5e85a6de-9f47-45ad-a7d0-3b7bcde888ea"
    },
    {
      "cell_type": "markdown",
      "metadata": {},
      "source": [
        "-   upjump는 UpJump 클래스에서 만들어진 인스턴스이며, upjump가 저장된\n",
        "    메모리주소는 0x7f02a149f0a0 라는 의미\n",
        "\n",
        "### ***관찰2***\n",
        "\n",
        "`-` upjump 에는 `__str__()`이라는 숨겨진 메소드가 있다.\n",
        "\n",
        "> 결국 `print(upjump)` 는 `print(upjump.__str__())` 와 같은 역할\n",
        "\n",
        "### ***해킹?***\n",
        "\n",
        "`-` `upjump.__str__()`의 기능을 재정의하면 `print(upjump)`의 결과도\n",
        "바뀌지 않을까??\n",
        "\n",
        "***예비학습:*** 함수 덮어씌우기 (재정의하기)"
      ],
      "id": "626014b6-7ee3-493a-ab41-2c9dd8a8da6f"
    },
    {
      "cell_type": "code",
      "execution_count": 82,
      "metadata": {},
      "outputs": [],
      "source": [
        "def f():\n",
        "    print('asdf')"
      ],
      "id": "6ea51661-bfe9-4093-869d-d1ec65e9ea18"
    },
    {
      "cell_type": "code",
      "execution_count": 83,
      "metadata": {},
      "outputs": [
        {
          "output_type": "stream",
          "name": "stdout",
          "text": [
            "asdf"
          ]
        }
      ],
      "source": [
        "f()"
      ],
      "id": "28351aa3-4a2f-40ea-8284-b4593c17f837"
    },
    {
      "cell_type": "code",
      "execution_count": 84,
      "metadata": {},
      "outputs": [],
      "source": [
        "def f():\n",
        "    print('guebin hahaha')"
      ],
      "id": "9027640c-184d-471f-b008-7450149f4c02"
    },
    {
      "cell_type": "code",
      "execution_count": 85,
      "metadata": {},
      "outputs": [
        {
          "output_type": "stream",
          "name": "stdout",
          "text": [
            "guebin hahaha"
          ]
        }
      ],
      "source": [
        "f()"
      ],
      "id": "2e3afa9b-1208-4191-80ea-8b3906ccdeb8"
    },
    {
      "cell_type": "markdown",
      "metadata": {},
      "source": [
        "이런식으로 함수가 이미 정의되어 있더라도, 내가 나중에 덮어씌우면 그\n",
        "함수의 기능을 다시 정의한다.\n",
        "\n",
        "***예비학습 끝***\n",
        "\n",
        "`-` 이제 **`.__str__()`의 기능을 재정의** 하여 보자."
      ],
      "id": "e2248cea-e5cb-43a5-b2c9-420b178bfde0"
    },
    {
      "cell_type": "code",
      "execution_count": 87,
      "metadata": {},
      "outputs": [],
      "source": [
        "class UpJump:\n",
        "    def __init__(self):\n",
        "        self.reset()\n",
        "    def up(self):\n",
        "        self.a = self.a + 1  \n",
        "        print(\"a의 값이 1 증가합니다.\")\n",
        "    def jump(self,jump_size):\n",
        "        self.a = self.a + jump_size      \n",
        "        print(\"a의 값이 {} 증가합니다.\".format(jump_size))\n",
        "    def __str__(self):\n",
        "        return 'a={}'.format(self.a)\n",
        "    def reset(self):\n",
        "        self.a = 0\n",
        "        print(\"a의 값이 0으로 초기화 되었습니다.\")"
      ],
      "id": "0717ddc7-c54a-4e84-82cc-6e27e02c48b8"
    },
    {
      "cell_type": "code",
      "execution_count": 99,
      "metadata": {},
      "outputs": [
        {
          "output_type": "stream",
          "name": "stdout",
          "text": [
            "a의 값이 0으로 초기화 되었습니다."
          ]
        }
      ],
      "source": [
        "upjump = UpJump()"
      ],
      "id": "72abb81a-a261-405d-90aa-30d7fcfc752f"
    },
    {
      "cell_type": "code",
      "execution_count": 102,
      "metadata": {},
      "outputs": [],
      "source": [
        "upjump.__str__()"
      ],
      "id": "9706194f-40c8-462a-8a0a-8a949ecef74d"
    },
    {
      "cell_type": "code",
      "execution_count": 103,
      "metadata": {},
      "outputs": [
        {
          "output_type": "stream",
          "name": "stdout",
          "text": [
            "a=0"
          ]
        }
      ],
      "source": [
        "print(upjump.__str__())"
      ],
      "id": "c0aecffd-9ce2-42e2-ae8d-99bb38e7cdb2"
    },
    {
      "cell_type": "code",
      "execution_count": 104,
      "metadata": {},
      "outputs": [
        {
          "output_type": "stream",
          "name": "stdout",
          "text": [
            "a=0"
          ]
        }
      ],
      "source": [
        "print(upjump) ## 성공!"
      ],
      "id": "9375d8c6-eb11-4d96-b69d-e3c1507cd8eb"
    },
    {
      "cell_type": "markdown",
      "metadata": {},
      "source": [
        "### ***지금까지의 print*** 다시 확인\n",
        "\n",
        "`-` 예시1"
      ],
      "id": "3ba6b064-ebf6-402b-bff7-68b30cc9ecaa"
    },
    {
      "cell_type": "code",
      "execution_count": 114,
      "metadata": {},
      "outputs": [
        {
          "output_type": "stream",
          "name": "stdout",
          "text": [
            "[1, 2, 3]"
          ]
        }
      ],
      "source": [
        "a=[1,2,3]\n",
        "print(a)"
      ],
      "id": "74369294-dca1-44e7-a29b-fb8d23e5aa4e"
    },
    {
      "cell_type": "code",
      "execution_count": 115,
      "metadata": {},
      "outputs": [],
      "source": [
        "a.__str__()"
      ],
      "id": "4a90cbfc-50e8-406d-8232-37d59c14ffac"
    },
    {
      "cell_type": "code",
      "execution_count": 117,
      "metadata": {},
      "outputs": [
        {
          "output_type": "stream",
          "name": "stdout",
          "text": [
            "[1, 2, 3]"
          ]
        }
      ],
      "source": [
        "print(a.__str__())"
      ],
      "id": "b5d38266-db41-4601-bba1-477a5b49e3e6"
    },
    {
      "cell_type": "markdown",
      "metadata": {},
      "source": [
        "`-` 예시2"
      ],
      "id": "a5c76dc2-5982-4274-a8b7-b62844136489"
    },
    {
      "cell_type": "code",
      "execution_count": 118,
      "metadata": {},
      "outputs": [
        {
          "output_type": "stream",
          "name": "stdout",
          "text": [
            "{1, 2, 3}"
          ]
        }
      ],
      "source": [
        "a={1,2,3}\n",
        "print(a)"
      ],
      "id": "f433158e-3143-4d21-b92c-4156dac6912f"
    },
    {
      "cell_type": "code",
      "execution_count": 119,
      "metadata": {},
      "outputs": [],
      "source": [
        "a.__str__()"
      ],
      "id": "75045fcb-b73c-4682-844c-906387f0a14f"
    },
    {
      "cell_type": "code",
      "execution_count": 120,
      "metadata": {},
      "outputs": [
        {
          "output_type": "stream",
          "name": "stdout",
          "text": [
            "{1, 2, 3}"
          ]
        }
      ],
      "source": [
        "print(a.__str__())"
      ],
      "id": "7ca5c7b8-ac15-426e-9e8f-1980f562456a"
    },
    {
      "cell_type": "markdown",
      "metadata": {},
      "source": [
        "`-` 예시3"
      ],
      "id": "794f82cf-5c33-4c74-890f-e251f7a86c4d"
    },
    {
      "cell_type": "code",
      "execution_count": 127,
      "metadata": {},
      "outputs": [
        {
          "output_type": "stream",
          "name": "stdout",
          "text": [
            "[[0 1]\n",
            " [2 3]]"
          ]
        }
      ],
      "source": [
        "a= np.arange(4).reshape(2,2)\n",
        "print(a)"
      ],
      "id": "1c970933-8430-47e9-8c3d-df741dd35c87"
    },
    {
      "cell_type": "code",
      "execution_count": 128,
      "metadata": {},
      "outputs": [],
      "source": [
        "a.__str__()"
      ],
      "id": "aec04cf9-c3e4-4027-ac0d-17d5c377bc54"
    },
    {
      "cell_type": "code",
      "execution_count": 129,
      "metadata": {},
      "outputs": [
        {
          "output_type": "stream",
          "name": "stdout",
          "text": [
            "[[0 1]\n",
            " [2 3]]"
          ]
        }
      ],
      "source": [
        "print(a.__str__())"
      ],
      "id": "83d8b07a-14c7-4f38-8a17-e707cadb65e1"
    },
    {
      "cell_type": "markdown",
      "metadata": {},
      "source": [
        "> 파이썬의 비밀3: `print(a)`는 사실 `print(a.__str__())` 의\n",
        "> 축약버전이었다.\n",
        "\n",
        "***직관: 클래스에서 정의된 숨겨진 메소드 `__????__` 들이 사실 파이썬의\n",
        "비밀 덩어리였음!!!***\n",
        "\n",
        "## 비밀4: `__repr__`\n",
        "\n",
        "### ***motive***\n",
        "\n",
        "> repr은 representation의 약자이다.\n",
        "\n",
        "`-` 모티브: 생각해보니까 print를 해서 우리가 원하는 정보를 확인하는건\n",
        "아니었음"
      ],
      "id": "8d01d942-e2d8-478b-ae9a-13e024db4c5e"
    },
    {
      "cell_type": "code",
      "execution_count": 130,
      "metadata": {},
      "outputs": [],
      "source": [
        "a=[1,2,3]"
      ],
      "id": "4e382f6d-4ba4-4202-9662-8a369b4df1b5"
    },
    {
      "cell_type": "code",
      "execution_count": 131,
      "metadata": {},
      "outputs": [],
      "source": [
        "a"
      ],
      "id": "ad009254-9e4e-4d51-a2a9-813e0afe6da9"
    },
    {
      "cell_type": "code",
      "execution_count": 132,
      "metadata": {},
      "outputs": [
        {
          "output_type": "stream",
          "name": "stdout",
          "text": [
            "[1, 2, 3]"
          ]
        }
      ],
      "source": [
        "print(a)"
      ],
      "id": "be3bea05-c731-4725-82ab-f1faa15c4a6e"
    },
    {
      "cell_type": "markdown",
      "metadata": {},
      "source": [
        "`-` 의문: `a + 엔터`는 `print(a) + 엔터`와 같은 효과인가?\n",
        "\n",
        "`-` 반례"
      ],
      "id": "5b9767d3-c454-4516-9b10-829b4e75fa00"
    },
    {
      "cell_type": "code",
      "execution_count": 133,
      "metadata": {},
      "outputs": [],
      "source": [
        "a= np.arange(4).reshape(2,2)\n",
        "a"
      ],
      "id": "0b3ea9a0-cdcd-4cfe-b074-cd1bf062c22a"
    },
    {
      "cell_type": "code",
      "execution_count": 135,
      "metadata": {},
      "outputs": [
        {
          "output_type": "stream",
          "name": "stdout",
          "text": [
            "[[0 1]\n",
            " [2 3]]"
          ]
        }
      ],
      "source": [
        "print(a)"
      ],
      "id": "3eef51a5-e862-46c9-a1af-134b5e324ae4"
    },
    {
      "cell_type": "markdown",
      "metadata": {},
      "source": [
        "### ***`__repr__`*** 의 역할\n",
        "\n",
        "`-` `a + 엔터`와 `print(a) + 엔터`가 다른 경우도 있다. $\\to$ 추측: 서로\n",
        "다른 숨겨진 기능이 있다! $\\to$ 결론: 추측이 맞다. 그 기능은 `__repr__`에\n",
        "저장되어있음."
      ],
      "id": "cc6ef542-d0a3-49e2-a4b8-92a683f848a5"
    },
    {
      "cell_type": "code",
      "execution_count": 136,
      "metadata": {},
      "outputs": [],
      "source": [
        "a.__str__()"
      ],
      "id": "04c792ac-b3de-4c90-afaf-9f061d5a4485"
    },
    {
      "cell_type": "code",
      "execution_count": 138,
      "metadata": {},
      "outputs": [],
      "source": [
        "a.__repr__() # 이렇게 조잡하다고? ㅋㅋㅋ"
      ],
      "id": "99233b57-4e04-4dc2-a208-986a38836ed3"
    },
    {
      "cell_type": "code",
      "execution_count": 141,
      "metadata": {},
      "outputs": [
        {
          "output_type": "stream",
          "name": "stdout",
          "text": [
            "[[0 1]\n",
            " [2 3]]"
          ]
        }
      ],
      "source": [
        "print(a.__str__()) # print(a) + 엔터와 같은 효과"
      ],
      "id": "35259aa8-4350-48a7-8053-a43c89dea18d"
    },
    {
      "cell_type": "code",
      "execution_count": 143,
      "metadata": {},
      "outputs": [
        {
          "output_type": "stream",
          "name": "stdout",
          "text": [
            "array([[0, 1],\n",
            "       [2, 3]])"
          ]
        }
      ],
      "source": [
        "print(a.__repr__()) # a + 엔터와 같은 효과"
      ],
      "id": "91351e2d-3a22-4f03-a10a-4ced5236f938"
    },
    {
      "cell_type": "markdown",
      "metadata": {},
      "source": [
        "### ***연습***"
      ],
      "id": "7ccb7fce-ec51-45df-a3c3-d96e3973ef1f"
    },
    {
      "cell_type": "code",
      "execution_count": 144,
      "metadata": {},
      "outputs": [],
      "source": [
        "class UpJump:\n",
        "    def __init__(self):\n",
        "        self.reset()\n",
        "    def up(self):\n",
        "        self.a = self.a + 1  \n",
        "        print(\"a의 값이 1 증가합니다.\")\n",
        "    def jump(self,jump_size):\n",
        "        self.a = self.a + jump_size      \n",
        "        print(\"a의 값이 {} 증가합니다.\".format(jump_size))\n",
        "    def __str__(self):\n",
        "        return 'a의 값은 {}입니다.'.format(self.a)\n",
        "    def reset(self):\n",
        "        self.a = 0\n",
        "        print(\"a의 값이 0으로 초기화 되었습니다.\")\n",
        "    def __repr__(self):\n",
        "        return 'a={}'.format(self.a)\n",
        "    "
      ],
      "id": "ce73358c-752e-4e87-a150-e28a8e70fea3"
    },
    {
      "cell_type": "code",
      "execution_count": 145,
      "metadata": {},
      "outputs": [
        {
          "output_type": "stream",
          "name": "stdout",
          "text": [
            "a의 값이 0으로 초기화 되었습니다."
          ]
        }
      ],
      "source": [
        "upjump = UpJump()"
      ],
      "id": "9d5207b0-d9ad-4dd6-90fa-22c794dd32d6"
    },
    {
      "cell_type": "code",
      "execution_count": 146,
      "metadata": {},
      "outputs": [
        {
          "output_type": "stream",
          "name": "stdout",
          "text": [
            "a의 값은 0입니다."
          ]
        }
      ],
      "source": [
        "print(upjump)"
      ],
      "id": "d86faa2c-716e-47eb-a2a2-b5b747e24c8e"
    },
    {
      "cell_type": "code",
      "execution_count": 147,
      "metadata": {},
      "outputs": [],
      "source": [
        "upjump"
      ],
      "id": "048cb9c0-b338-4f1e-a85e-a6207fd393f3"
    },
    {
      "cell_type": "markdown",
      "metadata": {},
      "source": [
        "### ***`__repr__()` $\\Rightarrow$ `__str__()`***\n",
        "\n",
        "`-` 만약에 `__repr__()` 만 정의되었고 `__str__()`이 정의되지 않았다면\n",
        "`__repr__()`의 내용이 `__str__()`의 내용을 대신한다. (하지만 역은\n",
        "성립하지 않음)"
      ],
      "id": "92c20335-336a-42af-aebf-fd5c654fbed5"
    },
    {
      "cell_type": "code",
      "execution_count": 148,
      "metadata": {},
      "outputs": [],
      "source": [
        "class UpJump:\n",
        "    def __init__(self):\n",
        "        self.reset()\n",
        "    def up(self):\n",
        "        self.a = self.a + 1  \n",
        "        print(\"a의 값이 1 증가합니다.\")\n",
        "    def jump(self,jump_size):\n",
        "        self.a = self.a + jump_size      \n",
        "        print(\"a의 값이 {} 증가합니다.\".format(jump_size))\n",
        "    # def __str__(self):\n",
        "    #     return 'a의 값은 {}입니다.'.format(self.a)\n",
        "    def reset(self):\n",
        "        self.a = 0\n",
        "        print(\"a의 값이 0으로 초기화 되었습니다.\")\n",
        "    def __repr__(self):\n",
        "        return 'a={}'.format(self.a)\n",
        "    "
      ],
      "id": "7fa8356a-7e06-4024-9eea-348eb70859f2"
    },
    {
      "cell_type": "code",
      "execution_count": 149,
      "metadata": {},
      "outputs": [
        {
          "output_type": "stream",
          "name": "stdout",
          "text": [
            "a의 값이 0으로 초기화 되었습니다."
          ]
        }
      ],
      "source": [
        "upjump = UpJump()"
      ],
      "id": "4fe99be7-8942-4e18-8937-0bb7a26877f9"
    },
    {
      "cell_type": "code",
      "execution_count": 150,
      "metadata": {},
      "outputs": [
        {
          "output_type": "stream",
          "name": "stdout",
          "text": [
            "a=0"
          ]
        }
      ],
      "source": [
        "print(upjump)"
      ],
      "id": "571a44f7-21bb-429b-bc6a-395d98f16277"
    },
    {
      "cell_type": "code",
      "execution_count": 151,
      "metadata": {},
      "outputs": [],
      "source": [
        "upjump"
      ],
      "id": "aaae063a-473e-4b6f-af1f-767692fc9402"
    },
    {
      "cell_type": "markdown",
      "metadata": {},
      "source": [
        "`-` 역은 성립안함! 즉 `__str__()` 만 정의되었고 `__repr__()`이 정의되지\n",
        "않은경우에는 `__str__()`의 내용이 `__repr__()`의 내용을 대신할 수 없다."
      ],
      "id": "15539b92-63f4-4a75-ab1e-85344f97cfb3"
    },
    {
      "cell_type": "code",
      "execution_count": 152,
      "metadata": {},
      "outputs": [],
      "source": [
        "class UpJump:\n",
        "    def __init__(self):\n",
        "        self.reset()\n",
        "    def up(self):\n",
        "        self.a = self.a + 1  \n",
        "        print(\"a의 값이 1 증가합니다.\")\n",
        "    def jump(self,jump_size):\n",
        "        self.a = self.a + jump_size      \n",
        "        print(\"a의 값이 {} 증가합니다.\".format(jump_size))\n",
        "    def __str__(self):\n",
        "        return 'a의 값은 {}입니다.'.format(self.a)\n",
        "    def reset(self):\n",
        "        self.a = 0\n",
        "        print(\"a의 값이 0으로 초기화 되었습니다.\")\n",
        "    # def __repr__(self):\n",
        "    #     return 'a={}'.format(self.a)    "
      ],
      "id": "cefed414-63f4-493b-a5d2-7074e20afd3b"
    },
    {
      "cell_type": "code",
      "execution_count": 153,
      "metadata": {},
      "outputs": [
        {
          "output_type": "stream",
          "name": "stdout",
          "text": [
            "a의 값이 0으로 초기화 되었습니다."
          ]
        }
      ],
      "source": [
        "upjump = UpJump()"
      ],
      "id": "87b5c254-c9a7-47ef-a1cb-49b8f5ea53ad"
    },
    {
      "cell_type": "code",
      "execution_count": 154,
      "metadata": {},
      "outputs": [
        {
          "output_type": "stream",
          "name": "stdout",
          "text": [
            "a의 값은 0입니다."
          ]
        }
      ],
      "source": [
        "print(upjump)"
      ],
      "id": "4847d4de-8ef6-4192-9618-efed198e9a39"
    },
    {
      "cell_type": "code",
      "execution_count": 155,
      "metadata": {},
      "outputs": [],
      "source": [
        "upjump"
      ],
      "id": "9ac6283a-a0f4-481d-b677-77116cafc686"
    },
    {
      "cell_type": "markdown",
      "metadata": {},
      "source": [
        "> 파이썬의 비밀4: 대화형콘솔에서 `a+엔터`하여 나오는 출력결과는\n",
        "> `print(a.__repr__())` 이라고 생각할 수 있다. (생각할수 있다? 아닐 수도\n",
        "> 있다는 거야?)\n",
        "\n",
        "## 비밀5: `_repr_html_`\n",
        "\n",
        "### ***motive***\n",
        "\n",
        "`-` 모티브: 요즘에는 IDE의 발전에 따라서 `오브젝트이름 + 엔터` 를\n",
        "입력할때 나오는 출력의 형태도 다양해지고 있음."
      ],
      "id": "e1766218-89db-4326-af8a-e3cef27c9d68"
    },
    {
      "cell_type": "code",
      "execution_count": 158,
      "metadata": {},
      "outputs": [],
      "source": [
        "df = pd.DataFrame({'a':[1,2,3],'b':[2,3,4]})\n",
        "df"
      ],
      "id": "8d3c19f1-a671-4069-8521-145ddde0891d"
    },
    {
      "cell_type": "markdown",
      "metadata": {},
      "source": [
        "-   예쁘게 나온다… 이건 근데 문자열따위로 구현할 수 있는 출력 기능이\n",
        "    아닌것 같은데?"
      ],
      "id": "b40e15c7-70a5-4e65-bfbc-022f9dfd070e"
    },
    {
      "cell_type": "code",
      "execution_count": 160,
      "metadata": {},
      "outputs": [
        {
          "output_type": "stream",
          "name": "stdout",
          "text": [
            "   a  b\n",
            "0  1  2\n",
            "1  2  3\n",
            "2  3  4"
          ]
        }
      ],
      "source": [
        "print(df.__repr__())"
      ],
      "id": "c62f2a37-b658-448d-98cf-29efad21082b"
    },
    {
      "cell_type": "code",
      "execution_count": 161,
      "metadata": {},
      "outputs": [
        {
          "output_type": "stream",
          "name": "stdout",
          "text": [
            "   a  b\n",
            "0  1  2\n",
            "1  2  3\n",
            "2  3  4"
          ]
        }
      ],
      "source": [
        "print(df.__str__())"
      ],
      "id": "f06e5c46-2e39-44b6-8e83-f8226e9738d0"
    },
    {
      "cell_type": "markdown",
      "metadata": {},
      "source": [
        "### ***`_repr_html_`*** 의 역할"
      ],
      "id": "182c340a-dcac-41ee-8151-853819ecbf0b"
    },
    {
      "cell_type": "code",
      "execution_count": 164,
      "metadata": {},
      "outputs": [],
      "source": [
        "df._repr_html_()"
      ],
      "id": "2b8ce386-8744-4797-b87f-3f618430f968"
    },
    {
      "cell_type": "code",
      "execution_count": 166,
      "metadata": {},
      "outputs": [],
      "source": [
        "HTML(df._repr_html_())"
      ],
      "id": "806f0040-5688-41e0-bb2a-1e8cc2dc0551"
    },
    {
      "cell_type": "markdown",
      "metadata": {},
      "source": [
        "***참고: 그럼 `df.__repr__()`의 역할은 뭐야?***\n",
        "\n",
        "1.  대화형콘솔중 HTML 출력을 지원하면 `오브젝트이름+엔터`는\n",
        "    `HTML(df._repr_html_())` 의 효과\n",
        "2.  대화형콘솔중 HTML 출력을 지원하지 않으면 `오브젝트이름+엔터`는\n",
        "    `print(df.__str__())` 의 효과\n",
        "\n",
        "![그림1: HTML을 지원하는 않는 대화형 콘솔에서의\n",
        "df출력예시](attachment:2023-05-31-13wk-2_files/figure-ipynb/dbd46e87-7d69-4dd3-965d-b86a748232ff-1-c07183d1-88cf-431c-888d-669c12b09d52.png)\n",
        "\n",
        "### ***`_repr_html_()` // `__repr__()` $\\Rightarrow$ `__str__()`***"
      ],
      "attachments": {
        "2023-05-31-13wk-2_files/figure-ipynb/dbd46e87-7d69-4dd3-965d-b86a748232ff-1-c07183d1-88cf-431c-888d-669c12b09d52.png": {
          "image/png": "[encoded data removed]"
        }
      },
      "id": "c83f5f2a-66d6-4be2-a0f2-a4ba708a5b77"
    },
    {
      "cell_type": "code",
      "execution_count": 173,
      "metadata": {},
      "outputs": [],
      "source": [
        "class UpJump:\n",
        "    def __init__(self):\n",
        "        self.reset()\n",
        "    def up(self):\n",
        "        self.a = self.a + 1  \n",
        "        print(\"a의 값이 1 증가합니다.\")\n",
        "    def jump(self,jump_size):\n",
        "        self.a = self.a + jump_size      \n",
        "        print(\"a의 값이 {} 증가합니다.\".format(jump_size))\n",
        "    # def __str__(self):\n",
        "    #     return 'a의 값은 {}입니다.'.format(self.a)\n",
        "    def reset(self):\n",
        "        self.a = 0\n",
        "        print(\"a의 값이 0으로 초기화 되었습니다.\")\n",
        "    # def __repr__(self):\n",
        "    #     return 'a={}'.format(self.a)    \n",
        "    def _repr_html_(self):\n",
        "        return 'a={}'.format(self.a)            "
      ],
      "id": "11676692-c84a-4bc5-87f3-8f835dcdf1b9"
    },
    {
      "cell_type": "code",
      "execution_count": 174,
      "metadata": {},
      "outputs": [
        {
          "output_type": "stream",
          "name": "stdout",
          "text": [
            "a의 값이 0으로 초기화 되었습니다."
          ]
        }
      ],
      "source": [
        "upjump = UpJump()"
      ],
      "id": "912147cf-ea01-424b-8ea9-821eb315676b"
    },
    {
      "cell_type": "code",
      "execution_count": 176,
      "metadata": {},
      "outputs": [],
      "source": [
        "upjump"
      ],
      "id": "c03c14e4-9441-49f9-9216-c8c187d92031"
    },
    {
      "cell_type": "code",
      "execution_count": 178,
      "metadata": {},
      "outputs": [
        {
          "output_type": "stream",
          "name": "stdout",
          "text": [
            "<__main__.UpJump object at 0x7f027d189d90>"
          ]
        }
      ],
      "source": [
        "print(upjump)"
      ],
      "id": "0c2a226a-005d-44c8-bed2-fb58b5aacfc7"
    },
    {
      "cell_type": "markdown",
      "metadata": {},
      "source": [
        "> 꿀팁: `__repr__()` 과 `__str__()` 을 재정의하지 않고 `_repr_html_`만을\n",
        "> 재정의하여 출력결과를 바꿀 수 있다.\n",
        "\n",
        "### ***연습***"
      ],
      "id": "8d193644-d3d5-471e-9021-9eda19e21b0d"
    },
    {
      "cell_type": "code",
      "execution_count": 184,
      "metadata": {},
      "outputs": [],
      "source": [
        "class JungKKuckMa:\n",
        "    def __init__(self):\n",
        "        self.title = '파이썬 프로그래밍 중간고사 패배는 괜찮다.'\n",
        "        self.imgurl = 'https://github.com/guebin/PP2023/blob/main/posts/03_Class/PP2023mid.jpg?raw=true?'\n",
        "        self.ques = \"Q: 파이썬 프로그래밍 기말고사, 어떤 점에 유의해야 할까?\"\n",
        "        self.ans = \"A: 최규빈 교수 문제 스타일에 대해서 더 분석할 건 없는 것 같고, 내가 내 코드를 잘 구현하는 게 제일 중요한 것 같고 중간고사는 망하긴 했지만 제 스스로 안 무너지면 충분히 기말고사는 잘 볼 수 있을 것 같아요.\"\n",
        "        self.highlight = '마음'\n",
        "        self.html_str =\\\n",
        "        '''\n",
        "        <style>\n",
        "            .title {{\n",
        "                font-family: \"Times New Roman\", serif;\n",
        "                font-size: 30px;\n",
        "                font-weight: 900;\n",
        "            }}\n",
        "            .text {{\n",
        "                font-family: \"Arial\", sans-serif;\n",
        "                font-size: 20px;\n",
        "                font-style: italic;\n",
        "            }}\n",
        "            .highlight {{\n",
        "                font-family: \"Montserrat\", monospace;\n",
        "                font-size: 35px;\n",
        "                font-weight: 900;\n",
        "                text-decoration: underline;\n",
        "                font-style: normal;\n",
        "                color: darkblue;\n",
        "                background-color: #FFFF00;\n",
        "            }}\n",
        "        </style>\n",
        "        <p class=\"title\">{ttl}</p>\n",
        "        <img src={url} width=\"600\">\n",
        "        <p> \\n </p>\n",
        "        <p class=\"text\">{Q}</p>\n",
        "        <p class=\"text\">{A}</p>\n",
        "        <p class=\"title\">중요한 것은 꺾이지 않는 <span class=\"highlight\">{hl}</span></p>\n",
        "        '''    \n",
        "    def _repr_html_(self):\n",
        "        _str = self.html_str.format(\n",
        "            ttl = self.title,\n",
        "            url = self.imgurl,\n",
        "            Q = self.ques,\n",
        "            A = self.ans,\n",
        "            hl = self.highlight\n",
        "        )\n",
        "        return _str"
      ],
      "id": "d86b6a05-d536-479f-b465-bf5fdf9b847c"
    },
    {
      "cell_type": "code",
      "execution_count": 185,
      "metadata": {},
      "outputs": [],
      "source": [
        "a = JungKKuckMa()"
      ],
      "id": "3539a50c-a458-4413-8422-722dcec73508"
    },
    {
      "cell_type": "code",
      "execution_count": 186,
      "metadata": {},
      "outputs": [],
      "source": [
        "a"
      ],
      "id": "95de96ce-549b-4da3-ac2c-1a501f89dcef"
    },
    {
      "cell_type": "markdown",
      "metadata": {},
      "source": [
        "> 파이썬의 비밀5: 대화형콘솔에서 `a+엔터`하여 나오는 출력결과는\n",
        "> `print(a.__repr__())` 혹은 `HTML(a._repr_html_())` 이다.\n",
        "\n",
        "# 숙제\n",
        "\n",
        "`1`. Student 클래스를 생성지침 및 사용예시를 참고하여 설계하라.\n",
        "\n",
        "**`생성지침`**\n",
        "\n",
        "**attributes**\n",
        "\n",
        "-   `name`: 이름을 저장하는 변수\n",
        "-   `age`: 나이를 저장하는 변수\n",
        "-   `semester`: 학기를 저장하는 변수\n",
        "\n",
        "**methods**\n",
        "\n",
        "-   `__init__`: name, age, semester 세 가지 매개변수를 입력받아\n",
        "    인스턴스의 attribute로 저장\n",
        "-   `__str__`: 인스턴스의 정보(이름,나이,학기)를 문자열 형태로 반환\n",
        "\n",
        "**`사용예시`**"
      ],
      "id": "41b7a261-fbf1-480a-b6b2-d32e6fb7974e"
    },
    {
      "cell_type": "code",
      "execution_count": 224,
      "metadata": {},
      "outputs": [
        {
          "output_type": "stream",
          "name": "stdout",
          "text": [
            "이름: 김보람\n",
            "나이: 20\n",
            "학기: 1"
          ]
        }
      ],
      "source": [
        "# 사용 예시\n",
        "boram = Student(name='김보람', age=20, semester=1)\n",
        "print(boram)"
      ],
      "id": "6360425b-492a-4600-aa21-cf30c17624ee"
    },
    {
      "cell_type": "markdown",
      "metadata": {},
      "source": [
        "`2`. RPS 클래스를 생성지침 및 사용예시를 참고하여 설계하라.\n",
        "\n",
        "**`생성지침`**\n",
        "\n",
        "**속성**\n",
        "\n",
        "-   `candidate` (리스트): 사용 가능한 선택지인 ‘가위’, ‘바위’, ’보’로\n",
        "    이루어진 리스트\n",
        "-   `actions` (리스트): 선택한 동작을 기록하는 리스트\n",
        "\n",
        "**메서드**\n",
        "\n",
        "-   `__init__`: 클래스의 생성자로, candidate 매개변수를 입력으로 받아\n",
        "    인스턴스의 속성으로 저장한다. 그리고 actions를 빈 리스트로\n",
        "    초기화한다.\n",
        "-   `pick`: candidate에서 무작위로 하나의 선택지를 고르고, actions에\n",
        "    선택한 동작을 기록한다.\n",
        "-   `_repr_html_(self)`: 클래스의 정보를 HTML 형식의 문자열로 반환한다.\n",
        "    반환된 문자열에는 candidate와 actions의 내용이 포함되어야 한다.\n",
        "\n",
        "**클래스 설명**: RPS 클래스는 가위, 바위, 보 중 하나를 선택하고, 선택한\n",
        "동작을 기록하는 클래스이다. 사용 가능한 선택지는 candidate 속성에\n",
        "저장되고, 선택한 동작은 actions에 기록된다. 클래스의 정보는 HTML 형식의\n",
        "문자열로 표현되며, 낼 수 있는 패(candidate)와 기록된 동작(actions)이\n",
        "포함된다.\n",
        "\n",
        "**`사용예시`**\n",
        "\n",
        "**예시1: 인스턴스의 생성**"
      ],
      "id": "481f03a1-98cf-44f5-8e77-bf5dfa4a228e"
    },
    {
      "cell_type": "code",
      "execution_count": 237,
      "metadata": {},
      "outputs": [],
      "source": [
        "a = RPS(['가위','바위','보'])"
      ],
      "id": "99038ba8-68d9-480e-8036-73be72cdc072"
    },
    {
      "cell_type": "markdown",
      "metadata": {},
      "source": [
        "**예시2: 인스턴스의 속성확인**"
      ],
      "id": "24804417-6327-470c-ac2c-8b0d072772d5"
    },
    {
      "cell_type": "code",
      "execution_count": 238,
      "metadata": {},
      "outputs": [],
      "source": [
        "a.candidate, a.actions"
      ],
      "id": "d0731172-c238-4ad1-9d26-1ba0527dbda3"
    },
    {
      "cell_type": "markdown",
      "metadata": {},
      "source": [
        "**예시3: `_repr_html_`의 사용예시**"
      ],
      "id": "d2e58ddc-c210-4fad-98e4-ad309f3af02f"
    },
    {
      "cell_type": "code",
      "execution_count": 239,
      "metadata": {},
      "outputs": [],
      "source": [
        "a"
      ],
      "id": "82fe5760-d0f5-471b-aa32-be9d173acc84"
    },
    {
      "cell_type": "markdown",
      "metadata": {},
      "source": [
        "**예시4: `pick` method의 사용예시**"
      ],
      "id": "4506e186-d571-4819-bed2-6d0b75e83dde"
    },
    {
      "cell_type": "code",
      "execution_count": 240,
      "metadata": {},
      "outputs": [],
      "source": [
        "for i in range(5):\n",
        "    a.pick()"
      ],
      "id": "68488530-7beb-4634-8092-f8644fdf6cad"
    },
    {
      "cell_type": "code",
      "execution_count": 241,
      "metadata": {},
      "outputs": [],
      "source": [
        "a.candidate, a.actions"
      ],
      "id": "988d3bc8-e7c7-4af7-b5fd-a046d452aa5f"
    },
    {
      "cell_type": "code",
      "execution_count": 242,
      "metadata": {},
      "outputs": [],
      "source": [
        "a"
      ],
      "id": "d360e571-b0f6-4b97-a667-7b3868005b0e"
    },
    {
      "cell_type": "markdown",
      "metadata": {},
      "source": [
        "> **Note**\n",
        ">\n",
        "> **힌트**: \\[‘가위’,‘바위’,‘보’\\]에서 하나의 원소를 임의로 뽑는 코드의\n",
        "> 구현을 위해 아래를 참고하라. ChatGPT를 활용하여 np.random.choice\n",
        "> 함수의 사용방법을 익혀라.\n",
        ">\n",
        "> ``` python\n",
        "> np.random.choice(['가위','바위','보'])\n",
        "> ```\n",
        "\n",
        "`3`. RPS클래스에서 player a와 player b를 만들어라. Player a는\n",
        "\\[‘가위’,‘보’\\] 중에 하나를 랜덤으로 낸다. 그리고 Player b는 \\[‘가위’\\]\n",
        "만 낸다. 누가 더 유리한가? 10회 가상대결을 해보고 누가 더 유리하게\n",
        "나왔는지 판단하라.\n",
        "\n",
        "> **Note**\n",
        ">\n",
        "> **힌트**: b가 절대 지는일은 없으므로 당연히 b가 유리하겠죠? 저는\n",
        "> 시뮬레이션 결과가 아래와 같이 나왔습니다.\n",
        ">\n",
        ">     {'a승리': 0, 'b승리': 5, '무승부': 5}\n",
        "\n",
        "`4`. RPS클래스에서 player a와 player b를 만들어라. Player a는\n",
        "\\[‘가위’,‘보’\\] 중에 하나를 낼 수 있다. 그리고 Player b는\n",
        "\\[‘가위’,‘바위’\\] 중 하나를 낼 수 있다. 누가 더 유리한가? 100회\n",
        "가상대결을 해보고 누가 더 유리하게 나왔는지 판단하라.\n",
        "\n",
        "> **Note**\n",
        ">\n",
        "> **힌트**: 시뮬레이션 결과 저는 답이 이렇게 나왔습니다.\n",
        ">\n",
        ">     {'a승리': 24, 'b승리': 55, '무승부': 21}\n",
        ">\n",
        "> 즉 정답은 “b가 더 유리하다.” 입니다. 왜 b가 유리한지 스스로\n",
        "> 생각해보시기 바랍니다."
      ],
      "id": "7ac70865-db09-4c9d-9997-650f8a29e731"
    }
  ],
  "nbformat": 4,
  "nbformat_minor": 5,
  "metadata": {
    "kernelspec": {
      "name": "python3",
      "display_name": "Python 3",
      "language": "python"
    },
    "language_info": {
      "name": "python",
      "codemirror_mode": {
        "name": "ipython",
        "version": "3"
      },
      "file_extension": ".py",
      "mimetype": "text/x-python",
      "nbconvert_exporter": "python",
      "pygments_lexer": "ipython3",
      "version": "3.8.16"
    }
  }
}