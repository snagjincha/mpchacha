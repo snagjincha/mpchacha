{
  "cells": [
    {
      "cell_type": "markdown",
      "metadata": {},
      "source": [
        "# 12wk-2: 클래스공부 3단계 – 문제연습\n",
        "\n",
        "최규빈  \n",
        "2023-05-24\n",
        "\n",
        "<a href=\"https://colab.research.google.com/github/guebin/PP2023/blob/main/posts/03_Class/2023-05-24-12wk-2.ipynb\"><img src=\"https://colab.research.google.com/assets/colab-badge.svg\" style=\"text-align: left\"></a>\n",
        "\n",
        "# 강의영상\n",
        "\n",
        "> youtube:\n",
        "> <https://youtube.com/playlist?list=PLQqh36zP38-zjmP7YXpRtdrKdWNOjo5_G>\n",
        "\n",
        "# imports"
      ],
      "id": "8586c077-6ea5-4861-972e-74c7ae3dfff0"
    },
    {
      "cell_type": "code",
      "execution_count": 1,
      "metadata": {},
      "outputs": [],
      "source": [
        "import matplotlib.pyplot as plt\n",
        "from IPython.core.display import HTML"
      ],
      "id": "eca9048c-beb0-40cf-8cdd-026f76aed90f"
    },
    {
      "cell_type": "markdown",
      "metadata": {},
      "source": [
        "# 클래스공부 3단계: 문제연습\n",
        "\n",
        "## 암기사항\n",
        "\n",
        "***외우세요*** (논리적으로 생각하지 말고)\n",
        "\n",
        "`#1` 클래스의 선언: 클래스의 선언은 아래와 같이 하며 클래스의 이름은\n",
        "대문자로 한다.\n",
        "\n",
        "``` python\n",
        "# 예시1: 좋은사례\n",
        "class JungKKuckMa:\n",
        "    pass \n",
        "```\n",
        "\n",
        "``` python\n",
        "# 예시2: 나쁜사례 -- 클래스 이름은 대문자로 시작해야해\n",
        "class jungkkuckma:\n",
        "    pass \n",
        "```\n",
        "\n",
        "> 딴지: 1. 사실 저거 말고도 선언하는 방법 있는데.. 2. 대문자가 아니어도\n",
        "> 에러는 안나는데..\n",
        "\n",
        "`#2` 클래스의 내용: 클래스의 내용은 메소드만을 정의하는데에만 사용한다.\n",
        "\n",
        "``` python\n",
        "# 예시1: 클래스의 내용을 메소드로만 작성한예시 \n",
        "class JungKKuckMa:\n",
        "    def method1(self): \n",
        "        blabla\n",
        "    def method2(self): \n",
        "        blabla\n",
        "    def method3(self): \n",
        "        blabla\n",
        "    def method4(self): \n",
        "        blabla\n",
        "    def method5(self): \n",
        "        blabla    \n",
        "```\n",
        "\n",
        "``` python\n",
        "# 예시2: 나쁜사례\n",
        "class JungKKuckMa:\n",
        "    a=1 \n",
        "    b=1 \n",
        "```\n",
        "\n",
        "> 딴지: 꼭 메소드만 클래스의 내용으로 쓰라는 법은 없음\n",
        "\n",
        "`#3` 메소드의 첫번째 입력은 항상 self 로 사용한다.\n",
        "\n",
        "> 딴지: 이것도 꼭 그런건 아님\n",
        "\n",
        "`#4` `__init__` 메소드는 “클래스 $\\to$ 인스턴스” 시점에 자동으로\n",
        "실행되는 특수한 메소드이다.\n",
        "\n",
        "## 문제풀이\n",
        "\n",
        "***각 예제의 조건에 맞는 클래스를 구현하라***\n",
        "\n",
        "`-` **예제1** – self는 항상 써야 해\n",
        "\n",
        "아래의 조건에 맞는 클래스를 구현하라.\n",
        "\n",
        "1.  클래스에는 hello()라는 메소드가 정의되어 있으며, hello()의 기능은\n",
        "    “안녕하세요”를 출력하는 것이다.\n",
        "\n",
        "(풀이)"
      ],
      "id": "fd392d43-8152-426a-9851-63e5629a4bd0"
    },
    {
      "cell_type": "code",
      "execution_count": 8,
      "metadata": {},
      "outputs": [],
      "source": [
        "class Klass: \n",
        "    def hello(self):\n",
        "        print(\"안녕하세요\")"
      ],
      "id": "1d1d84b3-ce1c-452f-9db9-a47d42fb0c5d"
    },
    {
      "cell_type": "code",
      "execution_count": 9,
      "metadata": {},
      "outputs": [],
      "source": [
        "ins = Klass()"
      ],
      "id": "3a0727c6-1bb4-4cc0-b953-50d5b908d1e3"
    },
    {
      "cell_type": "code",
      "execution_count": 10,
      "metadata": {},
      "outputs": [
        {
          "output_type": "stream",
          "name": "stdout",
          "text": [
            "안녕하세요"
          ]
        }
      ],
      "source": [
        "ins.hello()"
      ],
      "id": "dc7688af-2e9f-4364-a099-9988e758e183"
    },
    {
      "cell_type": "markdown",
      "metadata": {},
      "source": [
        "`-` **예제2**– `__init__`의 사용방법\n",
        "\n",
        "아래의 조건에 맞는 클래스를 구현하라.\n",
        "\n",
        "1.  “클래스 $\\to$ 인스턴스”의 과정에서 변수 a가 True 로 초기설정된다.\n",
        "2.  클래스에는 show()라는 메소드가 정의되어 있으며, show()의 기능은 a의\n",
        "    값을 print 하는 기능을 한다.\n",
        "\n",
        "(풀이)"
      ],
      "id": "6590bdb2-1dd5-4aa7-9157-1eaecd9ef000"
    },
    {
      "cell_type": "code",
      "execution_count": 11,
      "metadata": {},
      "outputs": [],
      "source": [
        "class Klass: \n",
        "    def __init__(self):\n",
        "        self.a = True\n",
        "    def show(self):\n",
        "        print(self.a)"
      ],
      "id": "0181e390-15c9-4986-8b5e-91679f71c7c5"
    },
    {
      "cell_type": "code",
      "execution_count": 12,
      "metadata": {},
      "outputs": [],
      "source": [
        "ins = Klass()"
      ],
      "id": "a62a1285-b2f9-44ed-93e2-3a14f3cc4bdd"
    },
    {
      "cell_type": "code",
      "execution_count": 14,
      "metadata": {},
      "outputs": [
        {
          "output_type": "stream",
          "name": "stdout",
          "text": [
            "True"
          ]
        }
      ],
      "source": [
        "ins.show()"
      ],
      "id": "17b7ca86-f705-48ae-bbb4-546375ca6809"
    },
    {
      "cell_type": "markdown",
      "metadata": {},
      "source": [
        "`-` **예제3**– method의 정의 및 사용\n",
        "\n",
        "아래의 조건에 맞는 클래스를 구현하라.\n",
        "\n",
        "1.  “클래스 $\\to$ 인스턴스”의 과정에서 변수 a가 True 로 초기설정된다.\n",
        "2.  클래스에는 toggle() 이라는 메소드가 정의되어 있다. 이 기능은 변수\n",
        "    a의 값이 True 이면 False 로, False 이면 True 로 바꾸는 역할을 한다.\n",
        "3.  클래스에는 show()라는 메소드가 정의되어 있다. 이 기능은 a의 값을\n",
        "    print 하는 기능을 한다.\n",
        "\n",
        "(풀이)"
      ],
      "id": "2df3d270-6ec9-4570-ae59-2ae48036b907"
    },
    {
      "cell_type": "code",
      "execution_count": 19,
      "metadata": {},
      "outputs": [],
      "source": [
        "class Klass: \n",
        "    def __init__(self):\n",
        "        self.a = True\n",
        "    def toggle(self):\n",
        "        self.a = not self.a\n",
        "    def show(self):\n",
        "        print(self.a)"
      ],
      "id": "774f52c5-de61-4f35-a771-394405a57b42"
    },
    {
      "cell_type": "code",
      "execution_count": 20,
      "metadata": {},
      "outputs": [],
      "source": [
        "ins = Klass()"
      ],
      "id": "b83176b4-21f1-4ee9-84cc-1916594808d3"
    },
    {
      "cell_type": "code",
      "execution_count": 21,
      "metadata": {},
      "outputs": [],
      "source": [
        "ins.a"
      ],
      "id": "7c7e1e31-ec97-427a-bd86-87f68ce80035"
    },
    {
      "cell_type": "code",
      "execution_count": 23,
      "metadata": {},
      "outputs": [],
      "source": [
        "ins.toggle()"
      ],
      "id": "621e78ea-9194-4fe6-8e93-18391f6d25e5"
    },
    {
      "cell_type": "code",
      "execution_count": 24,
      "metadata": {},
      "outputs": [
        {
          "output_type": "stream",
          "name": "stdout",
          "text": [
            "False"
          ]
        }
      ],
      "source": [
        "ins.show()"
      ],
      "id": "891475ef-32eb-475f-84c9-cffdb3eb30f4"
    },
    {
      "cell_type": "code",
      "execution_count": 25,
      "metadata": {},
      "outputs": [
        {
          "output_type": "stream",
          "name": "stdout",
          "text": [
            "False"
          ]
        }
      ],
      "source": [
        "ins.toggle()\n",
        "ins.toggle()\n",
        "ins.show()"
      ],
      "id": "03f274f7-32c2-4b96-b977-558514b8c68d"
    },
    {
      "cell_type": "code",
      "execution_count": 26,
      "metadata": {},
      "outputs": [
        {
          "output_type": "stream",
          "name": "stdout",
          "text": [
            "True"
          ]
        }
      ],
      "source": [
        "ins.toggle()\n",
        "ins.toggle()\n",
        "ins.toggle()\n",
        "ins.show()"
      ],
      "id": "c40e2108-4152-4c35-8520-d80f4f26c3cd"
    },
    {
      "cell_type": "markdown",
      "metadata": {},
      "source": [
        "`-` **예제4** – method의 정의 및 사용\n",
        "\n",
        "아래의 조건에 맞는 클래스를 구현하라.\n",
        "\n",
        "1.  “클래스 $\\to$ 인스턴스”의 과정에서 변수 a가 0으로 초기설정된다.\n",
        "2.  클래스에는 up()라는 메소드가 정의되어 있다. up()의 기능은 a의 값을\n",
        "    1증가시키는 기능을 한다.\n",
        "3.  클래스에는 show()라는 메소드가 정의되어 있다. show()의 기능은 a의\n",
        "    값을 print 하는 가능을 한다.\n",
        "\n",
        "(풀이)"
      ],
      "id": "9836acef-8068-4ab0-a101-9330b555ca24"
    },
    {
      "cell_type": "code",
      "execution_count": 27,
      "metadata": {},
      "outputs": [],
      "source": [
        "class Klass:\n",
        "    def __init__(self):\n",
        "        self.a = 0 \n",
        "    def up(self):\n",
        "        self.a = self.a + 1\n",
        "    def show(self):\n",
        "        print(self.a) "
      ],
      "id": "544ad45f-7d7f-4b48-aaf5-497481054c0f"
    },
    {
      "cell_type": "code",
      "execution_count": 28,
      "metadata": {},
      "outputs": [],
      "source": [
        "ins = Klass() "
      ],
      "id": "ce530d07-4542-46f5-abb5-7575285614ba"
    },
    {
      "cell_type": "code",
      "execution_count": 31,
      "metadata": {},
      "outputs": [
        {
          "output_type": "stream",
          "name": "stdout",
          "text": [
            "0"
          ]
        }
      ],
      "source": [
        "ins.show()"
      ],
      "id": "c6b427f7-9cc6-49d9-86aa-cb17349d0a5e"
    },
    {
      "cell_type": "code",
      "execution_count": 32,
      "metadata": {},
      "outputs": [
        {
          "output_type": "stream",
          "name": "stdout",
          "text": [
            "2"
          ]
        }
      ],
      "source": [
        "ins.up()\n",
        "ins.up()\n",
        "ins.show()"
      ],
      "id": "b0229906-df35-43d8-b172-fca4137b6cdf"
    },
    {
      "cell_type": "markdown",
      "metadata": {},
      "source": [
        "`-` **예제5** – 외부입력을 사용하는 `__init__`\n",
        "\n",
        "아래의 조건에 맞는 클래스를 구현하라.\n",
        "\n",
        "1.  “클래스 $\\to$ 인스턴스”의 과정에서 변수 a의 값이 사용자가 입력한\n",
        "    값으로 초기설정된다.\n",
        "2.  클래스에는 show()라는 메소드가 정의되어 있다. show()의 기능은 a의\n",
        "    값을 print 하는 가능을 한다.\n",
        "\n",
        "(풀이)"
      ],
      "id": "082a3da1-d362-4d95-bf65-6aee85c57382"
    },
    {
      "cell_type": "code",
      "execution_count": 33,
      "metadata": {},
      "outputs": [],
      "source": [
        "class Klass:\n",
        "    def __init__(self,value):\n",
        "        self.a = value\n",
        "    def show(self):\n",
        "        print(self.a) "
      ],
      "id": "3593fb28-d890-4582-99d7-b825886eb2e9"
    },
    {
      "cell_type": "code",
      "execution_count": 38,
      "metadata": {},
      "outputs": [],
      "source": [
        "ins = Klass(397)"
      ],
      "id": "21a3b588-f04c-4d31-a2ef-458029a6a59c"
    },
    {
      "cell_type": "code",
      "execution_count": 39,
      "metadata": {},
      "outputs": [
        {
          "output_type": "stream",
          "name": "stdout",
          "text": [
            "397"
          ]
        }
      ],
      "source": [
        "ins.show()"
      ],
      "id": "6170bdfe-c1cb-4961-8a0d-c1c771c0a7a2"
    },
    {
      "cell_type": "markdown",
      "metadata": {},
      "source": [
        "`-` **예제6** – 외부입력을 사용하는 method\n",
        "\n",
        "아래의 조건에 맞는 클래스를 구현하라.\n",
        "\n",
        "1.  “클래스 $\\to$ 인스턴스”의 과정에서 변수 a가 0으로 초기설정된다.\n",
        "2.  클래스에는 up()라는 메소드가 정의되어 있다. up()의 기능은 a의 값을\n",
        "    1증가시키는 기능을 한다.\n",
        "3.  클래스에는 jump()라는 메소드가 정의되어 있다. jump()는 jump_size 를\n",
        "    입력으로 받으며 a의 값을 jump_size 만큼 증가시키는 기능을 한다.\n",
        "4.  클래스에는 show()라는 메소드가 정의되어 있다. show()의 기능은 a의\n",
        "    값을 print 하는 기능을 한다.\n",
        "\n",
        "(풀이)"
      ],
      "id": "110f8f48-a61c-4f2e-9f9f-03f551b2dbfd"
    },
    {
      "cell_type": "code",
      "execution_count": 44,
      "metadata": {},
      "outputs": [],
      "source": [
        "class Klass:\n",
        "    def __init__(self):\n",
        "        self.a = 0\n",
        "    def up(self):\n",
        "        self.a = self.a + 1  \n",
        "    def jump(self,jump_size):\n",
        "        self.a = self.a + jump_size      \n",
        "    def show(self):\n",
        "        print('a={}'.format(self.a))"
      ],
      "id": "4527d941-d930-473c-ba9a-8a06fa04c268"
    },
    {
      "cell_type": "code",
      "execution_count": 45,
      "metadata": {},
      "outputs": [],
      "source": [
        "ins = Klass()"
      ],
      "id": "4110b3bd-8f4f-4d56-b3f4-8730cd852ba9"
    },
    {
      "cell_type": "code",
      "execution_count": 47,
      "metadata": {},
      "outputs": [
        {
          "output_type": "stream",
          "name": "stdout",
          "text": [
            "a=0"
          ]
        }
      ],
      "source": [
        "ins.show()"
      ],
      "id": "57e6b007-2186-4bd8-ab6a-ba84a795ea68"
    },
    {
      "cell_type": "code",
      "execution_count": 48,
      "metadata": {},
      "outputs": [
        {
          "output_type": "stream",
          "name": "stdout",
          "text": [
            "a=1"
          ]
        }
      ],
      "source": [
        "ins.up()\n",
        "ins.show()"
      ],
      "id": "d3c2862a-dfa6-48b1-a8b9-8a5631561e49"
    },
    {
      "cell_type": "code",
      "execution_count": 49,
      "metadata": {},
      "outputs": [
        {
          "output_type": "stream",
          "name": "stdout",
          "text": [
            "a=102"
          ]
        }
      ],
      "source": [
        "ins.up()\n",
        "ins.jump(100)\n",
        "ins.show()"
      ],
      "id": "386b1946-e4d7-4e0e-bca5-7d1c451e5653"
    },
    {
      "cell_type": "markdown",
      "metadata": {},
      "source": [
        "`-` **예제7** – 메소드에서 메소드 사용하기\n",
        "\n",
        "아래의 조건에 맞는 클래스를 구현하라.\n",
        "\n",
        "1.  “클래스 $\\to$ 인스턴스”의 과정에서 변수 a가 0으로 초기설정된다.\n",
        "2.  클래스에는 up()라는 메소드가 정의되어 있다. up()의 기능은 a의 값을\n",
        "    1증가시키는 기능을 한다.\n",
        "3.  클래스에는 jump()라는 메소드가 정의되어 있다. jump()는 jump_size 를\n",
        "    입력으로 받으며 a의 값을 jump_size 만큼 증가시키는 기능을 한다.\n",
        "4.  클래스에는 reset()이라는 메소드가 정의되어 있다. reset()는 a의 값을\n",
        "    0으로 초기화하는 역할을 한다.\n",
        "5.  클래스에는 show()라는 메소드가 정의되어 있다. show()의 기능은 a의\n",
        "    값을 print 하는 기능을 한다."
      ],
      "id": "44f1576e-fefa-494f-95f3-506f7e5aeffc"
    },
    {
      "cell_type": "code",
      "execution_count": 63,
      "metadata": {},
      "outputs": [],
      "source": [
        "class Klass:\n",
        "    def __init__(self):\n",
        "        self.a = 0\n",
        "    def up(self):\n",
        "        self.a = self.a + 1  \n",
        "    def jump(self,jump_size):\n",
        "        self.a = self.a + jump_size      \n",
        "    def show(self):\n",
        "        print('a={}'.format(self.a))\n",
        "    def reset(self):\n",
        "        self.__init__()"
      ],
      "id": "91678750-ca0f-4442-99ad-8bd029ca48ed"
    },
    {
      "cell_type": "code",
      "execution_count": 64,
      "metadata": {},
      "outputs": [],
      "source": [
        "ins = Klass()"
      ],
      "id": "479317cf-0edb-4b59-aee3-f605a405a4dd"
    },
    {
      "cell_type": "code",
      "execution_count": 65,
      "metadata": {},
      "outputs": [
        {
          "output_type": "stream",
          "name": "stdout",
          "text": [
            "a=0"
          ]
        }
      ],
      "source": [
        "ins.show()"
      ],
      "id": "1794e2d5-714a-4165-bb8a-9a766614cf42"
    },
    {
      "cell_type": "code",
      "execution_count": 66,
      "metadata": {},
      "outputs": [],
      "source": [
        "ins.up()\n",
        "ins.jump(3)\n",
        "ins.up()\n",
        "ins.up()\n",
        "ins.jump(5)"
      ],
      "id": "0b55b5ed-1fc8-427c-8082-7051d782034f"
    },
    {
      "cell_type": "code",
      "execution_count": 67,
      "metadata": {},
      "outputs": [
        {
          "output_type": "stream",
          "name": "stdout",
          "text": [
            "a=11"
          ]
        }
      ],
      "source": [
        "ins.show()"
      ],
      "id": "8dfe0cfd-fdf8-4380-81cf-638886f461ba"
    },
    {
      "cell_type": "code",
      "execution_count": 68,
      "metadata": {},
      "outputs": [
        {
          "output_type": "stream",
          "name": "stdout",
          "text": [
            "a=0"
          ]
        }
      ],
      "source": [
        "ins.reset()\n",
        "ins.show()"
      ],
      "id": "c896f624-1576-4bea-98d4-291b136c8bc2"
    },
    {
      "cell_type": "markdown",
      "metadata": {},
      "source": [
        "`-` **예제8:** – 이미지출력\n",
        "\n",
        "아래의 코드를 관찰"
      ],
      "id": "e646a2d0-898b-46e6-82c5-fb11bb982a82"
    },
    {
      "cell_type": "code",
      "execution_count": 69,
      "metadata": {},
      "outputs": [],
      "source": [
        "url = 'https://github.com/guebin/PP2023/blob/main/posts/03_Class/burgerking.png?raw=true'\n",
        "html_str = '<img src={url} width=\"600\">'.format(url=url)\n",
        "display(HTML(html_str))"
      ],
      "id": "b38c7009-8ee2-4e0c-bc69-b894f5972c63"
    },
    {
      "cell_type": "markdown",
      "metadata": {},
      "source": [
        "아래의 조건에 맞는 클래스를 구현하라.\n",
        "\n",
        "1.  “클래스 $\\to$ 인스턴스”의 과정에서 변수 url이 위에서 제시된 값으로\n",
        "    초기화된다.\n",
        "2.  클래스에는 show()라는 함수가 있어서 url에 해당하는 이미지를\n",
        "    출력해주는 기능을 가진다.\n",
        "\n",
        "(풀이)"
      ],
      "id": "4fb75136-8836-4e69-a267-2fe047d5934d"
    },
    {
      "cell_type": "code",
      "execution_count": 116,
      "metadata": {},
      "outputs": [],
      "source": [
        "class Klass:\n",
        "    def __init__(self):\n",
        "        self.url = 'https://github.com/guebin/PP2023/blob/main/posts/03_Class/burgerking.png?raw=true'\n",
        "    def show(self):\n",
        "        html_str = '<img src={url} width=\"600\">'.format(url=self.url)\n",
        "        display(HTML(html_str))"
      ],
      "id": "e05b9046-3dc7-443c-bae3-0269be239864"
    },
    {
      "cell_type": "code",
      "execution_count": 117,
      "metadata": {},
      "outputs": [],
      "source": [
        "ins = Klass()"
      ],
      "id": "edbeedf9-b7da-457a-a8ea-e3aabc5357df"
    },
    {
      "cell_type": "code",
      "execution_count": 118,
      "metadata": {},
      "outputs": [],
      "source": [
        "ins.show()"
      ],
      "id": "fb1604b4-96eb-454a-a785-ad6b35286ed7"
    },
    {
      "cell_type": "markdown",
      "metadata": {},
      "source": [
        "`-` **예제9–** 이미지 출력 + 횟수 기록\n",
        "\n",
        "1.  “클래스 $\\to$ 인스턴스”의 과정에서 변수 url이 위에서 제시된 값으로\n",
        "    초기화된다.\n",
        "2.  클래스에는 show()라는 함수가 있어서 (1) url에 해당하는 이미지를\n",
        "    출력하고 (2) “당신은 이 그림을 $n$번 보았습니다” 를 출력하는 기능을\n",
        "    한다. 여기에서 $n$은 그림을 본 횟수"
      ],
      "id": "1e9b3b24-920a-424f-81f8-cdc7ff1defbd"
    },
    {
      "cell_type": "code",
      "execution_count": 119,
      "metadata": {},
      "outputs": [],
      "source": [
        "class Klass:\n",
        "    def __init__(self):\n",
        "        self.n = 0\n",
        "        self.url = 'https://github.com/guebin/PP2023/blob/main/posts/03_Class/burgerking.png?raw=true'\n",
        "    def show(self):\n",
        "        self.n = self.n + 1 \n",
        "        html_str = '<img src={url} width=\"600\">'.format(url=self.url)\n",
        "        display(HTML(html_str))\n",
        "        print(\"당신은 이 그림을 {}번 보았습니다.\".format(self.n))"
      ],
      "id": "145c6b1e-df79-4bc0-9053-93af671f4aa6"
    },
    {
      "cell_type": "code",
      "execution_count": 107,
      "metadata": {},
      "outputs": [],
      "source": [
        "ins = Klass()"
      ],
      "id": "54890adc-3907-44f9-8a8c-fcd87cda7376"
    },
    {
      "cell_type": "code",
      "execution_count": 108,
      "metadata": {},
      "outputs": [
        {
          "output_type": "stream",
          "name": "stdout",
          "text": [
            "당신은 이 그림을 1번 보았습니다."
          ]
        }
      ],
      "source": [
        "ins.show()"
      ],
      "id": "9c8ae784-0a7c-47ef-9fff-99b84975a97f"
    },
    {
      "cell_type": "markdown",
      "metadata": {},
      "source": [
        "`-` **예제10** – 여러 인스턴스 동시관리\n",
        "\n",
        "예제9에서 만든 클래스를 이용하여 아래의 url에 해당하는 이미지를\n",
        "출력하라.\n",
        "\n",
        "-   https://github.com/guebin/PP2023/blob/main/posts/03_Class/JungGGuckMa.jpg?raw=true\n",
        "\n",
        ".show()를 이용해 두 이미지를 번갈아 가며 관찰하고 횟수가 올바르게\n",
        "카운트되는지 확인하라."
      ],
      "id": "72ae9ebc-f8b7-4903-91ed-fd443bf58253"
    },
    {
      "cell_type": "code",
      "execution_count": 109,
      "metadata": {},
      "outputs": [],
      "source": [
        "ins1 = Klass()\n",
        "ins2 = Klass()"
      ],
      "id": "343b20cc-a28f-4f56-81b6-907851c2baa6"
    },
    {
      "cell_type": "code",
      "execution_count": 110,
      "metadata": {},
      "outputs": [],
      "source": [
        "ins2.url = 'https://github.com/guebin/PP2023/blob/main/posts/03_Class/JungGGuckMa.jpg?raw=true'"
      ],
      "id": "22f92b31-7b3f-4a7d-994b-633484f11feb"
    },
    {
      "cell_type": "code",
      "execution_count": 111,
      "metadata": {},
      "outputs": [
        {
          "output_type": "stream",
          "name": "stdout",
          "text": [
            "당신은 이 그림을 1번 보았습니다."
          ]
        }
      ],
      "source": [
        "ins1.show()"
      ],
      "id": "f297152c-61b6-4e5b-b53a-73232b5dc4c7"
    },
    {
      "cell_type": "code",
      "execution_count": 112,
      "metadata": {},
      "outputs": [
        {
          "output_type": "stream",
          "name": "stdout",
          "text": [
            "당신은 이 그림을 1번 보았습니다."
          ]
        }
      ],
      "source": [
        "ins2.show()"
      ],
      "id": "1820caa4-7c4c-4f4e-8154-2fda7ac87248"
    },
    {
      "cell_type": "code",
      "execution_count": 114,
      "metadata": {},
      "outputs": [
        {
          "output_type": "stream",
          "name": "stdout",
          "text": [
            "당신은 이 그림을 3번 보았습니다."
          ]
        }
      ],
      "source": [
        "ins2.show()"
      ],
      "id": "3af47881-f97a-4a22-8613-06a901608f0b"
    },
    {
      "cell_type": "code",
      "execution_count": 115,
      "metadata": {},
      "outputs": [
        {
          "output_type": "stream",
          "name": "stdout",
          "text": [
            "당신은 이 그림을 2번 보았습니다."
          ]
        }
      ],
      "source": [
        "ins1.show()"
      ],
      "id": "97fe768e-a54f-4d4b-8ec3-4aa5076091d2"
    },
    {
      "cell_type": "markdown",
      "metadata": {},
      "source": [
        "# 숙제"
      ],
      "id": "95c53f06-440b-40ef-a26f-aca263d198a7"
    },
    {
      "cell_type": "code",
      "execution_count": 4,
      "metadata": {},
      "outputs": [],
      "source": [
        "import numpy as np\n",
        "import matplotlib.pyplot as plt\n",
        "import yfinance as yf"
      ],
      "id": "8f3d283a-4cae-426b-b552-8e50812b04e8"
    },
    {
      "cell_type": "markdown",
      "metadata": {},
      "source": [
        "`1`. Stock 이라는 이름의 클래스를 만들고 아래의 기능을 넣어라.\n",
        "\n",
        "**(1) crawling 메소드**: crawling 메소드는 start_date, end_date, code 를\n",
        "입력으로 받는 함수이며, code 에 대응하는 주식의 주가를 크롤링하는 기능을\n",
        "가진다. 크롤링된 주식의 가격은 numpy array 형태로 저장되어 있다.\n",
        "\n",
        "**hint**: 아래의 코드를 관찰"
      ],
      "id": "0943aaf9-5f82-4d01-899d-2a7f07d53b0b"
    },
    {
      "cell_type": "code",
      "execution_count": 7,
      "metadata": {},
      "outputs": [
        {
          "output_type": "stream",
          "name": "stdout",
          "text": [
            "[*********************100%***********************]  1 of 1 completed"
          ]
        }
      ],
      "source": [
        "start_date = \"2023-01-01\"\n",
        "end_date = \"2023-05-02\"\n",
        "code = \"005930.KS\"\n",
        "y = yf.download(code, start=start_date, end=end_date)['Adj Close'].to_numpy()"
      ],
      "id": "fc45fb24-57d6-45d9-8ffc-0f4e09fddd73"
    },
    {
      "cell_type": "markdown",
      "metadata": {},
      "source": [
        "**(2) smoothing 메소드**: smoothing는 크롤링된 주가\n",
        "${\\boldsymbol y}=(y_1,\\dots,y_n)$를 아래의 수식을 통하여 $n$회 변환하는\n",
        "기능을 한다.\n",
        "\n",
        "-   $\\tilde{y}_1= \\frac{1}{4}(3y_1 + y_2)$\n",
        "-   $\\tilde{y}_i= \\frac{1}{4}(y_{i-1}+2y_i+y_{i+1})$, for\n",
        "    $i=2,3,\\dots,n-1$\n",
        "-   $\\tilde{y}_n= \\frac{1}{4}(y_{n-1}+3y_{n})$\n",
        "\n",
        "따라서 smoothing 메소드는 횟수 $n$을 입력으로 받으며 만약에 스무딩횟수\n",
        "$n=50$ 라면 위의 변환을 50번 수행한다는 의미이다.\n",
        "\n",
        "**hint**: 아래의 코드는 스무딩횟수가 50일 경우 계산결과를 나타낸다."
      ],
      "id": "4aafaeb0-3ada-4b37-884d-e693fff277ca"
    },
    {
      "cell_type": "code",
      "execution_count": 8,
      "metadata": {},
      "outputs": [],
      "source": [
        "T = len(y)\n",
        "M = (np.eye(T) + np.array([abs(i-j)<2 for i in range(T) for j in range(T)]).reshape(T,T))/4\n",
        "M[0,0] = 3/4; M[-1,-1]= 3/4 \n",
        "np.linalg.matrix_power(M,50)@y"
      ],
      "id": "a30bf3c7-0db0-49c0-b403-255ad9a61fbd"
    },
    {
      "cell_type": "markdown",
      "metadata": {},
      "source": [
        "**(3) plot 메소드**: plot 메소드는 크롤링된 주가와 스무딩결과를 plot\n",
        "하는 역할을 한다.\n",
        "\n",
        "**hint**: 아래의 코드를 관찰"
      ],
      "id": "b76fb091-4b65-41c4-b30a-a6a38194cfa6"
    },
    {
      "cell_type": "code",
      "execution_count": 9,
      "metadata": {},
      "outputs": [
        {
          "output_type": "display_data",
          "metadata": {},
          "data": {
            "image/png": "[encoded data removed]"
          }
        }
      ],
      "source": [
        "plt.plot(y,label=r'$y$')\n",
        "plt.plot(np.linalg.matrix_power(M,50)@y,'--',label=r'$M^{50}@y$')\n",
        "plt.legend()"
      ],
      "id": "c8b97a37-6246-47b2-b642-708abcc53f1e"
    },
    {
      "cell_type": "markdown",
      "metadata": {},
      "source": [
        "`(풀이)`"
      ],
      "id": "07decb5b-f503-4bfd-af47-8342fd993426"
    },
    {
      "cell_type": "code",
      "execution_count": 83,
      "metadata": {},
      "outputs": [],
      "source": [
        "class Stock: \n",
        "    def __init__(self):\n",
        "        self.y = None\n",
        "        self.sy = None\n",
        "    def crawling(self,code,start_date,end_date):\n",
        "        self.y = yf.download(code, start=start_date, end=end_date)['Adj Close'].to_numpy()\n",
        "    def smoothing(self,n):\n",
        "        T = len(self.y)\n",
        "        self.n = n\n",
        "        M = (np.eye(T) + np.array([abs(i-j)<2 for i in range(T) for j in range(T)]).reshape(T,T))/4\n",
        "        M[0,0] = 3/4; M[-1,-1]= 3/4 \n",
        "        self.sy = np.linalg.matrix_power(M,50)@self.y\n",
        "    def plot(self):\n",
        "        plt.plot(self.y,label=r'$y$')\n",
        "        plt.plot(self.sy,'--',label=r'$M^{}@y$'.format(self.n))\n",
        "        plt.legend()        "
      ],
      "id": "e3afad0b-28c7-47ea-8dbd-4888c5d5a971"
    },
    {
      "cell_type": "markdown",
      "metadata": {},
      "source": [
        "`2`. 1에서 만든 Stock 클래스에서 kakao 인스턴스를 생성하라. 생성된 kakao\n",
        "인스턴스에서 crawling 메소드를 이용하여 아래의 조건에 맞는 주식을\n",
        "긁어오라.\n",
        "\n",
        "-   code: ‘035720.KS’ (카카오)\n",
        "-   start_date = “2023-01-01”\n",
        "-   end_date = “2023-05-26”\n",
        "\n",
        "이후 .smoothing 메소드를 이용하여 $n=50$회 스무딩하고 .plot 메소드를\n",
        "이용하여 결과를 시각화하라.\n",
        "\n",
        "(사용예시)"
      ],
      "id": "244d30c0-c280-4401-8355-155a90d66e5e"
    },
    {
      "cell_type": "code",
      "execution_count": 84,
      "metadata": {},
      "outputs": [],
      "source": [
        "kakao = Stock()"
      ],
      "id": "804200cf-beed-4c82-bac9-16241ec1ed8c"
    },
    {
      "cell_type": "code",
      "execution_count": 85,
      "metadata": {},
      "outputs": [
        {
          "output_type": "stream",
          "name": "stdout",
          "text": [
            "[*********************100%***********************]  1 of 1 completed"
          ]
        }
      ],
      "source": [
        "kakao.crawling(code='035720.KS',start_date='2023-01-01',end_date='2023-05-26')"
      ],
      "id": "d305076c-1cb7-4570-a34a-46e94a9b8c63"
    },
    {
      "cell_type": "code",
      "execution_count": 86,
      "metadata": {},
      "outputs": [],
      "source": [
        "kakao.smoothing(50)"
      ],
      "id": "27d51838-e0a7-4f79-ad85-e4b3fe455105"
    },
    {
      "cell_type": "code",
      "execution_count": 87,
      "metadata": {},
      "outputs": [
        {
          "output_type": "display_data",
          "metadata": {},
          "data": {
            "image/png": "[encoded data removed]"
          }
        }
      ],
      "source": [
        "kakao.plot()"
      ],
      "id": "92084d10-f9ca-40e1-80dd-da8bdd48d70c"
    },
    {
      "cell_type": "markdown",
      "metadata": {},
      "source": [
        "`(풀이)` 사용예시가 곧 풀이임\n",
        "\n",
        "`3`. LinearRegression 이라는 이름의 클래스를 만들고 아래의 기능을\n",
        "넣어라.\n",
        "\n",
        "**(1)** “클래스 $\\to$ 인스턴스” 인 시점에 길이가 $n$인 numpy array\n",
        "${\\bf x}=(x_1,\\dots,x_n)$, ${\\bf y}=(y_1,\\dots,y_n)$을 입력으로 받아\n",
        "내부에 저장한다.\n",
        "\n",
        "**(2) fit 메소드**: fit은 내부에 저장된 ${\\bf x}$, ${\\bf y}$를 이용하여\n",
        "$\\hat{\\bf y}=(\\hat{y}_1,\\dots,\\hat{y}_n)$을 계산하는 역할을 한다. 계산은\n",
        "아래의 수식을 이용한다.\n",
        "\n",
        "$$\\hat{\\bf y}= {\\bf X}({\\bf X}^T {\\bf X})^{-1}{\\bf X}^T {\\bf y}, \\quad {\\bf X}=\\begin{bmatrix} 1 & x_1 \\\\ 1 & x_2 \\\\ \\dots \\\\ 1 & x_n \\end{bmatrix}$$\n",
        "\n",
        "**hint** 아래의 코드를 관찰하라."
      ],
      "id": "0c19037c-4169-4df8-b752-5804b96de600"
    },
    {
      "cell_type": "code",
      "execution_count": 29,
      "metadata": {},
      "outputs": [],
      "source": [
        "x =  np.array([0.00983, 0.01098, 0.02951, 0.0384 , 0.03973, 0.04178, 0.0533 ,\n",
        "               0.058  , 0.09454, 0.1103 , 0.1328 , 0.1412 , 0.1497 , 0.1664 ,\n",
        "               0.1906 , 0.1923 , 0.198  , 0.2141 , 0.2393 , 0.2433 , 0.3157 ,\n",
        "               0.3228 , 0.3418 , 0.3552 , 0.3918 , 0.3962 , 0.4    , 0.4482 ,\n",
        "               0.496  , 0.507  , 0.53   , 0.5654 , 0.582  , 0.5854 , 0.5854 ,\n",
        "               0.6606 , 0.7007 , 0.723  , 0.7305 , 0.7383 , 0.7656 , 0.7725 ,\n",
        "               0.831  , 0.8896 , 0.9053 , 0.914  , 0.949  , 0.952  , 0.9727 ,\n",
        "               0.982  ])\n",
        "y =  np.array([0.7381, 0.7043, 0.3937, 0.1365, 0.3784, 0.3028, 0.1037, 0.3846,\n",
        "               0.706 , 0.7572, 0.2421, 0.232 , 0.9855, 1.162 , 0.4653, 0.6791,\n",
        "               0.6905, 0.6865, 0.9757, 0.7665, 0.9522, 0.4641, 0.5498, 1.1509,\n",
        "               0.5288, 1.1195, 1.1659, 1.4341, 1.2779, 1.1648, 1.4002, 0.7472,\n",
        "               0.9142, 0.9658, 1.0707, 1.4501, 1.6758, 0.8778, 1.3384, 0.7476,\n",
        "               1.3086, 1.7537, 1.5559, 1.2928, 1.3832, 1.3115, 1.3382, 1.536 ,           \n",
        "               1.9177, 1.2069])"
      ],
      "id": "1bb05e4e-3739-4a9f-adae-9d0574526f84"
    },
    {
      "cell_type": "code",
      "execution_count": 31,
      "metadata": {},
      "outputs": [],
      "source": [
        "n = len(x)\n",
        "X = np.stack([np.ones(n),x],axis=1)\n",
        "yhat = X@np.linalg.inv(X.T@X)@X.T@y "
      ],
      "id": "5caa77e4-e376-4ecb-9668-60cf16f8cba6"
    },
    {
      "cell_type": "markdown",
      "metadata": {},
      "source": [
        "**(3) plot 메소드**:c\n",
        "\n",
        "**hint** 아래의 코드를 관찰하라."
      ],
      "id": "292bc181-2c3e-4e57-afc4-ef9839cd2cac"
    },
    {
      "cell_type": "code",
      "execution_count": 35,
      "metadata": {},
      "outputs": [
        {
          "output_type": "display_data",
          "metadata": {},
          "data": {
            "image/png": "[encoded data removed]"
          }
        }
      ],
      "source": [
        "plt.plot(x,y,'o',label=r'$(x_i,y_i)$')\n",
        "plt.plot(x,yhat,'--',label=r'$(x_i,\\hat{y}_i)$')\n",
        "plt.legend()"
      ],
      "id": "7af03974-3371-423f-a4c6-9f0eac99bac1"
    },
    {
      "cell_type": "markdown",
      "metadata": {},
      "source": [
        "`(풀이)`"
      ],
      "id": "7b9ee925-6b5b-41b8-9eb0-b331ef6e24c4"
    },
    {
      "cell_type": "code",
      "execution_count": 88,
      "metadata": {},
      "outputs": [],
      "source": [
        "class LinearRegression: \n",
        "    def __init__(self,x,y):\n",
        "        self.x = x\n",
        "        self.y = y \n",
        "    def fit(self):\n",
        "        n = len(self.x)\n",
        "        self.X = np.stack([np.ones(n),self.x],axis=1)\n",
        "        self.yhat = self.X@np.linalg.inv(self.X.T@self.X)@self.X.T@self.y \n",
        "    def plot(self):\n",
        "        plt.plot(self.x,self.y,'o',label=r'$(x_i,y_i)$')\n",
        "        plt.plot(self.x,self.yhat,'--',label=r'$(x_i,\\hat{y}_i)$')\n",
        "        plt.legend()"
      ],
      "id": "4fc635e3-f48e-4404-83d1-b4960457bb26"
    },
    {
      "cell_type": "markdown",
      "metadata": {},
      "source": [
        "`4`. LinearRegression 을 이용하여 아래의 자료에 대한 분석을 진행하라. 즉\n",
        "`.fit()` 을 이용하여 $\\hat{y}_i$ 를 계산하고 `.plot()`을 이용하여 결과를\n",
        "시각화하라."
      ],
      "id": "042a8998-cb3c-4675-ae07-d5f3a0d09432"
    },
    {
      "cell_type": "code",
      "execution_count": 91,
      "metadata": {},
      "outputs": [],
      "source": [
        "x = np.array(\n",
        "    [0.007, 0.008, 0.008, 0.011, 0.037, 0.047, 0.059, 0.07 , 0.072,\n",
        "     0.075, 0.078, 0.08 , 0.082, 0.11 , 0.114, 0.117, 0.133, 0.15 ,\n",
        "     0.161, 0.163, 0.172, 0.208, 0.209, 0.221, 0.229, 0.231, 0.234,\n",
        "     0.235, 0.249, 0.251, 0.256, 0.269, 0.269, 0.273, 0.275, 0.298,\n",
        "     0.305, 0.309, 0.34 , 0.362, 0.371, 0.374, 0.382, 0.387, 0.388,\n",
        "     0.394, 0.395, 0.397, 0.401, 0.404, 0.419, 0.433, 0.436, 0.466,\n",
        "     0.481, 0.492, 0.495, 0.508, 0.511, 0.512, 0.554, 0.57 , 0.574,\n",
        "     0.575, 0.584, 0.6  , 0.601, 0.615, 0.618, 0.623, 0.629, 0.633,\n",
        "     0.646, 0.65 , 0.654, 0.662, 0.673, 0.686, 0.702, 0.744, 0.754,\n",
        "     0.766, 0.772, 0.781, 0.798, 0.8  , 0.807, 0.836, 0.837, 0.871,\n",
        "     0.873, 0.877, 0.879, 0.889, 0.891, 0.902, 0.904, 0.923, 0.952,\n",
        "     0.981]\n",
        ")"
      ],
      "id": "c5d04bb0-c051-4751-b8bb-776f51ad391e"
    },
    {
      "cell_type": "code",
      "execution_count": 92,
      "metadata": {},
      "outputs": [],
      "source": [
        "y = np.array(\n",
        "    [4.004, 4.189, 5.483, 4.902, 5.174, 4.468, 4.95 , 4.463, 5.476,\n",
        "     4.446, 4.764, 5.244, 4.357, 4.796, 5.464, 4.196, 5.244, 4.868,\n",
        "     5.358, 4.493, 4.831, 4.716, 4.929, 4.588, 4.718, 4.389, 4.985,\n",
        "     4.266, 4.291, 3.697, 4.248, 4.88 , 5.126, 4.563, 4.131, 4.728,\n",
        "     4.168, 4.584, 3.953, 4.747, 3.592, 5.023, 4.601, 3.904, 4.092,\n",
        "     4.37 , 3.922, 4.145, 4.576, 4.25 , 4.051, 3.616, 4.634, 3.496,\n",
        "     4.631, 4.025, 4.197, 4.226, 4.808, 3.676, 3.834, 3.197, 4.36 ,\n",
        "     3.547, 3.956, 3.522, 4.26 , 3.443, 3.97 , 4.068, 4.186, 3.262,\n",
        "     3.452, 3.946, 3.875, 3.444, 3.501, 3.959, 3.843, 2.679, 3.266,\n",
        "     3.506, 2.916, 3.714, 4.007, 2.795, 3.329, 2.756, 3.72 , 2.381,\n",
        "     2.798, 3.035, 3.492, 3.22 , 3.073, 3.85 , 3.233, 3.396, 3.264,\n",
        "     2.986]\n",
        ")    "
      ],
      "id": "65929f40-7fe4-4248-b326-27f5424aaa4d"
    },
    {
      "cell_type": "markdown",
      "metadata": {},
      "source": [
        "`(풀이)`"
      ],
      "id": "e1e3550f-a307-4d9a-ac11-b2f054683472"
    },
    {
      "cell_type": "code",
      "execution_count": 93,
      "metadata": {},
      "outputs": [
        {
          "output_type": "display_data",
          "metadata": {},
          "data": {
            "image/png": "[encoded data removed]"
          }
        }
      ],
      "source": [
        "linreg = LinearRegression(x,y)\n",
        "linreg.fit()\n",
        "linreg.plot()"
      ],
      "id": "9c9d75e4-272e-4a07-8374-68a1e3a931a9"
    }
  ],
  "nbformat": 4,
  "nbformat_minor": 5,
  "metadata": {
    "kernelspec": {
      "name": "python3",
      "display_name": "Python 3",
      "language": "python"
    },
    "language_info": {
      "name": "python",
      "codemirror_mode": {
        "name": "ipython",
        "version": "3"
      },
      "file_extension": ".py",
      "mimetype": "text/x-python",
      "nbconvert_exporter": "python",
      "pygments_lexer": "ipython3",
      "version": "3.8.16"
    }
  }
}