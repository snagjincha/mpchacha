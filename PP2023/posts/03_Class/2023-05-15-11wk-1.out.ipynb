{
  "cells": [
    {
      "cell_type": "markdown",
      "metadata": {},
      "source": [
        "# 11wk-1: 밈과 클래스 (2)\n",
        "\n",
        "최규빈  \n",
        "2023-05-15\n",
        "\n",
        "<a href=\"https://colab.research.google.com/github/guebin/PP2023/blob/main/posts/03_Class/2023-05-15-11wk-1.ipynb\"><img src=\"https://colab.research.google.com/assets/colab-badge.svg\" style=\"text-align: left\"></a>\n",
        "\n",
        "# 강의영상\n",
        "\n",
        "> youtube:\n",
        "> <https://youtube.com/playlist?list=PLQqh36zP38-y_wMxWRPdN7TE79Ghx8xUA>\n",
        "\n",
        "# imports"
      ],
      "id": "b4bd891c-b086-40ff-8b3f-ad3b171140de"
    },
    {
      "cell_type": "code",
      "execution_count": 1,
      "metadata": {},
      "outputs": [],
      "source": [
        "from IPython.core.display import HTML"
      ],
      "id": "283d8174-52e4-45ab-bbc9-07758094caf2"
    },
    {
      "cell_type": "markdown",
      "metadata": {},
      "source": [
        "# 예비학습\n",
        "\n",
        "## 코드줄바꿈\n",
        "\n",
        "`\\`: 코드가 길때 줄을 바꾸는 기능\n",
        "\n",
        "`-` 예시1"
      ],
      "id": "00f65858-963e-4982-904d-685e8250627c"
    },
    {
      "cell_type": "code",
      "execution_count": 2,
      "metadata": {},
      "outputs": [],
      "source": [
        "a\\\n",
        "=55"
      ],
      "id": "8d1fff91-bb20-4a51-b456-6b515a4d714e"
    },
    {
      "cell_type": "code",
      "execution_count": 3,
      "metadata": {},
      "outputs": [],
      "source": [
        "a"
      ],
      "id": "f6f27933-dbc4-4c79-ba33-07ce326205b8"
    },
    {
      "cell_type": "code",
      "execution_count": 4,
      "metadata": {},
      "outputs": [],
      "source": [
        "a=\\\n",
        "33"
      ],
      "id": "95ae691b-80ae-4a36-9ec7-79a313f4d931"
    },
    {
      "cell_type": "code",
      "execution_count": 5,
      "metadata": {},
      "outputs": [],
      "source": [
        "a"
      ],
      "id": "879e3fdc-d066-4b65-950d-57f43b42e189"
    },
    {
      "cell_type": "markdown",
      "metadata": {},
      "source": [
        "`-` 예시2"
      ],
      "id": "4904e512-434f-4f7d-a73d-c1db76ad3033"
    },
    {
      "cell_type": "code",
      "execution_count": 6,
      "metadata": {},
      "outputs": [],
      "source": [
        "a=0.5 \n",
        "a"
      ],
      "id": "13053545-d328-4f42-9f36-776f6fa67de5"
    },
    {
      "cell_type": "markdown",
      "metadata": {},
      "source": [
        "$a+a^2+a^3+a^4+a^5$ 를 계산하고 싶다면?\n",
        "\n",
        "(방법1)"
      ],
      "id": "ba2c44d4-c57f-4917-a489-03d70c122cb2"
    },
    {
      "cell_type": "code",
      "execution_count": 7,
      "metadata": {},
      "outputs": [],
      "source": [
        "a + a**2 + a**3 + a**4 + a**5 "
      ],
      "id": "a60dd3b2-7914-4dd8-9be7-a437605e623a"
    },
    {
      "cell_type": "markdown",
      "metadata": {},
      "source": [
        "(방법2)"
      ],
      "id": "3373273d-5eae-4ff2-9cae-ef60ccff7714"
    },
    {
      "cell_type": "code",
      "execution_count": 8,
      "metadata": {},
      "outputs": [],
      "source": [
        "a +\\\n",
        "a**2 +\\\n",
        "a**3 +\\\n",
        "a**4 +\\\n",
        "a**5 "
      ],
      "id": "52f7caa3-a6e7-4835-902a-e337d49f0eee"
    },
    {
      "cell_type": "markdown",
      "metadata": {},
      "source": [
        "## `'''`으로 선언하는 문자열\n",
        "\n",
        "`-` 예시1"
      ],
      "id": "e587e775-8249-44b4-802a-6368a829f7ea"
    },
    {
      "cell_type": "code",
      "execution_count": 9,
      "metadata": {},
      "outputs": [
        {
          "output_type": "stream",
          "name": "stdout",
          "text": [
            "\n",
            "1. asdf\n",
            "2. sdfa\n",
            "3. dfas\n",
            "4. fasd\n"
          ]
        }
      ],
      "source": [
        "string = '\\n1. asdf\\n2. sdfa\\n3. dfas\\n4. fasd\\n'\n",
        "print(string)"
      ],
      "id": "4b67f1bd-2a0f-4e40-a7d6-42376b0a70e0"
    },
    {
      "cell_type": "code",
      "execution_count": 10,
      "metadata": {},
      "outputs": [
        {
          "output_type": "stream",
          "name": "stdout",
          "text": [
            "\n",
            "1. asdf\n",
            "2. sdfa\n",
            "3. dfas\n",
            "4. fasd\n"
          ]
        }
      ],
      "source": [
        "string = \\\n",
        "'''\n",
        "1. asdf\n",
        "2. sdfa\n",
        "3. dfas\n",
        "4. fasd\n",
        "'''\n",
        "print(string)"
      ],
      "id": "3d952b7f-f308-47a1-a553-73b044d2c6d3"
    },
    {
      "cell_type": "markdown",
      "metadata": {},
      "source": [
        "`-` 예시2"
      ],
      "id": "806eaf4f-1f1e-4e70-93d9-f534427484f6"
    },
    {
      "cell_type": "code",
      "execution_count": 11,
      "metadata": {},
      "outputs": [],
      "source": [
        "string = \\\n",
        "'''\n",
        "1. asdf\n",
        "2. sdfa\n",
        "3. dfas\n",
        "4. fasd\n",
        "5. {}\n",
        "6. {}\n",
        "'''"
      ],
      "id": "288e1da0-64e2-4aa4-8ec5-2786f7e714a1"
    },
    {
      "cell_type": "code",
      "execution_count": 12,
      "metadata": {},
      "outputs": [
        {
          "output_type": "stream",
          "name": "stdout",
          "text": [
            "\n",
            "1. asdf\n",
            "2. sdfa\n",
            "3. dfas\n",
            "4. fasd\n",
            "5. aaaa\n",
            "6. bbbb\n"
          ]
        }
      ],
      "source": [
        "print(string.format('aaaa','bbbb'))"
      ],
      "id": "5be2e653-cd71-457c-bf71-37946d909a90"
    },
    {
      "cell_type": "markdown",
      "metadata": {},
      "source": [
        "## 문자열 포맷팅\n",
        "\n",
        "`-` 예시1"
      ],
      "id": "2e24f64a-eba0-4275-bf57-78365a67bff3"
    },
    {
      "cell_type": "code",
      "execution_count": 13,
      "metadata": {},
      "outputs": [],
      "source": [
        "string = \\\n",
        "'''\n",
        "1. 이름: {}\n",
        "2. 소속: {}\n",
        "'''"
      ],
      "id": "5f293012-2e7a-499b-abcb-2d039a1e6fad"
    },
    {
      "cell_type": "code",
      "execution_count": 14,
      "metadata": {},
      "outputs": [
        {
          "output_type": "stream",
          "name": "stdout",
          "text": [
            "\n",
            "1. 이름: 최규빈\n",
            "2. 소속: 통계학과\n"
          ]
        }
      ],
      "source": [
        "print(string.format('최규빈','통계학과'))"
      ],
      "id": "09365fd2-8f3e-4a9d-8bba-cac9ad9ab36d"
    },
    {
      "cell_type": "code",
      "execution_count": 15,
      "metadata": {},
      "outputs": [
        {
          "output_type": "stream",
          "name": "stdout",
          "text": [
            "\n",
            "1. 이름: 통계학과\n",
            "2. 소속: 최규빈\n"
          ]
        }
      ],
      "source": [
        "print(string.format('통계학과','최규빈'))"
      ],
      "id": "96a690a4-ea27-4888-8043-7e7e2dc8bd20"
    },
    {
      "cell_type": "markdown",
      "metadata": {},
      "source": [
        "`-` 예시2"
      ],
      "id": "6dc4e08f-aaed-4d34-ad17-c8dd501f4372"
    },
    {
      "cell_type": "code",
      "execution_count": 16,
      "metadata": {},
      "outputs": [],
      "source": [
        "string = \\\n",
        "'''\n",
        "1. 이름: {name}\n",
        "2. 소속: {affiliation}\n",
        "'''"
      ],
      "id": "1e497894-5f5a-4aa3-bdd4-e94e8be05f00"
    },
    {
      "cell_type": "code",
      "execution_count": 17,
      "metadata": {},
      "outputs": [
        {
          "output_type": "stream",
          "name": "stdout",
          "text": [
            "\n",
            "1. 이름: 최규빈\n",
            "2. 소속: 통계학과\n"
          ]
        }
      ],
      "source": [
        "print(string.format(name='최규빈', affiliation='통계학과'))"
      ],
      "id": "f06daa44-83bf-4e5c-87dc-5d6eebcfe397"
    },
    {
      "cell_type": "code",
      "execution_count": 18,
      "metadata": {},
      "outputs": [
        {
          "output_type": "stream",
          "name": "stdout",
          "text": [
            "\n",
            "1. 이름: 최규빈\n",
            "2. 소속: 통계학과\n"
          ]
        }
      ],
      "source": [
        "print(string.format(affiliation='통계학과',name='최규빈'))"
      ],
      "id": "6270381e-d7fb-4f2a-85a4-4ab9dbdd365b"
    },
    {
      "cell_type": "markdown",
      "metadata": {},
      "source": [
        "## HTML\n",
        "\n",
        "`-` 예제1: 텍스트 출력"
      ],
      "id": "8654b5a5-2a14-4e1f-af3b-8861973515a8"
    },
    {
      "cell_type": "code",
      "execution_count": 19,
      "metadata": {},
      "outputs": [],
      "source": [
        "html_str = '''\n",
        "<p> 파이썬 프로그래밍 2023 </p>\n",
        "'''"
      ],
      "id": "80a9ec67-8ee8-42b9-8b04-a04b8636218e"
    },
    {
      "cell_type": "code",
      "execution_count": 20,
      "metadata": {},
      "outputs": [],
      "source": [
        "HTML(html_str)"
      ],
      "id": "4c78a6ae-94d7-49d0-936d-3bae46a71dcc"
    },
    {
      "cell_type": "markdown",
      "metadata": {},
      "source": [
        "`-` 예제2: 텍스트의 스타일변경"
      ],
      "id": "3af496b8-390b-4d22-bb11-9d55af7b4898"
    },
    {
      "cell_type": "code",
      "execution_count": 21,
      "metadata": {},
      "outputs": [],
      "source": [
        "html_str = '''\n",
        "<style>\n",
        "    .title {\n",
        "        font-family: \"Times New Roman\", serif;\n",
        "        font-size: 30px;\n",
        "        font-weight: 900;\n",
        "    }\n",
        "</style>\n",
        "<p class=\"title\">파이썬 프로그래밍 2023</p>\n",
        "'''"
      ],
      "id": "82969341-fe99-4f90-9edb-734c828737e3"
    },
    {
      "cell_type": "code",
      "execution_count": 22,
      "metadata": {},
      "outputs": [],
      "source": [
        "HTML(html_str)"
      ],
      "id": "c63f688f-95b2-4f06-b5a6-7bdac075a7aa"
    },
    {
      "cell_type": "markdown",
      "metadata": {},
      "source": [
        "`-` 예제3: 이미지의 삽입"
      ],
      "id": "0e16f427-8e99-4b33-8751-461f96431f57"
    },
    {
      "cell_type": "code",
      "execution_count": 23,
      "metadata": {},
      "outputs": [],
      "source": [
        "html_str = '''\n",
        "<img src = https://github.com/guebin/PP2023/blob/main/posts/03_Class/JungGGuckMa.jpg?raw=true>\n",
        "'''\n",
        "HTML(html_str)"
      ],
      "id": "68a765d0-1a7c-407d-8bbe-5c0cbe63abb8"
    },
    {
      "cell_type": "markdown",
      "metadata": {},
      "source": [
        "`-` 예제4: 텍스트 + 이미지"
      ],
      "id": "f247a47a-ed5b-46d9-b8f5-22c828b51d4d"
    },
    {
      "cell_type": "code",
      "execution_count": 24,
      "metadata": {},
      "outputs": [],
      "source": [
        "html_str = '''\n",
        "<p> 로그전 패배는 괜찮아 </p>\n",
        "<img src = https://github.com/guebin/PP2023/blob/main/posts/03_Class/JungGGuckMa.jpg?raw=true>\n",
        "<p> 중요한 건 꺾이지 않는 마음 </p>\n",
        "'''\n",
        "HTML(html_str)"
      ],
      "id": "8c3cf71e-bac3-4972-9c14-f2bfaa79c3c9"
    },
    {
      "cell_type": "markdown",
      "metadata": {},
      "source": [
        "## display\n",
        "\n",
        "`-` 아래는 `HTML(html_str)`의 내용을 명시적으로 display 하는 코드이다."
      ],
      "id": "a9a0bed9-3b25-44da-ac07-853ae869078b"
    },
    {
      "cell_type": "code",
      "execution_count": 25,
      "metadata": {},
      "outputs": [],
      "source": [
        "display(HTML(html_str))"
      ],
      "id": "8aca9bec-32e4-4ef5-af54-20b979538fcc"
    },
    {
      "cell_type": "markdown",
      "metadata": {},
      "source": [
        "`-` 이것은 마치 아래와 유사함."
      ],
      "id": "bed7b270-dab5-4cda-b472-c1f3f4c0daee"
    },
    {
      "cell_type": "code",
      "execution_count": 26,
      "metadata": {},
      "outputs": [],
      "source": [
        "a=1"
      ],
      "id": "6d108c6c-3497-43f2-811d-faf8c82843fe"
    },
    {
      "cell_type": "code",
      "execution_count": 27,
      "metadata": {},
      "outputs": [],
      "source": [
        "a"
      ],
      "id": "7a5e2d45-18e4-4699-b2d6-8afe3841bd5a"
    },
    {
      "cell_type": "code",
      "execution_count": 28,
      "metadata": {},
      "outputs": [
        {
          "output_type": "stream",
          "name": "stdout",
          "text": [
            "1"
          ]
        }
      ],
      "source": [
        "print(a)"
      ],
      "id": "0efb5fe9-f4f2-44e4-b173-7df2355805b7"
    },
    {
      "cell_type": "markdown",
      "metadata": {},
      "source": [
        "# 중요한 것은 꺽이지 않는 마음\n",
        "\n",
        "## 구현\n",
        "\n",
        "`-` 기사처럼 보이도록 html_str 을 선언"
      ],
      "id": "60e95482-c764-437f-883d-d767e2bebb7f"
    },
    {
      "cell_type": "code",
      "execution_count": 29,
      "metadata": {},
      "outputs": [],
      "source": [
        "html_str = '''\n",
        "<style>\n",
        "    .title {\n",
        "        font-family: \"Times New Roman\", serif;\n",
        "        font-size: 30px;\n",
        "        font-weight: 900;\n",
        "    }\n",
        "    .text {\n",
        "        font-family: \"Arial\", sans-serif;\n",
        "        font-size: 20px;\n",
        "        font-style: italic;\n",
        "    }\n",
        "    .highlight {\n",
        "        font-family: \"Montserrat\", monospace;\n",
        "        font-size: 35px;\n",
        "        font-weight: 900;\n",
        "        text-decoration: underline;\n",
        "        font-style: normal;\n",
        "        color: darkblue;\n",
        "        background-color: #FFFF00;\n",
        "    }\n",
        "</style>\n",
        "\n",
        "<p class=\"title\">RGE전 패배는 괜찮다.</p>\n",
        "<img src=https://github.com/guebin/PP2023/blob/main/posts/03_Class/JungGGuckMa.jpg?raw=true width=\"600\">\n",
        "<p> \\n </p>\n",
        "<p class=\"text\"> Q: 로그와 2라운드 재대결, 어떤 점에 유의해야 할까?</p>\n",
        "<p class=\"text\"> A: 상대팀에 대해서 더 분석할 건 없는 것 같고, 저희가 저희 플레이 잘하는 게 제일 중요한 것 같고 오늘 지긴 했지만 저희끼리만 안 무너지면 충분히 이길 수 있을 것 같아요.\n",
        "<p class=\"title\">중요한 것은 꺾이지 않는 <span class=\"highlight\">마음</span></p>\n",
        "'''"
      ],
      "id": "40d2829b-389c-45ee-938c-2ec78725f457"
    },
    {
      "cell_type": "code",
      "execution_count": 30,
      "metadata": {},
      "outputs": [],
      "source": [
        "display(HTML(html_str))"
      ],
      "id": "396d80b2-e706-42c2-873a-11695aa78420"
    },
    {
      "cell_type": "markdown",
      "metadata": {},
      "source": [
        "## 1단계: 밈의 구상\n",
        "\n",
        "`-` 파이썬 프로그래밍 2023 중간고사.\n",
        "\n",
        "-   <https://github.com/guebin/PP2023/blob/main/posts/03_Class/PP2023mid.jpg?raw=true>"
      ],
      "id": "df07d6ed-07db-478e-98f0-5798a734661c"
    },
    {
      "cell_type": "code",
      "execution_count": 31,
      "metadata": {},
      "outputs": [],
      "source": [
        "html_str = '''\n",
        "<style>\n",
        "    .title {\n",
        "        font-family: \"Times New Roman\", serif;\n",
        "        font-size: 30px;\n",
        "        font-weight: 900;\n",
        "    }\n",
        "    .text {\n",
        "        font-family: \"Arial\", sans-serif;\n",
        "        font-size: 20px;\n",
        "        font-style: italic;\n",
        "    }\n",
        "    .highlight {\n",
        "        font-family: \"Montserrat\", monospace;\n",
        "        font-size: 35px;\n",
        "        font-weight: 900;\n",
        "        text-decoration: underline;\n",
        "        font-style: normal;\n",
        "        color: darkblue;\n",
        "        background-color: #FFFF00;\n",
        "    }\n",
        "</style>\n",
        "\n",
        "<p class=\"title\">파이썬 프로그래밍 중간고사 패배는 괜찮다.</p>\n",
        "<img src=https://github.com/guebin/PP2023/blob/main/posts/03_Class/PP2023mid.jpg?raw=true width=\"600\">\n",
        "<p> \\n </p>\n",
        "<p class=\"text\"> Q: 파이썬 프로그래밍 기말고사, 어떤 점에 유의해야 할까?</p>\n",
        "<p class=\"text\"> A: 최규빈 교수 문제 스타일에 대해서 더 분석할 건 없는 것 같고, 제가 제 코드를 잘 구현하는 게 제일 중요한 것 같고 오늘 중간고사는 망하긴 했지만 저 스스로가 안 무너지면 충분히 기말고사는 잘 볼 수 있을 것 같아요.\n",
        "<p class=\"title\">중요한 것은 꺾이지 않는 <span class=\"highlight\">마음</span></p>\n",
        "'''"
      ],
      "id": "5fbac013-5ba2-4fcf-b488-43c8bb5fe967"
    },
    {
      "cell_type": "code",
      "execution_count": 32,
      "metadata": {},
      "outputs": [],
      "source": [
        "display(HTML(html_str))"
      ],
      "id": "28f74d4e-5168-42fe-b986-7f2bf04e4754"
    },
    {
      "cell_type": "markdown",
      "metadata": {},
      "source": [
        "`-` 이거 왠지 재미있는데?\n",
        "\n",
        "`-` 밈의 속성을 추려보자.\n",
        "\n",
        "-   title: 타이틀에 해당하는 텍스트\n",
        "-   img: DEFT의 인터뷰 이미지\n",
        "-   Q: 인터뷰질문에 해당하는 텍스트\n",
        "-   A: 인터뷰답변에 해당하는 텍스트\n",
        "-   중꺽마에서의 “마음”\n",
        "\n",
        "## 2단계: 양식틀의 완성 (함수이용)"
      ],
      "id": "a9c0d168-3b6b-4c08-ae31-5e44d57b2f33"
    },
    {
      "cell_type": "code",
      "execution_count": 35,
      "metadata": {},
      "outputs": [],
      "source": [
        "html_str = '''\n",
        "<style>\n",
        "    .title {{\n",
        "        font-family: \"Times New Roman\", serif;\n",
        "        font-size: 30px;\n",
        "        font-weight: 900;\n",
        "    }}\n",
        "    .text {{\n",
        "        font-family: \"Arial\", sans-serif;\n",
        "        font-size: 20px;\n",
        "        font-style: italic;\n",
        "    }}\n",
        "    .highlight {{\n",
        "        font-family: \"Montserrat\", monospace;\n",
        "        font-size: 35px;\n",
        "        font-weight: 900;\n",
        "        text-decoration: underline;\n",
        "        font-style: normal;\n",
        "        color: darkblue;\n",
        "        background-color: #FFFF00;\n",
        "    }}\n",
        "</style>\n",
        "\n",
        "<p class=\"title\">{ttl}</p>\n",
        "<img src={url} width=\"600\">\n",
        "<p> \\n </p>\n",
        "<p class=\"text\"> {Q}</p>\n",
        "<p class=\"text\"> {A}</p>\n",
        "<p class=\"title\">중요한 것은 꺾이지 않는 <span class=\"highlight\">{hl}</span></p>\n",
        "'''"
      ],
      "id": "4d21b10c-fecd-4552-a788-ace953b82b75"
    },
    {
      "cell_type": "code",
      "execution_count": 36,
      "metadata": {},
      "outputs": [],
      "source": [
        "title = '파이썬 프로그래밍 중간고사 패배는 괜찮다!!!'\n",
        "imgurl = 'https://github.com/guebin/PP2023/blob/main/posts/03_Class/PP2023mid.jpg?raw=true'\n",
        "ques = 'Q: 파이썬 프로그래밍 기말고사, 어떤 점에 유의해야 할까?'\n",
        "ans = 'A: 최규빈 교수 문제 스타일에 대해서 더 분석할 건 없는 것 같고, 제가 제 코드를 잘 구현하는 게 제일 중요한 것 같고 오늘 중간고사는 망하긴 했지만 저 스스로가 안 무너지면 충분히 기말고사는 잘 볼 수 있을 것 같아요.'\n",
        "highlight = '마음'"
      ],
      "id": "d7a84cff-4c3d-4212-a3e6-8145d8a4e7a6"
    },
    {
      "cell_type": "code",
      "execution_count": 37,
      "metadata": {},
      "outputs": [],
      "source": [
        "_str = html_str.format(\n",
        "    ttl = title,\n",
        "    url = imgurl,\n",
        "    Q = ques,\n",
        "    A = ans,\n",
        "    hl = highlight\n",
        ")\n",
        "display(HTML(_str))"
      ],
      "id": "cfb1bfa6-365a-4b6a-acf6-284b8dc90a79"
    },
    {
      "cell_type": "markdown",
      "metadata": {},
      "source": [
        "`-` 함수의 선언"
      ],
      "id": "0546a543-ce2e-4bb9-9207-9b11eb9f2a8f"
    },
    {
      "cell_type": "code",
      "execution_count": 38,
      "metadata": {},
      "outputs": [],
      "source": [
        "def show_JungGGuckMa(html_str,title,imgurl,ques,ans,highlight):\n",
        "    _str = html_str.format(\n",
        "        ttl = title,\n",
        "        url = imgurl,\n",
        "        Q = ques,\n",
        "        A = ans,\n",
        "        hl = highlight\n",
        "    )\n",
        "    display(HTML(_str))"
      ],
      "id": "5f44c562-c3f3-44a7-84d0-55c7eda066ce"
    },
    {
      "cell_type": "code",
      "execution_count": 39,
      "metadata": {},
      "outputs": [],
      "source": [
        "show_JungGGuckMa(html_str,title,imgurl,ques,ans,highlight)"
      ],
      "id": "c1219642-bc94-420e-a99d-a646bc3e1315"
    },
    {
      "cell_type": "markdown",
      "metadata": {},
      "source": [
        "## 3단계: 밈놀이 (함수)\n",
        "\n",
        "### ***t=1 – 밈1: 파이썬 프로그래밍 중간고사***"
      ],
      "id": "e0e65b1e-9c33-4c9c-b124-c8650292f1ff"
    },
    {
      "cell_type": "code",
      "execution_count": 40,
      "metadata": {},
      "outputs": [],
      "source": [
        "# 필요한 변수들 선언\n",
        "# show_JungGGuckMa 함수 선언 \n",
        "# 사용\n",
        "show_JungGGuckMa(html_str,title,imgurl,ques,ans,highlight)"
      ],
      "id": "93c4a8e3-408a-47b8-8193-15e503691338"
    },
    {
      "cell_type": "markdown",
      "metadata": {},
      "source": [
        "### ***t=2 – 밈2: 버거킹***\n",
        "\n",
        "ref: <https://i2.ruliweb.com/ori/22/12/03/184d62f98aace2c4.png>"
      ],
      "id": "e3466c47-289b-4d3a-b0bd-836b7427e363"
    },
    {
      "cell_type": "code",
      "execution_count": 41,
      "metadata": {},
      "outputs": [],
      "source": [
        "title = '버거 2개를 골라도 6000원'\n",
        "imgurl2 = 'https://github.com/guebin/PP2023/blob/main/posts/03_Class/burgerking.png?raw=true'\n",
        "ques = '기간: 11월28일(월)-12월4일(일)'\n",
        "ans = '콰트로치즈 와퍼 주니어, 통새우 와퍼 주니어, 롱치킨 버거 최대 42% 할인'\n",
        "highlight = '할인'"
      ],
      "id": "269ec536-a1fb-497b-ab0a-d8061fbc5936"
    },
    {
      "cell_type": "code",
      "execution_count": 42,
      "metadata": {},
      "outputs": [],
      "source": [
        "show_JungGGuckMa(html_str,title,imgurl2,ques,ans,highlight)"
      ],
      "id": "7d40765e-c669-4a97-a67f-ef12890b77d7"
    },
    {
      "cell_type": "markdown",
      "metadata": {},
      "source": [
        "### ***t=3 – 밈1변경: 중요한 것은 꺾이지 않는 “집중력”***"
      ],
      "id": "d7873925-1946-4036-9f48-4cb798fccbb9"
    },
    {
      "cell_type": "code",
      "execution_count": 43,
      "metadata": {},
      "outputs": [],
      "source": [
        "title = '파이썬 프로그래밍 중간고사 패배는 괜찮다!!!'\n",
        "imgurl = 'https://github.com/guebin/PP2023/blob/main/posts/03_Class/PP2023mid.jpg?raw=true'\n",
        "ques = 'Q: 파이썬 프로그래밍 기말고사, 어떤 점에 유의해야 할까?'\n",
        "ans = 'A: 최규빈 교수 문제 스타일에 대해서 더 분석할 건 없는 것 같고, 제가 제 코드를 잘 구현하는 게 제일 중요한 것 같고 오늘 중간고사는 망하긴 했지만 저 스스로가 안 무너지면 충분히 기말고사는 잘 볼 수 있을 것 같아요.'\n",
        "highlight = '집중력'"
      ],
      "id": "c5ebe611-d581-4ed4-be8c-3d313fb760b4"
    },
    {
      "cell_type": "code",
      "execution_count": 44,
      "metadata": {},
      "outputs": [],
      "source": [
        "show_JungGGuckMa(html_str,title,imgurl,ques,ans,highlight)"
      ],
      "id": "e22b6ec7-96e8-4941-b718-4bbc3b3f5e78"
    },
    {
      "cell_type": "markdown",
      "metadata": {},
      "source": [
        "`-` 수정이 아니라 거의 새로 만든 수준인데?\n",
        "\n",
        "### ***t=4 – 밈2변경: 버거 종류 수정***\n",
        "\n",
        "`-` 귀찮아서…\n",
        "\n",
        "### ***이러한 코드의 비판***\n",
        "\n",
        "`-` 변수들이 정리가 되어있지 않고 산만함\n",
        "\n",
        "## 3단계: 밈놀이 (클래스)"
      ],
      "id": "2580fe22-479e-4ddf-81de-5e3ca0491a6f"
    },
    {
      "cell_type": "code",
      "execution_count": 45,
      "metadata": {},
      "outputs": [],
      "source": [
        "class JungKKuckMa:\n",
        "    pass "
      ],
      "id": "9645199e-fe8c-4d38-8d16-ad12a74ebf93"
    },
    {
      "cell_type": "markdown",
      "metadata": {},
      "source": [
        "### ***t=1 – 밈1: 파이썬 프로그래밍 중간고사***"
      ],
      "id": "debc81af-4ec0-4184-bd6f-23d9e4e43b10"
    },
    {
      "cell_type": "code",
      "execution_count": 46,
      "metadata": {},
      "outputs": [],
      "source": [
        "pp2023 = JungKKuckMa()\n",
        "pp2023"
      ],
      "id": "f1a294d3-2068-47b1-a8af-06f46ce919c9"
    },
    {
      "cell_type": "markdown",
      "metadata": {},
      "source": [
        "*(참고) 여기에서 `pp2023.`을 치고 tab을 눌러도 아무런 변화가 없음.*\n",
        "\n",
        "![](attachment:2023-05-15-11wk-1_files/figure-ipynb/61dddf67-0897-42c4-aa4b-2848b6cd545e-1-db44152d-5dcf-4fea-8070-058e8ece912c.png)"
      ],
      "attachments": {
        "2023-05-15-11wk-1_files/figure-ipynb/61dddf67-0897-42c4-aa4b-2848b6cd545e-1-db44152d-5dcf-4fea-8070-058e8ece912c.png": {
          "image/png": "[encoded data removed]"
        }
      },
      "id": "cc52f9aa-7474-4cfe-ac08-711aa0e93b7b"
    },
    {
      "cell_type": "code",
      "execution_count": 65,
      "metadata": {},
      "outputs": [],
      "source": [
        "pp2023.title = '파이썬 프로그래밍 중간고사 패배는 괜찮다!!!'\n",
        "pp2023.imgurl = 'https://github.com/guebin/PP2023/blob/main/posts/03_Class/PP2023mid.jpg?raw=true'\n",
        "pp2023.ques = 'Q: 파이썬 프로그래밍 기말고사, 어떤 점에 유의해야 할까?'\n",
        "pp2023.ans = 'A: 최규빈 교수 문제 스타일에 대해서 더 분석할 건 없는 것 같고, 제가 제 코드를 잘 구현하는 게 제일 중요한 것 같고 오늘 중간고사는 망하긴 했지만 저 스스로가 안 무너지면 충분히 기말고사는 잘 볼 수 있을 것 같아요.'\n",
        "pp2023.highlight = '마음'\n",
        "pp2023.html_str =\\\n",
        "'''\n",
        "<style>\n",
        "    .title {{\n",
        "        font-family: \"Times New Roman\", serif;\n",
        "        font-size: 30px;\n",
        "        font-weight: 900;\n",
        "    }}\n",
        "    .text {{\n",
        "        font-family: \"Arial\", sans-serif;\n",
        "        font-size: 20px;\n",
        "        font-style: italic;\n",
        "    }}\n",
        "    .highlight {{\n",
        "        font-family: \"Montserrat\", monospace;\n",
        "        font-size: 35px;\n",
        "        font-weight: 900;\n",
        "        text-decoration: underline;\n",
        "        font-style: normal;\n",
        "        color: darkblue;\n",
        "        background-color: #FFFF00;\n",
        "    }}\n",
        "</style>\n",
        "\n",
        "<p class=\"title\">{ttl}</p>\n",
        "<img src={url} width=\"600\">\n",
        "<p> \\n </p>\n",
        "<p class=\"text\"> {Q}</p>\n",
        "<p class=\"text\"> {A}</p>\n",
        "<p class=\"title\">중요한 것은 꺾이지 않는 <span class=\"highlight\">{hl}</span></p>\n",
        "'''"
      ],
      "id": "f59f97f3-87fc-47c4-aa3f-6dee495463b0"
    },
    {
      "cell_type": "markdown",
      "metadata": {},
      "source": [
        "*(참고) 이 상태에서 `pp2023.` + tab 을 하면 아래와 같이 보인다.*\n",
        "\n",
        "![image.png](attachment:2023-05-15-11wk-1_files/figure-ipynb/f435302a-a4cf-4e6f-88d8-870dab5e8fed-1-e7462662-31f7-451c-babb-97fe354c2929.png)"
      ],
      "attachments": {
        "2023-05-15-11wk-1_files/figure-ipynb/f435302a-a4cf-4e6f-88d8-870dab5e8fed-1-e7462662-31f7-451c-babb-97fe354c2929.png": {
          "image/png": "[encoded data removed]"
        }
      },
      "id": "4e6f2b65-8783-4c7b-9cc9-238c1f75fb46"
    },
    {
      "cell_type": "code",
      "execution_count": 66,
      "metadata": {},
      "outputs": [],
      "source": [
        "def show(pp2023):\n",
        "    _str = pp2023.html_str.format(\n",
        "        ttl = pp2023.title,\n",
        "        url = pp2023.imgurl,\n",
        "        Q = pp2023.ques,\n",
        "        A = pp2023.ans,\n",
        "        hl = pp2023.highlight\n",
        "    )\n",
        "    display(HTML(_str))"
      ],
      "id": "750b55be-d4cc-4128-bbfa-f55fc2ec37a8"
    },
    {
      "cell_type": "code",
      "execution_count": 67,
      "metadata": {},
      "outputs": [],
      "source": [
        "show(pp2023)"
      ],
      "id": "c3b1c772-29a3-497b-832e-9ce71b7cc44c"
    },
    {
      "cell_type": "markdown",
      "metadata": {},
      "source": [
        "### ***t=2 – 밈2: 버거킹***"
      ],
      "id": "f7ceb9e0-9fcc-4ddf-b32f-ca014125b8ef"
    },
    {
      "cell_type": "code",
      "execution_count": 68,
      "metadata": {},
      "outputs": [],
      "source": [
        "burger = JungKKuckMa()\n",
        "burger"
      ],
      "id": "e49cdf6e-3671-4e00-bbda-6c9904268f30"
    },
    {
      "cell_type": "markdown",
      "metadata": {},
      "source": [
        "*(참고) 여기에서 `burger.`을 치고 tab을 눌러도 아무런 변화가 없음.*\n",
        "\n",
        "![](attachment:2023-05-15-11wk-1_files/figure-ipynb/2c0f0e4e-49ed-4e08-987b-615bef4e44d9-1-4de3eaea-90e9-429f-b1ed-27adc5c357c0.png)"
      ],
      "attachments": {
        "2023-05-15-11wk-1_files/figure-ipynb/2c0f0e4e-49ed-4e08-987b-615bef4e44d9-1-4de3eaea-90e9-429f-b1ed-27adc5c357c0.png": {
          "image/png": "[encoded data removed]"
        }
      },
      "id": "dd6eee60-1035-4444-9c4e-c9f8ba10d888"
    },
    {
      "cell_type": "code",
      "execution_count": 69,
      "metadata": {},
      "outputs": [],
      "source": [
        "burger.title = '버거 2개를 골라도 6000원'\n",
        "burger.imgurl = 'https://github.com/guebin/PP2023/blob/main/posts/03_Class/burgerking.png?raw=true'\n",
        "burger.ques = '기간: 11월28일(월)-12월4일(일)'\n",
        "burger.ans = '콰트로치즈 와퍼 주니어, 통새우 와퍼 주니어, 롱치킨 버거 최대 42% 할인'\n",
        "burger.highlight = '할인'\n",
        "burger.html_str =\\\n",
        "'''\n",
        "<style>\n",
        "    .title {{\n",
        "        font-family: \"Times New Roman\", serif;\n",
        "        font-size: 30px;\n",
        "        font-weight: 900;\n",
        "    }}\n",
        "    .text {{\n",
        "        font-family: \"Arial\", sans-serif;\n",
        "        font-size: 20px;\n",
        "        font-style: italic;\n",
        "    }}\n",
        "    .highlight {{\n",
        "        font-family: \"Montserrat\", monospace;\n",
        "        font-size: 35px;\n",
        "        font-weight: 900;\n",
        "        text-decoration: underline;\n",
        "        font-style: normal;\n",
        "        color: darkblue;\n",
        "        background-color: #FFFF00;\n",
        "    }}\n",
        "</style>\n",
        "\n",
        "<p class=\"title\">{ttl}</p>\n",
        "<img src={url} width=\"600\">\n",
        "<p> \\n </p>\n",
        "<p class=\"text\"> {Q}</p>\n",
        "<p class=\"text\"> {A}</p>\n",
        "<p class=\"title\">중요한 것은 꺾이지 않는 <span class=\"highlight\">{hl}</span></p>\n",
        "'''"
      ],
      "id": "c3c2b1e7-926a-4735-8241-a53b06f9882d"
    },
    {
      "cell_type": "markdown",
      "metadata": {},
      "source": [
        "*(참고) 이 순간은 `burger.` + tab 을 하면 아래와 같이 나온다.*\n",
        "\n",
        "![](attachment:2023-05-15-11wk-1_files/figure-ipynb/10b04e9d-5d30-48d1-aa33-55d4dbe43853-1-a6019b53-4d2f-43a0-8dc3-e1a12ac6d427.png)\n",
        "\n",
        "`-` show() 함수는 재사용가능하겠는데?"
      ],
      "attachments": {
        "2023-05-15-11wk-1_files/figure-ipynb/10b04e9d-5d30-48d1-aa33-55d4dbe43853-1-a6019b53-4d2f-43a0-8dc3-e1a12ac6d427.png": {
          "image/png": "[encoded data removed]"
        }
      },
      "id": "8805da8a-f25c-4144-8b31-7d1813ede82e"
    },
    {
      "cell_type": "code",
      "execution_count": 70,
      "metadata": {},
      "outputs": [],
      "source": [
        "# def show(pp2023):\n",
        "#     _str = pp2023.html_str.format(\n",
        "#         ttl = pp2023.title,\n",
        "#         url = pp2023.imgurl,\n",
        "#         Q = pp2023.ques,\n",
        "#         A = pp2023.ans,\n",
        "#         hl = pp2023.highlight\n",
        "#     )\n",
        "#     display(HTML(_str))"
      ],
      "id": "d6e44649-886e-4b6b-a3d1-10313903fd99"
    },
    {
      "cell_type": "markdown",
      "metadata": {},
      "source": [
        "-   pp2023, burger 를 show 함수의 입력 x로 생각해도 무방"
      ],
      "id": "38a266ac-b392-48d1-babc-8c30c5dcba13"
    },
    {
      "cell_type": "code",
      "execution_count": 71,
      "metadata": {},
      "outputs": [],
      "source": [
        "show(burger)"
      ],
      "id": "3108b090-bb4b-4454-83de-e9473ec76c87"
    },
    {
      "cell_type": "markdown",
      "metadata": {},
      "source": [
        "### ***t=3 – 밈1변경: 중요한 것은 꺾이지 않는 “집중력”***"
      ],
      "id": "aec74859-0c56-4856-a750-8e6513172e07"
    },
    {
      "cell_type": "code",
      "execution_count": 72,
      "metadata": {},
      "outputs": [],
      "source": [
        "pp2023.highlight = '집중력'"
      ],
      "id": "3cc54e29-11c9-472d-b910-694d9fcc9d41"
    },
    {
      "cell_type": "code",
      "execution_count": 73,
      "metadata": {},
      "outputs": [],
      "source": [
        "show(pp2023)"
      ],
      "id": "d2b42cf3-997a-4576-a61b-c38fd3cdf790"
    },
    {
      "cell_type": "markdown",
      "metadata": {},
      "source": [
        "### ***t=4 – 밈2변경: 버거 종류 수정***"
      ],
      "id": "61120269-136c-4f03-b998-e827c09d6e7b"
    },
    {
      "cell_type": "code",
      "execution_count": 74,
      "metadata": {},
      "outputs": [],
      "source": [
        "burger.ans = '기네스콰트로치즈와퍼, 기네스와퍼, 몬스터와퍼, 몬스터X 최대 XX% 할인' "
      ],
      "id": "0582ea75-94ce-4853-82a7-d49b97ab15f2"
    },
    {
      "cell_type": "code",
      "execution_count": 75,
      "metadata": {},
      "outputs": [],
      "source": [
        "show(burger)"
      ],
      "id": "3c5353eb-c209-4431-800a-866d6c4f0908"
    },
    {
      "cell_type": "markdown",
      "metadata": {},
      "source": [
        "### ***코드의 복습 + 대응하는 용어의 정리***\n",
        "\n",
        "`-` 코드조각1: 아래의 과정은 “`JungKKuckMa`라는 이름의 클래스를\n",
        "선언한다.” 라고 표현한다."
      ],
      "id": "3e40f189-9e06-499c-88e7-682c68d66b38"
    },
    {
      "cell_type": "code",
      "execution_count": 76,
      "metadata": {},
      "outputs": [],
      "source": [
        "class JungKKuckMa:\n",
        "    pass "
      ],
      "id": "6925de4b-4a54-44bf-910c-c8022d9097ae"
    },
    {
      "cell_type": "markdown",
      "metadata": {},
      "source": [
        "-   ’JungKKuckMa.HWP’라는 빈 한글파일을 만들어 두는 과정이라 비유할 수\n",
        "    있다.\n",
        "\n",
        "`-` 코드조각2: 아래의 과정은 “`JungKKuckMa`라는 클래스에서\n",
        "`pp2023`이라는 인스턴스를 **생성**시켰다.” 고 표현한다."
      ],
      "id": "8fb2f5a9-1356-4294-a980-cfbc886db885"
    },
    {
      "cell_type": "code",
      "execution_count": 77,
      "metadata": {},
      "outputs": [],
      "source": [
        "pp2023 = JungKKuckMa()\n",
        "pp2023"
      ],
      "id": "0fb79217-f0e5-4a60-baa8-bc6ebc548f63"
    },
    {
      "cell_type": "markdown",
      "metadata": {},
      "source": [
        "-   만들어둔 ‘JungKKuckMa.HWP’를 Ctrl + C,V 하여 새로운 hwp파일을 만들고\n",
        "    파일이름을 ’pp2023.HWP’ 파일로 변경한 상황으로 비유하라 수 있다.\n",
        "-   느낌: ’JungKKuckMa.HWP’에서 ’pp2023.HWP’이 태어난 느낌!!\n",
        "\n",
        "`-` 코드조각3: 아래의 과정은 `pp2023` 안의 소속된 변수를 정의한다.\n",
        "\n",
        "-   여기에서 정의된 `pp2023.title` 등을 “`pp2023`의 attribute” 라고\n",
        "    표현한다."
      ],
      "id": "a159a978-fdb2-4049-922a-e4726dd1eea2"
    },
    {
      "cell_type": "code",
      "execution_count": 79,
      "metadata": {},
      "outputs": [],
      "source": [
        "pp2023.title = '파이썬 프로그래밍 중간고사 패배는 괜찮다!!!'\n",
        "pp2023.imgurl = 'https://github.com/guebin/PP2023/blob/main/posts/03_Class/PP2023mid.jpg?raw=true'\n",
        "pp2023.ques = 'Q: 파이썬 프로그래밍 기말고사, 어떤 점에 유의해야 할까?'\n",
        "pp2023.ans = 'A: 최규빈 교수 문제 스타일에 대해서 더 분석할 건 없는 것 같고, 제가 제 코드를 잘 구현하는 게 제일 중요한 것 같고 오늘 중간고사는 망하긴 했지만 저 스스로가 안 무너지면 충분히 기말고사는 잘 볼 수 있을 것 같아요.'\n",
        "pp2023.highlight = '마음'\n",
        "pp2023.html_str =\\\n",
        "'''\n",
        "<style>\n",
        "    .title {{\n",
        "        font-family: \"Times New Roman\", serif;\n",
        "        font-size: 30px;\n",
        "        font-weight: 900;\n",
        "    }}\n",
        "    .text {{\n",
        "        font-family: \"Arial\", sans-serif;\n",
        "        font-size: 20px;\n",
        "        font-style: italic;\n",
        "    }}\n",
        "    .highlight {{\n",
        "        font-family: \"Montserrat\", monospace;\n",
        "        font-size: 35px;\n",
        "        font-weight: 900;\n",
        "        text-decoration: underline;\n",
        "        font-style: normal;\n",
        "        color: darkblue;\n",
        "        background-color: #FFFF00;\n",
        "    }}\n",
        "</style>\n",
        "\n",
        "<p class=\"title\">{ttl}</p>\n",
        "<img src={url} width=\"600\">\n",
        "<p> \\n </p>\n",
        "<p class=\"text\"> {Q}</p>\n",
        "<p class=\"text\"> {A}</p>\n",
        "<p class=\"title\">중요한 것은 꺾이지 않는 <span class=\"highlight\">{hl}</span></p>\n",
        "'''"
      ],
      "id": "5749232a-8331-4a2e-bc10-ad076050d2fa"
    },
    {
      "cell_type": "markdown",
      "metadata": {},
      "source": [
        "-   ‘pp2023.HWP’ 라는 문서안에 내용을 채우는 과정이라고 비유할 수 있다.\n",
        "\n",
        "`-` 코드조각4: 아래의 과정은 클래스에서 생성된 인스턴스를 입력으로\n",
        "받아서 어떠한 동작을 수행할 함수를 정의"
      ],
      "id": "9a6b28ce-e7f7-42b4-a2fb-51d903545a97"
    },
    {
      "cell_type": "code",
      "execution_count": 80,
      "metadata": {},
      "outputs": [],
      "source": [
        "def show(pp2023):\n",
        "    _str = pp2023.html_str.format(\n",
        "        ttl = pp2023.title,\n",
        "        url = pp2023.imgurl,\n",
        "        Q = pp2023.ques,\n",
        "        A = pp2023.ans,\n",
        "        hl = pp2023.highlight\n",
        "    )\n",
        "    display(HTML(_str))"
      ],
      "id": "178a6ad6-cd3a-48ed-bdb8-cc0373d592df"
    },
    {
      "cell_type": "markdown",
      "metadata": {},
      "source": [
        "-   특징: show의 입력은 너무 깔끔하다. 클래스에서 생성된 인스턴스의\n",
        "    이름을 받아서 여러변수를 한번에 정리하였음.\n",
        "\n",
        "`-` 코드조각5: 아래의 과정은 생성된 인스턴스를 입력으로 받아서 어떠한\n",
        "함수를 수행하는 과정이다."
      ],
      "id": "071c84be-4f93-4fd0-be41-3252f043f594"
    },
    {
      "cell_type": "code",
      "execution_count": 81,
      "metadata": {},
      "outputs": [],
      "source": [
        "# show(pp2023)\n",
        "# show(burger)"
      ],
      "id": "6bde2c16-ea54-4b12-925f-fc968e518a13"
    },
    {
      "cell_type": "markdown",
      "metadata": {},
      "source": [
        "-   show 라는 버튼을 눌러서 ‘pp2023.HWP’ 혹은 ‘burger.HWP’ 를 보는 느낌\n",
        "-   show 라는 버튼은 ‘pp2023.HWP’ 혹은 ‘burger.HWP’ 외부에서 독립적으로\n",
        "    선언된 함수임.\n",
        "\n",
        "# 숙제\n",
        "\n",
        "없습니다"
      ],
      "id": "484d426d-7644-4865-b856-51f3aa2c5c22"
    }
  ],
  "nbformat": 4,
  "nbformat_minor": 5,
  "metadata": {
    "kernelspec": {
      "name": "python3",
      "display_name": "Python 3",
      "language": "python"
    },
    "language_info": {
      "name": "python",
      "codemirror_mode": {
        "name": "ipython",
        "version": "3"
      },
      "file_extension": ".py",
      "mimetype": "text/x-python",
      "nbconvert_exporter": "python",
      "pygments_lexer": "ipython3",
      "version": "3.8.16"
    }
  }
}