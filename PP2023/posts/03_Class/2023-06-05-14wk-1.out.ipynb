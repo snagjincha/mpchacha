{
  "cells": [
    {
      "cell_type": "markdown",
      "metadata": {},
      "source": [
        "# 14wk-1: 클래스공부 4단계 – 파이썬의 비밀 (2)\n",
        "\n",
        "최규빈  \n",
        "2023-06-05\n",
        "\n",
        "<a href=\"https://colab.research.google.com/github/guebin/PP2023/blob/main/posts/03_Class/2023-06-05-14wk-1.ipynb\"><img src=\"https://colab.research.google.com/assets/colab-badge.svg\" style=\"text-align: left\"></a>\n",
        "\n",
        "# 강의영상\n",
        "\n",
        "> youtube:\n",
        "> <https://youtube.com/playlist?list=PLQqh36zP38-xEFWxQ9YvfTo0wBN4CUZlP>\n",
        "\n",
        "# imports"
      ],
      "id": "efe412bc-e9ea-45b9-b3fb-aa90437a1944"
    },
    {
      "cell_type": "code",
      "execution_count": 1,
      "metadata": {},
      "outputs": [],
      "source": [
        "import numpy as np\n",
        "import matplotlib.pyplot as plt\n",
        "import pandas as pd"
      ],
      "id": "6835093b-64a4-467c-9f96-ad622c5bef2c"
    },
    {
      "cell_type": "markdown",
      "metadata": {},
      "source": [
        "# 예비학습\n",
        "\n",
        "## 모티브: 클래스를 수정은 불편해\n",
        "\n",
        "`-` 예시1: UpJump ver1"
      ],
      "id": "bc4a8019-83ad-4b87-9dbc-765e12e23c8e"
    },
    {
      "cell_type": "code",
      "execution_count": 2,
      "metadata": {},
      "outputs": [],
      "source": [
        "class UpJump:\n",
        "    def __init__(self):\n",
        "        self.value = 0\n",
        "    def up(self):\n",
        "        self.value = self.value + 1  \n",
        "    def __repr__(self):\n",
        "        return str(self.value)"
      ],
      "id": "7e049991-6479-4cd8-aeb5-0de9d96d8f71"
    },
    {
      "cell_type": "code",
      "execution_count": 3,
      "metadata": {},
      "outputs": [],
      "source": [
        "a = UpJump()\n",
        "a.up()"
      ],
      "id": "a7f3ede5-94d4-459e-a7cf-1f15d0d4c002"
    },
    {
      "cell_type": "code",
      "execution_count": 6,
      "metadata": {},
      "outputs": [],
      "source": [
        "a"
      ],
      "id": "587e516d-0114-4646-92a7-c037fdc45966"
    },
    {
      "cell_type": "code",
      "execution_count": 7,
      "metadata": {},
      "outputs": [],
      "source": [
        "a.jump(2)"
      ],
      "id": "708adca9-6775-4dae-a215-1920189ae095"
    },
    {
      "cell_type": "markdown",
      "metadata": {},
      "source": [
        "-   점프는 아직 구현하지 않음.\n",
        "\n",
        "`-` 예시2: UpJump ver2"
      ],
      "id": "8fddb400-42d3-43b7-b4e1-a59265c3585f"
    },
    {
      "cell_type": "code",
      "execution_count": 8,
      "metadata": {},
      "outputs": [],
      "source": [
        "class UpJump_Ver2:\n",
        "    def __init__(self):\n",
        "        self.value = 0\n",
        "    def up(self):\n",
        "        self.value = self.value + 1  \n",
        "    def jump(self,jump_size):\n",
        "        self.value = self.value + jump_size\n",
        "    def __repr__(self):\n",
        "        return str(self.value)        "
      ],
      "id": "6b208b24-11c0-4ee7-8069-3e3d98342b82"
    },
    {
      "cell_type": "code",
      "execution_count": 9,
      "metadata": {},
      "outputs": [],
      "source": [
        "a = UpJump_Ver2()"
      ],
      "id": "67f341b0-18df-4094-9f30-35819692e94c"
    },
    {
      "cell_type": "code",
      "execution_count": 10,
      "metadata": {},
      "outputs": [],
      "source": [
        "a.up()"
      ],
      "id": "5970e315-22eb-4b30-a13b-53770333aea7"
    },
    {
      "cell_type": "code",
      "execution_count": 11,
      "metadata": {},
      "outputs": [],
      "source": [
        "a.jump(2)"
      ],
      "id": "804406ac-14e8-492e-92ef-526746a6a9c6"
    },
    {
      "cell_type": "code",
      "execution_count": 12,
      "metadata": {},
      "outputs": [],
      "source": [
        "a"
      ],
      "id": "777112ad-22f7-4443-b6a2-720e9e0ccf3c"
    },
    {
      "cell_type": "markdown",
      "metadata": {},
      "source": [
        "`-` 예시3: UpJump ver2의 다른 구현"
      ],
      "id": "ffb3b740-8214-42dd-a362-a16a889f88ed"
    },
    {
      "cell_type": "code",
      "execution_count": 13,
      "metadata": {},
      "outputs": [],
      "source": [
        "class UpJump_Ver2(UpJump):\n",
        "    def jump(self,jump_size):\n",
        "        self.value = self.value + jump_size    "
      ],
      "id": "bd1720d4-1772-4e2b-80a7-cf585b27b897"
    },
    {
      "cell_type": "code",
      "execution_count": 14,
      "metadata": {},
      "outputs": [],
      "source": [
        "a = UpJump_Ver2()"
      ],
      "id": "9920c0cb-2a2c-49ea-b307-6a92ba5505b8"
    },
    {
      "cell_type": "code",
      "execution_count": 15,
      "metadata": {},
      "outputs": [],
      "source": [
        "a.up()"
      ],
      "id": "5995ea6e-ddce-49fb-a9ea-fb55c7a263f3"
    },
    {
      "cell_type": "code",
      "execution_count": 16,
      "metadata": {},
      "outputs": [],
      "source": [
        "a.jump(2)"
      ],
      "id": "ceb4b006-8c4e-4b0b-b320-db2512bc6a54"
    },
    {
      "cell_type": "code",
      "execution_count": 17,
      "metadata": {},
      "outputs": [],
      "source": [
        "a"
      ],
      "id": "631d60da-087f-4a07-afbe-7c6db5d521ff"
    },
    {
      "cell_type": "markdown",
      "metadata": {},
      "source": [
        "## 꿀팁\n",
        "\n",
        "`-` 클래스를 조금 수정하고 싶을때, 아래와 같은 문법을 이용하면 편리하다.\n",
        "\n",
        "``` python\n",
        "class 새로운_클래스_이름(수정할_클래스_이름): \n",
        "    def 수정_및_추가할_함수이름(self,...):\n",
        "        ...\n",
        "```\n",
        "\n",
        "`-` 사용예시"
      ],
      "id": "81409bc7-c011-45a8-b479-ba1141ca654f"
    },
    {
      "cell_type": "code",
      "execution_count": 18,
      "metadata": {},
      "outputs": [],
      "source": [
        "class UpJump_Ver3(UpJump_Ver2):\n",
        "    def __repr__(self):\n",
        "        return '현재의 이 인스턴스의 value는 {}입니다.'.format(self.value)"
      ],
      "id": "0e97ca15-984a-45bd-88c6-27e2b7c5292b"
    },
    {
      "cell_type": "code",
      "execution_count": 19,
      "metadata": {},
      "outputs": [],
      "source": [
        "a=UpJump_Ver3()"
      ],
      "id": "e927b5ed-483d-4827-b4a5-87fdfbf4330e"
    },
    {
      "cell_type": "code",
      "execution_count": 20,
      "metadata": {},
      "outputs": [],
      "source": [
        "a"
      ],
      "id": "0186d7d6-2265-4dc9-86a0-bd727de0deb4"
    },
    {
      "cell_type": "code",
      "execution_count": 21,
      "metadata": {},
      "outputs": [],
      "source": [
        "a.jump(50)"
      ],
      "id": "319c4387-baed-42f1-adda-421ca2b00e84"
    },
    {
      "cell_type": "code",
      "execution_count": 22,
      "metadata": {},
      "outputs": [],
      "source": [
        "a"
      ],
      "id": "17db8cab-cb62-4eaf-a670-15eeb5858ab8"
    },
    {
      "cell_type": "markdown",
      "metadata": {},
      "source": [
        "# 클래스공부 4단계: 파이썬의 비밀 (2)\n",
        "\n",
        "## 비밀6: `__add__`\n",
        "\n",
        "### ***motive***\n",
        "\n",
        "`-` 모티브: 아래의 연산구조를 관찰하자."
      ],
      "id": "d6f9a5b8-acee-4799-894d-49a17e47db8e"
    },
    {
      "cell_type": "code",
      "execution_count": 23,
      "metadata": {},
      "outputs": [],
      "source": [
        "a=1\n",
        "b=2 \n",
        "a+b"
      ],
      "id": "e68c3bd6-fde4-4c84-8f9d-eef44dd272e6"
    },
    {
      "cell_type": "markdown",
      "metadata": {},
      "source": [
        "-   a라는 인스턴스와 b라는 인스턴스를 +라는 기호가 연결하고 있다.\n",
        "\n",
        "`-` 이번에는 아래의 연산구조를 관찰하자."
      ],
      "id": "4feb94dd-6ba6-4fa4-a116-01106eb1a712"
    },
    {
      "cell_type": "code",
      "execution_count": 24,
      "metadata": {},
      "outputs": [],
      "source": [
        "a=[1,2]\n",
        "b=[3,4]\n",
        "a+b"
      ],
      "id": "09ef66e5-9549-450f-9787-a0b344bf4237"
    },
    {
      "cell_type": "markdown",
      "metadata": {},
      "source": [
        "-   a라는 인스턴스와 b라는 인스턴스를 +라는 기호가 연결하고 있다.\n",
        "\n",
        "`-` 동작이 다른 이유?\n",
        "\n",
        "-   클래스를 배우기 이전: int자료형의 `+`는 “정수의 덧셈”을 의미하고\n",
        "    list자료형의 `+`는 “자료의 추가”를 의미한다.\n",
        "-   클래스를 배운 이후: 아마 클래스는 `+`라는 연산을 정의하는 숨겨진\n",
        "    메소드가 있을것이다. (print가 그랬듯이) 그리고 int클래스에서는 그\n",
        "    메소드를 “정수의 덧셈”이 되도록 정의하였고 list클래스에서는 그\n",
        "    메소드를 “자료의 추가”를 의미하도록 정의하였다.\n",
        "\n",
        "`-` 아래의 결과를 관찰"
      ],
      "id": "1c103ddf-022f-422e-9384-e553ce2b57f5"
    },
    {
      "cell_type": "code",
      "execution_count": 25,
      "metadata": {},
      "outputs": [],
      "source": [
        "a=1\n",
        "b=2"
      ],
      "id": "f4f0dde0-56e8-48bd-9753-172d733b8b4a"
    },
    {
      "cell_type": "code",
      "execution_count": 29,
      "metadata": {},
      "outputs": [],
      "source": [
        "a.__add__(b)"
      ],
      "id": "65165032-06ec-4354-b1a1-3dfd1f2bb31d"
    },
    {
      "cell_type": "code",
      "execution_count": 30,
      "metadata": {},
      "outputs": [],
      "source": [
        "b.__add__(a)"
      ],
      "id": "8a9fb0a1-8e8e-40e8-b8da-8c23f118c287"
    },
    {
      "cell_type": "code",
      "execution_count": 31,
      "metadata": {},
      "outputs": [],
      "source": [
        "a=[1,2]\n",
        "b=[3,4]"
      ],
      "id": "c45b0642-1a76-478d-9398-db8201d4a617"
    },
    {
      "cell_type": "code",
      "execution_count": 34,
      "metadata": {},
      "outputs": [],
      "source": [
        "a.__add__(b) # a+b "
      ],
      "id": "29d37b65-6e02-40be-9d72-90b8c33d5472"
    },
    {
      "cell_type": "code",
      "execution_count": 35,
      "metadata": {},
      "outputs": [],
      "source": [
        "b.__add__(a) # b+a "
      ],
      "id": "2849a30b-17f9-4398-9224-4e203e503cce"
    },
    {
      "cell_type": "markdown",
      "metadata": {},
      "source": [
        "`-` 확인: a+b는 사실 내부적으로 `a.__add__(b)`의 축약구문이다.\n",
        "\n",
        "`-` 추측: 따라서 만약 `a.__add__(b)`의 기능을 바꾸면 (재정의하면) a+b의\n",
        "기능도 바뀔 것이다.\n",
        "\n",
        "### ***Student_Ver2: `__add__`의 사용***\n",
        "\n",
        "`-` Student 클래스 선언"
      ],
      "id": "a067e2ab-5c85-493d-b156-685c0cca0325"
    },
    {
      "cell_type": "code",
      "execution_count": 68,
      "metadata": {},
      "outputs": [],
      "source": [
        "class Student:\n",
        "    def __init__(self, age=20.0, semester=0): \n",
        "        self.age = age\n",
        "        self.semester = semester\n",
        "        print(\"입학을 축하합니다. 당신의 나이는 {}이고 현재 학기는 {}학기 입니다.\".format(self.age,self.semester))\n",
        "    def __add__(self,registration_status): \n",
        "        if registration_status=='휴학': \n",
        "            self.age=self.age+0.5\n",
        "        elif registration_status=='등록':\n",
        "            self.age=self.age+0.5 \n",
        "            self.semester= self.semester+1 \n",
        "    def _repr_html_(self):\n",
        "        html_str = \"\"\"\n",
        "        나이: {} <br/>\n",
        "        학기: {} <br/>\n",
        "        \"\"\"\n",
        "        return html_str.format(self.age,self.semester)"
      ],
      "id": "c64faa6b-cbfd-43bd-b89e-d20e98ba1dbe"
    },
    {
      "cell_type": "markdown",
      "metadata": {},
      "source": [
        "`-` 사용"
      ],
      "id": "2290fd22-5209-406c-a34e-2a65c3f80c18"
    },
    {
      "cell_type": "code",
      "execution_count": 69,
      "metadata": {},
      "outputs": [
        {
          "output_type": "stream",
          "name": "stdout",
          "text": [
            "입학을 축하합니다. 당신의 나이는 20.0이고 현재 학기는 0학기 입니다."
          ]
        }
      ],
      "source": [
        "boram = Student()"
      ],
      "id": "7f58c252-297a-4634-b518-7ca51fc82e47"
    },
    {
      "cell_type": "code",
      "execution_count": 70,
      "metadata": {},
      "outputs": [],
      "source": [
        "boram"
      ],
      "id": "e5e4cb99-5932-45bd-bd94-5320b1ae8c0f"
    },
    {
      "cell_type": "code",
      "execution_count": 71,
      "metadata": {},
      "outputs": [],
      "source": [
        "boram + '등록'\n",
        "boram"
      ],
      "id": "3ffa9896-27ac-40d6-9ea9-6dcf06b18010"
    },
    {
      "cell_type": "code",
      "execution_count": 72,
      "metadata": {},
      "outputs": [],
      "source": [
        "boram + '휴학'\n",
        "boram"
      ],
      "id": "3dd512be-7499-4cf1-9f80-de2c44be045d"
    },
    {
      "cell_type": "markdown",
      "metadata": {},
      "source": [
        "`-` 잘못된 사용"
      ],
      "id": "0b63a1f5-ac51-4ef9-8f6f-65991cee6820"
    },
    {
      "cell_type": "code",
      "execution_count": 49,
      "metadata": {},
      "outputs": [
        {
          "output_type": "stream",
          "name": "stdout",
          "text": [
            "입학을 축하합니다. 당신의 나이는 20.0이고 현재 학기는 0학기 입니다."
          ]
        }
      ],
      "source": [
        "boram = Student()"
      ],
      "id": "e657175e-84f1-423a-afad-2b169ff2c68e"
    },
    {
      "cell_type": "code",
      "execution_count": 54,
      "metadata": {},
      "outputs": [],
      "source": [
        "boram + '등록'+ '휴학' + '등록' + '휴학'"
      ],
      "id": "637592e1-2cea-464c-ac1a-170eaf800f02"
    },
    {
      "cell_type": "markdown",
      "metadata": {},
      "source": [
        "-   에러가?\n",
        "\n",
        "`-` 올바른 코드"
      ],
      "id": "ee7a106b-610a-40de-a359-0ad11d56eafa"
    },
    {
      "cell_type": "code",
      "execution_count": 55,
      "metadata": {},
      "outputs": [],
      "source": [
        "class Student_Ver2:\n",
        "    def __init__(self, age=20.0, semester=0): \n",
        "        self.age = age\n",
        "        self.semester = semester\n",
        "        print(\"입학을 축하합니다. 당신의 나이는 {}이고 현재 학기는 {}학기 입니다.\".format(self.age,self.semester))\n",
        "    def __add__(self,registration_status): \n",
        "        if registration_status=='휴학': \n",
        "            self.age = self.age+0.5\n",
        "        elif registration_status=='등록':\n",
        "            self.age = self.age+0.5 \n",
        "            self.semester = self.semester+1 \n",
        "        return self \n",
        "    def _repr_html_(self):\n",
        "        html_str = \"\"\"\n",
        "        나이: {} <br/>\n",
        "        학기: {} <br/>\n",
        "        \"\"\"\n",
        "        return html_str.format(self.age,self.semester)"
      ],
      "id": "e0f7fa65-9dfa-4649-84d4-a02c2a3d7cd1"
    },
    {
      "cell_type": "code",
      "execution_count": 56,
      "metadata": {},
      "outputs": [
        {
          "output_type": "stream",
          "name": "stdout",
          "text": [
            "입학을 축하합니다. 당신의 나이는 20.0이고 현재 학기는 0학기 입니다."
          ]
        }
      ],
      "source": [
        "boram = Student_Ver2()"
      ],
      "id": "8c10b901-9272-4a97-8922-e4d6ccf30992"
    },
    {
      "cell_type": "code",
      "execution_count": 61,
      "metadata": {},
      "outputs": [],
      "source": [
        "boram + \"등록\""
      ],
      "id": "fc7547df-3fe5-4655-9370-967b97adf5fe"
    },
    {
      "cell_type": "markdown",
      "metadata": {},
      "source": [
        "### ***Student_Ver2의 다른구현1***"
      ],
      "id": "8ee203a2-f343-4af7-82e6-520e28929645"
    },
    {
      "cell_type": "code",
      "execution_count": 73,
      "metadata": {},
      "outputs": [],
      "source": [
        "class Student_Ver2(Student):\n",
        "    def __add__(self,registration_status): \n",
        "        if registration_status=='휴학': \n",
        "            self.age = self.age+0.5\n",
        "        elif registration_status=='등록':\n",
        "            self.age = self.age+0.5 \n",
        "            self.semester = self.semester+1 \n",
        "        return self"
      ],
      "id": "a69650a4-5271-4b1c-8213-4781630ce1d8"
    },
    {
      "cell_type": "code",
      "execution_count": 74,
      "metadata": {},
      "outputs": [
        {
          "output_type": "stream",
          "name": "stdout",
          "text": [
            "입학을 축하합니다. 당신의 나이는 20.0이고 현재 학기는 0학기 입니다."
          ]
        }
      ],
      "source": [
        "boram = Student_Ver2()"
      ],
      "id": "4198b0fa-a094-47b7-ab7a-6ea6bb20d1b9"
    },
    {
      "cell_type": "code",
      "execution_count": 75,
      "metadata": {},
      "outputs": [],
      "source": [
        "boram + '등록'+ '휴학' + '등록' + '휴학'"
      ],
      "id": "148d3241-b9b9-455f-b145-9a9d8d814d50"
    },
    {
      "cell_type": "markdown",
      "metadata": {},
      "source": [
        "### ***Student_Ver2의 다른구현2***\n",
        "\n",
        "-   요거까지는 지금 몰라도 됩니다"
      ],
      "id": "98d6ed2b-3bd3-4df1-b433-493f92bcdc48"
    },
    {
      "cell_type": "code",
      "execution_count": 80,
      "metadata": {},
      "outputs": [],
      "source": [
        "class Student_Ver2(Student):\n",
        "    def __add__(self,registration_status): \n",
        "        super().__add__(registration_status)\n",
        "        return self"
      ],
      "id": "e4f14087-bc4b-4a7a-9e35-4d9d7f7fa515"
    },
    {
      "cell_type": "code",
      "execution_count": 81,
      "metadata": {},
      "outputs": [
        {
          "output_type": "stream",
          "name": "stdout",
          "text": [
            "입학을 축하합니다. 당신의 나이는 20.0이고 현재 학기는 0학기 입니다."
          ]
        }
      ],
      "source": [
        "boram = Student_Ver2()"
      ],
      "id": "87524983-6ae6-4612-a171-2c5f612e1fa3"
    },
    {
      "cell_type": "code",
      "execution_count": 82,
      "metadata": {},
      "outputs": [],
      "source": [
        "boram + '등록' + '휴학' + '등록' + '휴학'"
      ],
      "id": "6877ae1e-e99b-416a-bcfd-a79c991be4ef"
    },
    {
      "cell_type": "markdown",
      "metadata": {},
      "source": [
        "> 파이썬의 비밀6: `a+b`는 사실 `a.__add__(b)`의 축약형이다.\n",
        "\n",
        "## 비밀7: `__getitem__`\n",
        "\n",
        "### ***motive***"
      ],
      "id": "a348eec4-4c7c-43e9-91c4-d89f5865707f"
    },
    {
      "cell_type": "code",
      "execution_count": 83,
      "metadata": {},
      "outputs": [],
      "source": [
        "a=[11,22,32]"
      ],
      "id": "a473dd99-6b0c-44b3-9f1c-3fbfbdf3b88e"
    },
    {
      "cell_type": "code",
      "execution_count": 84,
      "metadata": {},
      "outputs": [],
      "source": [
        "a[0]"
      ],
      "id": "52aa075e-6db4-467c-b945-e1faf61142b0"
    },
    {
      "cell_type": "markdown",
      "metadata": {},
      "source": [
        "-   이거 좋아보인다?"
      ],
      "id": "73fbb620-aa3d-42d5-bd9a-4d484d4d3766"
    },
    {
      "cell_type": "code",
      "execution_count": 87,
      "metadata": {},
      "outputs": [],
      "source": [
        "a.__getitem__(0) # a[0]"
      ],
      "id": "d7c6a6f1-6e5e-4a06-b7f2-780a18d44d4a"
    },
    {
      "cell_type": "markdown",
      "metadata": {},
      "source": [
        "-   이런거였어?\n",
        "\n",
        "### ***RPS_Ver2: `__getitem__`의 사용***"
      ],
      "id": "79b3abdb-cf37-44d7-a0bb-cf30a6ad299a"
    },
    {
      "cell_type": "code",
      "execution_count": 88,
      "metadata": {},
      "outputs": [],
      "source": [
        "class RPS:\n",
        "    def __init__(self,candidate):\n",
        "        self.candidate = candidate\n",
        "        self.actions = list() \n",
        "    def pick(self):\n",
        "        self.actions.append(np.random.choice(self.candidate))        \n",
        "    def _repr_html_(self):\n",
        "        html_str = \"\"\"\n",
        "        낼 수 있는 패: {} <br/>\n",
        "        기록: {}\n",
        "        \"\"\"        \n",
        "        return html_str.format(self.candidate,self.actions)"
      ],
      "id": "0fabe7b7-e631-4ec9-8e9f-1fa98f6cf131"
    },
    {
      "cell_type": "code",
      "execution_count": 92,
      "metadata": {},
      "outputs": [],
      "source": [
        "a = RPS(['가위','바위','보'])"
      ],
      "id": "06091157-6e97-48a5-8104-49499eddfa4c"
    },
    {
      "cell_type": "code",
      "execution_count": 96,
      "metadata": {},
      "outputs": [],
      "source": [
        "a.pick()\n",
        "a.pick()"
      ],
      "id": "894e9809-6935-4ec3-b5d6-ef772eb92a6a"
    },
    {
      "cell_type": "code",
      "execution_count": 97,
      "metadata": {},
      "outputs": [],
      "source": [
        "a.actions"
      ],
      "id": "d625afab-6a16-4676-bd89-c6ed49fe1cfe"
    },
    {
      "cell_type": "code",
      "execution_count": 100,
      "metadata": {},
      "outputs": [],
      "source": [
        "a[0], a[1]"
      ],
      "id": "bf7dc13b-13ab-46d0-af7e-c2149b70ab0b"
    },
    {
      "cell_type": "markdown",
      "metadata": {},
      "source": [
        "-   결과가 ‘가위’, ’바위’로 나오면 좋겠다.. 물론 지금은 불가능해"
      ],
      "id": "1c156fd4-1a2d-469e-a318-3de8771b8c9e"
    },
    {
      "cell_type": "code",
      "execution_count": 104,
      "metadata": {},
      "outputs": [],
      "source": [
        "class RPS_Ver2(RPS):\n",
        "    def __getitem__(self,item):\n",
        "        return self.actions[item]"
      ],
      "id": "8f1ecdb1-9ba2-4c84-a299-0f15aaf633b7"
    },
    {
      "cell_type": "code",
      "execution_count": 105,
      "metadata": {},
      "outputs": [],
      "source": [
        "a = RPS_Ver2(['가위','바위','보'])"
      ],
      "id": "85c3e27a-4a50-49ab-9276-04e2f74961f4"
    },
    {
      "cell_type": "code",
      "execution_count": 106,
      "metadata": {},
      "outputs": [],
      "source": [
        "a.pick()\n",
        "a.pick()\n",
        "a.pick()"
      ],
      "id": "3745326f-28bf-4b94-b5c1-c5075486bd3d"
    },
    {
      "cell_type": "code",
      "execution_count": 107,
      "metadata": {},
      "outputs": [],
      "source": [
        "a"
      ],
      "id": "283b54b0-b33f-405f-853b-5a381ca822b5"
    },
    {
      "cell_type": "code",
      "execution_count": 116,
      "metadata": {},
      "outputs": [],
      "source": [
        "a[0]"
      ],
      "id": "2e2ed367-3093-429f-a28c-4dcd7034fa64"
    },
    {
      "cell_type": "code",
      "execution_count": 117,
      "metadata": {},
      "outputs": [],
      "source": [
        "a[:2]"
      ],
      "id": "1f66078b-59a1-4118-8f98-de35e2acdadf"
    },
    {
      "cell_type": "markdown",
      "metadata": {},
      "source": [
        "> 파이썬의 비밀7: `a[0]`는 `a.__getitem__(0)`의 축약형이다.\n",
        "\n",
        "## 비밀8: `__setitem__`\n",
        "\n",
        "### ***motive***"
      ],
      "id": "f33ff9c6-2500-4a67-9110-d39e77f3d3ed"
    },
    {
      "cell_type": "code",
      "execution_count": 118,
      "metadata": {},
      "outputs": [],
      "source": [
        "a = RPS_Ver2(['가위','바위'])\n",
        "a"
      ],
      "id": "3f5a5a59-9aaa-41e5-84c7-d28de583fed1"
    },
    {
      "cell_type": "code",
      "execution_count": 119,
      "metadata": {},
      "outputs": [],
      "source": [
        "a.pick()\n",
        "a.pick()\n",
        "a"
      ],
      "id": "1c42ea45-110c-4743-a977-36a25189e177"
    },
    {
      "cell_type": "code",
      "execution_count": 120,
      "metadata": {},
      "outputs": [],
      "source": [
        "a[0]"
      ],
      "id": "3ec880c0-9f6c-4b1c-9ee6-599149bd869a"
    },
    {
      "cell_type": "code",
      "execution_count": 121,
      "metadata": {},
      "outputs": [],
      "source": [
        "a[0] = '보' "
      ],
      "id": "99b23a3e-5173-4d95-9168-4677af53d05d"
    },
    {
      "cell_type": "markdown",
      "metadata": {},
      "source": [
        "-   경우에 따라서는 이런 문법이 필요하기도 하다.\n",
        "\n",
        "### ***RPS_Ver3: `__setitem__` 사용***\n",
        "\n",
        "`-` 관찰"
      ],
      "id": "84ef1c7c-31b7-4508-9565-d5ed3f98215d"
    },
    {
      "cell_type": "code",
      "execution_count": 123,
      "metadata": {},
      "outputs": [],
      "source": [
        "lst = [1,2,3]"
      ],
      "id": "647f7361-3725-404c-9380-fe460401212e"
    },
    {
      "cell_type": "code",
      "execution_count": 124,
      "metadata": {},
      "outputs": [],
      "source": [
        "lst.__setitem__(0,11)"
      ],
      "id": "186a0757-cd33-4f4a-8df4-b87935ebf1e2"
    },
    {
      "cell_type": "code",
      "execution_count": 125,
      "metadata": {},
      "outputs": [],
      "source": [
        "lst"
      ],
      "id": "50bde749-e45e-47b6-bc3b-e719428bec73"
    },
    {
      "cell_type": "markdown",
      "metadata": {},
      "source": [
        "`-` RPS예제"
      ],
      "id": "5918650a-5d76-444c-9ca5-3f0d4b07a79e"
    },
    {
      "cell_type": "code",
      "execution_count": 126,
      "metadata": {},
      "outputs": [],
      "source": [
        "class RPS_Ver3(RPS_Ver2):\n",
        "    def __setitem__(self,index,val):\n",
        "        self.actions[index] = val"
      ],
      "id": "2939163b-a32e-452d-8603-af40e247a795"
    },
    {
      "cell_type": "code",
      "execution_count": 127,
      "metadata": {},
      "outputs": [],
      "source": [
        "a=RPS_Ver3(['가위','바위','보'])"
      ],
      "id": "3d194d9b-1039-473c-93a6-24e3e7f82c18"
    },
    {
      "cell_type": "code",
      "execution_count": 128,
      "metadata": {},
      "outputs": [],
      "source": [
        "a.pick()"
      ],
      "id": "04faea21-7c98-4231-b929-1ce890ae766c"
    },
    {
      "cell_type": "code",
      "execution_count": 129,
      "metadata": {},
      "outputs": [],
      "source": [
        "a"
      ],
      "id": "37301247-2cae-4421-ad89-23ba7ecadb4e"
    },
    {
      "cell_type": "code",
      "execution_count": 131,
      "metadata": {},
      "outputs": [],
      "source": [
        "a[0]='가위'"
      ],
      "id": "3074d699-ea92-4895-8542-69fffcb4e3af"
    },
    {
      "cell_type": "code",
      "execution_count": 132,
      "metadata": {},
      "outputs": [],
      "source": [
        "a"
      ],
      "id": "0ae5a3b1-83f0-48b2-a8d9-8ecb079e4ccb"
    },
    {
      "cell_type": "markdown",
      "metadata": {},
      "source": [
        "> 파이썬의 비밀8: `a[0]=11`는 `a.__setitem__(0,11)`의 축약형이다.\n",
        "\n",
        "## 비밀9: `__len__`\n",
        "\n",
        "### ***motive***"
      ],
      "id": "a05e923f-a74b-4265-a9ad-dcf36d02aacf"
    },
    {
      "cell_type": "code",
      "execution_count": 139,
      "metadata": {},
      "outputs": [],
      "source": [
        "a= RPS_Ver3(['가위','바위','보'])\n",
        "a"
      ],
      "id": "760c4fed-f77c-4698-ac63-c40a1603acd6"
    },
    {
      "cell_type": "code",
      "execution_count": 140,
      "metadata": {},
      "outputs": [],
      "source": [
        "a.pick()\n",
        "a.pick()\n",
        "a.pick()"
      ],
      "id": "258174c9-eea8-497d-98e2-c991ca4a92fe"
    },
    {
      "cell_type": "code",
      "execution_count": 141,
      "metadata": {},
      "outputs": [],
      "source": [
        "a"
      ],
      "id": "2a12cf8d-604a-48d4-9496-7fcf991d2884"
    },
    {
      "cell_type": "code",
      "execution_count": 142,
      "metadata": {},
      "outputs": [],
      "source": [
        "a[0],a[1],a[2]"
      ],
      "id": "5b9d94b3-29d3-417c-9c7d-9486b0241d5b"
    },
    {
      "cell_type": "code",
      "execution_count": 143,
      "metadata": {},
      "outputs": [],
      "source": [
        "len(a)"
      ],
      "id": "1f13560e-95b4-4125-bc93-cbc75350ad85"
    },
    {
      "cell_type": "markdown",
      "metadata": {},
      "source": [
        "### ***RPS_Ver4: `__len__` 의 사용***"
      ],
      "id": "4e4c3fa6-45f2-4b4e-aeac-050dc24e2271"
    },
    {
      "cell_type": "code",
      "execution_count": 145,
      "metadata": {},
      "outputs": [],
      "source": [
        "class RPS_Ver4(RPS_Ver2):\n",
        "    def __len__(self):\n",
        "        return len(self.actions)"
      ],
      "id": "a709deca-70ea-48fa-8255-25bc881d400e"
    },
    {
      "cell_type": "code",
      "execution_count": 146,
      "metadata": {},
      "outputs": [],
      "source": [
        "a = RPS_Ver4(['가위','바위','보'])\n",
        "a"
      ],
      "id": "02aa010f-3504-4b8d-9629-552eb4e05a88"
    },
    {
      "cell_type": "code",
      "execution_count": 147,
      "metadata": {},
      "outputs": [],
      "source": [
        "a.pick()\n",
        "a.pick()\n",
        "a.pick()\n",
        "a.pick()"
      ],
      "id": "d982c836-7cd6-4e58-b880-f1d6feb87ca8"
    },
    {
      "cell_type": "code",
      "execution_count": 148,
      "metadata": {},
      "outputs": [],
      "source": [
        "a"
      ],
      "id": "a4c93125-c5ae-4374-b456-8d79aacd9e91"
    },
    {
      "cell_type": "code",
      "execution_count": 149,
      "metadata": {},
      "outputs": [],
      "source": [
        "a.__len__() # len(a.actions)"
      ],
      "id": "2786e0dc-b382-4314-acb8-f1cd0c399153"
    },
    {
      "cell_type": "code",
      "execution_count": 150,
      "metadata": {},
      "outputs": [],
      "source": [
        "len(a) # a.__len__()"
      ],
      "id": "6a94b93c-e04c-4442-94f8-405e3d6c129b"
    },
    {
      "cell_type": "markdown",
      "metadata": {},
      "source": [
        "> 파이썬의 비밀9: `a.__len__()`는 `len(a)`의 축약형이다.\n",
        "\n",
        "## 비밀10: 비교연산자\n",
        "\n",
        "### ***motive1***"
      ],
      "id": "018b34f9-9802-4c02-925c-b84141824b08"
    },
    {
      "cell_type": "code",
      "execution_count": 153,
      "metadata": {},
      "outputs": [],
      "source": [
        "a = RPS_Ver4(['가위'])\n",
        "b = RPS_Ver4(['가위'])"
      ],
      "id": "519963db-147b-4e04-abbe-13b773bfc512"
    },
    {
      "cell_type": "code",
      "execution_count": 154,
      "metadata": {},
      "outputs": [],
      "source": [
        "a.pick()\n",
        "b.pick()"
      ],
      "id": "b45dc600-002d-4d98-8d2f-21170e6f71b2"
    },
    {
      "cell_type": "code",
      "execution_count": 155,
      "metadata": {},
      "outputs": [],
      "source": [
        "a"
      ],
      "id": "26157840-5134-478b-abe1-c2ee3e00ff2a"
    },
    {
      "cell_type": "code",
      "execution_count": 156,
      "metadata": {},
      "outputs": [],
      "source": [
        "b"
      ],
      "id": "24e29923-27fd-4785-887c-ee11714bf2fb"
    },
    {
      "cell_type": "code",
      "execution_count": 158,
      "metadata": {},
      "outputs": [],
      "source": [
        "a == b"
      ],
      "id": "db9d8b11-15bd-4a21-b5c9-45cf0b9d888a"
    },
    {
      "cell_type": "markdown",
      "metadata": {},
      "source": [
        "-   `가위 == 가위` 이면 True가 나오면 좋겠구만.."
      ],
      "id": "784d5741-3afb-4c53-8e89-6a0e50d790aa"
    },
    {
      "cell_type": "code",
      "execution_count": 160,
      "metadata": {},
      "outputs": [],
      "source": [
        "a[-1] == b[-1] "
      ],
      "id": "8936bbe9-a77b-4050-8f04-5d4956ce4fdf"
    },
    {
      "cell_type": "markdown",
      "metadata": {},
      "source": [
        "-   이렇게 하면 되긴하지..\n",
        "\n",
        "### ***RPS_Ver5: `__eq__` 의 사용***\n",
        "\n",
        "`-` 관찰"
      ],
      "id": "b795a6b2-f8cc-4458-a218-41aea792f57c"
    },
    {
      "cell_type": "code",
      "execution_count": 161,
      "metadata": {},
      "outputs": [],
      "source": [
        "a = 1"
      ],
      "id": "f6286cd9-b400-4b46-9b4e-4488c0f6eae6"
    },
    {
      "cell_type": "code",
      "execution_count": 164,
      "metadata": {},
      "outputs": [],
      "source": [
        "a.__eq__(1) # a == 1"
      ],
      "id": "1d546444-867b-42c5-914f-672009ad10ea"
    },
    {
      "cell_type": "code",
      "execution_count": 167,
      "metadata": {},
      "outputs": [],
      "source": [
        "a.__eq__(2) # a == 2 "
      ],
      "id": "8f6c5a90-5a41-4ea1-9479-ee654188111f"
    },
    {
      "cell_type": "markdown",
      "metadata": {},
      "source": [
        "`-` 구현"
      ],
      "id": "d87d08f4-0cc8-4aef-8f0b-a15d197eb73f"
    },
    {
      "cell_type": "code",
      "execution_count": 216,
      "metadata": {},
      "outputs": [],
      "source": [
        "class RPS_Ver5(RPS_Ver4):\n",
        "    def __eq__(self,other):\n",
        "        return self[-1] == other[-1]"
      ],
      "id": "80d56f09-62ab-4233-a282-a38aa28f2f95"
    },
    {
      "cell_type": "code",
      "execution_count": 217,
      "metadata": {},
      "outputs": [],
      "source": [
        "a = RPS_Ver5(['가위','바위'])\n",
        "b = RPS_Ver5(['가위','바위'])"
      ],
      "id": "195daaf3-5425-4ccf-a033-a95d90b84655"
    },
    {
      "cell_type": "markdown",
      "metadata": {},
      "source": [
        "`-` 1회 대결"
      ],
      "id": "a48a9e7d-6fcd-486a-a923-52ec5cb1c009"
    },
    {
      "cell_type": "code",
      "execution_count": 218,
      "metadata": {},
      "outputs": [],
      "source": [
        "a.pick()\n",
        "b.pick()"
      ],
      "id": "e20f3c77-bb55-4566-b07f-c910af3ef1c3"
    },
    {
      "cell_type": "code",
      "execution_count": 219,
      "metadata": {},
      "outputs": [],
      "source": [
        "a"
      ],
      "id": "50a2e28b-4ce1-47cd-b92f-95ef643588d9"
    },
    {
      "cell_type": "code",
      "execution_count": 220,
      "metadata": {},
      "outputs": [],
      "source": [
        "b"
      ],
      "id": "ac755145-3aba-4b4a-89af-8b8feec7bb0b"
    },
    {
      "cell_type": "code",
      "execution_count": 221,
      "metadata": {},
      "outputs": [],
      "source": [
        "a == b"
      ],
      "id": "1576d8ee-aef8-481f-973a-b3886aad80ac"
    },
    {
      "cell_type": "markdown",
      "metadata": {},
      "source": [
        "`-` 2회 대결"
      ],
      "id": "8802e26a-975f-4693-9e0c-d70241f326b4"
    },
    {
      "cell_type": "code",
      "execution_count": 222,
      "metadata": {},
      "outputs": [],
      "source": [
        "a.pick()\n",
        "b.pick()"
      ],
      "id": "3aa53a4e-b751-481a-885c-477f74e68fe7"
    },
    {
      "cell_type": "code",
      "execution_count": 223,
      "metadata": {},
      "outputs": [],
      "source": [
        "a"
      ],
      "id": "9557f686-dd49-45cb-b3a2-79066420c4d7"
    },
    {
      "cell_type": "code",
      "execution_count": 224,
      "metadata": {},
      "outputs": [],
      "source": [
        "b"
      ],
      "id": "2cb4cb44-89e9-4849-b2ea-1c9a4d596ba1"
    },
    {
      "cell_type": "code",
      "execution_count": 225,
      "metadata": {},
      "outputs": [],
      "source": [
        "a == b"
      ],
      "id": "a4bed330-929b-4c40-a825-bcbf211c6258"
    },
    {
      "cell_type": "markdown",
      "metadata": {},
      "source": [
        "`-` 3회 대결"
      ],
      "id": "90bfc96b-88c8-47fb-833f-70fcb80f7351"
    },
    {
      "cell_type": "code",
      "execution_count": 226,
      "metadata": {},
      "outputs": [],
      "source": [
        "a.pick()\n",
        "b.pick()"
      ],
      "id": "310f4458-5b95-48ba-bbd2-81c4d3ba8f55"
    },
    {
      "cell_type": "code",
      "execution_count": 227,
      "metadata": {},
      "outputs": [],
      "source": [
        "a"
      ],
      "id": "458bdf73-5fcf-4151-9cda-ed42dc38ef72"
    },
    {
      "cell_type": "code",
      "execution_count": 228,
      "metadata": {},
      "outputs": [],
      "source": [
        "b"
      ],
      "id": "de2580f7-e3d5-4126-af52-61fe8a06fc62"
    },
    {
      "cell_type": "code",
      "execution_count": 229,
      "metadata": {},
      "outputs": [],
      "source": [
        "a == b"
      ],
      "id": "8330588a-05e9-4cc4-981e-d88b4025f4b2"
    },
    {
      "cell_type": "markdown",
      "metadata": {},
      "source": [
        "### ***motive2***"
      ],
      "id": "87003188-6fa6-4f9b-9c6d-c8e37069e545"
    },
    {
      "cell_type": "code",
      "execution_count": 185,
      "metadata": {},
      "outputs": [],
      "source": [
        "a[-1], b[-1]"
      ],
      "id": "61787796-cde2-4292-9094-f088be1dec96"
    },
    {
      "cell_type": "code",
      "execution_count": 186,
      "metadata": {},
      "outputs": [],
      "source": [
        "a > b"
      ],
      "id": "eb721e7d-62db-40e6-af0a-8f0882b293ca"
    },
    {
      "cell_type": "markdown",
      "metadata": {},
      "source": [
        "-   False 가 나오면 좋겟구만..\n",
        "\n",
        "### ***RPS_Ver6: `__gt__` 의 사용***\n",
        "\n",
        "`-` 관찰"
      ],
      "id": "5d8954ff-9de9-4d95-949f-d56f22043535"
    },
    {
      "cell_type": "code",
      "execution_count": 187,
      "metadata": {},
      "outputs": [],
      "source": [
        "a = 1"
      ],
      "id": "f0597eeb-d4cf-4e11-8144-3389f459da0f"
    },
    {
      "cell_type": "code",
      "execution_count": 188,
      "metadata": {},
      "outputs": [],
      "source": [
        "a.__gt__(1) # a>1"
      ],
      "id": "7d9385f3-c580-4fa0-ba02-dabcb9b37fcf"
    },
    {
      "cell_type": "code",
      "execution_count": 189,
      "metadata": {},
      "outputs": [],
      "source": [
        "a.__gt__(0) # a>0 "
      ],
      "id": "d1001999-255d-46fc-aea6-57b72b4bd9ce"
    },
    {
      "cell_type": "markdown",
      "metadata": {},
      "source": [
        "`-` **예비학습**"
      ],
      "id": "860b950a-aa72-4e96-9f3d-da155b3213c9"
    },
    {
      "cell_type": "code",
      "execution_count": 232,
      "metadata": {},
      "outputs": [],
      "source": [
        "[a[-1],b[-1]]"
      ],
      "id": "fe5363d7-39ab-4a6c-9ae8-8ddbf2259ebb"
    },
    {
      "cell_type": "code",
      "execution_count": 233,
      "metadata": {},
      "outputs": [],
      "source": [
        "[a[-1],b[-1]] in [['가위','보'],['바위','가위'],['보','바위']]"
      ],
      "id": "4ad92fa1-25db-4916-9846-42fc77899a17"
    },
    {
      "cell_type": "markdown",
      "metadata": {},
      "source": [
        "`-` 구현"
      ],
      "id": "8b3f0fc9-0677-4732-8db2-65c9490a7b60"
    },
    {
      "cell_type": "code",
      "execution_count": 234,
      "metadata": {},
      "outputs": [],
      "source": [
        "class RPS_Ver6(RPS_Ver5):\n",
        "    def __gt__(self,other):\n",
        "        return [self[-1],other[-1]] in [['가위','보'],['바위','가위'],['보','바위']]"
      ],
      "id": "c88866c8-b7c9-4599-bb35-75c971a03ee1"
    },
    {
      "cell_type": "code",
      "execution_count": 235,
      "metadata": {},
      "outputs": [],
      "source": [
        "a = RPS_Ver6(['가위','바위','보'])\n",
        "b = RPS_Ver6(['가위','바위','보'])"
      ],
      "id": "fcf450c1-70d6-4d9b-a9d9-b7e40a871604"
    },
    {
      "cell_type": "markdown",
      "metadata": {},
      "source": [
        "`-` 1회대결"
      ],
      "id": "6113fffb-7a71-4181-950f-7d3d96785275"
    },
    {
      "cell_type": "code",
      "execution_count": 236,
      "metadata": {},
      "outputs": [],
      "source": [
        "a.pick() \n",
        "b.pick()"
      ],
      "id": "7e336058-a655-4c91-af05-e6d534608f7c"
    },
    {
      "cell_type": "code",
      "execution_count": 237,
      "metadata": {},
      "outputs": [],
      "source": [
        "a"
      ],
      "id": "2142524c-9f45-4a51-a27b-077ce4c13fc3"
    },
    {
      "cell_type": "code",
      "execution_count": 238,
      "metadata": {},
      "outputs": [],
      "source": [
        "b"
      ],
      "id": "edfccb72-3a1c-40e7-bb26-49288e828e57"
    },
    {
      "cell_type": "code",
      "execution_count": 240,
      "metadata": {},
      "outputs": [],
      "source": [
        "a>b, a==b"
      ],
      "id": "cde45114-fb10-4e01-8cae-aa63f6debaef"
    },
    {
      "cell_type": "markdown",
      "metadata": {},
      "source": [
        "`-` 2회대결"
      ],
      "id": "14a22370-23f0-440f-83f6-1e432ae6b785"
    },
    {
      "cell_type": "code",
      "execution_count": 241,
      "metadata": {},
      "outputs": [],
      "source": [
        "a.pick() \n",
        "b.pick()"
      ],
      "id": "ee799dc5-596e-40bf-8376-46d981a4958b"
    },
    {
      "cell_type": "code",
      "execution_count": 242,
      "metadata": {},
      "outputs": [],
      "source": [
        "a"
      ],
      "id": "d7a98b62-235f-48c1-9733-a7ed3cac0a6b"
    },
    {
      "cell_type": "code",
      "execution_count": 243,
      "metadata": {},
      "outputs": [],
      "source": [
        "b"
      ],
      "id": "ba23f80b-700c-436a-894a-8866e84f7d4c"
    },
    {
      "cell_type": "code",
      "execution_count": 245,
      "metadata": {},
      "outputs": [],
      "source": [
        "a>b, a==b"
      ],
      "id": "dd53c67d-029d-4490-9c63-5d6f7d54e685"
    },
    {
      "cell_type": "markdown",
      "metadata": {},
      "source": [
        "### ***motive3***"
      ],
      "id": "307f2fb5-7feb-4692-adc2-8340bddf78cd"
    },
    {
      "cell_type": "code",
      "execution_count": 246,
      "metadata": {},
      "outputs": [],
      "source": [
        "a"
      ],
      "id": "46624ad7-4c1a-4485-a237-d7081746f8e1"
    },
    {
      "cell_type": "code",
      "execution_count": 247,
      "metadata": {},
      "outputs": [],
      "source": [
        "b"
      ],
      "id": "58112bd7-0851-4908-bf70-4a7a98c03cbe"
    },
    {
      "cell_type": "code",
      "execution_count": 248,
      "metadata": {},
      "outputs": [],
      "source": [
        "a>=b"
      ],
      "id": "6de0c6e4-98d8-484c-a2ed-ea1995204eef"
    },
    {
      "cell_type": "markdown",
      "metadata": {},
      "source": [
        "-   True로 나오면 좋겠구만.."
      ],
      "id": "4e7fd306-da88-4221-ab44-ea8aac42a23e"
    },
    {
      "cell_type": "code",
      "execution_count": 249,
      "metadata": {},
      "outputs": [],
      "source": [
        "a < b"
      ],
      "id": "458aaa73-0929-4df9-ba05-8e93d9435f70"
    },
    {
      "cell_type": "markdown",
      "metadata": {},
      "source": [
        "-   이것도 정의 새로 해야겠는걸?\n",
        "\n",
        "### ***RPS_Ver7: `__ge__`, `__lt__`, `__le__` 의 사용***\n",
        "\n",
        "`-` 관찰: 생략\n",
        "\n",
        "`-` 비교연산자 정리\n",
        "\n",
        "| 특수메소드 |      의미       |\n",
        "|:----------:|:---------------:|\n",
        "|  `__eq__`  | `self == other` |\n",
        "|  `__gt__`  | `self > other`  |\n",
        "|  `__lt__`  | `self < other`  |\n",
        "|  `__ge__`  | `self >= other` |\n",
        "|  `__le__`  | `self <= other` |\n",
        "\n",
        "`-` 구현"
      ],
      "id": "6bb09543-9a0c-4cdc-a410-5446ec9ea511"
    },
    {
      "cell_type": "code",
      "execution_count": 252,
      "metadata": {},
      "outputs": [],
      "source": [
        "class RPS_Ver7(RPS_Ver6):\n",
        "    def __ge__(self,other):\n",
        "        return (self == other) or (self > other)\n",
        "    def __lt__(self,other):\n",
        "        return not (self >= other)\n",
        "    def __le__(self,other):\n",
        "        return (self == other) or (self < other)"
      ],
      "id": "498638da-17f4-4877-a6c6-ff076fe05296"
    },
    {
      "cell_type": "code",
      "execution_count": 258,
      "metadata": {},
      "outputs": [],
      "source": [
        "a = RPS_Ver7(['가위','바위','보'])\n",
        "b = RPS_Ver7(['가위','바위','보'])"
      ],
      "id": "f6fff8fb-b49f-44e7-9b04-dff39402afb0"
    },
    {
      "cell_type": "code",
      "execution_count": 259,
      "metadata": {},
      "outputs": [],
      "source": [
        "a.pick()\n",
        "b.pick()"
      ],
      "id": "0142cc0f-0a70-4e34-8f24-3691aa474e8f"
    },
    {
      "cell_type": "code",
      "execution_count": 260,
      "metadata": {},
      "outputs": [],
      "source": [
        "a"
      ],
      "id": "073658fb-478a-488e-bc6d-30649ec6d744"
    },
    {
      "cell_type": "code",
      "execution_count": 261,
      "metadata": {},
      "outputs": [],
      "source": [
        "b"
      ],
      "id": "6456f11b-d61b-4bd2-907e-c4a8831faef6"
    },
    {
      "cell_type": "code",
      "execution_count": 262,
      "metadata": {},
      "outputs": [],
      "source": [
        "a==b, a>b, a<b, a>=b, a<=b "
      ],
      "id": "1d4c45b5-be2c-44fe-a2e5-9b68a69f9b3f"
    },
    {
      "cell_type": "markdown",
      "metadata": {},
      "source": [
        "> 파이썬의 비밀10: `__eq__`, `__gt__`, `__lt__`, `__ge__`, `__le__`는\n",
        "> 각각 `==`, `>`, `<`, `>=`, `<=` 를 재정의한다.\n",
        "\n",
        "## 비밀11: `__call__` $(\\star\\star\\star)$\n",
        "\n",
        "### ***함수공부***\n",
        "\n",
        "`-` 다시 함수를 공부해봅시다."
      ],
      "id": "9969c4cc-73f6-4a9d-b369-c3bb3c6d9120"
    },
    {
      "cell_type": "code",
      "execution_count": 264,
      "metadata": {},
      "outputs": [],
      "source": [
        "def f(x):\n",
        "    return x+1 "
      ],
      "id": "9d03d636-825e-4c2f-8329-749557ec3b8d"
    },
    {
      "cell_type": "code",
      "execution_count": 265,
      "metadata": {},
      "outputs": [],
      "source": [
        "f(3)"
      ],
      "id": "538788d7-05cd-4c34-97ea-b14745c6ed32"
    },
    {
      "cell_type": "markdown",
      "metadata": {},
      "source": [
        "`-` 함수의 사용방법?\n",
        "\n",
        "-   입력으로 변수 x를 받음 = 입력으로 인스턴스 x를 받음.\n",
        "-   출력으로 변수 x+1을 리턴 = 출력으로 인스턴스 x+1을 리턴.\n",
        "\n",
        "`-` 사실1: 파이썬에서 함수는 인스턴스를 입력으로 받고 인스턴스를\n",
        "출력한다.\n",
        "\n",
        "`-` 함수의 자료형?"
      ],
      "id": "26c078ed-62a9-4b9a-a220-7dcff8bbb1ea"
    },
    {
      "cell_type": "code",
      "execution_count": 266,
      "metadata": {},
      "outputs": [],
      "source": [
        "?f"
      ],
      "id": "edaf23ef-e8aa-4d8a-8d23-151e7276d708"
    },
    {
      "cell_type": "markdown",
      "metadata": {},
      "source": [
        "-   type이 function이다.\n",
        "-   f는 function class의 instance이다.\n",
        "-   결국 f 역시 하나의 오브젝트에 불과하다.\n",
        "\n",
        "`-` 사실2: 함수도 결국 인스턴스이다. -\\> 함수의 입력으로 함수를 쓸 수도\n",
        "있고 함수의 출력으로 함수가 나올 수도 있다.\n",
        "\n",
        "> “파이썬의 모든 것은 오브젝트이다.” \\<– 명언처럼 외우세여\n",
        "\n",
        "### ***함수도 인스턴스다***\n",
        "\n",
        "(예제1) 숫자입력, 함수출력"
      ],
      "id": "52e1736a-cef9-4e47-b7b8-02abc50f8ef6"
    },
    {
      "cell_type": "code",
      "execution_count": 268,
      "metadata": {},
      "outputs": [],
      "source": [
        "def f(a):\n",
        "    def _f(x):\n",
        "        return (x-a)**2 \n",
        "    return _f"
      ],
      "id": "86c3359b-a335-4bc7-8305-3b2e3b6a2d86"
    },
    {
      "cell_type": "code",
      "execution_count": 269,
      "metadata": {},
      "outputs": [],
      "source": [
        "g=f(10) # g(x)=(x-10)**2 "
      ],
      "id": "061f6d6d-c2f9-4d7a-8d0d-bb4c1713b876"
    },
    {
      "cell_type": "code",
      "execution_count": 270,
      "metadata": {},
      "outputs": [],
      "source": [
        "g(2) # (2-10)**2 = 64"
      ],
      "id": "9a907484-d7c5-4034-bc6b-df889aab1ed3"
    },
    {
      "cell_type": "markdown",
      "metadata": {},
      "source": [
        "-   해석: $f(a)$는 $a$를 입력으로 받고 $g(x)=(x-a)^2$라는 함수를\n",
        "    리턴해주는 함수\n",
        "\n",
        "(예제1)의 다른표현: 익명함수 lambda"
      ],
      "id": "bc4708cf-9ebe-467e-871a-48d0938ff39c"
    },
    {
      "cell_type": "code",
      "execution_count": 271,
      "metadata": {},
      "outputs": [],
      "source": [
        "def f(x):\n",
        "    return x+1"
      ],
      "id": "66a7df48-9d3e-42fd-9cac-8761f6d1212a"
    },
    {
      "cell_type": "code",
      "execution_count": 280,
      "metadata": {},
      "outputs": [],
      "source": [
        "f= lambda x: x+1"
      ],
      "id": "318ff6ce-b337-4cfc-9bec-10dc889bdf51"
    },
    {
      "cell_type": "markdown",
      "metadata": {},
      "source": [
        "표현1"
      ],
      "id": "d33ca5cf-4083-4a02-aa43-41ac5705899a"
    },
    {
      "cell_type": "code",
      "execution_count": 281,
      "metadata": {},
      "outputs": [],
      "source": [
        "def f(a):\n",
        "    _f = lambda x: (x-a)**2 ### lambda x: (x-a)**2 가 실행되는 순간 함수오브젝트가 만들어지고 그것이 _f 로 저장됨 \n",
        "    return _f"
      ],
      "id": "592d674c-07e6-4c08-ba1f-9aa901e8dc26"
    },
    {
      "cell_type": "code",
      "execution_count": 282,
      "metadata": {},
      "outputs": [],
      "source": [
        "g=f(10) # g(x)=(x-10)**2 "
      ],
      "id": "5d588bba-75cd-489b-a18f-801f64ab7b4d"
    },
    {
      "cell_type": "code",
      "execution_count": 283,
      "metadata": {},
      "outputs": [],
      "source": [
        "g(3) # (3-10)**2 = 49"
      ],
      "id": "15fbaf2a-b022-46f4-9202-c629a83efe1d"
    },
    {
      "cell_type": "markdown",
      "metadata": {},
      "source": [
        "표현2"
      ],
      "id": "cc444351-d421-4c29-9975-e848a0242ff7"
    },
    {
      "cell_type": "code",
      "execution_count": 286,
      "metadata": {},
      "outputs": [],
      "source": [
        "def f(a):\n",
        "    return lambda x: (x-a)**2 "
      ],
      "id": "2f14809d-bcce-4380-86f0-5598eab20e24"
    },
    {
      "cell_type": "code",
      "execution_count": 287,
      "metadata": {},
      "outputs": [],
      "source": [
        "g=f(10) # g(x)=(x-10)**2 "
      ],
      "id": "4ffa1e83-c055-4f35-b384-41a06a3ec068"
    },
    {
      "cell_type": "code",
      "execution_count": 288,
      "metadata": {},
      "outputs": [],
      "source": [
        "g(3) # (3-10)**2 = 49"
      ],
      "id": "4ec2204e-c1c2-4b92-970b-d4ba9058c2db"
    },
    {
      "cell_type": "markdown",
      "metadata": {},
      "source": [
        "-   `lambda x: (x-a)**2` 는 $\\text{lambda}(x) = (x-a)^2$의 느낌으로\n",
        "    기억하면 외우기 쉽다.\n",
        "-   `lambda x: (x-a)**2` 는 “아직 이름이 없는 함수오브젝트를 (가칭\n",
        "    lambda 라고 하자) 만들고 기능은 `x`를 입력으로 하고 `(x-a)**2`를\n",
        "    출력하도록 하자” 라는 뜻으로 해석하면 된다.\n",
        "\n",
        "(예제2) 함수입력, 숫자출력"
      ],
      "id": "d148ea1f-cc87-4966-ae67-8330dab0d019"
    },
    {
      "cell_type": "code",
      "execution_count": 295,
      "metadata": {},
      "outputs": [],
      "source": [
        "def d(f,x): # 함수를 입력을 받는 함수를 정의 \n",
        "    h=0.000000000001\n",
        "    return (f(x+h)-f(x))/h "
      ],
      "id": "d03a9268-2614-4fbb-97b5-c71a77f6ebca"
    },
    {
      "cell_type": "code",
      "execution_count": 298,
      "metadata": {},
      "outputs": [],
      "source": [
        "d(f,4) # f'(4) = 2*4 = 8"
      ],
      "id": "741f03aa-92f6-4249-b303-8859429a6c75"
    },
    {
      "cell_type": "markdown",
      "metadata": {},
      "source": [
        "(예제3) 함수입력, 함수출력"
      ],
      "id": "b28512e6-c0be-4b30-8731-4bb54018a790"
    },
    {
      "cell_type": "code",
      "execution_count": 299,
      "metadata": {},
      "outputs": [],
      "source": [
        "def f(x): \n",
        "    return x**2 "
      ],
      "id": "dde6f53d-c8c5-4f76-a7be-b70f1b63084e"
    },
    {
      "cell_type": "code",
      "execution_count": 307,
      "metadata": {},
      "outputs": [],
      "source": [
        "def derivate(f): \n",
        "    # step1: 함수오브젝트 f는 입력으로 받은상태 \n",
        "    # step2: 함수오브젝트 f를 이용하여 df라는 함수를 정의 \n",
        "    def df(x): \n",
        "        h=0.000000000001\n",
        "        return (f(x+h)-f(x))/h \n",
        "    # step3: 정의된 df를 리턴\n",
        "    return df"
      ],
      "id": "bd2a874a-b00c-49c9-ad16-9d64370ae733"
    },
    {
      "cell_type": "code",
      "execution_count": 308,
      "metadata": {},
      "outputs": [],
      "source": [
        "ff = derivate(f)"
      ],
      "id": "1e68d532-5728-4554-9bd1-b3cdb066bdc9"
    },
    {
      "cell_type": "code",
      "execution_count": 309,
      "metadata": {},
      "outputs": [],
      "source": [
        "ff(7) # f의 도함수"
      ],
      "id": "e35736c0-bf01-40cb-b34c-44aa996f9b72"
    },
    {
      "cell_type": "markdown",
      "metadata": {},
      "source": [
        "**원래함수 시각화**"
      ],
      "id": "56189ef1-a10d-4e94-b769-ec1cca48d8a7"
    },
    {
      "cell_type": "code",
      "execution_count": 310,
      "metadata": {},
      "outputs": [
        {
          "output_type": "display_data",
          "metadata": {},
          "data": {
            "image/png": "[encoded data removed]"
          }
        }
      ],
      "source": [
        "x = np.linspace(-1,1,100)\n",
        "plt.plot(x,f(x))"
      ],
      "id": "36319018-a9f5-4cb0-b376-6abb7fdf50f5"
    },
    {
      "cell_type": "markdown",
      "metadata": {},
      "source": [
        "**도함수 시각화**"
      ],
      "id": "12768fdb-3aff-49e9-be22-154d94e41715"
    },
    {
      "cell_type": "code",
      "execution_count": 311,
      "metadata": {},
      "outputs": [
        {
          "output_type": "display_data",
          "metadata": {},
          "data": {
            "image/png": "[encoded data removed]"
          }
        }
      ],
      "source": [
        "x = np.linspace(-1,1,100)\n",
        "plt.plot(x,f(x),label=r'$f(x)=x^2$')\n",
        "plt.plot(x,ff(x),label=r'$ff(x)=2x$')\n",
        "plt.legend()"
      ],
      "id": "cd3de78e-4e12-43d1-94d1-b88140718a28"
    },
    {
      "cell_type": "markdown",
      "metadata": {},
      "source": [
        "(예제3)의 다른표현"
      ],
      "id": "6c8f8cc5-57d4-4eae-84f2-090661206323"
    },
    {
      "cell_type": "code",
      "execution_count": 312,
      "metadata": {},
      "outputs": [],
      "source": [
        "def f(x): \n",
        "    return x**2 "
      ],
      "id": "17840c26-1142-4aa3-8276-c183e3036d4d"
    },
    {
      "cell_type": "code",
      "execution_count": 314,
      "metadata": {},
      "outputs": [],
      "source": [
        "def derivate(f): \n",
        "    h=0.000000000001\n",
        "    return lambda x: (f(x+h)-f(x))/h "
      ],
      "id": "05f95e9c-b61e-44a8-a53b-889a79622d28"
    },
    {
      "cell_type": "code",
      "execution_count": 315,
      "metadata": {},
      "outputs": [],
      "source": [
        "ff = derivate(f)"
      ],
      "id": "2ecf2fa2-8032-4be4-97a5-45c6bff59866"
    },
    {
      "cell_type": "code",
      "execution_count": 316,
      "metadata": {},
      "outputs": [],
      "source": [
        "ff(10)"
      ],
      "id": "18ff7d32-45c3-44bc-beff-644074d95b5e"
    },
    {
      "cell_type": "code",
      "execution_count": 317,
      "metadata": {},
      "outputs": [
        {
          "output_type": "display_data",
          "metadata": {},
          "data": {
            "image/png": "[encoded data removed]"
          }
        }
      ],
      "source": [
        "x = np.linspace(-1,1,100)\n",
        "plt.plot(x,f(x),label=r'$f(x)=x^2$')\n",
        "plt.plot(x,ff(x),label=r'$ff(x)=2x$')\n",
        "plt.legend()"
      ],
      "id": "48a30f1e-daa2-4d98-85fc-568422c4c23f"
    },
    {
      "cell_type": "markdown",
      "metadata": {},
      "source": [
        "(예제4) 함수들의 리스트"
      ],
      "id": "9532ef64-8490-49e9-8cc6-d41294150dbf"
    },
    {
      "cell_type": "code",
      "execution_count": 318,
      "metadata": {},
      "outputs": [],
      "source": [
        "flst = [lambda x: x, lambda x: x**2, lambda x: x**3] \n",
        "flst"
      ],
      "id": "32b3ba28-164e-44a2-aacf-affaac0d1f36"
    },
    {
      "cell_type": "code",
      "execution_count": 324,
      "metadata": {},
      "outputs": [
        {
          "output_type": "stream",
          "name": "stdout",
          "text": [
            "2\n",
            "4\n",
            "8"
          ]
        }
      ],
      "source": [
        "for f in flst:\n",
        "    print(f(2))"
      ],
      "id": "365678f9-22aa-46f2-890f-8c06ae882799"
    },
    {
      "cell_type": "code",
      "execution_count": 325,
      "metadata": {},
      "outputs": [
        {
          "output_type": "display_data",
          "metadata": {},
          "data": {
            "image/png": "[encoded data removed]"
          }
        }
      ],
      "source": [
        "for f in flst: \n",
        "    plt.plot(x,f(x),'--')"
      ],
      "id": "d68cac9d-37d8-40a8-8f4f-9a23c1222b56"
    },
    {
      "cell_type": "markdown",
      "metadata": {},
      "source": [
        "위의코드는 아래와 같음"
      ],
      "id": "31362afd-4acf-4109-aa3a-56fe3f56d825"
    },
    {
      "cell_type": "code",
      "execution_count": 326,
      "metadata": {},
      "outputs": [
        {
          "output_type": "display_data",
          "metadata": {},
          "data": {
            "image/png": "[encoded data removed]"
          }
        }
      ],
      "source": [
        "plt.plot(x,(lambda x: x)(x),'--')\n",
        "plt.plot(x,(lambda x: x**2)(x),'--')\n",
        "plt.plot(x,(lambda x: x**3)(x),'--')"
      ],
      "id": "eca55297-bcd1-4d80-8bec-24d4320c18ab"
    },
    {
      "cell_type": "markdown",
      "metadata": {},
      "source": [
        "### ***정리***\n",
        "\n",
        "`-` 지금까지 개념\n",
        "\n",
        "-   함수: 변수를 입력으로 받아서 변수를 출력하는 개념\n",
        "-   변수: 어떠한 값을 저장하는 용도로 쓰거나 함수의 입력 혹은 출력으로\n",
        "    사용함\n",
        "\n",
        "`-` R과 구별되는 파이썬의 독특한 테크닉 (부제: 파이썬에서 함수를 잘\n",
        "쓰려면?)\n",
        "\n",
        "-   변수든 함수이든 둘다 인스턴스임. (즉 어떠한 클래스에서 찍힌 똑같은\n",
        "    오브젝트라는 의미)\n",
        "-   변수를 함수처럼: 메소드 `lst.append(1)`은 마치 `append(lst,1)`와\n",
        "    같은 함수로 쓸 수 있음\n",
        "-   함수를 변수처럼($\\star$): 함수자체를 함수의 입력으로 혹은 출력으로\n",
        "    쓸 수도 있음. 함수를 특정 값처럼 생각해서 함수들의 list를 만들 수도\n",
        "    있다.\n",
        "\n",
        "### ***callable object***\n",
        "\n",
        "`-` 함수 오브젝트의 비밀?"
      ],
      "id": "4451b06f-511c-4300-838c-c786923bb1d3"
    },
    {
      "cell_type": "code",
      "execution_count": 327,
      "metadata": {},
      "outputs": [],
      "source": [
        "f = lambda x: x+1 "
      ],
      "id": "28345165-d190-41e3-ba75-4b8e655f7a07"
    },
    {
      "cell_type": "code",
      "execution_count": 330,
      "metadata": {},
      "outputs": [],
      "source": [
        "a=11"
      ],
      "id": "b3482316-f1e6-4e18-ab7c-188862a22935"
    },
    {
      "cell_type": "code",
      "execution_count": 328,
      "metadata": {},
      "outputs": [],
      "source": [
        "set(dir(f)) & {'__call__'}"
      ],
      "id": "a3ea028e-87f4-4d7b-baca-7f54bfca2f97"
    },
    {
      "cell_type": "markdown",
      "metadata": {},
      "source": [
        "-   함수 오브젝트에는 숨겨진 기능 `__call__`이 있다."
      ],
      "id": "ee48807a-cb64-49c7-97ae-c42c22b3e975"
    },
    {
      "cell_type": "code",
      "execution_count": 332,
      "metadata": {},
      "outputs": [],
      "source": [
        "f.__call__(3) # f(3)"
      ],
      "id": "63c53c50-b029-4ec2-8e30-1568d6ee18dd"
    },
    {
      "cell_type": "code",
      "execution_count": 333,
      "metadata": {},
      "outputs": [],
      "source": [
        "f.__call__(4) # f(4)"
      ],
      "id": "67f265c0-4988-43fa-8ad6-81bca5b86e79"
    },
    {
      "cell_type": "markdown",
      "metadata": {},
      "source": [
        "-   여기에 우리가 정의한 내용이 있다.\n",
        "\n",
        "`-` 함수처럼 쓸 수 없는 인스턴스는 단지 call이 없는 것일 뿐이다."
      ],
      "id": "5749d478-43e6-4edd-9ead-1504353a0f32"
    },
    {
      "cell_type": "code",
      "execution_count": 334,
      "metadata": {},
      "outputs": [],
      "source": [
        "class Klass: \n",
        "    def __init__(self):\n",
        "        self.name='guebin'"
      ],
      "id": "e1a769e6-39d6-4c29-bc97-61841620d293"
    },
    {
      "cell_type": "code",
      "execution_count": 335,
      "metadata": {},
      "outputs": [],
      "source": [
        "a=Klass()"
      ],
      "id": "308eccd8-93e5-45c3-aee0-85d7f8496213"
    },
    {
      "cell_type": "code",
      "execution_count": 336,
      "metadata": {},
      "outputs": [],
      "source": [
        "a()"
      ],
      "id": "0a4c3678-d47d-454e-b452-17404e5c0d20"
    },
    {
      "cell_type": "markdown",
      "metadata": {},
      "source": [
        "-   a는 callable이 아니라고 한다."
      ],
      "id": "85a97dfa-c347-447c-ac05-4a5c6dedde12"
    },
    {
      "cell_type": "code",
      "execution_count": 338,
      "metadata": {},
      "outputs": [],
      "source": [
        "class Klass2(Klass): \n",
        "    def __call__(self):\n",
        "        print(self.name)"
      ],
      "id": "44121865-7d2a-4dc2-83a6-2beba8c23b02"
    },
    {
      "cell_type": "code",
      "execution_count": 339,
      "metadata": {},
      "outputs": [],
      "source": [
        "b=Klass2()"
      ],
      "id": "86c434c1-ff63-4f18-a060-40bdab7461d5"
    },
    {
      "cell_type": "code",
      "execution_count": 340,
      "metadata": {},
      "outputs": [
        {
          "output_type": "stream",
          "name": "stdout",
          "text": [
            "guebin"
          ]
        }
      ],
      "source": [
        "b()"
      ],
      "id": "73400640-4ea5-4648-b032-b02107ec4f2d"
    },
    {
      "cell_type": "markdown",
      "metadata": {},
      "source": [
        "-   b는 callable object! 즉 숨겨진 메서드로 `__call__`를 가진 오브젝트!\n",
        "-   Klass는 callable object를 만들지 못하지만 Klass2는 callable object를\n",
        "    만든다.\n",
        "\n",
        "`-` 클래스로 함수를 만들기 (=함수인스턴스를 찍어내는 클래스 설계)"
      ],
      "id": "d9a45399-57f2-4e24-983e-85ee91c94877"
    },
    {
      "cell_type": "code",
      "execution_count": 341,
      "metadata": {},
      "outputs": [],
      "source": [
        "class AddConstant: \n",
        "    def __init__(self,const):\n",
        "        self.const = const \n",
        "    def __call__(self,x):\n",
        "        return x + self.const"
      ],
      "id": "b5b2ea3d-47b0-4e2a-b904-5e4b7b15a613"
    },
    {
      "cell_type": "code",
      "execution_count": 342,
      "metadata": {},
      "outputs": [],
      "source": [
        "f = AddConstant(3) # callable object생성, f.const에는 3이 저장되어있음. "
      ],
      "id": "e3daaa72-3061-468f-8f04-beb10a1b7c77"
    },
    {
      "cell_type": "code",
      "execution_count": 343,
      "metadata": {},
      "outputs": [],
      "source": [
        "f(5) # f.const 와 5를 더하는 기능을 수행, # 즉 f(x) = x+3 을 수행함"
      ],
      "id": "5d205a3b-1ff9-4132-9120-9dc1ce2e82e3"
    },
    {
      "cell_type": "code",
      "execution_count": 344,
      "metadata": {},
      "outputs": [],
      "source": [
        "f(10) "
      ],
      "id": "fffd5ddb-426e-41c6-96cf-1e29162f110a"
    },
    {
      "cell_type": "markdown",
      "metadata": {},
      "source": [
        "`-` 클래스도 그러고 보니까 `오브젝트` 아니었나?"
      ],
      "id": "457e6ffe-0521-48d2-9a4f-763c91f98db9"
    },
    {
      "cell_type": "code",
      "execution_count": 345,
      "metadata": {},
      "outputs": [],
      "source": [
        "Student_Ver2?"
      ],
      "id": "eaf368ec-f844-438e-b42c-2297e3725bee"
    },
    {
      "cell_type": "markdown",
      "metadata": {},
      "source": [
        "-   이것도 type 이라는 또 다른 클래스에서 (클래스를 찍는 클래스) 찍힌\n",
        "    오브젝트이구나..\n",
        "\n",
        "`-` 클래스 “오브젝트”도 함수 “오브젝트”처럼 `Student_Ver2()`와 같이\n",
        "사용하면 인스턴스를 만들었음. -\\> `Student_Ver2.__call__()` 은\n",
        "`Student_Ver2()`와 같은 역할을 할 것이다.\n",
        "\n",
        "***일반적인 구현에서 “클래스 $\\to$ 인스턴스” 과정***"
      ],
      "id": "3330ba60-f6d0-4cd7-8bba-f1531e1e6470"
    },
    {
      "cell_type": "code",
      "execution_count": 347,
      "metadata": {},
      "outputs": [
        {
          "output_type": "stream",
          "name": "stdout",
          "text": [
            "입학을 축하합니다. 당신의 나이는 20.0이고 현재 학기는 0학기 입니다."
          ]
        }
      ],
      "source": [
        "boram = Student_Ver2(age=20.0,semester=0)"
      ],
      "id": "8cfd96ea-4c00-4406-ac6b-3887b2c11e5b"
    },
    {
      "cell_type": "code",
      "execution_count": 348,
      "metadata": {},
      "outputs": [],
      "source": [
        "boram + '등록' + '휴학' + '휴학'"
      ],
      "id": "d267e2f8-c153-4a97-84ec-533a3022925b"
    },
    {
      "cell_type": "markdown",
      "metadata": {},
      "source": [
        "***공부를 위해 call을 이용해본 “클래스 $\\to$ 인스턴스” 과정***"
      ],
      "id": "ac2e09ac-df9e-49f6-9297-cc5ceb0bb718"
    },
    {
      "cell_type": "code",
      "execution_count": 351,
      "metadata": {},
      "outputs": [
        {
          "output_type": "stream",
          "name": "stdout",
          "text": [
            "입학을 축하합니다. 당신의 나이는 20.0이고 현재 학기는 0학기 입니다."
          ]
        }
      ],
      "source": [
        "boram = Student_Ver2.__call__(age=20.0,semester=0) #\n",
        "# boram = Student_Ver2(age=20.0,semester=0)"
      ],
      "id": "6e9fce5d-7ab4-4f89-90e7-5de90f1f8f71"
    },
    {
      "cell_type": "code",
      "execution_count": 352,
      "metadata": {},
      "outputs": [],
      "source": [
        "boram + '등록' + '휴학' + '휴학'"
      ],
      "id": "39a814ab-d6a3-491f-a1d2-fab676304c40"
    },
    {
      "cell_type": "markdown",
      "metadata": {},
      "source": [
        "> 파이썬의 비밀11: `f()`와 같이 쓸 수 있는 오브젝트는 단지 `__call__` 이\n",
        "> 정의되어있는 오브젝트일 뿐이다.\n",
        "\n",
        "# 숙제 - 2022년 파이썬 입문 기말고사 참고\n",
        "\n",
        "`(1)` 플레이어A는 (가위,가위) 중 하나를 선택할 수 있고 플레이어B는\n",
        "(가위,바위) 중 하나를 선택할 수 있다. 각 플레이어는 각 패 중 하나를\n",
        "랜덤으로 선택하는 액션을 한다고 가정하자. 아래에 해당하는 확률을\n",
        "시뮬레이션을 이용하여 추정하라.\n",
        "\n",
        "-   플레이어A가 승리할 확률:\n",
        "-   플레이어B가 승리할 확률:\n",
        "-   플레이어A와 플레이어B가 비길 확률:\n",
        "\n",
        "> **Note**\n",
        ">\n",
        "> **hint**: 50% 확률로 b가 승리하고 50% 확률로 비긴다.\n",
        "\n",
        "`(2)` 문제 (1)과 같이 아래의 상황을 가정하자.\n",
        "\n",
        "|                                         |  플레이어A  |  플레이어B  |\n",
        "|:---------------------------------------:|:-----------:|:-----------:|\n",
        "| 각 플레이어가 낼 수 있는 패 (candidate) | (가위,가위) | (가위,바위) |\n",
        "|       각 패를 선택할 확률 (prob)        |  (0.5,0.5)  |  (0.5,0.5)  |\n",
        "\n",
        "각 플레이어는 아래와 같은 규칙으로 가위바위보 결과에 따른 보상점수를\n",
        "적립한다고 하자.\n",
        "\n",
        "-   승리: 보상점수 2점 적립\n",
        "-   무승부: 보상점수 1점 적립\n",
        "-   패배: 보상점수 0점 적립\n",
        "\n",
        "100번째 대결까지 시뮬레이션을 시행하고 플레이어B가 가위를 낼 경우 얻은\n",
        "보상점수의 총합과 바위를 낼 경우 얻은 보상점수의 총합을 각각 구하라.\n",
        "플레이어B는 가위를 내는것이 유리한가? 바위를 내는것이 유리한가?\n",
        "\n",
        "> **Note**\n",
        ">\n",
        "> **hint1**: 플레이어B는 바위를 내는 것이 유리하다.\n",
        ">\n",
        "> **hint2**: 플레이어B가 100번중에 49번 가위를 내고 51번 바위를 낸다면\n",
        "> 플레이어B가 적립할 보상점수는 각각 아래와 같다.\n",
        ">\n",
        "> -   가위를 내었을 경우: 49 \\* 1 = 49점\n",
        "> -   바위를 내었을 경우: 51 \\* 2 = 102점\n",
        "> -   총 보상점수 = 49점 + 102점 = 151점\n",
        "\n",
        "`(3)` (2)에서 얻은 데이터를 **학습**하여 플레이어B가 “가위” 혹은 “바위”\n",
        "를 선택할 확률을 매시점 조금씩 조정한다고 가정하자. 구체적으로는\n",
        "현재시점까지 얻은 보상점수의 비율로 확률을 결정한다. 예를들어\n",
        "플레이어B가 100회의 대결동안 누적한 보상점수의 총합이 아래와 같다고\n",
        "하자.\n",
        "\n",
        "-   가위를 내었을 경우 보상점수 총합 = 50점\n",
        "-   바위를 내었을 경우 보상점수 총합 = 100점\n",
        "\n",
        "그렇다면 플레이어B는 각각 (50/150,100/150) 의 확률로 (가위,바위) 중\n",
        "하나를 선택한다. 101번째 대결에 플레이어B가 가위를 내서 비겼다면\n",
        "이후에는 (51/151,100/151) 의 확률로 (가위,바위) 중 하나를 선택한다.\n",
        "102번째 대결에 플레이어B가 바위를 내서 이겼다면 이후에는 각각\n",
        "(51/153,102/153) 의 확률로 (가위,바위) 중 하나를 선택한다. 이러한 상황을\n",
        "요약하여 표로 정리하면 아래와 같다.\n",
        "\n",
        "| 시점  | 플레이어B가 가위를 냈을 경우 얻은 점수 총합 | 플레이어B가 바위를 냈을 경우 얻은 점수 총합 | t+1시점에서 플레이어B가 (가위,바위)를 낼 확률 |\n",
        "|:----------------:|:----------------:|:----------------:|:----------------:|\n",
        "| t=100 |                     50                      |                     100                     |               (50/150, 100/150)               |\n",
        "| t=101 |                     51                      |                     100                     |               (51/151, 100/151)               |\n",
        "| t=102 |                     51                      |                     102                     |               (51/153, 102/153)               |\n",
        "\n",
        "이러한 방식으로 500회까지 게임을 진행하며 확률을 수정하였을 경우 501번째\n",
        "대결에서 플레이어B가 (가위,바위)를 낼 확률은 각각 얼마인가?\n",
        "\n",
        "> **Note**\n",
        ">\n",
        "> **hint: 시간이 지날수록 플레이어B는 (가위,바위)중 바위를 내는 쪽이\n",
        "> 유리하다는 것을 알게 될 것이다.**\n",
        "\n",
        "------------------------------------------------------------------------\n",
        "\n",
        "앞으로 아래와 같은 용어를 사용한다.\n",
        "\n",
        "> **정의: 학습모드상태**\n",
        ">\n",
        "> 어떠한 플레이어가 양손 중 하나를 선택하는 확률을 데이터를 바탕으로 매\n",
        "> 순간 업데이트 한다면 그 플레이어는 ***“학습모드 상태이다”***라고\n",
        "> 표현한다. 반대로 어떠한 플레이어가 양손 중 하나를 항상 동일한 확률로\n",
        "> 낸다면 그 플레이어는 ***“학습모드 상태가 아니다”*** 라고 표현한다.\n",
        "\n",
        "------------------------------------------------------------------------\n",
        "\n",
        "`(4)` 새로운 두명의 플레이어C와 플레이어D를 만들어라. 두 플레이어는 모두\n",
        "동일하게 (가위,바위) 중 하나를 선택할 수 있다. 두 명의 플레이어는\n",
        "100번째 대결까지는 두 가지 패중 하나를 랜덤하게 선택하고 101번째\n",
        "대결부터 500번째 대결까지는 문제(3)의 플레이어B와 같은 방식으로 확률을\n",
        "업데이트 하여 두 가지 패를 서로 다른 확률로 낸다고 하자. 즉 100번째\n",
        "대결까지는 두 플레이어가 모두 학습모드 상태가 아니고 101번째부터 500번째\n",
        "대결까지는 두 플레이어가 모두 학습모드 상태이다. 500번째 대결까지의\n",
        "학습이 끝났을 경우 플레이어 C와 플레이어D가 각 패를 낼 확률은 각각\n",
        "얼마인가?\n",
        "\n",
        "|   시점    | 플레이어C가 (가위,바위)를 낼 확률  | 플레이어D가 (가위,바위)를 낼 확률  |                비고                |\n",
        "|:----------------:|:----------------:|:----------------:|:----------------:|\n",
        "| t \\<= 100 |             (1/2, 1/2)             |             (1/2, 1/2)             | 양쪽 플레이어 모두 학습모드가 아님 |\n",
        "| t \\<= 500 | 대결 데이터를 학습하여 수정한 확률 | 대결 데이터를 학습하여 수정한 확률 |   양쪽 플레이어 모두 학습모드임    |\n",
        "\n",
        "> **Note**\n",
        ">\n",
        "> **hint: 시간이 지날수록 두 플레이어 모두 바위를 내는 쪽이 유리하다는\n",
        "> 것을 알게 될 것이다.**\n",
        "\n",
        "`(5)` 새로운 플레이어 E와 F를 생각하자. 플레이어E와 플레이어F는 각각\n",
        "(가위,바위) 그리고 (가위,보) 중 하나를 선택할 수 있다고 가정하자.\n",
        "시뮬레이션 대결결과를 이용하여 아래의 확률을 근사적으로 추정하라.\n",
        "\n",
        "-   플레이어E가 승리할 확률:\n",
        "-   플레이어F가 승리할 확률:\n",
        "-   플레이어E와 플레이어F가 비길 확률:\n",
        "\n",
        "> **Note**\n",
        ">\n",
        "> **hint: 플레이어E가 가위를 낸다면 최소한 지지는 않기 때문에\n",
        "> 플레이어E가 좀 더 유리한 패를 가지고 있다. 따라서 플레이어E의 결과가\n",
        "> 더 좋을 것이다.**\n",
        "\n",
        "`(6)` (5)와 동일한 두 명의 플레이어E, F를 생각하자. 두 플레이어는\n",
        "100회까지는 랜덤으로 자신의 패를 선택한다. 그리고 101회부터 500회까지는\n",
        "플레이어F만 데이터로 부터 학습을 하여 수정된 확률을 사용한다. 500번의\n",
        "대결이 끝나고 플레이어F가 (가위,보)를 선택하는 확률이 어떻게 업데이트\n",
        "되어있는가?\n",
        "\n",
        "|   시점    | 플레이어E가 (가위,바위)를 낼 확률 | 플레이어F가 (가위,보)를 낼 확률 |                      비고                       |\n",
        "|:----------------:|:----------------:|:----------------:|:----------------:|\n",
        "| t \\<= 100 |            (1/2, 1/2)             |           (1/2, 1/2)            |       양쪽 플레이어 모두 학습모드가 아님        |\n",
        "| t \\<= 500 |            (1/2, 1/2)             |  데이터를 학습하여 수정한 확률  | 플레이어E는 학습모드아님 / 플레이어F는 학습모드 |\n",
        "\n",
        "> **Note**\n",
        ">\n",
        "> **hint: 플레이어F는 보를 내는 것이 낫다고 생각할 것이다. (가위를 내면\n",
        "> 지거나 비기지만 보를 내면 지거나 이긴다.)**\n",
        "\n",
        "`(7)` (6)번의 플레이어E와 플레이어F가 500회~1000회까지 추가로 게임을\n",
        "한다. 이번에는 플레이어E만 데이터로부터 학습한다. 1000회까지 대결을 끝낸\n",
        "이후 플레이어E가 (가위,바위)를 내는 확률은 어떻게 업데이트 되었는가?\n",
        "\n",
        "|    시점    | 플레이어E가 (가위,바위)를 낼 확률 | 플레이어F가 (가위,보)를 낼 확률 |                      비고                       |\n",
        "|:----------------:|:----------------:|:----------------:|:----------------:|\n",
        "| t \\<= 100  |            (1/2, 1/2)             |           (1/2, 1/2)            |       양쪽 플레이어 모두 학습모드가 아님        |\n",
        "| t \\<= 500  |            (1/2, 1/2)             |  데이터를 학습하여 수정한 확률  | 플레이어E는 학습모드아님 / 플레이어F는 학습모드 |\n",
        "| t \\<= 1000 |   데이터를 학습하여 수정한 확률   |   t=500시점에 업데이트된 확률   | 플레이어E는 학습모드 / 플레이어F는 학습모드아님 |\n",
        "\n",
        "> **Note**\n",
        ">\n",
        "> **hint: 플레이어F는 보를 내도록 학습되어 있다. 따라서 플레이어E가\n",
        "> 바위를 내면 지고 가위를 내면 이길것이다. 따라서 플레이어E는 가위가\n",
        "> 유리하다고 생각할 것이다.**\n",
        "\n",
        "`(8)` (7)번의 플레이어E와 플레이어F가 1000회~30000회까지 추가로 게임을\n",
        "한다. 이번에는 플레이어F만 데이터로부터 학습한다. 30000회까지 대결을\n",
        "끝낸 이후 플레이어F가 (가위,보)를 내는 확률은 어떻게 업데이트 되었는가?\n",
        "\n",
        "|    시점     | 플레이어E가 (가위,바위)를 낼 확률 | 플레이어F가 (가위,보)를 낼 확률 |                      비고                       |\n",
        "|:----------------:|:----------------:|:----------------:|:----------------:|\n",
        "|  t \\<= 100  |            (1/2, 1/2)             |           (1/2, 1/2)            |       양쪽 플레이어 모두 학습모드가 아님        |\n",
        "|  t \\<= 500  |            (1/2, 1/2)             |  데이터를 학습하여 수정한 확률  | 플레이어E는 학습모드아님 / 플레이어F는 학습모드 |\n",
        "| t \\<= 1000  |   데이터를 학습하여 수정한 확률   |   t=500시점에 업데이트된 확률   | 플레이어E는 학습모드 / 플레이어F는 학습모드아님 |\n",
        "| t \\<= 30000 |   t=1000시점에 업데이트된 확률    |  데이터를 학습하여 수정한 확률  | 플레이어E는 학습모드아님 / 플레이어F는 학습모드 |\n",
        "\n",
        "> **Note**\n",
        ">\n",
        "> **hint: 플레이어F는 원래 보가 유리하다고 생각하여 보를 자주 내도록\n",
        "> 학습되었다. 하지만 플레이어E가 그러한 플레이어F의 성향을 파악하고\n",
        "> 가위를 주로 내도록 학습하였다. 플레이어F는 그러한 플레이어E의 성향을\n",
        "> 다시 파악하여 이번에는 가위을 자주 내는 것이 유리하다고 생각할\n",
        "> 것이다.**\n",
        "\n",
        "`(9)` 플레이어E와 플레이어F의 대결기록을 초기화 한다. 이번에는\n",
        "플레이어F가 항상 (3/4)의 확률로 가위를 (1/4)의 확률로 보를 낸다고\n",
        "가정한다. 플레이어E는 100번의 대결까지는 랜덤으로 (가위,바위)중 하나를\n",
        "내고 101번째 대결부터 1000번째 대결까지는 대결 데이터를 학습하여 수정한\n",
        "확률을 사용한다고 하자. 1000번째 대결이후에 플레이어E가 (가위,바위)를\n",
        "내는 확률이 어떻게 업데이트 되어있는가?\n",
        "\n",
        "|    시점    | 플레이어E가 (가위,바위)를 낼 확률 | 플레이어F가 (가위,보)를 낼 확률 |                       비고                       |\n",
        "|:----------------:|:----------------:|:----------------:|:----------------:|\n",
        "| t \\<= 100  |            (1/2, 1/2)             |           (3/4, 1/4)            |        양쪽 플레이어 모두 학습모드가 아님        |\n",
        "| t \\<= 1000 |   데이터를 학습하여 수정한 확률   |           (3/4, 1/4)            | 플레이어E는 학습모드 / 플레이어F는 학습모드 아님 |\n",
        "\n",
        "`(10)` 플레이어E와 플레이어F의 대결기록을 초기화 한다. 이번에는\n",
        "플레이어F가 항상 (2/3)의 확률로 가위를 (1/3)의 확률로 보를 낸다고\n",
        "가정한다. 플레이어E는 100번의 대결까지는 랜덤으로 (가위,바위)중 하나를\n",
        "내고 101번째 대결부터 1000번째 대결까지는 대결 데이터를 학습하여 수정한\n",
        "확률을 사용한다고 하자. 1000번째 대결이후에 플레이어E가 (가위,바위)를\n",
        "내는 확률이 어떻게 업데이트 되어있는가?\n",
        "\n",
        "|    시점    | 플레이어E가 (가위,바위)를 낼 확률 | 플레이어F가 (가위,보)를 낼 확률 |                       비고                       |\n",
        "|:----------------:|:----------------:|:----------------:|:----------------:|\n",
        "| t \\<= 100  |            (1/2, 1/2)             |           (2/3, 1/3)            |        양쪽 플레이어 모두 학습모드가 아님        |\n",
        "| t \\<= 1000 |   데이터를 학습하여 수정한 확률   |           (2/3, 1/3)            | 플레이어E는 학습모드 / 플레이어F는 학습모드 아님 |"
      ],
      "id": "3cdfa333-de2a-4ab1-bb42-8041f1ce2d83"
    }
  ],
  "nbformat": 4,
  "nbformat_minor": 5,
  "metadata": {
    "kernelspec": {
      "name": "python3",
      "display_name": "Python 3",
      "language": "python"
    },
    "language_info": {
      "name": "python",
      "codemirror_mode": {
        "name": "ipython",
        "version": "3"
      },
      "file_extension": ".py",
      "mimetype": "text/x-python",
      "nbconvert_exporter": "python",
      "pygments_lexer": "ipython3",
      "version": "3.8.16"
    }
  }
}