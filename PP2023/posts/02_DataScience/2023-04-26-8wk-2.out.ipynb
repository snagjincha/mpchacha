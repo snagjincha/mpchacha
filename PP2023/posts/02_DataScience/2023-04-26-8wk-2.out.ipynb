{
  "cells": [
    {
      "cell_type": "markdown",
      "metadata": {},
      "source": [
        "# 08wk-2: Pandas (2)\n",
        "\n",
        "최규빈  \n",
        "2023-04-26\n",
        "\n",
        "<a href=\"https://colab.research.google.com/github/guebin/PP2023/blob/main/posts/02_DataScience/2023-04-26-8wk-2.ipynb\"><img src=\"https://colab.research.google.com/assets/colab-badge.svg\" style=\"text-align: left\"></a>\n",
        "\n",
        "# 강의영상\n",
        "\n",
        "> youtube:\n",
        "> <https://youtube.com/playlist?list=PLQqh36zP38-zfy1Ym_3c6h8ih5XePRK55>\n",
        "\n",
        "# import"
      ],
      "id": "4cf343a3-ad24-4f08-8e1f-1e4ce5e7a4c4"
    },
    {
      "cell_type": "code",
      "execution_count": 3,
      "metadata": {},
      "outputs": [],
      "source": [
        "import numpy as np\n",
        "import pandas as pd"
      ],
      "id": "e81630d3-04aa-449d-9195-b8b45f5bbe51"
    },
    {
      "cell_type": "markdown",
      "metadata": {},
      "source": [
        "# pandas 공부 3단계\n",
        "\n",
        "`-` df자료형의 메소드를 알아보자.\n",
        "\n",
        "## 전치"
      ],
      "id": "0faacff6-4791-4915-be02-1d3fe188ab8d"
    },
    {
      "cell_type": "code",
      "execution_count": 16,
      "metadata": {},
      "outputs": [],
      "source": [
        "arr = np.arange(2*3).reshape(2,3)\n",
        "df = pd.DataFrame(arr)\n",
        "df"
      ],
      "id": "46606936"
    },
    {
      "cell_type": "code",
      "execution_count": 18,
      "metadata": {},
      "outputs": [],
      "source": [
        "df.T"
      ],
      "id": "d3514ad4"
    },
    {
      "cell_type": "markdown",
      "metadata": {},
      "source": [
        "## 합"
      ],
      "id": "d736bf30-e501-442b-8b60-29798a270aab"
    },
    {
      "cell_type": "code",
      "execution_count": 19,
      "metadata": {},
      "outputs": [],
      "source": [
        "df"
      ],
      "id": "82621565"
    },
    {
      "cell_type": "code",
      "execution_count": 22,
      "metadata": {},
      "outputs": [],
      "source": [
        "df.sum(axis=0)"
      ],
      "id": "99e22eab-0cef-4c80-92f2-0f8c0375ee73"
    },
    {
      "cell_type": "code",
      "execution_count": 23,
      "metadata": {},
      "outputs": [],
      "source": [
        "df.sum(axis=1)"
      ],
      "id": "71fb404f-b55c-4c16-93d7-2989e0c16c42"
    },
    {
      "cell_type": "markdown",
      "metadata": {},
      "source": [
        "## cumsum"
      ],
      "id": "b167382b-f4ca-46b1-957b-52d80a3ce4a3"
    },
    {
      "cell_type": "code",
      "execution_count": 24,
      "metadata": {},
      "outputs": [],
      "source": [
        "df"
      ],
      "id": "e207a37c-2c24-4419-ae72-00154d8e648d"
    },
    {
      "cell_type": "code",
      "execution_count": 28,
      "metadata": {},
      "outputs": [],
      "source": [
        "df.cumsum(axis=1) "
      ],
      "id": "c7b68db2"
    },
    {
      "cell_type": "markdown",
      "metadata": {},
      "source": [
        "## 형태변환"
      ],
      "id": "3d76c60e-90d9-4448-9955-f4ca83a384d8"
    },
    {
      "cell_type": "code",
      "execution_count": 31,
      "metadata": {},
      "outputs": [],
      "source": [
        "df"
      ],
      "id": "428fa1f1"
    },
    {
      "cell_type": "code",
      "execution_count": 32,
      "metadata": {},
      "outputs": [],
      "source": [
        "df.to_dict()"
      ],
      "id": "58527f7e-7836-434b-9ae6-6a78a992d36a"
    },
    {
      "cell_type": "code",
      "execution_count": 33,
      "metadata": {},
      "outputs": [],
      "source": [
        "df.to_numpy()"
      ],
      "id": "d425a4c1-8a46-4dc6-b16f-707b781d111a"
    },
    {
      "cell_type": "code",
      "execution_count": 38,
      "metadata": {},
      "outputs": [],
      "source": [
        "df.to_numpy().tolist()"
      ],
      "id": "138ffbce-20d9-4b02-9fd9-e63b2acaa89e"
    },
    {
      "cell_type": "markdown",
      "metadata": {},
      "source": [
        "## 기타메소드.. 생략…\n",
        "\n",
        "# pandas 공부 4단계"
      ],
      "id": "24c9f266-1459-4e32-8c4e-e7c899a13c9e"
    },
    {
      "cell_type": "code",
      "execution_count": 40,
      "metadata": {},
      "outputs": [],
      "source": [
        "np.random.seed(43052)\n",
        "att = np.random.choice(np.arange(10,21)*5,20)\n",
        "rep = np.random.choice(np.arange(5,21)*5,20)\n",
        "mid = np.random.choice(np.arange(0,21)*5,20)\n",
        "fin = np.random.choice(np.arange(0,21)*5,20)\n",
        "key = ['2022-12'+str(s) for s in np.random.choice(np.arange(300,501),20,replace=False)]\n",
        "df = pd.DataFrame({'att':att,'rep':rep,'mid':mid,'fin':fin},index=key)\n",
        "df.head()"
      ],
      "id": "15801715-efeb-4f09-8d18-48575b002bd0"
    },
    {
      "cell_type": "markdown",
      "metadata": {},
      "source": [
        "## query ($\\star$)\n",
        "\n",
        "`-` 예제1: att==90 and fin\\>30"
      ],
      "id": "363dffd1-0756-4a3c-8179-5e174909eabc"
    },
    {
      "cell_type": "code",
      "execution_count": 44,
      "metadata": {},
      "outputs": [],
      "source": [
        "df.query('att ==90 and fin >30')"
      ],
      "id": "45b4a0ea"
    },
    {
      "cell_type": "markdown",
      "metadata": {},
      "source": [
        "`-` 예제2: att\\<rep and mid\\<fin"
      ],
      "id": "3cd85a71-43eb-4ffc-9c8f-68ad11796f31"
    },
    {
      "cell_type": "code",
      "execution_count": 47,
      "metadata": {},
      "outputs": [],
      "source": [
        "df.query('att<rep and mid<fin')"
      ],
      "id": "5e08b7f4"
    },
    {
      "cell_type": "markdown",
      "metadata": {},
      "source": [
        "`-` 예제3: att \\< rep \\< 80"
      ],
      "id": "8a96433a-6f36-4124-9230-da4dc0f45d75"
    },
    {
      "cell_type": "code",
      "execution_count": 50,
      "metadata": {},
      "outputs": [],
      "source": [
        "df.query('att<rep<80')"
      ],
      "id": "2d65af44"
    },
    {
      "cell_type": "markdown",
      "metadata": {},
      "source": [
        "`-` 예제4: 50 \\< att \\<= 90 and mid \\< fin"
      ],
      "id": "1351ee66-63f7-4366-aeca-8c38dfbf0d1b"
    },
    {
      "cell_type": "code",
      "execution_count": 54,
      "metadata": {},
      "outputs": [],
      "source": [
        "df.query('50<att<=90 and mid<fin')"
      ],
      "id": "f0b0d7c9"
    },
    {
      "cell_type": "markdown",
      "metadata": {},
      "source": [
        "`-` 예제5: (mid+fin)/2 \\>=60"
      ],
      "id": "dc797e32-8ded-4d0e-90f4-634b6fcf1ad1"
    },
    {
      "cell_type": "code",
      "execution_count": 56,
      "metadata": {},
      "outputs": [],
      "source": [
        "df.query('(mid+fin)/2>=60')"
      ],
      "id": "d51a0b33"
    },
    {
      "cell_type": "markdown",
      "metadata": {},
      "source": [
        "`-` 예제6: att \\> mean(att)"
      ],
      "id": "75453855-a7d5-45dc-acc6-2ad750df5fff"
    },
    {
      "cell_type": "code",
      "execution_count": 65,
      "metadata": {},
      "outputs": [],
      "source": [
        "_mean = df['att'].mean() \n",
        "_mean "
      ],
      "id": "ad9f2c38"
    },
    {
      "cell_type": "code",
      "execution_count": 67,
      "metadata": {},
      "outputs": [],
      "source": [
        "df.query('att> @_mean')"
      ],
      "id": "7eaf06fb"
    },
    {
      "cell_type": "markdown",
      "metadata": {},
      "source": [
        "## 시계열자료\n",
        "\n",
        "`-` 시계열자료"
      ],
      "id": "01ba1173-b2ec-4519-b819-7630ea9c9230"
    },
    {
      "cell_type": "code",
      "execution_count": 68,
      "metadata": {},
      "outputs": [],
      "source": [
        "pd.date_range('20211226',periods=10)"
      ],
      "id": "dd64bbeb-f548-4e57-b8ef-6e1f5e1b3b31"
    },
    {
      "cell_type": "code",
      "execution_count": 71,
      "metadata": {},
      "outputs": [],
      "source": [
        "df=pd.DataFrame(np.random.normal(size=(10,4)),columns=list('ABCD'),index=pd.date_range('20211226',periods=10))\n",
        "df"
      ],
      "id": "4f523f3e-95fd-41ae-922b-7f93856ff239"
    },
    {
      "cell_type": "markdown",
      "metadata": {},
      "source": [
        "`-` 예제1: 시계열자료에서의 인덱싱"
      ],
      "id": "8c17ef99-d01f-483e-b959-2c267547e2e2"
    },
    {
      "cell_type": "code",
      "execution_count": 74,
      "metadata": {},
      "outputs": [],
      "source": [
        "df.loc['2021-12-28':'2022-01-02',:]"
      ],
      "id": "e2fd19bf"
    },
    {
      "cell_type": "markdown",
      "metadata": {},
      "source": [
        "`-` 예제3: 스트라이딩 (샘플링)"
      ],
      "id": "a7e97062-f21e-450c-aecc-418bc44d14a4"
    },
    {
      "cell_type": "code",
      "execution_count": 77,
      "metadata": {},
      "outputs": [],
      "source": [
        "df.loc[::3,:]"
      ],
      "id": "b672bab5"
    },
    {
      "cell_type": "markdown",
      "metadata": {},
      "source": [
        "`-` 예제4: query를 이용한 인덱싱"
      ],
      "id": "f1c1e46a-7114-463e-b3a0-79bec2725cad"
    },
    {
      "cell_type": "code",
      "execution_count": 83,
      "metadata": {},
      "outputs": [],
      "source": [
        "df.query(\"index <= '2021-12-30' or index=='2022-01-02'\")"
      ],
      "id": "9ddd67ea"
    },
    {
      "cell_type": "markdown",
      "metadata": {},
      "source": [
        "## 더러운 자료 (1)\n",
        "\n",
        "***예비학습: 하나의 col을 선택하는 가장 좋은 방법***"
      ],
      "id": "b16c76fd-0c02-408b-b47e-ee982fd014bb"
    },
    {
      "cell_type": "code",
      "execution_count": 86,
      "metadata": {},
      "outputs": [],
      "source": [
        "np.random.seed(43052)\n",
        "att = np.random.choice(np.arange(10,21)*5,20)\n",
        "rep = np.random.choice(np.arange(5,21)*5,20)\n",
        "mid = np.random.choice(np.arange(0,21)*5,20)\n",
        "fin = np.random.choice(np.arange(0,21)*5,20)\n",
        "key = ['2022-12'+str(s) for s in np.random.choice(np.arange(300,501),20,replace=False)]\n",
        "df = pd.DataFrame({'att':att,'rep':rep,'mid':mid,'fin':fin},index=key)\n",
        "df.head()"
      ],
      "id": "0d8a6d94-a50b-4be0-8986-2c40fc417658"
    },
    {
      "cell_type": "markdown",
      "metadata": {},
      "source": [
        "`-` att 선택"
      ],
      "id": "76fb8def-d35d-4dcf-a420-e629298c153f"
    },
    {
      "cell_type": "code",
      "execution_count": 93,
      "metadata": {},
      "outputs": [],
      "source": [
        "df.att"
      ],
      "id": "b0e18c88"
    },
    {
      "cell_type": "markdown",
      "metadata": {},
      "source": [
        "`-` 단점: 칼럼이름에 스페이스가 있으면 쓸 수 없음.\n",
        "\n",
        "***예비학습끝***\n",
        "\n",
        "------------------------------------------------------------------------\n",
        "\n",
        "`-` 누가 자료를 아래와 같이 주었다고 하자. (엑셀특)"
      ],
      "id": "c25e54b4-ab34-4856-80f5-5d614102f13d"
    },
    {
      "cell_type": "code",
      "execution_count": 115,
      "metadata": {},
      "outputs": [],
      "source": [
        "df.columns = pd.Index(['att score', 'rep score', 'mid score', 'fin score'])\n",
        "df.head()"
      ],
      "id": "6c65c76d"
    },
    {
      "cell_type": "markdown",
      "metadata": {},
      "source": [
        "`-` 출석점수를 뽑고 싶다면?"
      ],
      "id": "c5c5e4cc-7eef-43d3-a235-b01482ffce95"
    },
    {
      "cell_type": "code",
      "execution_count": 102,
      "metadata": {},
      "outputs": [],
      "source": [
        "df['att score']\n",
        "# df.att score # 이코드는 실행불가능"
      ],
      "id": "d6456f23"
    },
    {
      "cell_type": "markdown",
      "metadata": {},
      "source": [
        "`-` 출석점수가 90보다 작은 학생을 뽑고 싶다면?"
      ],
      "id": "fe4a889a-ae03-44be-95d8-8091b8cda184"
    },
    {
      "cell_type": "code",
      "execution_count": 108,
      "metadata": {},
      "outputs": [],
      "source": [
        "df.loc[df['att score'] < 90, :] \n",
        "# df.query('att score < 90')"
      ],
      "id": "bd9f51d3"
    },
    {
      "cell_type": "markdown",
      "metadata": {},
      "source": [
        "`-` 그냥 컬럼이름을 바꾸고 하는것도 방법임"
      ],
      "id": "90e102a1-2957-4981-9ede-923adb84cfcf"
    },
    {
      "cell_type": "code",
      "execution_count": 125,
      "metadata": {},
      "outputs": [],
      "source": [
        "df.columns = pd.Index([l.replace(' ','_') for l in list(df.columns)])\n",
        "df.head()"
      ],
      "id": "2c751ad4"
    },
    {
      "cell_type": "code",
      "execution_count": 126,
      "metadata": {},
      "outputs": [],
      "source": [
        "df.query('att_score<90')\n",
        "df.att_score"
      ],
      "id": "d648d385"
    },
    {
      "cell_type": "markdown",
      "metadata": {},
      "source": [
        "`-` 그렇지만 col이름을 바꾸는게 항상 만능은 아니다.\n",
        "\n",
        "## 개인습관\n",
        "\n",
        "`-` row의 이름은 없는게 낫다고 생각함 // 시계열자료는 예외"
      ],
      "id": "6b7f8e7d-9d66-47fd-bb17-5ae36c5c7f90"
    },
    {
      "cell_type": "code",
      "execution_count": 127,
      "metadata": {},
      "outputs": [],
      "source": [
        "np.random.seed(43052)\n",
        "att = np.random.choice(np.arange(10,21)*5,20)\n",
        "rep = np.random.choice(np.arange(5,21)*5,20)\n",
        "mid = np.random.choice(np.arange(0,21)*5,20)\n",
        "fin = np.random.choice(np.arange(0,21)*5,20)\n",
        "key = ['2022-12'+str(s) for s in np.random.choice(np.arange(300,501),20,replace=False)]\n",
        "df = pd.DataFrame({'att':att,'rep':rep,'mid':mid,'fin':fin},index=key)\n",
        "df.head()"
      ],
      "id": "6f026262-f8c2-4fc2-859f-d5b6baa10122"
    },
    {
      "cell_type": "code",
      "execution_count": 132,
      "metadata": {},
      "outputs": [],
      "source": [
        "df2 = df.reset_index().rename(columns={'index':'student_id'})\n",
        "df2.head()"
      ],
      "id": "efd9a418"
    },
    {
      "cell_type": "markdown",
      "metadata": {},
      "source": [
        "`-` 편해"
      ],
      "id": "09a3f7e3-bc3a-45a7-85c9-249bc50006ca"
    },
    {
      "cell_type": "code",
      "execution_count": 142,
      "metadata": {},
      "outputs": [],
      "source": [
        "#df2.loc[0,'student_id':'rep'] \n",
        "#df2.loc[[0],'student_id':'rep'] \n",
        "#df2.loc[[0,4,5],'student_id':'rep'] \n",
        "#df2.loc[range(5),'student_id':'rep'] \n",
        "#df2.loc[5::2,'student_id':'rep'] "
      ],
      "id": "ba09f9f4-173b-4b24-96c8-ceb35b2c2405"
    },
    {
      "cell_type": "markdown",
      "metadata": {},
      "source": [
        "## 새로운 열의 추가 ($\\star\\star\\star$)\n",
        "\n",
        "`-` 자료"
      ],
      "id": "ee4b8344-7d6e-4288-a201-a8b2e6a0dc0e"
    },
    {
      "cell_type": "code",
      "execution_count": 143,
      "metadata": {},
      "outputs": [],
      "source": [
        "np.random.seed(43052)\n",
        "att = np.random.choice(np.arange(10,21)*5,20)\n",
        "rep = np.random.choice(np.arange(5,21)*5,20)\n",
        "mid = np.random.choice(np.arange(0,21)*5,20)\n",
        "fin = np.random.choice(np.arange(0,21)*5,20)\n",
        "student_id = [ '2023-12362', '2022-12471', '2023-12333', '2022-12400', '2022-12377',\n",
        "               '2022-12469', '2023-12314', '2022-12363', '2023-12445', '2023-12336',\n",
        "               '2023-12426', '2022-12380', '2023-12422', '2022-12488', '2022-12370',\n",
        "               '2023-12443', '2022-12463', '2023-12491', '2023-12340', '2022-12312' ]\n",
        "df = pd.DataFrame({'student_id':student_id,'att':att,'rep':rep,'mid':mid,'fin':fin})\n",
        "df"
      ],
      "id": "56eb7528-1677-47a7-8471-47ad2c6fd9c6"
    },
    {
      "cell_type": "markdown",
      "metadata": {},
      "source": [
        "`-` 방법1: assign을 이용한 추가"
      ],
      "id": "0a777ce3-b4d6-4441-ad43-2a8a1837dc52"
    },
    {
      "cell_type": "code",
      "execution_count": 149,
      "metadata": {},
      "outputs": [],
      "source": [
        "df.assign(total = df.att*0.1 + df.rep*0.2 + df.mid*0.3 + df.fin*0.4) "
      ],
      "id": "af2e45ec"
    },
    {
      "cell_type": "markdown",
      "metadata": {},
      "source": [
        "`-` 방법2: eval을 이용한 추가"
      ],
      "id": "4edffe74-6c0f-472c-b263-1a010d61c5a1"
    },
    {
      "cell_type": "code",
      "execution_count": 150,
      "metadata": {},
      "outputs": [],
      "source": [
        "df.eval('total = att*0.1 + rep*0.2 + mid*0.3 + fin*0.4') "
      ],
      "id": "bb7b7f64"
    },
    {
      "cell_type": "markdown",
      "metadata": {},
      "source": [
        "`-` 방법3: `df['total']` 을 이용한 할당 // 추천X"
      ],
      "id": "d8d71645-77dc-4032-aba0-dea0105cf85a"
    },
    {
      "cell_type": "code",
      "execution_count": 154,
      "metadata": {},
      "outputs": [],
      "source": [
        "df['total'] = df.att*0.1 + df.rep*0.2 + df.mid*0.3 + df.fin*0.4\n",
        "df"
      ],
      "id": "75ae65d1"
    },
    {
      "cell_type": "markdown",
      "metadata": {},
      "source": [
        "`-` 아래의 자료에서 입학년도를 추가하고 싶다면?"
      ],
      "id": "8567d71a-eead-4ac9-a76e-c0271698f36f"
    },
    {
      "cell_type": "code",
      "execution_count": 155,
      "metadata": {},
      "outputs": [],
      "source": [
        "np.random.seed(43052)\n",
        "att = np.random.choice(np.arange(10,21)*5,20)\n",
        "rep = np.random.choice(np.arange(5,21)*5,20)\n",
        "mid = np.random.choice(np.arange(0,21)*5,20)\n",
        "fin = np.random.choice(np.arange(0,21)*5,20)\n",
        "student_id = [ '2023-12362', '2022-12471', '2023-12333', '2022-12400', '2022-12377',\n",
        "               '2022-12469', '2023-12314', '2022-12363', '2023-12445', '2023-12336',\n",
        "               '2023-12426', '2022-12380', '2023-12422', '2022-12488', '2022-12370',\n",
        "               '2023-12443', '2022-12463', '2023-12491', '2023-12340', '2022-12312' ]\n",
        "df = pd.DataFrame({'student_id':student_id,'att':att,'rep':rep,'mid':mid,'fin':fin})"
      ],
      "id": "f4488030-4b32-4fc4-8ebb-9948a8bc0a72"
    },
    {
      "cell_type": "code",
      "execution_count": 166,
      "metadata": {},
      "outputs": [],
      "source": [
        "df.assign(year=[l.split('-')[0] for l in list(df.student_id)]).query('year==\"2022\"')"
      ],
      "id": "aaa329bf"
    },
    {
      "cell_type": "markdown",
      "metadata": {},
      "source": [
        "# HW\n",
        "\n",
        "아래는 전북대 통계학과 학생들이 R과 Python을 공부한 평균 시간이다."
      ],
      "id": "c8f3f0bc-8e08-4881-a10f-6769066e4f80"
    },
    {
      "cell_type": "code",
      "execution_count": 212,
      "metadata": {},
      "outputs": [],
      "source": [
        "np.random.seed(20230426)\n",
        "day = ['2023-04-24(Mon)','2023-04-25(Tue)','2023-04-26(Wed)','2023-04-27(Thu)','2023-04-28(Fri)',\n",
        "       '2023-05-01(Mon)','2023-05-02(Tue)','2023-05-03(Wed)','2023-05-04(Thu)','2023-05-05(Fri)',\n",
        "       '2023-05-08(Mon)','2023-05-09(Tue)','2023-05-10(Wed)','2023-05-11(Thu)','2023-05-12(Fri)']\n",
        "hours1 = np.random.randn(15).cumsum()*2\n",
        "hours1 = hours1 - hours1.min() +1\n",
        "hours2 = np.random.randn(15).cumsum()*2\n",
        "hours2 = hours2 - hours2.min() +1\n",
        "\n",
        "df = pd.DataFrame({'hours(R)':hours1, 'hours(Python)':hours2},index=day)\n",
        "df"
      ],
      "id": "cea8600a-ec2b-4348-9a91-b40bcf4c0a76"
    },
    {
      "cell_type": "markdown",
      "metadata": {},
      "source": [
        "`(1)` 데이터프레임을 변형하여 아래와 같이 만들어라."
      ],
      "id": "b9e01e44-2f9e-4cff-8663-ca59043a8e4e"
    },
    {
      "cell_type": "code",
      "execution_count": 213,
      "metadata": {},
      "outputs": [],
      "source": [
        "#"
      ],
      "id": "a1f02496-3633-44c6-b97e-f797b1fbdf00"
    },
    {
      "cell_type": "markdown",
      "metadata": {},
      "source": [
        "(풀이)"
      ],
      "id": "54f269f6-d0e7-4ce8-90ba-ef260af7b153"
    },
    {
      "cell_type": "code",
      "execution_count": 211,
      "metadata": {},
      "outputs": [],
      "source": [
        "index = [l.replace(')','').split('(') for l in df.index]\n",
        "df = df.assign(\n",
        "    day=[day for day, _ in index],\n",
        "    weekday=[weekday for _,weekday in index]\n",
        ").reset_index().loc[:,'hours(R)':]\n",
        "df"
      ],
      "id": "69b08397-e956-4d45-8fed-7087f863fabe"
    },
    {
      "cell_type": "markdown",
      "metadata": {},
      "source": [
        "`(2)` 4월달에 전북대학교 학생들은 R과 Python중 어떤 과목을 더 많이\n",
        "공부하였는가?\n",
        "\n",
        "(풀이)"
      ],
      "id": "850e182f-dbb7-436e-95bb-9acdf8ab924f"
    },
    {
      "cell_type": "code",
      "execution_count": 179,
      "metadata": {},
      "outputs": [],
      "source": [
        "df.query('day <= \"2023-04-28\"')['hours(R)'].sum()"
      ],
      "id": "8eb8520a-99b7-4b12-8dc3-924d9cdb09d3"
    },
    {
      "cell_type": "code",
      "execution_count": 180,
      "metadata": {},
      "outputs": [],
      "source": [
        "df.query('day <= \"2023-04-28\"')['hours(Python)'].sum()"
      ],
      "id": "5770bca2-f7c0-43cf-938d-d63690442262"
    },
    {
      "cell_type": "markdown",
      "metadata": {},
      "source": [
        "`(3)` ‘월-금’ 사이의 요일중 R을 가장 열심히 공부한 요일은 어느 요일인가?\n",
        "\n",
        "(풀이1)"
      ],
      "id": "2cda503b-fddf-4ed9-818d-2764f021b000"
    },
    {
      "cell_type": "code",
      "execution_count": 144,
      "metadata": {},
      "outputs": [],
      "source": [
        "{s:df.loc[df.weekday == s,'hours(R)'].sum() for s in set(df.weekday)}"
      ],
      "id": "fa9c7970-4d53-4a50-8255-f7fd57fa6c62"
    },
    {
      "cell_type": "markdown",
      "metadata": {},
      "source": [
        "월요일에 가장 많이함\n",
        "\n",
        "(풀이2) – groupby를 이용하여 풀어도 무방 (이 수업에서는 설명하지 않은\n",
        "방법임)\n",
        "\n",
        "`(4)` ’월-금’사이의 요일중 Python과 R의 합계학습량이 가장 큰 요일은 어느\n",
        "요일인가?\n",
        "\n",
        "(풀이)"
      ],
      "id": "f2a119bb-725a-4052-8869-efc03c01fbfb"
    },
    {
      "cell_type": "code",
      "execution_count": 190,
      "metadata": {},
      "outputs": [],
      "source": [
        "{s:df.loc[df.weekday == s,'hours(R)',].sum()+df.loc[df.weekday == s,'hours(Python)'].sum() for s in set(df.weekday)}"
      ],
      "id": "1084cfd8-54b4-491e-85da-ab485dc5315e"
    },
    {
      "cell_type": "markdown",
      "metadata": {},
      "source": [
        "`(5)` R과 Python의 학습량 차이를 계산하고 (R-Python을 계산) maplotlib 을\n",
        "이용하여 시각화하라.\n",
        "\n",
        "(풀이)"
      ],
      "id": "5096b4ef-57b9-4b09-afb1-8ead544b79bd"
    },
    {
      "cell_type": "code",
      "execution_count": 177,
      "metadata": {},
      "outputs": [
        {
          "output_type": "display_data",
          "metadata": {},
          "data": {
            "image/png": "[encoded data removed]"
          }
        }
      ],
      "source": [
        "y = df['hours(R)'] - df['hours(Python)']\n",
        "plt.plot(y,'--o')"
      ],
      "id": "8ff611b9-0dcd-41c8-96e4-552932be8834"
    },
    {
      "cell_type": "markdown",
      "metadata": {},
      "source": [
        "`(6)` R과 Python의 학습량 차이를 ${\\bf y}=(y_1,\\dots,y_n)$라고 할때,\n",
        "아래와 같은 변환을 이용하여\n",
        "$\\tilde{\\bf y}=({\\tilde{y}_1}, \\dots, {\\tilde{y}_n})$를 계산하라.\n",
        "\n",
        "-   $\\tilde{y}_1= \\frac{1}{3}(2y_1 + y_2)$\n",
        "-   $\\tilde{y}_i= \\frac{1}{3}(y_{i-1}+y_i+y_{i+1})$, for\n",
        "    $i=2,3,\\dots,n-1$\n",
        "-   $\\tilde{y}_n= \\frac{1}{3}(y_{n-1}+2y_{n})$\n",
        "\n",
        "결과를 시각화하라.\n",
        "\n",
        "(풀이)"
      ],
      "id": "48197d5a-6731-4a98-86c4-9ccd61ba8206"
    },
    {
      "cell_type": "code",
      "execution_count": 196,
      "metadata": {},
      "outputs": [],
      "source": [
        "n = len(y)\n",
        "M = np.array([abs(i-j)<2 for i in range(n) for j in range(n)]).reshape(n,n)/3\n",
        "M[0,0] = 2/3\n",
        "M[-1,-1] = 2/3 "
      ],
      "id": "f7f330d3-4f07-4e6c-b0d2-41ae54951fca"
    },
    {
      "cell_type": "code",
      "execution_count": 209,
      "metadata": {},
      "outputs": [
        {
          "output_type": "display_data",
          "metadata": {},
          "data": {
            "image/png": "[encoded data removed]"
          }
        }
      ],
      "source": [
        "plt.plot(y,'--o',label=r'$y$=hours(R)-hours(Python)')\n",
        "plt.plot(M@y,'--o',label=r'$M@y$:= smoothed $y$ = $\\tilde{y}$')\n",
        "plt.legend()"
      ],
      "id": "0d9734c1-4e01-45d9-92ea-b7bed97d77e8"
    }
  ],
  "nbformat": 4,
  "nbformat_minor": 5,
  "metadata": {
    "kernelspec": {
      "name": "python3",
      "display_name": "Python 3 (ipykernel)",
      "language": "python"
    },
    "language_info": {
      "name": "python",
      "codemirror_mode": {
        "name": "ipython",
        "version": "3"
      },
      "file_extension": ".py",
      "mimetype": "text/x-python",
      "nbconvert_exporter": "python",
      "pygments_lexer": "ipython3",
      "version": "3.8.16"
    }
  }
}