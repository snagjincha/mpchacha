{
  "cells": [
    {
      "cell_type": "markdown",
      "metadata": {},
      "source": [
        "# 09wk-1: Numpy와 Pandas의 활용\n",
        "\n",
        "최규빈  \n",
        "2023-05-01\n",
        "\n",
        "<a href=\"https://colab.research.google.com/github/guebin/PP2023/blob/main/posts/02_DataScience/2023-05-01-9wk-1.ipynb\"><img src=\"https://colab.research.google.com/assets/colab-badge.svg\" style=\"text-align: left\"></a>\n",
        "\n",
        "# 강의영상\n",
        "\n",
        "> youtube:\n",
        "> <https://youtube.com/playlist?list=PLQqh36zP38-w-stglh0uVkQxHpCT9lH9C>\n",
        "\n",
        "# imports"
      ],
      "id": "3ad08c67-8729-4933-ad28-3919b5388ed4"
    },
    {
      "cell_type": "code",
      "execution_count": 1,
      "metadata": {},
      "outputs": [],
      "source": [
        "import numpy as np\n",
        "import pandas as pd \n",
        "import matplotlib.pyplot as plt \n",
        "import urllib.request"
      ],
      "id": "8bc45346-052d-4da4-beb6-aec2d6167161"
    },
    {
      "cell_type": "markdown",
      "metadata": {},
      "source": [
        "# 회귀분석\n",
        "\n",
        "`1--7`.\n",
        "\n",
        "`1`. $x_i$가 아래와 같이 주어졌다고 가정하자."
      ],
      "id": "2a5bc410-d852-4b49-81b9-8c4b6edbe3fe"
    },
    {
      "cell_type": "code",
      "execution_count": 2,
      "metadata": {},
      "outputs": [],
      "source": [
        "x =  np.array([0.00983, 0.01098, 0.02951, 0.0384 , 0.03973, 0.04178, 0.0533 ,\n",
        "               0.058  , 0.09454, 0.1103 , 0.1328 , 0.1412 , 0.1497 , 0.1664 ,\n",
        "               0.1906 , 0.1923 , 0.198  , 0.2141 , 0.2393 , 0.2433 , 0.3157 ,\n",
        "               0.3228 , 0.3418 , 0.3552 , 0.3918 , 0.3962 , 0.4    , 0.4482 ,\n",
        "               0.496  , 0.507  , 0.53   , 0.5654 , 0.582  , 0.5854 , 0.5854 ,\n",
        "               0.6606 , 0.7007 , 0.723  , 0.7305 , 0.7383 , 0.7656 , 0.7725 ,\n",
        "               0.831  , 0.8896 , 0.9053 , 0.914  , 0.949  , 0.952  , 0.9727 ,\n",
        "               0.982  ])"
      ],
      "id": "72bc70cb-964c-4f64-a535-4cf8fd6ab0d5"
    },
    {
      "cell_type": "markdown",
      "metadata": {},
      "source": [
        "아래의 수식에 따라 $y_i$를 생성하라.\n",
        "\n",
        "-   $y_i = 2+3x_i +\\epsilon_i,\\quad \\epsilon_i \\overset{iid}{\\sim} N(0,1)$\n",
        "\n",
        "$(x_i,y_i)$를 산점도를 이용하여 시각화하라.\n",
        "\n",
        "(풀이)"
      ],
      "id": "ab39932e-6dba-4561-b3b4-91850263f69d"
    },
    {
      "cell_type": "code",
      "execution_count": 4,
      "metadata": {},
      "outputs": [],
      "source": [
        "y = 2+3*x + np.random.randn(50) "
      ],
      "id": "cc4d9ead-a7fc-4734-9f85-fb1dddb8698b"
    },
    {
      "cell_type": "code",
      "execution_count": 7,
      "metadata": {},
      "outputs": [
        {
          "output_type": "display_data",
          "metadata": {},
          "data": {
            "image/png": "[encoded data removed]"
          }
        }
      ],
      "source": [
        "plt.plot(x,y,'o',label=r'$(x_i,y_i)$')\n",
        "plt.legend()"
      ],
      "id": "26a8d9a3-6ee3-4618-aae6-152419e0733d"
    },
    {
      "cell_type": "markdown",
      "metadata": {},
      "source": [
        "`2`. `1`과 같은 자료를 잘 표현할 수 있는 적절한 추세선\n",
        "$(x_i, \\hat{y}_i)$를 그리기 위하여 아래의 수식을 고려하자.\n",
        "\n",
        "-   $\\hat{y}_i = ax_i+b$\n",
        "\n",
        "a,b를 각각 아래의 표에 의하여 선택하였을 경우 추세선을 문제하단에 명시된\n",
        "요구사항에 맞추어 시각화하라.\n",
        "\n",
        "|       |  $a$  | $b$ |\n",
        "|:-----:|:-----:|:---:|\n",
        "| \\(a\\) |  $1$  | $0$ |\n",
        "| \\(b\\) | $2.5$ | $2$ |\n",
        "| \\(c\\) |  $3$  | $2$ |\n",
        "\n",
        "**요구사항**\n",
        "\n",
        "-   $(x_i,y_i)$를 산점도로 그리고 각 (a),(b),(c)에 대한\n",
        "    $(x_i,\\hat{y}_i)$를 lineplot으로 겹쳐그릴 것\n",
        "-   범례를 포함할 것"
      ],
      "id": "3b878891-029f-48fd-8a53-ba9b322daee9"
    },
    {
      "cell_type": "code",
      "execution_count": 20,
      "metadata": {},
      "outputs": [
        {
          "output_type": "display_data",
          "metadata": {},
          "data": {
            "image/png": "[encoded data removed]"
          }
        }
      ],
      "source": [
        "plt.plot(x,y,'o',label=r'$(x_i,y_i)$')\n",
        "plt.plot(x,1*x+0,'--',label=r'(a) $(x_i,\\hat{y}_i)$')\n",
        "plt.plot(x,2.5*x+2,'--',label=r'(b) $(x_i,\\hat{y}_i)$')\n",
        "plt.plot(x,3*x+2,'--',label=r'(c) $(x_i,\\hat{y}_i)$')\n",
        "plt.legend()"
      ],
      "id": "47a01002-de75-434b-b2a5-681134588bf8"
    },
    {
      "cell_type": "markdown",
      "metadata": {},
      "source": [
        "`3`. 아래를 각각 계산하라.\n",
        "\n",
        "`(a)` $\\frac{1}{n}\\sum_{i=1}^{n}(y_i-x_i)^2$\n",
        "\n",
        "`(b)` $\\frac{1}{n}\\sum_{i=1}^{n}(y_i-2-2.5x_i)^2$\n",
        "\n",
        "`(c)` $\\frac{1}{n}\\sum_{i=1}^{n}(y_i-2-3x_i)^2$\n",
        "\n",
        "가장 작은 값을 가지는 것은 무엇인가?\n",
        "\n",
        "(풀이)"
      ],
      "id": "d0a58e03-5e33-419a-a2ea-906a45705c08"
    },
    {
      "cell_type": "code",
      "execution_count": 32,
      "metadata": {},
      "outputs": [],
      "source": [
        "np.mean((y-(1*x+0))**2), np.mean((y-(2.5*x+2))**2), np.mean((y-(3*x+2))**2)"
      ],
      "id": "258cd06f-aa42-4293-aaee-589d2acd81da"
    },
    {
      "cell_type": "markdown",
      "metadata": {},
      "source": [
        "가장 작은 값을 가지는 것은 (c)이다.\n",
        "\n",
        "`4`. 3의 결과를 근거로 (a)-(c)중 가장 적절한 추세선을 판단하고 적절한\n",
        "순서대로 나열하라.\n",
        "\n",
        "`(풀이)`\n",
        "\n",
        "3-(a),(b),(c)는 각각\n",
        "\n",
        "-   $\\hat{y}_i=x_i$\n",
        "-   $\\hat{y}_i=2+2.5x_i$\n",
        "-   $\\hat{y}_i=2+3x_i$\n",
        "\n",
        "일 경우\n",
        "\n",
        "$${\\tt mse}({\\boldsymbol y}, \\hat{\\boldsymbol y}) = \\frac{1}{n}\\sum_{i=1}^{n}(y_i -\\hat{y}_i)^2$$\n",
        "\n",
        "를 계산한 것이라 해석할 수 있다. 그런데\n",
        "${\\tt mse}({\\boldsymbol y}, \\hat{\\boldsymbol y})$의 값은\n",
        "\n",
        "-   $y_1 \\approx \\hat{y}_1$\n",
        "-   $y_2 \\approx \\hat{y}_2$\n",
        "-   $\\dots$\n",
        "-   $y_n \\approx \\hat{y}_n$\n",
        "\n",
        "일수록 작은 값을 가진다. 그리고 위의 조건은 더 적절하게 추세선을\n",
        "그렸을때 만족된다. 요약하면\n",
        "\n",
        "-   적절한 추세선을 그림 $\\Rightarrow$ $y_i \\approx \\hat{y}_i$\n",
        "    $\\Rightarrow$ ${\\tt mse}({\\boldsymbol y}, \\hat{\\boldsymbol y})$ 값이\n",
        "    작아짐\n",
        "\n",
        "와 같은 관계가 있음을 파악할 수 있다. 따라서\n",
        "${\\tt mse}({\\boldsymbol y}, \\hat{\\boldsymbol y})$의 값이 작을수록 적절한\n",
        "추세선이라 생각할 수 있다.\n",
        "\n",
        "`5`. 아래와 같은 수식을 이용하여 $\\hat{\\beta}_0, \\hat{\\beta}_1$ 을\n",
        "계산하라.\n",
        "\n",
        "$$\\begin{bmatrix} \\hat{\\beta}_0 \\\\ \\hat{\\beta}_1 \\end{bmatrix} = ({\\bf X}^T {\\bf X})^{-1}{\\bf X}^T {\\boldsymbol y}, \\quad {\\bf X}=\\begin{bmatrix} 1 & x_1 \\\\ 1 & x_2 \\\\ \\dots \\\\ 1 & x_n \\end{bmatrix}$$\n",
        "\n",
        "`(풀이)`"
      ],
      "id": "19d24623-cff5-47e4-9cd5-a1b9f48672d1"
    },
    {
      "cell_type": "code",
      "execution_count": 40,
      "metadata": {},
      "outputs": [],
      "source": [
        "X = np.stack([[1]*50 ,x],axis=1)\n",
        "np.linalg.inv(X.T @ X)@X.T@y "
      ],
      "id": "8909caef-073e-4227-842d-f4442e26ac18"
    },
    {
      "cell_type": "markdown",
      "metadata": {},
      "source": [
        "$\\hat{\\beta}_0=1.97914281$ 이고 $\\hat{\\beta}_1= 2.90834079$ 이다.\n",
        "\n",
        "`6`. `5`에서 계산된 $\\hat{\\beta}_0, \\hat{\\beta}_1$을 각각\n",
        "$b=\\hat{\\beta}_0, a=\\hat{\\beta}_1$으로 생각하고 적절한 추세선\n",
        "$(x_i, \\hat{y}_i)$를 그려라. (단, $\\hat{y}_i=ax_i+b$ 이다)\n",
        "\n",
        "`(풀이)`"
      ],
      "id": "aaeaad79-cdd6-4764-a56d-5956ed73c4d2"
    },
    {
      "cell_type": "code",
      "execution_count": 43,
      "metadata": {},
      "outputs": [],
      "source": [
        "b, a = np.linalg.inv(X.T @ X)@X.T@y \n",
        "yhat = a*x +b "
      ],
      "id": "363dd1fc-c037-447c-b5c1-938b29c6e48b"
    },
    {
      "cell_type": "code",
      "execution_count": 47,
      "metadata": {},
      "outputs": [
        {
          "output_type": "display_data",
          "metadata": {},
          "data": {
            "image/png": "[encoded data removed]"
          }
        }
      ],
      "source": [
        "plt.plot(x,y,'o',label=r'$(x_i,y_i)$')\n",
        "plt.plot(x,yhat,'--',label=r'$(x_i,\\hat{y}_i)$')\n",
        "plt.legend()"
      ],
      "id": "35857d1c-1994-4f15-9abe-d0b12e037211"
    },
    {
      "cell_type": "markdown",
      "metadata": {},
      "source": [
        "`7`. 4의 기준에 따르면, $(a,b)=(3,2)$ 일때 만들어지는 추세선과\n",
        "$(a,b)=(\\hat{\\beta}_1,\\hat{\\beta}_0)$ 일때 만들어지는 추세선은 어떤 것이\n",
        "더 적절한가?\n",
        "\n",
        "`(풀이)`"
      ],
      "id": "06d38fab-23f1-48a8-98b3-2ccdb54d3675"
    },
    {
      "cell_type": "code",
      "execution_count": 51,
      "metadata": {},
      "outputs": [],
      "source": [
        "np.mean((y-(3*x+2))**2), np.mean((y-yhat)**2)"
      ],
      "id": "e4c90c43-3b82-4205-bee8-c45b4d7247ec"
    },
    {
      "cell_type": "markdown",
      "metadata": {},
      "source": [
        "# MNIST data\n",
        "\n",
        "아래는 0~9가지의 숫자이미지가 저장된 이미지데이터를 불러오는 코드이다."
      ],
      "id": "07162552-8e07-4a25-8948-88989230fe9a"
    },
    {
      "cell_type": "code",
      "execution_count": 52,
      "metadata": {},
      "outputs": [],
      "source": [
        "# URL 설정\n",
        "url = 'https://github.com/guebin/PP2023/raw/main/posts/02_PY4DS/mnist.npz'\n",
        "\n",
        "# URL에서 파일 다운로드\n",
        "urllib.request.urlretrieve(url, './mnist.npz')\n",
        "\n",
        "# 데이터 로드\n",
        "data = np.load('./mnist.npz')\n",
        "xtrain, ytrain, xtest, ytest = data['x_train'], data['y_train'], data['x_test'], data['y_test']"
      ],
      "id": "f7d26003-a978-4cf0-91b2-e36087a2a38d"
    },
    {
      "cell_type": "markdown",
      "metadata": {},
      "source": [
        "아래는 데이터에 대한 설명이다.\n",
        "\n",
        "-   전체의 이미지의 수는 70000개이며, 60000개의 이미지 ${\\tt xtrain}$에\n",
        "    10000개의 이미지는 ${\\tt xtest}$에 저장되어 있다.\n",
        "-   이미지에 대한 라벨은 각각 ${\\tt ytrain}$과 $\\tt ytest$에 저장되어\n",
        "    있다. 따라서 $\\tt ytrain$에는 60000개의 이미지에 해당하는 라벨이,\n",
        "    $\\tt ytest$에는 10000개의 이미지에 해당하는 라벨이 기록되어 있다.\n",
        "-   보통 분석에서는 60000개의 이미지를 가지고 라벨을 맞추는 “훈련”을\n",
        "    하고 (${\\tt xtrain}$을 이용하여 ${\\tt ytrain}$을 맞추는 방법을\n",
        "    학습하고), 그러한 훈련이 잘 되었는지 10000개의 이미지를 이용하여\n",
        "    “테스트”한다.\n",
        "-   위와 같은 의미로 $({\\tt xtrain}, {\\tt ytrain})$ 을 training data\n",
        "    set, $({\\tt xtest},{\\tt ytest})$ 를 test data set 이라고 부른다.\n",
        "    (ref:\n",
        "    [위키참고](https://en.wikipedia.org/wiki/Training,_validation,_and_test_data_sets))\n",
        "\n",
        "아래는 이미지자료와 시각화에 대한 설명이다.\n",
        "\n",
        "-   각 이미지는 (28,28) 픽셀의 흑백이미지이다. 따라서 각 이미지는\n",
        "    (28,28,3) 이 아니라 (28,28) 의 shape을 가진 텐서로 구성되어있다.\n",
        "-   흑백이미지를 시각화 하기 위해서는 `plt.imshow(img, cmap='gray')`를\n",
        "    이용한다. 여기에서 ${\\tt img}$은 임의의 2차원 텐서이며 이 예제의\n",
        "    경우 (28,28)의 shape을 가진다.\n",
        "\n",
        "아래는 ${\\tt xtrain}$의 두번째 이미지, 즉 ${\\tt xtrain[1,:,:]}$를\n",
        "확인하는 코드의 예시이다."
      ],
      "id": "348073fa-692e-4ce0-b0f2-0b1617e129e3"
    },
    {
      "cell_type": "code",
      "execution_count": 78,
      "metadata": {},
      "outputs": [
        {
          "output_type": "display_data",
          "metadata": {},
          "data": {
            "image/png": "[encoded data removed]"
          }
        }
      ],
      "source": [
        "# plt.imshow(xtrain[1,:,:],cmap='gray')\n",
        "plt.imshow(xtrain[1],cmap='gray') ## 같은코드임"
      ],
      "id": "5d1eb0c2-c7a5-4bbb-b860-408747fd7863"
    },
    {
      "cell_type": "markdown",
      "metadata": {},
      "source": [
        "이 이미지에 대한 label은 ${\\tt ytrain[1]}$의 값으로 확인가능하다."
      ],
      "id": "f2c341cd-8801-4b71-8071-2d90bc2e4b69"
    },
    {
      "cell_type": "code",
      "execution_count": 9,
      "metadata": {},
      "outputs": [],
      "source": [
        "ytrain[1]"
      ],
      "id": "43f9b361-6543-499c-b060-260bd3819f26"
    },
    {
      "cell_type": "markdown",
      "metadata": {},
      "source": [
        "이미지와 라벨을 한번에 표현하는 코드는 아래와 같이 작성가능하다."
      ],
      "id": "fa08f1bf-5c24-447b-92b3-cccb27d35279"
    },
    {
      "cell_type": "code",
      "execution_count": 88,
      "metadata": {},
      "outputs": [
        {
          "output_type": "display_data",
          "metadata": {},
          "data": {
            "image/png": "[encoded data removed]"
          }
        }
      ],
      "source": [
        "plt.imshow(xtrain[1],cmap='gray')\n",
        "plt.title('label={}'.format(ytrain[1]));"
      ],
      "id": "39c31132-a451-4c8b-b979-08628de4923f"
    },
    {
      "cell_type": "markdown",
      "metadata": {},
      "source": [
        "아래는 10개의 이미지를 라벨과 함께 출력하는 코드의 예시이다."
      ],
      "id": "7a59dc99-e1d5-44a4-b237-ea79f3191e1f"
    },
    {
      "cell_type": "code",
      "execution_count": 95,
      "metadata": {},
      "outputs": [
        {
          "output_type": "display_data",
          "metadata": {},
          "data": {
            "image/png": "[encoded data removed]"
          }
        }
      ],
      "source": [
        "fig, ax = plt.subplots(2,5,figsize=(10,5))\n",
        "\n",
        "ax[0][0].imshow(xtrain[0],cmap='gray'); ax[0][0].set_title('label={}'.format(ytrain[0]));\n",
        "ax[0][1].imshow(xtrain[1],cmap='gray'); ax[0][1].set_title('label={}'.format(ytrain[1]));\n",
        "ax[0][2].imshow(xtrain[2],cmap='gray'); ax[0][2].set_title('label={}'.format(ytrain[2]));\n",
        "ax[0][3].imshow(xtrain[3],cmap='gray'); ax[0][3].set_title('label={}'.format(ytrain[3]));\n",
        "ax[0][4].imshow(xtrain[4],cmap='gray'); ax[0][4].set_title('label={}'.format(ytrain[4]));\n",
        "\n",
        "ax[1][0].imshow(xtrain[5],cmap='gray'); ax[1][0].set_title('label={}'.format(ytrain[5]));\n",
        "ax[1][1].imshow(xtrain[6],cmap='gray'); ax[1][1].set_title('label={}'.format(ytrain[6]));\n",
        "ax[1][2].imshow(xtrain[7],cmap='gray'); ax[1][2].set_title('label={}'.format(ytrain[7]));\n",
        "ax[1][3].imshow(xtrain[8],cmap='gray'); ax[1][3].set_title('label={}'.format(ytrain[8]));\n",
        "ax[1][4].imshow(xtrain[9],cmap='gray'); ax[1][4].set_title('label={}'.format(ytrain[9]));\n",
        "\n",
        "fig.tight_layout()\n"
      ],
      "id": "17405393-3dbc-4771-be5f-b54fdadf21f5"
    },
    {
      "cell_type": "markdown",
      "metadata": {},
      "source": [
        "`(1)` 70000개의 이미지중 0~9에 해당하는 이미지는 각각 몇장씩 들어있는가?\n",
        "\n",
        "(풀이)"
      ],
      "id": "51ec32ce-5f25-4022-9ba2-895b4a93d3e1"
    },
    {
      "cell_type": "code",
      "execution_count": 105,
      "metadata": {},
      "outputs": [],
      "source": [
        "_y = ytrain.tolist()+ytest.tolist()"
      ],
      "id": "827c7a10-385e-47ef-be4d-ca970969dcec"
    },
    {
      "cell_type": "code",
      "execution_count": 111,
      "metadata": {},
      "outputs": [],
      "source": [
        "{s:_y.count(s) for s in set(_y)}"
      ],
      "id": "b197d528-afca-4b5f-a2a6-29a36e4f6ed0"
    },
    {
      "cell_type": "markdown",
      "metadata": {},
      "source": [
        "`(2)` ${\\tt xtrain}$에서 손글씨 0을 의미하는 이미지만을 모아서 새로운\n",
        "텐서 ${\\tt xtrain0}$를 만들어라. 이 텐서에서 처음과 마지막 이미지를\n",
        "출력하라.\n",
        "\n",
        "**hint:** ${\\tt xtrain0}$ 의 shape은 (5923,28,28)이어야 한다.\n",
        "\n",
        "(풀이)"
      ],
      "id": "97f22704-d66f-44f9-867b-6ddc4af655f5"
    },
    {
      "cell_type": "code",
      "execution_count": 117,
      "metadata": {},
      "outputs": [],
      "source": [
        "xtrain0 = xtrain[ytrain==0]\n",
        "xtrain0.shape"
      ],
      "id": "3743e66a-7f15-4506-bc5c-f89e0972a897"
    },
    {
      "cell_type": "code",
      "execution_count": 119,
      "metadata": {},
      "outputs": [
        {
          "output_type": "display_data",
          "metadata": {},
          "data": {
            "image/png": "[encoded data removed]"
          }
        }
      ],
      "source": [
        "plt.imshow(xtrain0[0],cmap='gray') # 처음이미지"
      ],
      "id": "b5d0fcdc-c46a-4210-b09d-e0602fe6abe9"
    },
    {
      "cell_type": "code",
      "execution_count": 120,
      "metadata": {},
      "outputs": [
        {
          "output_type": "display_data",
          "metadata": {},
          "data": {
            "image/png": "[encoded data removed]"
          }
        }
      ],
      "source": [
        "plt.imshow(xtrain0[-1],cmap='gray') # 마지막이미지"
      ],
      "id": "4f0b72cf-9a5c-48d1-993a-22de33bda1b8"
    },
    {
      "cell_type": "markdown",
      "metadata": {},
      "source": [
        "`(3)` ${\\tt xtrain}$에서 손글씨 0을 의미하는 이미지의 평균을 계산하라.\n",
        "즉 아래를 계산하라.\n",
        "\n",
        "-   ${\\tt xtrain0mean} = \\frac{1}{5923}\\sum_{i=1}^{5923} {\\tt xtrain0[i, :, :]}$\n",
        "\n",
        "계산결과를 출력하라.\n",
        "\n",
        "(풀이)"
      ],
      "id": "eb6565af-91fb-427a-b40c-ff848513c432"
    },
    {
      "cell_type": "code",
      "execution_count": 131,
      "metadata": {},
      "outputs": [
        {
          "output_type": "display_data",
          "metadata": {},
          "data": {
            "image/png": "[encoded data removed]"
          }
        }
      ],
      "source": [
        "plt.imshow(xtrain0.mean(axis=0),cmap='gray')"
      ],
      "id": "0713aaac-51a2-4018-9e8a-9d697eb65892"
    },
    {
      "cell_type": "markdown",
      "metadata": {},
      "source": [
        "`(4)` ${\\tt xtrain}$에서 각 라벨에 대한 평균이미지를 계산하고 계산결과를\n",
        "${\\tt imgmean}$에 길이가 10인 `list`로 저장하라. 즉 ${\\tt imgmean}$은\n",
        "아래와 같은 자료구조를 가지고 있어야 한다.\n",
        "\n",
        "-   ${\\tt imgmean}=\\big[{\\tt imgmean[0]},\\dots, {\\tt imgmean[9]}\\big]$\n",
        "-   ${\\tt imgmean[0]}, \\dots, {\\tt imgmean[9]}$ 는 각각 (28,28)의\n",
        "    shape을 가진 numpy array\n",
        "-   ${\\tt imgmean[0]}, \\dots, {\\tt imgmean[9]}$ 는 각각 숫자 0,1, …, 9의\n",
        "    평균이미지를 의미\n",
        "\n",
        "${\\tt imgmean[0]},\\dots, {\\tt imgmean[9]}$를 시각화 하라.\n",
        "\n",
        "(풀이)"
      ],
      "id": "b8e7cb1e-7774-4a6b-ae0a-8381caa71083"
    },
    {
      "cell_type": "code",
      "execution_count": 133,
      "metadata": {},
      "outputs": [],
      "source": [
        "imgmean = [xtrain[ytrain==i].mean(axis=0) for i in range(10)] "
      ],
      "id": "d9503a9f-1eac-450e-84bf-e9709983eace"
    },
    {
      "cell_type": "code",
      "execution_count": 137,
      "metadata": {},
      "outputs": [
        {
          "output_type": "display_data",
          "metadata": {},
          "data": {
            "image/png": "[encoded data removed]"
          }
        }
      ],
      "source": [
        "fig, ax = plt.subplots(2,5,figsize=(10,5))\n",
        "\n",
        "ax[0][0].imshow(imgmean[0],cmap='gray')\n",
        "ax[0][1].imshow(imgmean[1],cmap='gray')\n",
        "ax[0][2].imshow(imgmean[2],cmap='gray')\n",
        "ax[0][3].imshow(imgmean[3],cmap='gray')\n",
        "ax[0][4].imshow(imgmean[4],cmap='gray')\n",
        "\n",
        "ax[1][0].imshow(imgmean[5],cmap='gray')\n",
        "ax[1][1].imshow(imgmean[6],cmap='gray')\n",
        "ax[1][2].imshow(imgmean[7],cmap='gray')\n",
        "ax[1][3].imshow(imgmean[8],cmap='gray')\n",
        "ax[1][4].imshow(imgmean[9],cmap='gray')\n",
        "\n",
        "fig.tight_layout()\n"
      ],
      "id": "9a4812f4-b5cb-4d5a-b73f-54ef5d261221"
    },
    {
      "cell_type": "markdown",
      "metadata": {},
      "source": [
        "`(5)` ${\\tt xtrain}$의 두번째 이미지와 ${\\tt imgmean[0]}$의 차이를\n",
        "제곱한 값의 평균을 구하라. 즉 아래를 계산하라.\n",
        "\n",
        "-   $\\frac{1}{28\\times 28} \\sum_{p=0}^{27}\\sum_{q=0}^{27}\\big({\\tt xtrain[1,p,q]}-{\\tt imgmean[0][p,q]}\\big)^2$\n",
        "\n",
        "(풀이)"
      ],
      "id": "0c536ea7-5a90-432f-b795-ba84dd16f81b"
    },
    {
      "cell_type": "code",
      "execution_count": 151,
      "metadata": {},
      "outputs": [],
      "source": [
        "np.mean((xtrain[1,:,:]- imgmean[0])**2)"
      ],
      "id": "33cd18e2-c6d8-43c0-adde-c9129818bab6"
    },
    {
      "cell_type": "markdown",
      "metadata": {},
      "source": [
        "`(6)` 모든 $j=0,1,\\dots,9$ 에 대하여 아래를 계산하라.\n",
        "\n",
        "-   $\\frac{1}{28\\times 28} \\sum_{p=0}^{27}\\sum_{q=0}^{27}\\big({\\tt xtrain[1,p,q]}-{\\tt imgmean[j][p,q]}\\big)^2$\n",
        "\n",
        "계산값이 가장 작게 나오는 $j$는 얼마인가? 위의 계산결과를 토대로\n",
        "${\\tt xtrain}$의 두번째 이미지는 어떠한 숫자를 의미한다고 “분류”하는\n",
        "것이 타당한가?"
      ],
      "id": "45a84363-4eba-4c11-8497-961e2d609a6b"
    },
    {
      "cell_type": "code",
      "execution_count": 152,
      "metadata": {},
      "outputs": [],
      "source": [
        "[np.mean((xtrain[1,:,:]- imgmean[i])**2) for i in range(10)]"
      ],
      "id": "11059ad0-e5c7-4ce6-85f6-c7236d932d9c"
    },
    {
      "cell_type": "markdown",
      "metadata": {},
      "source": [
        "`(7)` 아래와 같은 numpy array 를 생성하라.\n",
        "\n",
        "$${\\tt loss}= \n",
        "\\begin{bmatrix} \n",
        "{\\tt loss[0,0]} & \\dots & {\\tt loss[0,9]} \\\\ \n",
        "{\\tt loss[1,0]} & \\dots & {\\tt loss[1,9]} \\\\ \n",
        "\\dots & \\dots &  \\dots \\\\ \n",
        "{\\tt loss[59999,0]}& \\dots &{\\tt loss[59999,9]} \\\\ \n",
        "\\end{bmatrix}$$\n",
        "\n",
        "단,\n",
        "${\\tt loss[i,j]} = \\frac{1}{28\\times 28} \\sum_{p=0}^{27}\\sum_{q=0}^{27}\\big({\\tt xtrain[i,p,q]}-{\\tt imgmean[j][p,q]}\\big)^2$\n",
        "\n",
        "위에서 생성한 ${\\tt loss}$를 이용해 (6)와 같은 방식으로 ${\\tt xtrain}$의\n",
        "모든 이미지에 대한 분류를 수행하라.\n",
        "\n",
        "**hint**: ${\\tt loss}$에서 “최소값을 가지는 원소의 인덱스를 출력”하는\n",
        "함수를 각 행별로 적용하면 된다.\n",
        "\n",
        "(풀이)"
      ],
      "id": "34076823-9f66-46cc-9929-22d7d4c8460a"
    },
    {
      "cell_type": "code",
      "execution_count": 169,
      "metadata": {},
      "outputs": [],
      "source": [
        "loss = np.array([[np.mean((xtrain[j,:,:]- imgmean[i])**2) for i in range(10)] for j in range(60000)])"
      ],
      "id": "b440cd25-443c-4e96-bd86-2ff0ce52497a"
    },
    {
      "cell_type": "code",
      "execution_count": 171,
      "metadata": {},
      "outputs": [],
      "source": [
        "loss.argmin(axis=1)"
      ],
      "id": "d46a617f-6c97-47c2-99c7-5b5a4c54a99c"
    },
    {
      "cell_type": "markdown",
      "metadata": {},
      "source": [
        "`(8)` `(7)`에서 수행한 분류결과와 실제 라벨 ${\\tt ytrain}$을 비교하라.\n",
        "얼마나 많은 결과가 일치하는지 비율을 계산하라.\n",
        "\n",
        "(풀이)"
      ],
      "id": "29ad7111-fa03-483a-8693-9d1d065fac47"
    },
    {
      "cell_type": "code",
      "execution_count": 176,
      "metadata": {},
      "outputs": [],
      "source": [
        "np.sum(ytrain == loss.argmin(axis=1)) / 60000"
      ],
      "id": "351ef726-4c04-43de-ad7a-6436c55d935d"
    },
    {
      "cell_type": "markdown",
      "metadata": {},
      "source": [
        "`(9)` ${\\tt xtrain}$에서 학습한 평균이미지 ${\\tt imgmean}$를 바탕으로\n",
        "${\\tt xtest}$의 이미지를 분류하라. 분류결과를 ${\\tt ytest}$와 비교하라.\n",
        "얼마나 많은 결과가 일치하는지 비율을 계산하라.\n",
        "\n",
        "(풀이)"
      ],
      "id": "41c883f4-e823-4f45-96cc-0018f2d067bb"
    },
    {
      "cell_type": "code",
      "execution_count": 183,
      "metadata": {},
      "outputs": [],
      "source": [
        "est = np.array([[np.mean((xtest[j,:,:]- imgmean[i])**2) for i in range(10)] for j in range(10000)]).argmin(axis=1)"
      ],
      "id": "e58202b3-684b-44e5-9719-2a1792f530fb"
    },
    {
      "cell_type": "code",
      "execution_count": 186,
      "metadata": {},
      "outputs": [],
      "source": [
        "np.sum(est == ytest)/10000"
      ],
      "id": "251c6cb9-a733-44ae-bf89-6c6ce4b88920"
    },
    {
      "cell_type": "markdown",
      "metadata": {},
      "source": [
        "`(10)` `(9)`의 과정에서 잘못분류된 이미지 10개를 선택하여 시각화 하라.\n",
        "\n",
        "-   실제 라벨과 잘못된 라벨을 구분하여 시각화 할 것"
      ],
      "id": "15351e7a-e8a4-47a3-9a86-03c2443ab08f"
    },
    {
      "cell_type": "code",
      "execution_count": 191,
      "metadata": {},
      "outputs": [],
      "source": [
        "_ytest = ytest[est != ytest]\n",
        "_xtest = xtest[est != ytest]\n",
        "_est = est[est != ytest]"
      ],
      "id": "c7158777-cf48-4ae1-85d9-63b06c9cc149"
    },
    {
      "cell_type": "code",
      "execution_count": 196,
      "metadata": {},
      "outputs": [
        {
          "output_type": "display_data",
          "metadata": {},
          "data": {
            "image/png": "[encoded data removed]"
          }
        }
      ],
      "source": [
        "fig, ax = plt.subplots(2,5,figsize=(10,5))\n",
        "\n",
        "ax[0][0].imshow(_xtest[0],cmap='gray'); ax[0][0].set_title('{}/{}'.format(_ytest[0],_est[0]));\n",
        "ax[0][1].imshow(_xtest[1],cmap='gray'); ax[0][1].set_title('{}/{}'.format(_ytest[1],_est[1]));\n",
        "ax[0][2].imshow(_xtest[2],cmap='gray'); ax[0][2].set_title('{}/{}'.format(_ytest[2],_est[2]));\n",
        "ax[0][3].imshow(_xtest[3],cmap='gray'); ax[0][3].set_title('{}/{}'.format(_ytest[3],_est[3]));\n",
        "ax[0][4].imshow(_xtest[4],cmap='gray'); ax[0][4].set_title('{}/{}'.format(_ytest[4],_est[4]));\n",
        "\n",
        "ax[1][0].imshow(_xtest[5],cmap='gray'); ax[1][0].set_title('{}/{}'.format(_ytest[5],_est[5]));\n",
        "ax[1][1].imshow(_xtest[6],cmap='gray'); ax[1][1].set_title('{}/{}'.format(_ytest[6],_est[6]));\n",
        "ax[1][2].imshow(_xtest[7],cmap='gray'); ax[1][2].set_title('{}/{}'.format(_ytest[7],_est[7]));\n",
        "ax[1][3].imshow(_xtest[8],cmap='gray'); ax[1][3].set_title('{}/{}'.format(_ytest[8],_est[8]));\n",
        "ax[1][4].imshow(_xtest[9],cmap='gray'); ax[1][4].set_title('{}/{}'.format(_ytest[9],_est[9]));\n",
        "\n",
        "fig.tight_layout()"
      ],
      "id": "2a56cf69-230f-4aed-ae66-40e0998e4509"
    },
    {
      "cell_type": "markdown",
      "metadata": {},
      "source": [
        "# FIFA23 자료분석\n",
        "\n",
        "아래는 FIFA23 자료를 불러오는 코드이다."
      ],
      "id": "53532018-23ec-4070-9c12-39f9eab946de"
    },
    {
      "cell_type": "code",
      "execution_count": 201,
      "metadata": {},
      "outputs": [],
      "source": [
        "df=pd.read_csv('https://raw.githubusercontent.com/guebin/DV2022/master/posts/FIFA23_official_data.csv').drop(columns=['Loaned From', 'Best Overall Rating']).dropna()\n",
        "df.head()"
      ],
      "id": "e3928e66-58bc-43b0-abf9-23a7c21877ba"
    },
    {
      "cell_type": "markdown",
      "metadata": {},
      "source": [
        "`(1)` 선수들의 평균임금(Wage)을 구하라.\n",
        "\n",
        "# 삼성전자와 SK하이닉스\n",
        "\n",
        "아래는 삼성전자와 SK하이닉스의 주가를 load하는 코드이다."
      ],
      "id": "a9a85c0b-edc2-4e13-8522-df5f4aa55ac5"
    },
    {
      "cell_type": "code",
      "execution_count": 227,
      "metadata": {},
      "outputs": [
        {
          "output_type": "stream",
          "name": "stdout",
          "text": [
            "[*********************100%***********************]  2 of 2 completed"
          ]
        }
      ],
      "source": [
        "import yfinance as yf\n",
        "\n",
        "# 삼성전자와 SK하이닉스의 종목 코드\n",
        "tickers = [\"005930.KS\", \"017670.KS\"]\n",
        "\n",
        "# 주가 데이터를 불러올 기간\n",
        "start_date = \"2021-01-01\"\n",
        "end_date = \"2023-05-02\"\n",
        "\n",
        "# yfinance를 이용하여 데이터 다운로드\n",
        "df = yf.download(tickers, start=start_date, end=end_date)['Adj Close']\n",
        "df.columns = pd.Index(['삼성전자','SKT']) \n",
        "\n",
        "# 데이터 확인\n",
        "df"
      ],
      "id": "c1e15c74-5a08-442d-a9d5-a633fb6f1524"
    }
  ],
  "nbformat": 4,
  "nbformat_minor": 5,
  "metadata": {
    "kernelspec": {
      "name": "python3",
      "display_name": "Python 3 (ipykernel)",
      "language": "python"
    },
    "language_info": {
      "name": "python",
      "codemirror_mode": {
        "name": "ipython",
        "version": "3"
      },
      "file_extension": ".py",
      "mimetype": "text/x-python",
      "nbconvert_exporter": "python",
      "pygments_lexer": "ipython3",
      "version": "3.8.16"
    }
  }
}