{
  "cells": [
    {
      "cell_type": "markdown",
      "metadata": {},
      "source": [
        "# 08wk-1: Pandas (1)\n",
        "\n",
        "최규빈  \n",
        "2023-04-24\n",
        "\n",
        "<a href=\"https://colab.research.google.com/github/guebin/PP2023/blob/main/posts/02_DataScience/2023-04-24-8wk-1.ipynb\"><img src=\"https://colab.research.google.com/assets/colab-badge.svg\" style=\"text-align: left\"></a>\n",
        "\n",
        "# 강의영상\n",
        "\n",
        "> youtube:\n",
        "> <https://youtube.com/playlist?list=PLQqh36zP38-xqAT5XH-YhYj1s2WQWhKE8>\n",
        "\n",
        "# import"
      ],
      "id": "919bdc17-0617-405c-b5e2-8aad2183aa26"
    },
    {
      "cell_type": "code",
      "execution_count": 6,
      "metadata": {},
      "outputs": [],
      "source": [
        "import numpy as np\n",
        "import pandas as pd"
      ],
      "id": "277503d6-2d68-4226-b5dd-96cbf5ce6819"
    },
    {
      "cell_type": "markdown",
      "metadata": {},
      "source": [
        "# pandas 개발동기\n",
        "\n",
        "## 부분 데이터 꺼내기: 판다스를 왜 써야할까?\n",
        "\n",
        "`-` 예시1: 때로는 인덱스로 때로는 key로 데이터를 부르고 싶다."
      ],
      "id": "50579fc3-c23e-4bce-aea1-078ef3f9f10f"
    },
    {
      "cell_type": "code",
      "execution_count": 7,
      "metadata": {},
      "outputs": [],
      "source": [
        "np.random.seed(43052)\n",
        "att = np.random.choice(np.arange(10,21)*5,20)\n",
        "rep = np.random.choice(np.arange(5,21)*5,20)\n",
        "mid = np.random.choice(np.arange(0,21)*5,20)\n",
        "fin = np.random.choice(np.arange(0,21)*5,20)\n",
        "key = ['2022-12'+str(s) for s in np.random.choice(np.arange(300,501),20,replace=False)]"
      ],
      "id": "b1f403c2-f03a-414c-b65b-c9bdbf5c39e9"
    },
    {
      "cell_type": "markdown",
      "metadata": {},
      "source": [
        "학번 ’2022-12363’에 해당하는 학생의 출석점수를 알고 싶다면?\n",
        "\n",
        "(풀이1) – dct로 자료를 저장하고 출력"
      ],
      "id": "870d46cf-064d-4a8a-b5f1-aff85bb10c71"
    },
    {
      "cell_type": "code",
      "execution_count": 8,
      "metadata": {},
      "outputs": [],
      "source": [
        "dct = {'att':{key[i]:att[i] for i in range(20)}, \n",
        "       'rep':{key[i]:rep[i] for i in range(20)}, \n",
        "       'mid':{key[i]:mid[i] for i in range(20)}, \n",
        "       'fin':{key[i]:fin[i] for i in range(20)}}\n",
        "#dct"
      ],
      "id": "2996e09b"
    },
    {
      "cell_type": "code",
      "execution_count": 9,
      "metadata": {},
      "outputs": [],
      "source": [
        "dct['att']['2022-12363']"
      ],
      "id": "1c219caf"
    },
    {
      "cell_type": "markdown",
      "metadata": {},
      "source": [
        "(풀이2) – ndarray로 자료를 저장하고 출력"
      ],
      "id": "c97fae60-acf2-41d8-8cee-f8b00272d682"
    },
    {
      "cell_type": "code",
      "execution_count": 16,
      "metadata": {},
      "outputs": [],
      "source": [
        "arr = np.array([att,rep,mid,fin,key]).T\n",
        "arr"
      ],
      "id": "9845acd6-2adb-44dc-97ca-e45fade83f83"
    },
    {
      "cell_type": "code",
      "execution_count": 91,
      "metadata": {},
      "outputs": [],
      "source": [
        "arr[arr[:,-1] == '2022-12363',0] # 읽기어려운 코드"
      ],
      "id": "2a409934"
    },
    {
      "cell_type": "markdown",
      "metadata": {},
      "source": [
        "**(풀이2)가 (풀이1)에 비하여 불편한 점**\n",
        "\n",
        "-   arr 마지마칼럼이 student id 이고 첫번째 칼럼은 att라는 사실을\n",
        "    암기하고 있어야 한다.\n",
        "-   자료형이 문자로 강제로 바뀌어서 저장되어있음\n",
        "-   작성한 코드의 가독성이 없다. (위치로 접근하기 때문)\n",
        "\n",
        "`-` 요약: hash 스타일로 정보를 추출하는 것이 유용할 때가 있다. 그리고\n",
        "보통 hash 스타일로 정보를 뽑는 것이 유리하다. (사실 numpy는 정보추출을\n",
        "위해 개발된 자료형이 아니라 행렬 및 벡터의 수학연산을 지원하기 위해\n",
        "개발된 자료형이다)\n",
        "\n",
        "`-` 소망: 정보를 추출할때는 hash 스타일도 유용하다는 것은 이해함 $\\to$\n",
        "하지만 나는 가끔 넘파이스타일로 정보를 뽑고 싶은걸? 그리고 딕셔너리\n",
        "형태가 아니고 엑셀처럼(행렬처럼) 데이터를 보고 싶은걸? $\\to$ pandas의\n",
        "개발\n",
        "\n",
        "## 엑셀처럼 데이터를 테이블 형태로 정리하고 싶다\n",
        "\n",
        "(방법1) – 넘파이"
      ],
      "id": "fef4d571-c673-45e8-a7e6-d7cc6b2ab60f"
    },
    {
      "cell_type": "code",
      "execution_count": 19,
      "metadata": {},
      "outputs": [],
      "source": [
        "arr"
      ],
      "id": "878db530"
    },
    {
      "cell_type": "markdown",
      "metadata": {},
      "source": [
        "(방법2) – 판다스 with stacked dict"
      ],
      "id": "892d526e-e3c8-4cc0-9aec-97a214b4b3f5"
    },
    {
      "cell_type": "code",
      "execution_count": 20,
      "metadata": {},
      "outputs": [],
      "source": [
        "df = pd.DataFrame(dct)\n",
        "df.head()"
      ],
      "id": "59980ba2"
    },
    {
      "cell_type": "markdown",
      "metadata": {},
      "source": [
        "(방법3) – 판다스 with index"
      ],
      "id": "4e391b65-5ac8-4273-8262-752dc332c248"
    },
    {
      "cell_type": "code",
      "execution_count": 21,
      "metadata": {},
      "outputs": [],
      "source": [
        "df = pd.DataFrame({'att':att,'rep':rep,'mid':mid,'fin':fin},index=key)\n",
        "df.head()"
      ],
      "id": "518c6966"
    },
    {
      "cell_type": "markdown",
      "metadata": {},
      "source": [
        "## 해싱으로 원하는 정보를 뽑으면 좋겠다 (마치 딕셔너리처럼)\n",
        "\n",
        "`-` 예제1: 출석점수를 출력 (딕셔너리가 되면 판다스도 된다)"
      ],
      "id": "9cba7ae2-04e3-41e2-aebc-980a2a528a46"
    },
    {
      "cell_type": "code",
      "execution_count": 22,
      "metadata": {},
      "outputs": [],
      "source": [
        "# dct['att']\n",
        "df['att']"
      ],
      "id": "a27cace6"
    },
    {
      "cell_type": "markdown",
      "metadata": {},
      "source": [
        "`-` 예제2: 학번 `2022-12380` 의 출석점수 출력"
      ],
      "id": "4bd29930-7de9-4061-9fd5-4bd10f5dbb54"
    },
    {
      "cell_type": "code",
      "execution_count": 23,
      "metadata": {},
      "outputs": [],
      "source": [
        "#dct['att']['2022-12380']\n",
        "df['att']['2022-12380']"
      ],
      "id": "82a11888"
    },
    {
      "cell_type": "markdown",
      "metadata": {},
      "source": [
        "## 인덱싱으로 정보를 뽑는 기능도 지원을 하면 좋겠다 (마치 리스트나 넘파이처럼)\n",
        "\n",
        "`-` 예제1: 첫번째 학생의 기말고사 성적을 출력하고 싶다."
      ],
      "id": "a205ad72-c0dd-41dd-b66d-7199df2a881d"
    },
    {
      "cell_type": "code",
      "execution_count": 24,
      "metadata": {},
      "outputs": [],
      "source": [
        "df.iloc[0,-1]"
      ],
      "id": "c66b2edf"
    },
    {
      "cell_type": "markdown",
      "metadata": {},
      "source": [
        "-   벼락치기: df에서 iloc이라는 특수기능을 이용하면 넘파이 인덱싱처럼\n",
        "    원소출력이 가능하다.\n",
        "\n",
        "> df는 딕셔너리 같은것이지만 df.iloc은 넘파이같은것이라고 생각하면 된다.\n",
        "\n",
        "`-` 예제2: 홀수번째 학생 의 점수를 뽑고 싶다. (홀수번째 학생은 인덱스\n",
        "0,2,4,… 에 대응)"
      ],
      "id": "f8151e6e-e41a-497c-930a-b4a96dfec7cc"
    },
    {
      "cell_type": "code",
      "execution_count": 25,
      "metadata": {},
      "outputs": [],
      "source": [
        "df.iloc[::2,:]"
      ],
      "id": "2bac90df"
    },
    {
      "cell_type": "markdown",
      "metadata": {},
      "source": [
        "`-` 예제3: 맨 끝에서 3명의 점수를 출력하고 싶다."
      ],
      "id": "1b62f660-ff5e-4d3f-aaec-93374f38f115"
    },
    {
      "cell_type": "code",
      "execution_count": 26,
      "metadata": {},
      "outputs": [],
      "source": [
        "df.iloc[-3:,:]"
      ],
      "id": "3ecf1288"
    },
    {
      "cell_type": "markdown",
      "metadata": {},
      "source": [
        "`-` 예제4: 맨 끝에서 3명의 점수중 마지막 2개의 칼럼만 출력하고 싶다."
      ],
      "id": "4302d784-a782-4e4f-a3c1-4e2de06f7e96"
    },
    {
      "cell_type": "code",
      "execution_count": 27,
      "metadata": {},
      "outputs": [],
      "source": [
        "df.iloc[-3:,-2:]"
      ],
      "id": "4067303f"
    },
    {
      "cell_type": "markdown",
      "metadata": {},
      "source": [
        "## 궁극: 해싱과 인덱싱을 모두 지원하는 아주 우수한 자료형을 만들고 싶음\n",
        "\n",
        "`-` 예제1: ’mid \\>= 20 and att \\<60’인 학생들의 ’fin’을 출력\n",
        "\n",
        "(방법1) query\n",
        "\n",
        "-   데이터베이스 스타일"
      ],
      "id": "cf9ad319-0f5b-4a0a-adb3-f1ad25ab66dd"
    },
    {
      "cell_type": "code",
      "execution_count": 28,
      "metadata": {},
      "outputs": [],
      "source": [
        "df.query('mid>=20 and att<60')['fin']"
      ],
      "id": "de85f240"
    },
    {
      "cell_type": "markdown",
      "metadata": {},
      "source": [
        "(방법2) numpy"
      ],
      "id": "666eeed9-5937-432e-9552-57825a87e132"
    },
    {
      "cell_type": "code",
      "execution_count": 29,
      "metadata": {},
      "outputs": [],
      "source": [
        "arr[(arr[:,2].astype(dtype=np.int64) >= 20) & (arr[:,0].astype(dtype=np.int64) < 60),3]"
      ],
      "id": "60b14318"
    },
    {
      "cell_type": "markdown",
      "metadata": {},
      "source": [
        "`-` 예제2: ’중간고사점수\\<기말고사점수’인 학생들의 출석점수 평균을\n",
        "구하자."
      ],
      "id": "880ad3e4-5867-4f8d-adc7-7f16ae09c6cb"
    },
    {
      "cell_type": "code",
      "execution_count": 30,
      "metadata": {},
      "outputs": [],
      "source": [
        "df.query('mid<fin')['att'].mean()"
      ],
      "id": "c3b342a2"
    },
    {
      "cell_type": "markdown",
      "metadata": {},
      "source": [
        "# pandas 공부 1단계\n",
        "\n",
        "## 데이터프레임 선언\n",
        "\n",
        "`-` 방법1: dictionary에서 만든다."
      ],
      "id": "77be5991-d5e9-4609-843e-51103808a644"
    },
    {
      "cell_type": "code",
      "execution_count": 31,
      "metadata": {},
      "outputs": [],
      "source": [
        "pd.DataFrame({'att':[30,40,50],'mid':[50,60,70]})"
      ],
      "id": "58e85fc1-8f39-42fa-b6e4-dbb0a09ec1d4"
    },
    {
      "cell_type": "code",
      "execution_count": 32,
      "metadata": {},
      "outputs": [],
      "source": [
        "pd.DataFrame({'att':(30,40,50),'mid':(50,60,70)})"
      ],
      "id": "3dffb65c-e243-4e82-b4f8-3e492659d2e0"
    },
    {
      "cell_type": "code",
      "execution_count": 33,
      "metadata": {},
      "outputs": [],
      "source": [
        "pd.DataFrame({'att':np.array([30,40,50]),'mid':np.array([50,60,70])})"
      ],
      "id": "1cc108d1-4373-4fcd-a001-dcf35b7711e7"
    },
    {
      "cell_type": "markdown",
      "metadata": {},
      "source": [
        "`-` 방법: 2차원 ndarray에서 만든다."
      ],
      "id": "dcda652c-4401-4568-b0e4-7aabe813055d"
    },
    {
      "cell_type": "code",
      "execution_count": 34,
      "metadata": {},
      "outputs": [],
      "source": [
        "np.arange(2*3).reshape(2,3)"
      ],
      "id": "a43cbec4-5c2e-474a-ab44-f01b8ce059b1"
    },
    {
      "cell_type": "code",
      "execution_count": 35,
      "metadata": {},
      "outputs": [],
      "source": [
        "pd.DataFrame(np.arange(2*3).reshape(2,3))"
      ],
      "id": "421eecf9-f0b0-4800-9aac-1642a0e3ed16"
    },
    {
      "cell_type": "markdown",
      "metadata": {},
      "source": [
        "## 열의 이름 부여\n",
        "\n",
        "`-` 방법1: 딕셔너리를 통하여 만들면 딕셔너리의 key가 자동으로 열의\n",
        "이름이 된다."
      ],
      "id": "365fd8c2-0a88-4502-8f09-903fc2a302a0"
    },
    {
      "cell_type": "code",
      "execution_count": 36,
      "metadata": {},
      "outputs": [],
      "source": [
        "pd.DataFrame({'att':np.array([30,40,50]),'mid':np.array([50,60,70])})"
      ],
      "id": "ed9c5e8c-2ea6-4978-8f3f-00fcedc72eb1"
    },
    {
      "cell_type": "markdown",
      "metadata": {},
      "source": [
        "`-` 방법2: pd.DataFrame()의 옵션에 columns를 이용"
      ],
      "id": "bf684994-3866-47e6-8a55-f445ec87f43e"
    },
    {
      "cell_type": "code",
      "execution_count": 37,
      "metadata": {},
      "outputs": [],
      "source": [
        "pd.DataFrame(np.arange(2*3).reshape(2,3),columns=['X1','X2','X3'])"
      ],
      "id": "01f53545-dc4d-4a1f-a35d-1f80489c3766"
    },
    {
      "cell_type": "markdown",
      "metadata": {},
      "source": [
        "`-` 방법3: df.columns에 원하는 열이름을 덮어씀 (1)"
      ],
      "id": "834de59c-800f-4846-8198-580c04bd49db"
    },
    {
      "cell_type": "code",
      "execution_count": 38,
      "metadata": {},
      "outputs": [],
      "source": [
        "df=pd.DataFrame(np.arange(2*3).reshape(2,3))\n",
        "df"
      ],
      "id": "a98f0d8e-6a37-47d1-a0a0-40ce92ab80e5"
    },
    {
      "cell_type": "code",
      "execution_count": 41,
      "metadata": {},
      "outputs": [],
      "source": [
        "df.columns = ['X1','X2','X3']\n",
        "df"
      ],
      "id": "8316b758"
    },
    {
      "cell_type": "markdown",
      "metadata": {},
      "source": [
        "`-` 방법4: df.columns에 원하는 열이름을 덮어씀 (2)"
      ],
      "id": "33f29d20-7760-444a-8636-3d5a94c86e09"
    },
    {
      "cell_type": "code",
      "execution_count": 42,
      "metadata": {},
      "outputs": [],
      "source": [
        "df=pd.DataFrame(np.arange(2*3).reshape(2,3))\n",
        "df"
      ],
      "id": "6ae75f62-5f43-4c26-bc51-fe4fc0745a45"
    },
    {
      "cell_type": "code",
      "execution_count": 43,
      "metadata": {},
      "outputs": [],
      "source": [
        "df.columns = pd.Index(['X1','X2','X3'])"
      ],
      "id": "85192d69-16cd-435d-b422-a01417455db9"
    },
    {
      "cell_type": "code",
      "execution_count": 44,
      "metadata": {},
      "outputs": [],
      "source": [
        "df"
      ],
      "id": "a5111023-929a-4c91-99f7-5f6a64a88ab5"
    },
    {
      "cell_type": "markdown",
      "metadata": {},
      "source": [
        "방법4가 방법3의 방식보다 컴퓨터가 이해하기 좋다. (= 불필요한 에러 혹은\n",
        "경고메시지를 방지할 수 있다)\n",
        "\n",
        "## 행의 이름 부여\n",
        "\n",
        "`-` 방법1: 중첩 dict이면 nested dic의 key가 알아서 행의 이름으로 된다."
      ],
      "id": "7b952aa4-3c95-480e-afe6-c7210ab45125"
    },
    {
      "cell_type": "code",
      "execution_count": 45,
      "metadata": {},
      "outputs": [],
      "source": [
        "pd.DataFrame({'att':{'guebin':30, 'iu':40, 'hynn':50} , 'mid':{'guebin':5, 'iu':45, 'hynn':90}})"
      ],
      "id": "b2255740-022e-4c64-bb31-8883129d22a1"
    },
    {
      "cell_type": "markdown",
      "metadata": {},
      "source": [
        "`-` 방법2: pd.DataFrame()의 index 옵션 이용"
      ],
      "id": "4f77816a-6825-4965-81e9-88ceef6e2099"
    },
    {
      "cell_type": "code",
      "execution_count": 46,
      "metadata": {},
      "outputs": [],
      "source": [
        "pd.DataFrame({'att':[30,40,50] , 'mid':[5,45,90]},index=['guebin','iu','hynn'])"
      ],
      "id": "d14ec901"
    },
    {
      "cell_type": "markdown",
      "metadata": {},
      "source": [
        "`-` 방법3: df.index에 덮어씌움"
      ],
      "id": "a68ecac7-d4e5-41a8-bc00-f9f0980b4a25"
    },
    {
      "cell_type": "code",
      "execution_count": 47,
      "metadata": {},
      "outputs": [],
      "source": [
        "df=pd.DataFrame({'att':[30,40,50] , 'mid':[5,45,90]})\n",
        "df"
      ],
      "id": "681326f9-7ef2-471d-a2a1-3d34c2d5f1ac"
    },
    {
      "cell_type": "code",
      "execution_count": 48,
      "metadata": {},
      "outputs": [],
      "source": [
        "df.index = pd.Index(['guebin','iu','hynn'])\n",
        "#df.index = ['guebin','iu','hynn'] <- 이것도 실행가능하기는함 \n",
        "df"
      ],
      "id": "fa1eb50f-f6dc-45b6-b991-db2bfea6b9e5"
    },
    {
      "cell_type": "markdown",
      "metadata": {},
      "source": [
        "`-` 방법4: df.set_index() 를 이용하여 덮어씌운다"
      ],
      "id": "20506304-5322-4689-9f31-2308ff349bd5"
    },
    {
      "cell_type": "code",
      "execution_count": 49,
      "metadata": {},
      "outputs": [],
      "source": [
        "df=pd.DataFrame({'att':[30,40,50] , 'mid':[5,45,90]})\n",
        "df"
      ],
      "id": "2ee8fe37-8c57-4fb1-8fcd-2062b8da232e"
    },
    {
      "cell_type": "code",
      "execution_count": 50,
      "metadata": {},
      "outputs": [],
      "source": [
        "df.set_index(pd.Index(['guebin','iu','hynn']))"
      ],
      "id": "e606bc12-7be5-4669-bcf9-a0532a81d78e"
    },
    {
      "cell_type": "code",
      "execution_count": 51,
      "metadata": {},
      "outputs": [],
      "source": [
        "df.set_index(['guebin','iu','hynn'])"
      ],
      "id": "cdad9b7f-51ad-45f5-959f-0775b12af959"
    },
    {
      "cell_type": "code",
      "execution_count": 52,
      "metadata": {},
      "outputs": [],
      "source": [
        "df.set_index([['guebin','iu','hynn']]) # 꺽쇠를 한번 더 넣어주면 에러를 피할수 있다. "
      ],
      "id": "065d3428-1954-4bb4-a3b2-5da90d18b427"
    },
    {
      "cell_type": "markdown",
      "metadata": {},
      "source": [
        "-   그러나 이런 코드를 권장하지 않음\n",
        "\n",
        "## 자료형, len, shape, for문의 반복변수"
      ],
      "id": "88c63ca4-adae-4b13-ba3c-4ee0206af266"
    },
    {
      "cell_type": "code",
      "execution_count": 53,
      "metadata": {},
      "outputs": [],
      "source": [
        "df = pd.DataFrame({'att':[30,40,50],'mid':[5,45,90]})\n",
        "df"
      ],
      "id": "6844676c-00d5-4e62-a293-42eb9aded5b3"
    },
    {
      "cell_type": "markdown",
      "metadata": {},
      "source": [
        "`-` type"
      ],
      "id": "6a33009d-4971-466d-a7cd-193cb1bdc5e7"
    },
    {
      "cell_type": "code",
      "execution_count": 54,
      "metadata": {},
      "outputs": [],
      "source": [
        "type(df)"
      ],
      "id": "967025d5-afdc-4f66-9f28-64e958c95a7d"
    },
    {
      "cell_type": "markdown",
      "metadata": {},
      "source": [
        "`-` len"
      ],
      "id": "736c930f-d76d-450f-8ca9-48651f826151"
    },
    {
      "cell_type": "code",
      "execution_count": 55,
      "metadata": {},
      "outputs": [],
      "source": [
        "len(df) # row의 갯수 "
      ],
      "id": "f32db27b-bead-48a1-b12d-adbe734b3294"
    },
    {
      "cell_type": "markdown",
      "metadata": {},
      "source": [
        "`-` shape"
      ],
      "id": "85ce3d02-3244-4a1c-87fa-a3df8bc66cc5"
    },
    {
      "cell_type": "code",
      "execution_count": 56,
      "metadata": {},
      "outputs": [],
      "source": [
        "df.shape "
      ],
      "id": "c8d254e7-ec13-4ccd-a1b0-43fff9805d1c"
    },
    {
      "cell_type": "markdown",
      "metadata": {},
      "source": [
        "`-` for문의 반복변수"
      ],
      "id": "64817bb2-3306-4968-9157-811fa2324732"
    },
    {
      "cell_type": "code",
      "execution_count": 57,
      "metadata": {},
      "outputs": [
        {
          "output_type": "stream",
          "name": "stdout",
          "text": [
            "att\n",
            "mid"
          ]
        }
      ],
      "source": [
        "for k in df:\n",
        "    print(k) # 딕셔너리같죠"
      ],
      "id": "ced5d6bf-1cf1-4aaa-bf07-db716fcbfb0a"
    },
    {
      "cell_type": "code",
      "execution_count": 58,
      "metadata": {},
      "outputs": [
        {
          "output_type": "stream",
          "name": "stdout",
          "text": [
            "att\n",
            "mid"
          ]
        }
      ],
      "source": [
        "for k in {'att':[30,40,50],'mid':[5,45,90]}: \n",
        "    print(k)"
      ],
      "id": "a7880a2b-524a-4c03-8020-14fd67c7cc19"
    },
    {
      "cell_type": "markdown",
      "metadata": {},
      "source": [
        "**참고:** df는 진짜 딕셔너리 느낌 강해요"
      ],
      "id": "b7ba7e17-0719-4b8c-bf93-e5739deffe94"
    },
    {
      "cell_type": "code",
      "execution_count": 59,
      "metadata": {},
      "outputs": [],
      "source": [
        "df.keys()"
      ],
      "id": "2c52a755-5a57-4a9f-8e12-7853a42a2017"
    },
    {
      "cell_type": "code",
      "execution_count": 62,
      "metadata": {},
      "outputs": [
        {
          "output_type": "stream",
          "name": "stdout",
          "text": [
            "att\n",
            "mid"
          ]
        }
      ],
      "source": [
        "for k,v in df.items():\n",
        "    print(k)"
      ],
      "id": "70887c85-c05d-4c14-91bb-de6cb89739fa"
    },
    {
      "cell_type": "markdown",
      "metadata": {},
      "source": [
        "## pd.Series\n",
        "\n",
        "`-` 2차원 ndarray가 pd.DataFrame에 대응한다면 1차원 ndarray는\n",
        "pd.Series에 대응한다."
      ],
      "id": "278d3a16-9916-4888-bafc-2f8fb3aecac4"
    },
    {
      "cell_type": "code",
      "execution_count": 63,
      "metadata": {},
      "outputs": [],
      "source": [
        "a=pd.Series(np.random.randn(10))\n",
        "a"
      ],
      "id": "904dd1bc-3faa-4b95-9a3b-3ca2e7fdacf0"
    },
    {
      "cell_type": "code",
      "execution_count": 64,
      "metadata": {},
      "outputs": [],
      "source": [
        "type(a)"
      ],
      "id": "1778a071-3be4-4036-b5c0-3cb4c1a193b7"
    },
    {
      "cell_type": "code",
      "execution_count": 65,
      "metadata": {},
      "outputs": [],
      "source": [
        "len(a)"
      ],
      "id": "2c6970e0-8fb1-4a84-83ed-472855a3d956"
    },
    {
      "cell_type": "code",
      "execution_count": 66,
      "metadata": {},
      "outputs": [],
      "source": [
        "a.shape"
      ],
      "id": "189f7e43-adab-40c7-a26c-0086bb35d713"
    },
    {
      "cell_type": "code",
      "execution_count": 67,
      "metadata": {},
      "outputs": [
        {
          "output_type": "stream",
          "name": "stdout",
          "text": [
            "0.10617283591748639\n",
            "0.7237590624253404\n",
            "0.21798967912700873\n",
            "0.1940223087322443\n",
            "-0.6889899757985083\n",
            "-0.3516696436204985\n",
            "0.9909329773184973\n",
            "1.2121468150185186\n",
            "-0.6089654373693767\n",
            "0.03254898346416765"
          ]
        }
      ],
      "source": [
        "for value in a: \n",
        "    print(value)"
      ],
      "id": "c3764463-9ba4-4de8-a3d4-795404e4c3b0"
    },
    {
      "cell_type": "markdown",
      "metadata": {},
      "source": [
        "# pandas 공부 2단계\n",
        "\n",
        "`-` 데이터"
      ],
      "id": "6c28ed61-cf3d-4431-8c0a-956280116484"
    },
    {
      "cell_type": "code",
      "execution_count": 68,
      "metadata": {},
      "outputs": [],
      "source": [
        "np.random.seed(43052)\n",
        "att = np.random.choice(np.arange(10,21)*5,20)\n",
        "rep = np.random.choice(np.arange(5,21)*5,20)\n",
        "mid = np.random.choice(np.arange(0,21)*5,20)\n",
        "fin = np.random.choice(np.arange(0,21)*5,20)\n",
        "key = ['2022-12'+str(s) for s in np.random.choice(np.arange(300,501),20,replace=False)]"
      ],
      "id": "f32a956a-7ab3-4507-ae3f-ec540253602a"
    },
    {
      "cell_type": "code",
      "execution_count": 69,
      "metadata": {},
      "outputs": [],
      "source": [
        "df = pd.DataFrame({'att':att,'rep':rep,'mid':mid,'fin':fin},index=key)\n",
        "df.head()"
      ],
      "id": "a57f961b-4e90-4c85-8284-476a03042411"
    },
    {
      "cell_type": "markdown",
      "metadata": {},
      "source": [
        "## 열의 선택\n",
        "\n",
        "`-` 방법1: `df[]` + 칼럼이름, 칼럼이름의 list"
      ],
      "id": "c1da6159-5334-4b77-90e5-1568c531600d"
    },
    {
      "cell_type": "code",
      "execution_count": 87,
      "metadata": {},
      "outputs": [],
      "source": [
        "# df['att'] # 칼럼이름 \n",
        "# df[['att']] # 칼럼이름의 list \n",
        "# df[['att','rep']] # 칼럼이름의 list "
      ],
      "id": "1b7a5fa9"
    },
    {
      "cell_type": "markdown",
      "metadata": {},
      "source": [
        "`-` 방법2: `df.iloc[:,]` + 정수, 정수의 list, range, 슬라이싱,\n",
        "스트라이딩, bool의 list"
      ],
      "id": "48eabaef-16df-4391-83f7-0c51b7cecaf7"
    },
    {
      "cell_type": "code",
      "execution_count": 88,
      "metadata": {},
      "outputs": [],
      "source": [
        "# df.iloc[:,0] # 정수\n",
        "# df.iloc[:,[0]] # 정수의 list \n",
        "# df.iloc[:,[0,1]] # 정수의 list \n",
        "# df.iloc[:,range(2)] # range\n",
        "# df.iloc[:,-2:] # 슬라이싱\n",
        "# df.iloc[:,1::2] # 스트라이딩\n",
        "# df.iloc[:,[True,True,False,False]] # bool의 list "
      ],
      "id": "d9520919"
    },
    {
      "cell_type": "markdown",
      "metadata": {},
      "source": [
        "`-` 방법3: `df.loc[:,]` + 칼럼이름, 컬럼이름의 list, 칼럼이름으로\n",
        "슬라이싱($\\star$), 칼럼이름으로 스트라이딩($\\star$), bool의 list"
      ],
      "id": "dbef6e27-9ef2-498c-8073-d57e354ddbca"
    },
    {
      "cell_type": "code",
      "execution_count": 89,
      "metadata": {},
      "outputs": [],
      "source": [
        "# df.loc[:,'att'] # 칼럼이름\n",
        "# df.loc[:,['att']] # 칼럼이름의 list \n",
        "# df.loc[:,['att','rep']] # 칼럼이름의 list \n",
        "# df.loc[:,'rep':'mid'] # 칼럼이름으로 슬라이싱 \n",
        "# df.loc[:,'rep'::2] # 칼럼이름으로 스트라이딩\n",
        "# df.loc[:,[True,False,False,True]] # bool의 list"
      ],
      "id": "372a1c69"
    },
    {
      "cell_type": "markdown",
      "metadata": {},
      "source": [
        "## 행의 선택\n",
        "\n",
        "**여기서는 `df=중첩된list` 라고 생각해야 코드가 잘 읽힌다.**\n",
        "\n",
        "`-` 방법1: `df.iloc[]` + 정수, 정수의리스트, range, 슬라이싱,\n",
        "스트라이딩, bool의 list"
      ],
      "id": "9d877caf-1625-484a-ad26-248fe52888c3"
    },
    {
      "cell_type": "code",
      "execution_count": 75,
      "metadata": {},
      "outputs": [],
      "source": [
        "# df.iloc[0] # 정수 \n",
        "# df.iloc[[0]] # 정수의 list \n",
        "# df.iloc[[0,1]] # 정수의 list \n",
        "# df.iloc[range(2)] # range\n",
        "# df.iloc[-2:] # 슬라이싱\n",
        "# df.iloc[1::2] # 스트라이딩\n",
        "# df.iloc[[True]+[False]*19] # bool의 list \n",
        "# df.iloc[list(df['att']>70)] # bool의 list "
      ],
      "id": "1e4d6efc"
    },
    {
      "cell_type": "markdown",
      "metadata": {},
      "source": [
        "**여기서는 `df=2차원array`라고 생각해야 코드가 잘 읽힌다.**\n",
        "\n",
        "`-` 방법1: `df.iloc[,:]` + 정수, 정수의리스트, range, 슬라이싱,\n",
        "스트라이딩, bool의 list"
      ],
      "id": "0d51b44e-4da4-4d44-8707-8986cf40922e"
    },
    {
      "cell_type": "code",
      "execution_count": 76,
      "metadata": {},
      "outputs": [],
      "source": [
        "# df.iloc[0,:] # 정수 \n",
        "# df.iloc[[0],:] # 정수의 list \n",
        "# df.iloc[[0,1],:] # 정수의 list \n",
        "# df.iloc[range(2),:] # range\n",
        "# df.iloc[-2:,:] # 슬라이싱\n",
        "# df.iloc[1::2,:] # 스트라이딩\n",
        "# df.iloc[[True]+[False]*19,:] # bool의 list \n",
        "# df.iloc[list(df['att']>70),:] # bool의 list "
      ],
      "id": "9ab01095"
    },
    {
      "cell_type": "markdown",
      "metadata": {},
      "source": [
        "`-` 방법2: `df.loc[,:]` + 인덱스이름의 리스트, 인덱스이름으로\n",
        "슬라이싱($\\star$), 인덱스이름으로 스트라이딩($\\star$), bool의 list"
      ],
      "id": "c78c7666-a9fd-43d7-84fd-8154e92d19d1"
    },
    {
      "cell_type": "code",
      "execution_count": 77,
      "metadata": {},
      "outputs": [],
      "source": [
        "# df.loc['2022-12380',:] # 인덱스이름 \n",
        "# df.loc[['2022-12380','2022-12370'],:] # 인덱스이름의 리스트\n",
        "# df.loc['2022-12452':,:] # 인덱스이름으로 슬라이싱\n",
        "# df.loc['2022-12380'::3,:] # 인덱스이름으로 스트라이딩\n",
        "# df.loc[list(df['att']>70),:] # bool의 list \n",
        "# df.loc[df['att']>70,:] # bool의 list "
      ],
      "id": "1fe348b3"
    },
    {
      "cell_type": "markdown",
      "metadata": {},
      "source": [
        "## 안썼으면 좋겠는 코드\n",
        "\n",
        "`-` 제가 안쓰는 코드1:"
      ],
      "id": "01935f6e-d2fa-47ae-a29d-041b9ac5da2f"
    },
    {
      "cell_type": "code",
      "execution_count": 78,
      "metadata": {},
      "outputs": [],
      "source": [
        "df['2022-12380':'2022-12370']"
      ],
      "id": "53b21575-4783-4053-a4c7-b720724a9be5"
    },
    {
      "cell_type": "markdown",
      "metadata": {},
      "source": [
        "이러면 내 입장에서는 마치 아래가 동작할 것 같잖아.."
      ],
      "id": "1d6557fe-d89f-4a32-803f-ea5ab58b8c5f"
    },
    {
      "cell_type": "code",
      "execution_count": 79,
      "metadata": {},
      "outputs": [],
      "source": [
        "df['2022-12380']"
      ],
      "id": "4187a4b7-83b8-49e4-a469-32b633b854e3"
    },
    {
      "cell_type": "markdown",
      "metadata": {},
      "source": [
        "`-` 제가 안쓰는 코드2: bool의 list를 사용할때 iloc은 가급적 쓰지마세요"
      ],
      "id": "9f195e1c-e192-415e-bdc0-feb31edf3e87"
    },
    {
      "cell_type": "code",
      "execution_count": 83,
      "metadata": {},
      "outputs": [],
      "source": [
        "df.iloc[list(df['att']<80),:]"
      ],
      "id": "860eceda-6630-4e23-9433-458b40a82d50"
    },
    {
      "cell_type": "markdown",
      "metadata": {},
      "source": [
        "이러면 마치 아래도 동작할 것 같잖아.."
      ],
      "id": "e81bccaf-a4bd-44c5-b94a-66a2f10462a1"
    },
    {
      "cell_type": "code",
      "execution_count": 84,
      "metadata": {},
      "outputs": [],
      "source": [
        "df.iloc[df['att']<80,:]"
      ],
      "id": "14a17968-ddd3-4cad-8049-2e4f5aef884a"
    },
    {
      "cell_type": "markdown",
      "metadata": {},
      "source": [
        "`-` 참고: 맨날 틀리는 코드"
      ],
      "id": "c4a803b9-555e-4af6-9daa-97a4ba85fa76"
    },
    {
      "cell_type": "code",
      "execution_count": 86,
      "metadata": {},
      "outputs": [],
      "source": [
        "df.loc['att']"
      ],
      "id": "9e12c880-fe18-440b-93dc-9fe88648a98f"
    },
    {
      "cell_type": "markdown",
      "metadata": {},
      "source": [
        "# HW\n",
        "\n",
        "`(1)` 아래와 같은 데이터 프레임을 선언하라."
      ],
      "id": "d9acbd49-4ee2-43d3-b5fa-175ff4d64d5d"
    },
    {
      "cell_type": "code",
      "execution_count": 14,
      "metadata": {},
      "outputs": [],
      "source": [
        "from IPython.core.display import HTML \n",
        "HTML('<table border=\"1\" class=\"dataframe\">\\n  <thead>\\n    <tr style=\"text-align: right;\">\\n      <th></th>\\n      <th>A</th>\\n      <th>B</th>\\n    </tr>\\n  </thead>\\n  <tbody>\\n    <tr>\\n      <th>0</th>\\n      <td>1</td>\\n      <td>-2</td>\\n    </tr>\\n    <tr>\\n      <th>1</th>\\n      <td>2</td>\\n      <td>-3</td>\\n    </tr>\\n    <tr>\\n      <th>2</th>\\n      <td>3</td>\\n      <td>-4</td>\\n    </tr>\\n  </tbody>\\n</table>')"
      ],
      "id": "2f7bae7c-1cff-4ce3-8386-202b8fd96bce"
    },
    {
      "cell_type": "markdown",
      "metadata": {},
      "source": [
        "(풀이)"
      ],
      "id": "8c84a3b8-ab8b-4e53-be58-e3043146709c"
    },
    {
      "cell_type": "code",
      "execution_count": 54,
      "metadata": {},
      "outputs": [],
      "source": [
        "df = pd.DataFrame({'A':[1,2,3], 'B':[-2,-3,-4]})\n",
        "df"
      ],
      "id": "9be34f50-3b9c-4904-b49d-a9b302a37976"
    },
    {
      "cell_type": "markdown",
      "metadata": {},
      "source": [
        "`(2)` Column을 이름을 X1, X2로 변경하라. 출력결과는 아래와 같아야 한다."
      ],
      "id": "36274553-c05d-490c-9ee9-15440d20112b"
    },
    {
      "cell_type": "code",
      "execution_count": 16,
      "metadata": {},
      "outputs": [],
      "source": [
        "from IPython.core.display import HTML \n",
        "HTML('<table border=\"1\" class=\"dataframe\">\\n  <thead>\\n    <tr style=\"text-align: right;\">\\n      <th></th>\\n      <th>X1</th>\\n      <th>X2</th>\\n    </tr>\\n  </thead>\\n  <tbody>\\n    <tr>\\n      <th>0</th>\\n      <td>1</td>\\n      <td>-2</td>\\n    </tr>\\n    <tr>\\n      <th>1</th>\\n      <td>2</td>\\n      <td>-3</td>\\n    </tr>\\n    <tr>\\n      <th>2</th>\\n      <td>3</td>\\n      <td>-4</td>\\n    </tr>\\n  </tbody>\\n</table>')"
      ],
      "id": "a207bba6-d4aa-499f-96c5-0705d557b5ea"
    },
    {
      "cell_type": "markdown",
      "metadata": {},
      "source": [
        "(풀이)"
      ],
      "id": "3046e275-ce0b-476d-9daf-c95bc1c1fb71"
    },
    {
      "cell_type": "code",
      "execution_count": 55,
      "metadata": {},
      "outputs": [],
      "source": [
        "df.columns = pd.Index(['X1','X2'])\n",
        "df"
      ],
      "id": "8eaa97ca-5e4d-478d-ac8e-7c093cd72cfb"
    },
    {
      "cell_type": "markdown",
      "metadata": {},
      "source": [
        "`(3)-(5)` 아래와 같은 자료를 고려하자."
      ],
      "id": "9cfae627-c235-4d53-89fd-ddc1ba415fa8"
    },
    {
      "cell_type": "code",
      "execution_count": 56,
      "metadata": {},
      "outputs": [],
      "source": [
        "df = pd.DataFrame(np.random.normal(size=(100,5)),columns=list('ABCDE'))\n",
        "df"
      ],
      "id": "da1b084b-0a31-4a72-9b0d-93e6841f3543"
    },
    {
      "cell_type": "markdown",
      "metadata": {},
      "source": [
        "`(3)` B,D열을 선택하라.\n",
        "\n",
        "(풀이)"
      ],
      "id": "e5e6a3a3-c77f-4559-97ed-ad9634f09119"
    },
    {
      "cell_type": "code",
      "execution_count": 57,
      "metadata": {},
      "outputs": [],
      "source": [
        "df.loc[:,['B','D']]"
      ],
      "id": "432b2702-4331-480e-8da6-365af7eb7b56"
    },
    {
      "cell_type": "markdown",
      "metadata": {},
      "source": [
        "`(4)` 마지막 10개의 row를 출력하라.\n",
        "\n",
        "(풀이)"
      ],
      "id": "c794e355-3a31-44b5-baa5-4a6e053860c9"
    },
    {
      "cell_type": "code",
      "execution_count": 58,
      "metadata": {},
      "outputs": [],
      "source": [
        "df.iloc[-10:]"
      ],
      "id": "ebd8a9e0-762d-480c-934b-85c5b53f624a"
    },
    {
      "cell_type": "markdown",
      "metadata": {},
      "source": [
        "`(5)` A,B 열의 처음 10개의 row를 출력하라.\n",
        "\n",
        "(풀이)"
      ],
      "id": "9179eaae-9baf-4107-8ec3-6acf233616b0"
    },
    {
      "cell_type": "code",
      "execution_count": 60,
      "metadata": {},
      "outputs": [],
      "source": [
        "df.loc[:,['A','B']].iloc[:10]"
      ],
      "id": "ebc460fd-104b-499f-8113-e42971fad26e"
    },
    {
      "cell_type": "markdown",
      "metadata": {},
      "source": [
        "`(6)-(9)` 아래와 같은 자료를 고려하자."
      ],
      "id": "c6015bf7-6164-4c1c-ab64-a357d76382be"
    },
    {
      "cell_type": "code",
      "execution_count": 63,
      "metadata": {},
      "outputs": [],
      "source": [
        "df=pd.read_csv('https://raw.githubusercontent.com/PacktPublishing/Pandas-Cookbook/master/data/movie.csv')\n",
        "df"
      ],
      "id": "d58493a9-833e-48c5-81bf-4e07f8190dc7"
    },
    {
      "cell_type": "markdown",
      "metadata": {},
      "source": [
        "`(6)` 이 데이터프레임에는 몇개의 컬럼이 있는지 count하라.\n",
        "\n",
        "**hint**: df.columns의 len을 조사\n",
        "\n",
        "(풀이)"
      ],
      "id": "96e5dea6-5694-4a58-a53e-b3536f98cb3e"
    },
    {
      "cell_type": "code",
      "execution_count": 64,
      "metadata": {},
      "outputs": [],
      "source": [
        "len(df.columns)"
      ],
      "id": "d46faf99-8272-463c-9791-4063ece75d09"
    },
    {
      "cell_type": "markdown",
      "metadata": {},
      "source": [
        "`(7)` 데이터프레임의 컬럼이름이 c혹은 d로 시작하는 열은 몇개 있는지\n",
        "세어보라.\n",
        "\n",
        "**hint:** 아래의 코드를 관찰"
      ],
      "id": "bad94155-19ea-4ac9-8f38-4b804927629d"
    },
    {
      "cell_type": "code",
      "execution_count": 28,
      "metadata": {},
      "outputs": [],
      "source": [
        "lst = ['color', 'director_name', 'num_critic_for_reviews', 'duration'] \n",
        "[l for l in lst if l[0]=='c' or l[0]=='d']"
      ],
      "id": "b40a5e73-e630-4134-a2ca-3ab3633db8a7"
    },
    {
      "cell_type": "markdown",
      "metadata": {},
      "source": [
        "(풀이)"
      ],
      "id": "bf6cea15-e5e2-43cb-be66-9897e7bb62a6"
    },
    {
      "cell_type": "code",
      "execution_count": 67,
      "metadata": {},
      "outputs": [],
      "source": [
        "[l for l in df.columns if l[0]=='c' or l[0]=='d']"
      ],
      "id": "2b1fb859-95f0-4a64-9781-1af4a3a1df11"
    },
    {
      "cell_type": "code",
      "execution_count": 68,
      "metadata": {},
      "outputs": [],
      "source": [
        "len([l for l in df.columns if l[0]=='c' or l[0]=='d'])"
      ],
      "id": "34d20334-328b-419f-92ca-920a37b2e1ed"
    },
    {
      "cell_type": "markdown",
      "metadata": {},
      "source": [
        "`(8)` 이 데이터프레임에서 ’actor’라는 단어가 포함된 열이 몇개있는지\n",
        "세어보라.\n",
        "\n",
        "(풀이)"
      ],
      "id": "8de9d711-c618-4de9-89eb-b0a0de287a4e"
    },
    {
      "cell_type": "code",
      "execution_count": 70,
      "metadata": {},
      "outputs": [],
      "source": [
        "[l for l in df.columns if 'actor' in l]"
      ],
      "id": "a2575988-4527-4123-808a-bb5dd6cf11e8"
    },
    {
      "cell_type": "code",
      "execution_count": 72,
      "metadata": {},
      "outputs": [],
      "source": [
        "len([l for l in df.columns if 'actor' in l])"
      ],
      "id": "13ff878e-2f3d-46f4-a33d-76860a3da405"
    },
    {
      "cell_type": "markdown",
      "metadata": {},
      "source": [
        "`(9)` 이 데이터프레임에서 ’actor’라는 단어가 포함된 열을 출력하라.\n",
        "\n",
        "**hint**: 아래의 코드를 관찰하라."
      ],
      "id": "b8b1beb2-7cf6-48a0-9058-ffd210adcc31"
    },
    {
      "cell_type": "code",
      "execution_count": 39,
      "metadata": {},
      "outputs": [],
      "source": [
        "_df = pd.DataFrame(\n",
        "    np.random.randint(1,200,size=(100,2)),\n",
        "    columns=['director_facebook_likes', 'actor_3_facebook_likes']\n",
        ")\n",
        "_df"
      ],
      "id": "b486badb-d613-474b-bf71-c495e843156c"
    },
    {
      "cell_type": "code",
      "execution_count": 40,
      "metadata": {},
      "outputs": [],
      "source": [
        "_df.loc[:,['actor' in colname for colname in _df.columns]]"
      ],
      "id": "ecd31991-4ea5-4427-a5a2-7e69a6cb9331"
    },
    {
      "cell_type": "markdown",
      "metadata": {},
      "source": [
        "(풀이)"
      ],
      "id": "094a91f6-a30e-40ae-8fc7-189251b7ed75"
    },
    {
      "cell_type": "code",
      "execution_count": 81,
      "metadata": {},
      "outputs": [],
      "source": [
        "df.loc[:, ['actor' in l for l in df.columns]]"
      ],
      "id": "fda29dac-19ea-410e-84ef-68a44692fb70"
    }
  ],
  "nbformat": 4,
  "nbformat_minor": 5,
  "metadata": {
    "kernelspec": {
      "name": "python3",
      "display_name": "Python 3 (ipykernel)",
      "language": "python"
    },
    "language_info": {
      "name": "python",
      "codemirror_mode": {
        "name": "ipython",
        "version": "3"
      },
      "file_extension": ".py",
      "mimetype": "text/x-python",
      "nbconvert_exporter": "python",
      "pygments_lexer": "ipython3",
      "version": "3.8.16"
    }
  }
}