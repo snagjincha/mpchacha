{
  "cells": [
    {
      "cell_type": "markdown",
      "metadata": {},
      "source": [
        "# 참고자료: 2021-06-final\n",
        "\n",
        "최규빈  \n",
        "2021-06-06\n",
        "\n",
        "> 오픈 북, 2시간, 문제미리공개\n",
        "\n",
        "# 2021년 파이썬입문 기말고사 (풀이포함)\n",
        "\n",
        "### \\# 1. (20점)\n",
        "\n",
        "N사에서 게임유저들에게 여름방학 기념이벤트로 **진명왕의 집판검**이라는\n",
        "이름의 아이템을 선물했다고 하자. **진명왕의 집판검**은 총 5회에 걸쳐서\n",
        "강화(upgrade)될 수 있데 강화의 성공확률은 10%라고 하자. 강화가\n",
        "5번성공하면 더 이상 강화가 진행되지 않는다고 하자. (따라서 더 이상\n",
        "강화시도를 하지 않아도 무방하다) 아래는 이 아이템에 강화를 진행하였을때\n",
        "각 강화상태를 설명한 예시이다.\n",
        "\n",
        "| 시도횟수 | 강화성공여부 |  강화상태   | 비고                                |\n",
        "|:--------:|:------------:|:-----------:|:------------------------------------|\n",
        "|    1     |   강화실패   | +0 $\\to$ +0 | 강화실패로 인하여 강화상태 변화없음 |\n",
        "|    2     |   강화성공   | +0 $\\to$ +1 | 강화성공으로 인한 강화상태 변화     |\n",
        "|    3     |   강화실패   | +1 $\\to$ +1 | 강화실패로 인하여 강화상태 변화없음 |\n",
        "|    4     |   강화성공   | +1 $\\to$ +2 | 강화성공으로 인한 강화상태 변화     |\n",
        "|    5     |   강화성공   | +2 $\\to$ +3 | 강화성공으로 인한 강화상태 변화     |\n",
        "|    6     |   강화성공   | +3 $\\to$ +4 | 강화성공으로 인한 강화상태 변화     |\n",
        "|    7     |   강화실패   | +4 $\\to$ +4 | 강화실패로 인하여 강화상태 변화없음 |\n",
        "|    8     |   강화성공   | +4 $\\to$ +5 | 모든 강화 성공                      |\n",
        "|    9     |      \\-      | +5 $\\to$ +5 | 더 이상 강화시도 하지 않음          |\n",
        "|    10    |   $\\dots$    |   $\\dots$   | $\\dots$                             |\n",
        "\n",
        "강화는 하루에 한 번씩만 시도할 수 있으며 시도가능한 기간은 7월1일부터\n",
        "8월31일까지로 한정되어 있다고 하자. 따라서 방학동안 유저들은 총 62번\n",
        "시도를 할 수 있다. 방학이 끝난이후 100명 유저중 대략 몇명정도 +5\n",
        "강화상태에 있겠는가? 파이썬을 통한 시뮬레이션을 활용하여 추론하라. (단,\n",
        "+5강화에 성공하지 못한 모든 유저는 반드시 하루에 한번 강화를 시도해야\n",
        "한다고 가정하자.)\n",
        "\n",
        "(풀이1)"
      ],
      "id": "7f652ee2-2061-4215-bf29-e185b61d730a"
    },
    {
      "cell_type": "code",
      "execution_count": 1,
      "metadata": {},
      "outputs": [],
      "source": [
        "import numpy as np\n",
        "np.random.seed(1)\n",
        "sum(np.random.binomial(n=62, p=0.1, size=10000)>=5)/10000"
      ],
      "id": "533a1887-3dc4-4386-aee9-271cd8b5d905"
    },
    {
      "cell_type": "markdown",
      "metadata": {},
      "source": [
        "(풀이2)"
      ],
      "id": "6e1852a1-8c5c-4c80-8367-e83d983e0a0b"
    },
    {
      "cell_type": "code",
      "execution_count": 2,
      "metadata": {},
      "outputs": [],
      "source": [
        "class ExecutionSword():\n",
        "    def __init__(self,prob):\n",
        "        self.nuser=100000\n",
        "        self.prob=prob\n",
        "        self.attemptresult=None\n",
        "        self.upgradestate=pd.DataFrame({'day0':[0]*self.nuser})\n",
        "        self.failstate=pd.DataFrame({'day0':[0]*self.nuser})\n",
        "        self.ratio=0\n",
        "        self.day=0\n",
        "    def addday(self):\n",
        "        self.day=self.day+1            \n",
        "    def attempt(self):\n",
        "        self.attemptresult = np.random.binomial(n=1, p=self.prob, size=self.nuser)\n",
        "    def update(self):\n",
        "        # 강화상태 업데이트\n",
        "        self.upgradestate['day%s' % self.day] = np.minimum(5,self.upgradestate['day%s' % (self.day-1)]+self.attemptresult)\n",
        "        # 강화실패누적횟수 업데이트 \n",
        "        self.failstate['day%s' % self.day]=self.failstate['day%s' % (self.day-1)]+(self.attemptresult==0)*1\n",
        "        # 강화상태==5 or 강화상태==0 일 경우 강화실패누적횟수 초기화 \n",
        "        self.failstate['day%s' % self.day][self.upgradestate['day%s' % self.day]== 0]=0\n",
        "        self.failstate['day%s' % self.day][self.upgradestate['day%s' % self.day]== 5]=0\n",
        "    def reset(self):\n",
        "        # 실패횟수 = 2 인것을 찾아 index_ 에 저장 -> index_ 에 해당하는 유저의 강화횟수와 실패횟수를 모두 0으로 초기화 \n",
        "        index_= self.failstate['day%s' % self.day]==2\n",
        "        self.failstate['day%s' % self.day][index_] = 0\n",
        "        self.upgradestate['day%s' % self.day][index_] = 0\n",
        "    def arrangeprob(self):\n",
        "        self.ratio=sum(self.upgradestate['day%s' % self.day]==5) / self.nuser\n",
        "        if self.ratio > 0.5:\n",
        "            self.prob = 0.9"
      ],
      "id": "6f59c299-ab2e-478e-9bd1-58d36b3f729c"
    },
    {
      "cell_type": "code",
      "execution_count": 3,
      "metadata": {},
      "outputs": [],
      "source": [
        "# 1 \n",
        "import pandas as pd\n",
        "s1=ExecutionSword(0.1)\n",
        "for i in range(62):\n",
        "    s1.addday()\n",
        "    s1.attempt()\n",
        "    s1.update()"
      ],
      "id": "483aa5fd-f6fa-4af3-a871-490beb097b8e"
    },
    {
      "cell_type": "code",
      "execution_count": 4,
      "metadata": {},
      "outputs": [],
      "source": [
        "sum(s1.upgradestate.day62==5)/s1.nuser"
      ],
      "id": "06e5c909-381d-46a6-88d0-6d5cd25c5ea1"
    },
    {
      "cell_type": "markdown",
      "metadata": {},
      "source": [
        "### \\# 2. (70점)\n",
        "\n",
        "강화성공확률을 40%로 수정한다. 강화에 누적2회 실패하면 강화상태가 초기화\n",
        "된다고 하자. (따라서 강화실패 누적횟수를 카운트하는 변수가 필요하다) 단,\n",
        "강화실패 누적횟수는 누적2회 달성시 0으로 초기화 된다. 또한 강화상태가\n",
        "+0인 경우는 실패하여도 강화실패 누적횟수가 추가되지 않는다.\n",
        "\n",
        "| 시도횟수 | 강화성공여부 |  강화상태   | 강화실패누적 | 비고                             |\n",
        "|:--------:|:------------:|:-----------:|:------------:|:---------------------------------|\n",
        "|    1     |   강화성공   | +0 $\\to$ +1 |  0 $\\to$ 0   | \\-                               |\n",
        "|    2     |   강화성공   | +1 $\\to$ +2 |  0 $\\to$ 0   | \\-                               |\n",
        "|    3     |   강화실패   | +2 $\\to$ +2 |  0 $\\to$ 1   | \\-                               |\n",
        "|    4     |   강화성공   | +2 $\\to$ +3 |  1 $\\to$ 1   | \\-                               |\n",
        "|    5     |   강화실패   | +3 $\\to$ +0 |  1 $\\to$ 0   | 강화실패로 누적2회로 인한 초기화 |\n",
        "|    6     |   강화실패   | +0 $\\to$ +0 |  0 $\\to$ 0   | 강화실패 누적횟수 증가하지 않음  |\n",
        "|    7     |   강화성공   | +0 $\\to$ +1 |  0 $\\to$ 0   | \\-                               |\n",
        "|    8     |   강화성공   | +1 $\\to$ +2 |  0 $\\to$ 0   | \\-                               |\n",
        "|    9     |   강화성공   | +2 $\\to$ +3 |  0 $\\to$ 0   | \\-                               |\n",
        "|    10    |   강화성공   | +3 $\\to$ +4 |  0 $\\to$ 0   | \\-                               |\n",
        "|    11    |   강화성공   | +4 $\\to$ +5 |  0 $\\to$ 0   | 모든 강화 성공                   |\n",
        "|    12    |      \\-      | +5 $\\to$ +5 |  0 $\\to$ 0   | 더 이상 강화시도 하지 않음       |\n",
        "|    13    |   $\\dots$    |   $\\dots$   |   $\\dots$    | $\\dots$                          |\n",
        "\n",
        "`(1)` 이 경우 62일의 방학뒤에 100명의 유저중 대략 몇명정도 +5 강화상태에\n",
        "있겠는가? 시뮬레이션을 활용하여 추론하라. (단, +5강화에 성공하지 못한\n",
        "모든 유저는 반드시 하루에 한번 강화를 시도해야 한다고 가정하자.)\n",
        "\n",
        "`(2)` 31번째 시도 이후 대략 몇명의 유저가 +5 강화상태에 있겠는가?"
      ],
      "id": "4202ca6f-8419-4937-abd7-3b2d51ca81f3"
    },
    {
      "cell_type": "code",
      "execution_count": 5,
      "metadata": {},
      "outputs": [],
      "source": [
        "# 2-1,2 \n",
        "s2=ExecutionSword(0.4)"
      ],
      "id": "0eeb120f-3c17-4969-b63d-edab3c727930"
    },
    {
      "cell_type": "code",
      "execution_count": 6,
      "metadata": {},
      "outputs": [],
      "source": [
        "for i in range(62):\n",
        "    s2.addday()\n",
        "    s2.attempt()\n",
        "    s2.update()\n",
        "    s2.reset() ## 초기화가 되는 조건이 있으므로 문제1에서 reset함수만 추가하면 된다. "
      ],
      "id": "98a7c416-93dc-4876-8190-39e541dd0a98"
    },
    {
      "cell_type": "code",
      "execution_count": 7,
      "metadata": {},
      "outputs": [],
      "source": [
        "# 2-1\n",
        "sum(s2.upgradestate.day31==5)/s2.nuser"
      ],
      "id": "b3fe5901-8e4c-4faf-adcb-860dd446eed9"
    },
    {
      "cell_type": "code",
      "execution_count": 8,
      "metadata": {},
      "outputs": [],
      "source": [
        "# 2-2\n",
        "sum(s2.upgradestate.day62==5)/s2.nuser"
      ],
      "id": "f5df026d-3b96-4009-831a-69546b0815f1"
    },
    {
      "cell_type": "markdown",
      "metadata": {},
      "source": [
        "`(3)` 100명의 유저중 50명이상의 유저가 +5 강화상태에 도달하는 순간 모든\n",
        "유저의 강화성공확률을 90%로 증가시킨다고 하자. 62일의 방학뒤에 100명의\n",
        "유저 중 몇명 정도가 +5 강화상태에 있겠는가?"
      ],
      "id": "e1392be7-ef3a-40e2-8e40-65f9166f523f"
    },
    {
      "cell_type": "code",
      "execution_count": 9,
      "metadata": {},
      "outputs": [],
      "source": [
        "# 2-3 \n",
        "s3=ExecutionSword(0.4)"
      ],
      "id": "8fb3bedb-0af9-45eb-9c82-76255fe46037"
    },
    {
      "cell_type": "code",
      "execution_count": 10,
      "metadata": {},
      "outputs": [],
      "source": [
        "for i in range(62):\n",
        "    s3.addday()\n",
        "    s3.attempt()\n",
        "    s3.update()\n",
        "    s3.reset() ## 초기화가 되는 조건이 있으므로 reset함수 추가\n",
        "    s3.arrangeprob() ## 전체유저의 50%가 강화성공하면 강화확률이 조정되는 조건이 있으므로 arragneprob 추가 "
      ],
      "id": "7dbd6405-1ab3-48ab-9583-4cba8b763899"
    },
    {
      "cell_type": "code",
      "execution_count": 11,
      "metadata": {},
      "outputs": [],
      "source": [
        "sum(s3.upgradestate.day62==5)/s3.nuser"
      ],
      "id": "0e5623bc-aa2a-41d7-9a0b-974871bce6c4"
    }
  ],
  "nbformat": 4,
  "nbformat_minor": 5,
  "metadata": {
    "kernelspec": {
      "name": "python3",
      "display_name": "Python 3",
      "language": "python"
    },
    "language_info": {
      "name": "python",
      "codemirror_mode": {
        "name": "ipython",
        "version": "3"
      },
      "file_extension": ".py",
      "mimetype": "text/x-python",
      "nbconvert_exporter": "python",
      "pygments_lexer": "ipython3",
      "version": "3.7.15"
    },
    "widgets": {
      "application/vnd.jupyter.widget-state+json": {
        "state": {},
        "version_major": 2,
        "version_minor": 0
      }
    }
  }
}