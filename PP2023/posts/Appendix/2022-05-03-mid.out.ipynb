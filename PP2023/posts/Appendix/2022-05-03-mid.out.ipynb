{
  "cells": [
    {
      "cell_type": "markdown",
      "metadata": {},
      "source": [
        "# 참고자료: 2022-04-mid\n",
        "\n",
        "최규빈  \n",
        "2022-04-01\n",
        "\n",
        "> 오픈 북, 2시간, 문제유형만 공개\n",
        "\n",
        "# 2022년 파이썬 입문 중간고사 (풀이포함)\n",
        "\n",
        "> youtube:\n",
        "> <https://youtube.com/playlist?list=PLQqh36zP38-ylgm3-dn93yv2BCM7_8kFy>\n",
        "\n",
        "## `0`. imports\n",
        "\n",
        "아래코드를 이용하여 numpy 와 matplotlib을 import하라."
      ],
      "id": "53e90999-e49a-467c-b9f2-9e016346d8a0"
    },
    {
      "cell_type": "code",
      "execution_count": 1,
      "metadata": {},
      "outputs": [],
      "source": [
        "import numpy as np\n",
        "import matplotlib.pyplot as plt "
      ],
      "id": "e68f3290-9b58-4292-92e2-685778cfda3b"
    },
    {
      "cell_type": "markdown",
      "metadata": {},
      "source": [
        "## `1`. 코드구현 I (40점)\n",
        "\n",
        "**주의:** 문제에 조건이 있는 경우 조건을 준수할 것\n",
        "\n",
        "`(1)` a의 type을 bool로 바꾸어라."
      ],
      "id": "1c4f687b-d4a5-44cb-991e-76117912eb64"
    },
    {
      "cell_type": "code",
      "execution_count": 2,
      "metadata": {},
      "outputs": [],
      "source": [
        "a=1.0"
      ],
      "id": "5c7c7da0-a6d3-4b41-b597-e580e495bb48"
    },
    {
      "cell_type": "markdown",
      "metadata": {},
      "source": [
        "> note: 출제의도: 자료형의 변환\n",
        "\n",
        "(풀이)"
      ],
      "id": "4aa122d1-6ea1-43bd-9c31-f1241d1e0f7e"
    },
    {
      "cell_type": "code",
      "execution_count": 3,
      "metadata": {},
      "outputs": [],
      "source": [
        "bool(a)"
      ],
      "id": "6e104c00-d0e6-4b17-99fd-985a02a1d1e5"
    },
    {
      "cell_type": "markdown",
      "metadata": {},
      "source": [
        "------------------------------------------------------------------------\n",
        "\n",
        "**(2)-(6)**\n",
        "\n",
        "아래의 문자열을 고려하자."
      ],
      "id": "a0ff8a95-efe8-487d-8301-6258b4957924"
    },
    {
      "cell_type": "code",
      "execution_count": 4,
      "metadata": {},
      "outputs": [],
      "source": [
        "test_arr = 'ssh-rsa AAAAB3NzaC1yc2EAAAABIwAAAQEAklOUpkDHrfHY17SbrmTIpNLTGK9Tjom/BWDSUGPl+nafzlHDTYW7hdI4yZ5ew18JH4JW9jbhUFrviQzM7xlELEVf4h9lFX5QVkbPppSwg0cda3Pbv7kOdJ/MTyBlWXFCR+HAo3FXRitBqxiX1nKhXpHAZsMciLq8V6RjsNAQwdsdMFvSlVK/7XAt3FaoJoAsncM1Q9x5+3V0Ww68/eIFmb1zuUFljQJKprrX88XypNDvjYNby6vw/Pb0rwert/EnmZ+AW4OZPnTPI89ZPmVMLuayrD2cE86Z/il8b+gw3r3+1nKatmIkjn2so1d01QraTlMqVSsbxNrRFi9wrf+M7Q== schacon@mylaptop.local'"
      ],
      "id": "4d2b7f9d-b874-4477-87c7-a177c6faa648"
    },
    {
      "cell_type": "markdown",
      "metadata": {},
      "source": [
        "`(2)` 위 문자열에서 짝수번째 원소를 출력하는 코드를 작성하라.\n",
        "\n",
        "> note: 출제의도: 인덱싱, 스트라이딩\n",
        "\n",
        "(풀이)"
      ],
      "id": "4a34b957-4860-4160-9451-0c83780a4f5f"
    },
    {
      "cell_type": "code",
      "execution_count": 5,
      "metadata": {},
      "outputs": [],
      "source": [
        "test_arr[1::2]"
      ],
      "id": "bacc12db-4a88-43bd-b459-d6fdd95a83bf"
    },
    {
      "cell_type": "markdown",
      "metadata": {},
      "source": [
        "`(3)` 위 문자열에서 마지막 10개의 원소를 출력하는 코드를 작성하라.\n",
        "\n",
        "> note: 출제의도: -인덱싱\n",
        "\n",
        "(풀이)"
      ],
      "id": "25b875ff-3213-4cfd-8d2f-eafa8c22e0f8"
    },
    {
      "cell_type": "code",
      "execution_count": 6,
      "metadata": {},
      "outputs": [],
      "source": [
        "test_arr[-10:]"
      ],
      "id": "814a3e1e-afc5-4d4d-b826-57d098d946b5"
    },
    {
      "cell_type": "markdown",
      "metadata": {},
      "source": [
        "`(4)` 위 문자열을 뒤집은 문자열을 구하는 코드를 작성하라. 즉 아래를\n",
        "출력하는 코드를 작성하라.\n",
        "\n",
        "    'lacol.potpalym@nocahcs ==Q7M+frw9iFRrNxbsSVqMlTarQ10d1os2njkImtaKn1+3r3wg+b8li/Z68Ec2DryauLMVmPZ98IPTnPZO4WA+ZmnE/trewr0bP/wv6ybNYjvDNpyX88XrrpKJQjlFUuz1bmFIe/86wW0V3+5x9Q1McnsAoJoaF3tAX7/KVlSvFMdsdwQANsjR6V8qLicMsZAHpXhKn1XixqBtiRXF3oAH+RCFXWlByTM/JdOk7vbP3adc0gwSppPbkVQ5XFl9h4fVELElx7MzQivrFUhbj9WJ4HJ81we5Zy4Idh7WYTDHlzfan+lPGUSDWB/mojT9KGTLNpITmrbS71YHfrHDkpUOlkAEQAAAwIBAAAAE2cy1CazN3BAAAA asr-hss'\n",
        "\n",
        "> note: 출제의도: -1 스트라이딩\n",
        "\n",
        "(풀이)"
      ],
      "id": "496f0871-93b5-4625-9764-1637a9465b53"
    },
    {
      "cell_type": "code",
      "execution_count": 7,
      "metadata": {},
      "outputs": [],
      "source": [
        "test_arr[::-1]"
      ],
      "id": "cf63279f-28f0-4a3f-a123-a837ff838f68"
    },
    {
      "cell_type": "markdown",
      "metadata": {},
      "source": [
        "`(5)` 위 문자열에서 대문자의 수를 count하라.\n",
        "\n",
        "**hint** .isupper() 메소드를 이용할 것."
      ],
      "id": "58e50e1f-14c4-43be-b0bd-dca7b0e7ce78"
    },
    {
      "cell_type": "code",
      "execution_count": 9,
      "metadata": {},
      "outputs": [],
      "source": [
        "'a'.isupper()"
      ],
      "id": "f5ad493d-260d-44c8-89bc-44618391419c"
    },
    {
      "cell_type": "code",
      "execution_count": 10,
      "metadata": {},
      "outputs": [],
      "source": [
        "'A'.isupper()"
      ],
      "id": "8cde9d15-3112-4cac-a5ea-9c5022daa20d"
    },
    {
      "cell_type": "code",
      "execution_count": 11,
      "metadata": {},
      "outputs": [],
      "source": [
        "'='.isupper()"
      ],
      "id": "62835757-59d8-45ea-9de8-9321d3bf1f13"
    },
    {
      "cell_type": "code",
      "execution_count": 12,
      "metadata": {},
      "outputs": [],
      "source": [
        "'@'.isupper()"
      ],
      "id": "769098d8-aa32-4ef8-8960-985750740dcd"
    },
    {
      "cell_type": "markdown",
      "metadata": {},
      "source": [
        "> note: 출제의도: 리스트컴프리헨션, bool자료형의 sum\n",
        "\n",
        "(풀이)"
      ],
      "id": "366166b7-9ebe-4bd0-acce-23d327021812"
    },
    {
      "cell_type": "code",
      "execution_count": 8,
      "metadata": {},
      "outputs": [],
      "source": [
        "sum([s.isupper() for s in test_arr])"
      ],
      "id": "e803fb1e-6aa1-4d5d-a73e-612adc3f6dd2"
    },
    {
      "cell_type": "markdown",
      "metadata": {},
      "source": [
        "`(6)` 위 문자열에서 사용된 문자 및 특수문자의 종류는 모두 몇가지 인가?\n",
        "\n",
        "**note1:** 문자열 ‘AAB @ab’ 에서 사용된 문자는 ‘A’, ‘B’, ’ ‘,’@‘, ’a’,\n",
        "‘b’ 이므로 모두 6종류의 문자 및 특수문자가 사용되었다.\n",
        "\n",
        "**note2:** ’ ‘,’+‘,’-‘,’.’, ‘/’, ‘=’, ‘@’, ‘1’, ‘a’, ‘A’ 등을 모두 다른\n",
        "문자로 취급한다.\n",
        "\n",
        "> note: 출제의도: set 자료형의 이해\n",
        "\n",
        "(풀이)"
      ],
      "id": "dda167ca-4747-4099-b1d4-37550030f23c"
    },
    {
      "cell_type": "code",
      "execution_count": 13,
      "metadata": {},
      "outputs": [],
      "source": [
        "len(set(test_arr))"
      ],
      "id": "655d7c48-5c99-4acf-8ee3-f793b5a37050"
    },
    {
      "cell_type": "markdown",
      "metadata": {},
      "source": [
        "------------------------------------------------------------------------\n",
        "\n",
        "`(7)` 리스트컴프리헨션을 이용하여 아래와 같은 리스트를 생성하라\n",
        "\n",
        "    ['a',\n",
        "     'aa',\n",
        "     'aaa',\n",
        "     'aaaa',\n",
        "     'aaaaa',\n",
        "     'aaaaaa',\n",
        "     'aaaaaaa',\n",
        "     'aaaaaaaa',\n",
        "     'aaaaaaaaa',\n",
        "     'aaaaaaaaaa'] <- a가 10개있음 \n",
        "\n",
        "> note: 출제의도: 문자열의 `*` 연산, 리스트컴프리헨션\n",
        "\n",
        "(풀이)"
      ],
      "id": "da78eff8-2ee1-4074-bc80-5f9f4e92eebd"
    },
    {
      "cell_type": "code",
      "execution_count": 14,
      "metadata": {},
      "outputs": [],
      "source": [
        "['a'*i for i in range(1,11)]"
      ],
      "id": "884db730-d0ec-47dc-84f4-faacb5c7d168"
    },
    {
      "cell_type": "markdown",
      "metadata": {},
      "source": [
        "`(8)` 길이가 1인 튜플을 만들어 자신의 학번을 저장하라. 길이가 1인 튜플을\n",
        "만들어 자신의 영문이름을 저장하라. 두 튜플을 `+` 연산자로 합쳐아래와\n",
        "같은 출력결과를 얻어라.\n",
        "\n",
        "    (202143052,'guebin')\n",
        "\n",
        "> note: 출제의도: 튜플의 `+` 연산, 길이가 1인 튜플\n",
        "\n",
        "(풀이)"
      ],
      "id": "1addfa6c-5899-4bb4-8fdd-7feb9aa9c2ba"
    },
    {
      "cell_type": "code",
      "execution_count": 15,
      "metadata": {},
      "outputs": [],
      "source": [
        "a=(202143052,)\n",
        "b=('guebin',)\n",
        "a+b"
      ],
      "id": "8305de3c-b6f0-4249-b148-34d5ff4f1acb"
    },
    {
      "cell_type": "markdown",
      "metadata": {},
      "source": [
        "`(9)` 아래와 같은 list가 있다고 하자.\n",
        "\n",
        "``` python\n",
        "test_lst = [['g',1],['u',5],['e',2],['b',8],['i',2],['n',9]]\n",
        "```\n",
        "\n",
        "test_lst와 리스트컴프리헨션을 이용하여 아래를 출력하는 코드를 구현하라.\n",
        "\n",
        "    ['g', 'uuuuu', 'ee', 'bbbbbbbb', 'ii', 'nnnnnnnnn']\n",
        "\n",
        "> note: 출제의도: 스트링의 `+` 연산, 리스트 컴프리헨션\n",
        "\n",
        "(풀이)"
      ],
      "id": "3c7d5041-a8a4-45da-b7dc-5327356718a1"
    },
    {
      "cell_type": "code",
      "execution_count": 16,
      "metadata": {},
      "outputs": [],
      "source": [
        "test_lst = [['g',1],['u',5],['e',2],['b',8],['i',2],['n',9]]\n",
        "[i*j for i,j in test_lst]"
      ],
      "id": "46cc34f5-9078-4446-8388-2e0439b89f4b"
    },
    {
      "cell_type": "markdown",
      "metadata": {},
      "source": [
        "`(10)` 다음은 학생들의 출석,레포트,중간고사,기말고사 점수를 입력으로\n",
        "하여 학점을 계산하는 함수이다."
      ],
      "id": "7d3daed3-548b-4e37-b15c-b016ef53d47d"
    },
    {
      "cell_type": "code",
      "execution_count": 236,
      "metadata": {},
      "outputs": [],
      "source": [
        "def grade(attendance, report, mid, final): \n",
        "    if attendance<70: \n",
        "        credit = 'F' \n",
        "    else: \n",
        "        total_score = attendance * 0.1 + report * 0.2 + mid * 0.3 + final * 0.4 \n",
        "        if total_score > 80: \n",
        "            credit = 'A+' \n",
        "        else:\n",
        "            credit = 'B0' \n",
        "    return credit "
      ],
      "id": "4fa84c4d-e2e7-477c-9c0a-dbe8d967cb8b"
    },
    {
      "cell_type": "markdown",
      "metadata": {},
      "source": [
        "아래는 학생들의 학번, 출석점수, 레포트, 중간고사, 기말고사 점수가 입력된\n",
        "리스트이다."
      ],
      "id": "87e1ef32-2383-4d01-b97f-448f97368989"
    },
    {
      "cell_type": "code",
      "execution_count": 237,
      "metadata": {},
      "outputs": [],
      "source": [
        "data = [['202212345', [100,95,25,90]],\n",
        "        ['202212346', [60,90,95,95]],\n",
        "        ['202212347', [50,90,45,35]],\n",
        "        ['202212348', [90,90,50,75]],\n",
        "        ['202212349', [100,95,85,85]],\n",
        "        ['202212350', [90,90,100,95]],\n",
        "        ['202212351', [100,95,100,95]],\n",
        "        ['202212352', [95,85,80,60]],\n",
        "        ['202212353', [100,90,60,55]],\n",
        "        ['202212354', [100,85,70,95]],\n",
        "        ['202212355', [100,95,40,100]]]"
      ],
      "id": "9ad67ca4-bfb4-4dfc-a745-d78bab9c1d15"
    },
    {
      "cell_type": "markdown",
      "metadata": {},
      "source": [
        "아래의 ???를 적절하게 완성하여 학생들의 학점을 계산하는 코드를 완성하라.\n",
        "\n",
        "``` python\n",
        "[grade(???) for _, scores in data] \n",
        "```\n",
        "\n",
        "> note: 출제의도: dummy variable `_`, 언패킹연산자 `*`, for문과\n",
        "> 튜플언패킹, 리스트컴프리헨션\n",
        "\n",
        "(풀이)"
      ],
      "id": "d911ee99-38cb-4882-af2a-bb2e70c10c73"
    },
    {
      "cell_type": "code",
      "execution_count": 238,
      "metadata": {},
      "outputs": [],
      "source": [
        "[grade(*scores) for _, scores in data] "
      ],
      "id": "2b78d6dc-99f5-4259-8577-240b6305b4bc"
    },
    {
      "cell_type": "markdown",
      "metadata": {},
      "source": [
        "`(11)` 길이가 0인 문자열을 선언하라.\n",
        "\n",
        "> note: 출제의도: 길이가 0인 문자열\n",
        "\n",
        "(풀이)"
      ],
      "id": "0ebf97f9-7687-45aa-a124-077472ef0b87"
    },
    {
      "cell_type": "code",
      "execution_count": 239,
      "metadata": {},
      "outputs": [],
      "source": [
        "len('')"
      ],
      "id": "df1b5003-e2dc-47a2-abcd-8c0ef29a3653"
    },
    {
      "cell_type": "markdown",
      "metadata": {},
      "source": [
        "------------------------------------------------------------------------\n",
        "\n",
        "**(12)-(15)**\n",
        "\n",
        "`(12)` dir(plt)와 dir(np)를 각각 실행하라. 실행결과를 각각 a,b로\n",
        "저장하라. a,b의 type은 무엇인가?\n",
        "\n",
        "> note: 출제의도: type사용법\n",
        "\n",
        "(풀이)"
      ],
      "id": "97247e24-f0d5-44f7-adfc-b65c17bb33f5"
    },
    {
      "cell_type": "code",
      "execution_count": 251,
      "metadata": {},
      "outputs": [],
      "source": [
        "a=dir(plt)\n",
        "b=dir(np)\n",
        "type(a),type(b)"
      ],
      "id": "8045eaa1-046e-4daa-b886-53ff03136157"
    },
    {
      "cell_type": "markdown",
      "metadata": {},
      "source": [
        "`(13)` a의 원소와 b의 원소의 수를 각각 구하라.\n",
        "\n",
        "> note: 출제의도: len의 사용법 및 응용\n",
        "\n",
        "(풀이)"
      ],
      "id": "ffb65274-b710-4652-8be8-2001c47d8d1a"
    },
    {
      "cell_type": "code",
      "execution_count": 252,
      "metadata": {},
      "outputs": [],
      "source": [
        "len(a),len(b)"
      ],
      "id": "56caca8f-07ff-49e4-a42b-3aa7a78b7ae5"
    },
    {
      "cell_type": "markdown",
      "metadata": {},
      "source": [
        "`(14)` a와 b의 공통원소의 수를 구하라.\n",
        "\n",
        "> note: 출제의도: set에서 & 연산자 이용\n",
        "\n",
        "(풀이)"
      ],
      "id": "5b88f603-1eed-480a-aff3-6d893e336348"
    },
    {
      "cell_type": "code",
      "execution_count": 255,
      "metadata": {},
      "outputs": [],
      "source": [
        "len(set(a)&set(b))"
      ],
      "id": "9a5c2e33-b428-4d80-b3ef-7f383216ce04"
    },
    {
      "cell_type": "markdown",
      "metadata": {},
      "source": [
        "`(15)` a와 b의 원소를 합친 리스트를 만들어라. (공통원소는 중복하여\n",
        "합치지 않는다)\n",
        "\n",
        "> note: 출제의도: set에서 \\| 연산자 이용\n",
        "\n",
        "(풀이)"
      ],
      "id": "5cecf86e-cf16-4fcc-add1-eaef20a81572"
    },
    {
      "cell_type": "code",
      "execution_count": 256,
      "metadata": {},
      "outputs": [],
      "source": [
        "lst = list(set(a)|set(b))"
      ],
      "id": "bf21452f-59e1-401c-85e4-278d70356352"
    },
    {
      "cell_type": "markdown",
      "metadata": {},
      "source": [
        "------------------------------------------------------------------------\n",
        "\n",
        "**(16)-(18)** 아래와 같은 dictionary가 있다."
      ],
      "id": "e6c67a52-cd78-4292-9537-4c782c2f4449"
    },
    {
      "cell_type": "code",
      "execution_count": 25,
      "metadata": {},
      "outputs": [],
      "source": [
        "test_dic = {'202212345': {'att':100,'rep':95,'mid':25,'fin':90},\n",
        "            '202212346': {'att':60,'rep':90,'mid':95,'fin':95},\n",
        "            '202212347': {'att':50,'rep':90,'mid':45,'fin':35},\n",
        "            '202212348': {'att':90,'rep':90,'mid':50,'fin':75},\n",
        "            '202212349': {'att':100,'rep':95,'mid':85,'fin':85},\n",
        "            '202212350': {'att':90,'rep':90,'mid':100,'fin':95},\n",
        "            '202212351': {'att':100,'rep':95,'mid':100,'fin':95},\n",
        "            '202212352': {'att':95,'rep':85,'mid':80,'fin':60},\n",
        "            '202212353': {'att':100,'rep':90,'mid':60,'fin':55},\n",
        "            '202212354': {'att':100,'rep':85,'mid':70,'fin':95},\n",
        "            '202212355': {'att':100,'rep':95,'mid':40,'fin':100}}"
      ],
      "id": "97090998-b778-4d6d-aab5-5e9747c02209"
    },
    {
      "cell_type": "markdown",
      "metadata": {},
      "source": [
        "여기에서 `202212345`등은 학번을, att는 출석점수, rep는 레포트점수, mid는\n",
        "중간고사점수, fin은 기말고사 점수를 의미한다.\n",
        "\n",
        "`(16)` get 메소드를 이용하여 202212353에 해당하는 학생의 성적을 아래와\n",
        "같이 리턴하라.\n",
        "\n",
        "    {'att': 100, 'rep': 90, 'mid': 60, 'fin': 55}\n",
        "\n",
        "> note: 출제의도: 딕셔너리에서 get 메소드 이용\n",
        "\n",
        "(풀이)"
      ],
      "id": "b2b95082-8977-4d7b-a2aa-cf6b8efa9ff1"
    },
    {
      "cell_type": "code",
      "execution_count": 26,
      "metadata": {},
      "outputs": [],
      "source": [
        "test_dic.get('202212353')"
      ],
      "id": "b47c8520-3fc1-4946-bce8-21ee9cd7b0fc"
    },
    {
      "cell_type": "markdown",
      "metadata": {},
      "source": [
        "`(17)` 202212354의 레포트 점수를 리턴하라.\n",
        "\n",
        "> note: 출제의도: 딕셔너리에서 key를 이용한 원소추출\n",
        "\n",
        "(풀이)"
      ],
      "id": "62238e98-ea19-46a2-8de2-6bf5ac9acd1d"
    },
    {
      "cell_type": "code",
      "execution_count": 27,
      "metadata": {},
      "outputs": [],
      "source": [
        "test_dic['202212354']['rep']"
      ],
      "id": "a53fd0e3-decf-48c6-b7cd-efd661dda6b8"
    },
    {
      "cell_type": "markdown",
      "metadata": {},
      "source": [
        "`(18)` 학생들의 학번을 리턴하는 코드를 작성하라.\n",
        "\n",
        "> note: 출제의도: 딕셔너리와 for문\n",
        "\n",
        "(풀이)"
      ],
      "id": "36942b6e-2eae-4c5b-81fd-4c135f1460d7"
    },
    {
      "cell_type": "code",
      "execution_count": 28,
      "metadata": {},
      "outputs": [],
      "source": [
        "[k for k in test_dic]"
      ],
      "id": "fb659886-88a7-48f2-96ed-64f67e4dc3dd"
    },
    {
      "cell_type": "markdown",
      "metadata": {},
      "source": [
        "------------------------------------------------------------------------\n",
        "\n",
        "`(19)` shape이 ()인 numpy이 array를 만들어라. (즉 차원이 0인 np.array를\n",
        "만들어라)\n",
        "\n",
        "> note: 출제의도: 0차원인 numpy array\n",
        "\n",
        "(풀이)"
      ],
      "id": "cb558615-cce8-437f-8255-a7e8a03a16a5"
    },
    {
      "cell_type": "code",
      "execution_count": 42,
      "metadata": {},
      "outputs": [],
      "source": [
        "np.array(3).shape"
      ],
      "id": "8c7b10de-0ac2-4800-9121-a53e8a9210de"
    },
    {
      "cell_type": "markdown",
      "metadata": {},
      "source": [
        "`(20)` shape이 (2,2)인 단위행렬을 만들어라.\n",
        "\n",
        "> note: 출제의도: 넘파이에서의 배열선언\n",
        "\n",
        "(풀이)"
      ],
      "id": "479620df-8ce0-4348-b7ab-7f3abb0a4896"
    },
    {
      "cell_type": "code",
      "execution_count": 48,
      "metadata": {},
      "outputs": [],
      "source": [
        "np.array([[1,0],[0,1]])"
      ],
      "id": "05811668-0fea-4bc5-9ed1-5fe4e3941917"
    },
    {
      "cell_type": "markdown",
      "metadata": {},
      "source": [
        "`(21)` a의 모든 원소에 1을 더하는 코드를 작성하라.\n",
        "\n",
        "``` python\n",
        "a=[1,3,2,5,-3,3,8,2,3,1] \n",
        "```\n",
        "\n",
        "> note: 출제의도: 브로드캐스팅\n",
        "\n",
        "(풀이)"
      ],
      "id": "d2e33232-83a3-4111-b82b-7b23e988c593"
    },
    {
      "cell_type": "code",
      "execution_count": 49,
      "metadata": {},
      "outputs": [],
      "source": [
        "np.array([1,3,2,5,-3,3,8,2,3,1])+1"
      ],
      "id": "bec3e91b-ee03-42cd-baf0-8da2768d1731"
    },
    {
      "cell_type": "markdown",
      "metadata": {},
      "source": [
        "`(22)` 아래와 같은 수열을 생성하라.\n",
        "\n",
        "    1,3,6,10,15,21,28,36,45, ... , 378, 406, 435\n",
        "\n",
        "**hint:** 이 수열에서 $a_n-a_{n-1}=n, ~n\\geq 2$ 이다. 즉 3-1=2, 6-3=3,\n",
        "10-6=4, …\n",
        "\n",
        "> note: 출제의도: np.arange, cumsum\n",
        "\n",
        "(풀이)"
      ],
      "id": "e4d2c943-e532-4a4d-924b-bafed843e749"
    },
    {
      "cell_type": "code",
      "execution_count": 53,
      "metadata": {},
      "outputs": [],
      "source": [
        "435-406"
      ],
      "id": "da47e184-5b57-4f0d-8ac3-5e489a3e35b7"
    },
    {
      "cell_type": "code",
      "execution_count": 55,
      "metadata": {},
      "outputs": [],
      "source": [
        "np.arange(1,30).cumsum()"
      ],
      "id": "aa730b12-8856-45d2-a528-cd44cc133a41"
    },
    {
      "cell_type": "markdown",
      "metadata": {},
      "source": [
        "`(23)` 아래와 같은 수열을 생생성하라.\n",
        "\n",
        "    0,1,2,3,4,5,...,99 \n",
        "\n",
        "위의 수열에서 1,4,7,10,13,… 번째의 원소를 뽑아라. (첫번째 원소는 0이다)\n",
        "\n",
        "> note: 출제의도: np.arange, 스트라이딩\n",
        "\n",
        "(풀이)"
      ],
      "id": "9df6ebff-5928-46c5-bfc3-f443fecadd32"
    },
    {
      "cell_type": "code",
      "execution_count": 57,
      "metadata": {},
      "outputs": [],
      "source": [
        "np.arange(100)[::3]"
      ],
      "id": "978d5bc3-7878-4291-8b03-ccf7a000f963"
    },
    {
      "cell_type": "markdown",
      "metadata": {},
      "source": [
        "`(24)` numpy를 이용하여 아래의 역행렬을 구하라. $$\\begin{bmatrix}\n",
        "1&  0 \\\\\n",
        "0&  3\n",
        "\\end{bmatrix}$$\n",
        "\n",
        "> note: 출제의도: np.linalg.inv\n",
        "\n",
        "(풀이)"
      ],
      "id": "6f29473f-f7a1-4801-85f7-514fbabdbc2a"
    },
    {
      "cell_type": "code",
      "execution_count": 59,
      "metadata": {},
      "outputs": [],
      "source": [
        "np.linalg.inv(np.array([[1,0],[0,3]]))"
      ],
      "id": "6fd50a62-7d97-43aa-85b7-97e72aa8e8b0"
    },
    {
      "cell_type": "markdown",
      "metadata": {},
      "source": [
        "------------------------------------------------------------------------\n",
        "\n",
        "**(25)-(30)**\n",
        "\n",
        "a,b가 아래와 같이 주어졌다고 하자."
      ],
      "id": "8e65d79a-d149-438b-b311-23fe734cadbf"
    },
    {
      "cell_type": "code",
      "execution_count": 60,
      "metadata": {},
      "outputs": [],
      "source": [
        "a=[1]*10 \n",
        "b=[2]*10 "
      ],
      "id": "2f13b8f2-7f90-4ba3-8311-e30b9869172c"
    },
    {
      "cell_type": "markdown",
      "metadata": {},
      "source": [
        "`(25)` a,b와 np.concatenate를 이용하여 아래와 같은 배열을 만들어라.\n",
        "\n",
        "    array([1, 1, 1, 1, 1, 1, 1, 1, 1, 1, 2, 2, 2, 2, 2, 2, 2, 2, 2, 2])\n",
        "\n",
        "> note: 출제의도: np.concatenate\n",
        "\n",
        "(풀이)"
      ],
      "id": "454da3f3-4e59-41d6-a875-7b32db08bd4c"
    },
    {
      "cell_type": "code",
      "execution_count": 62,
      "metadata": {},
      "outputs": [],
      "source": [
        "np.concatenate([a,b])"
      ],
      "id": "8f6f285c-ec6c-4d7a-9150-96a9ddf9c831"
    },
    {
      "cell_type": "markdown",
      "metadata": {},
      "source": [
        "`(26)` a,b와 np.concatenate를 이용하여 아래와 같은 배열을 만들어라.\n",
        "\n",
        "    array([[1],\n",
        "           [1],\n",
        "           [1],\n",
        "           [1],\n",
        "           [1],\n",
        "           [1],\n",
        "           [1],\n",
        "           [1],\n",
        "           [1],\n",
        "           [1],\n",
        "           [2],\n",
        "           [2],\n",
        "           [2],\n",
        "           [2],\n",
        "           [2],\n",
        "           [2],\n",
        "           [2],\n",
        "           [2],\n",
        "           [2],\n",
        "           [2]])\n",
        "\n",
        "> note: 출제의도: np.concatenate\n",
        "\n",
        "(풀이)"
      ],
      "id": "b466fc89-0ece-4e95-86fa-f5effb350a07"
    },
    {
      "cell_type": "code",
      "execution_count": 67,
      "metadata": {},
      "outputs": [],
      "source": [
        "np.concatenate([np.array(a).reshape(-1,1),np.array(b).reshape(-1,1)])"
      ],
      "id": "49203328-3190-4e4a-83e0-b3905a8b5613"
    },
    {
      "cell_type": "markdown",
      "metadata": {},
      "source": [
        "`(27)` a,b와 np.concatenate를 이용하여 아래와 같은 배열을 만들어라.\n",
        "\n",
        "    array([[1, 1, 1, 1, 1, 1, 1, 1, 1, 1],\n",
        "           [2, 2, 2, 2, 2, 2, 2, 2, 2, 2]]\n",
        "\n",
        "> note: 출제의도: np.concatenate\n",
        "\n",
        "(풀이)"
      ],
      "id": "76a498e4-b1f6-4147-8e15-6a26425c66e6"
    },
    {
      "cell_type": "code",
      "execution_count": 68,
      "metadata": {},
      "outputs": [],
      "source": [
        "np.concatenate([np.array(a).reshape(1,-1),np.array(b).reshape(1,-1)])"
      ],
      "id": "61ca5ab8-0614-436e-a3f8-97ad879895e7"
    },
    {
      "cell_type": "markdown",
      "metadata": {},
      "source": [
        "`(28)` a,b와 np.concatenate를 이용하여 아래와 같은 배열을 만들어라.\n",
        "\n",
        "    array([[1, 2],\n",
        "           [1, 2],\n",
        "           [1, 2],\n",
        "           [1, 2],\n",
        "           [1, 2],\n",
        "           [1, 2],\n",
        "           [1, 2],\n",
        "           [1, 2],\n",
        "           [1, 2],\n",
        "           [1, 2]])\n",
        "\n",
        "> note: 출제의도: np.concatenate\n",
        "\n",
        "(풀이)"
      ],
      "id": "c5e84faf-cad5-422e-b7a6-4b091748146a"
    },
    {
      "cell_type": "code",
      "execution_count": 69,
      "metadata": {},
      "outputs": [],
      "source": [
        "np.concatenate([np.array(a).reshape(-1,1),np.array(b).reshape(-1,1)],axis=1)"
      ],
      "id": "ddd58345-2f73-4aff-ba69-54827449aa48"
    },
    {
      "cell_type": "markdown",
      "metadata": {},
      "source": [
        "`(29)` a,b와 np.stack을 이용하여 아래와 같은 배열을 만들어라.\n",
        "\n",
        "    array([[1, 1, 1, 1, 1, 1, 1, 1, 1, 1],\n",
        "           [2, 2, 2, 2, 2, 2, 2, 2, 2, 2]]\n",
        "\n",
        "(풀이)"
      ],
      "id": "354e4e5f-5b53-4d0f-ae68-a7cd58b6680f"
    },
    {
      "cell_type": "code",
      "execution_count": 70,
      "metadata": {},
      "outputs": [],
      "source": [
        "np.stack([a,b])"
      ],
      "id": "b5cf0532-42a3-45f5-96e1-ff859bb28281"
    },
    {
      "cell_type": "markdown",
      "metadata": {},
      "source": [
        "> note: 출제의도: np.stack\n",
        "\n",
        "`(30)` a,b와 np.stack을 이용하여 아래와 같은 배열을 만들어라.\n",
        "\n",
        "    array([[1, 2],\n",
        "           [1, 2],\n",
        "           [1, 2],\n",
        "           [1, 2],\n",
        "           [1, 2],\n",
        "           [1, 2],\n",
        "           [1, 2],\n",
        "           [1, 2],\n",
        "           [1, 2],\n",
        "           [1, 2]])\n",
        "\n",
        "> note: 출제의도: np.stack\n",
        "\n",
        "(풀이)"
      ],
      "id": "5ef719fc-2c5c-489a-8623-159200529a65"
    },
    {
      "cell_type": "code",
      "execution_count": 72,
      "metadata": {},
      "outputs": [],
      "source": [
        "np.stack([a,b],axis=1)"
      ],
      "id": "584bd855-8d9f-462b-bb6a-0ad4ac2533f6"
    },
    {
      "cell_type": "markdown",
      "metadata": {},
      "source": [
        "`(31)` 아래와 같은 배열이 있다고 하자."
      ],
      "id": "33bfd0ec-ac25-49a9-8696-9ccce8cf8cf6"
    },
    {
      "cell_type": "code",
      "execution_count": 242,
      "metadata": {},
      "outputs": [],
      "source": [
        "a=np.array([1,2,3,4,5])\n",
        "b=np.array([3,2,1,1,2])"
      ],
      "id": "3739403e-6e96-49e6-bdda-44e3eef1925c"
    },
    {
      "cell_type": "markdown",
      "metadata": {},
      "source": [
        "numpy의 `@` 연산자를 이용하여 $\\sum_{i=1}^{5}a_ib_i$를 계산하라.\n",
        "\n",
        "> note: 출제의도: @연산자의 계산 및 해석\n",
        "\n",
        "(풀이)"
      ],
      "id": "70319661-644b-4818-a8ff-8ec5501f0a24"
    },
    {
      "cell_type": "code",
      "execution_count": 243,
      "metadata": {},
      "outputs": [],
      "source": [
        "a@b"
      ],
      "id": "82e8dace-6c23-43e8-933a-68a8ad6c92f3"
    },
    {
      "cell_type": "markdown",
      "metadata": {},
      "source": [
        "`(32)` 아래와 같은 배열을 생성하라.\n",
        "\n",
        "``` python\n",
        "x=np.random.randn(100)\n",
        "```\n",
        "\n",
        "numpy의 `@`연산자를 이용하여 $\\sum_{i=1}^{100}x_i^2$을 계산하라.\n",
        "\n",
        "> note: 출제의도: @연산자의 계산 및 해석\n",
        "\n",
        "(풀이)"
      ],
      "id": "f7cf8aae-258a-40b1-9f8f-e91d53c42716"
    },
    {
      "cell_type": "code",
      "execution_count": 74,
      "metadata": {},
      "outputs": [],
      "source": [
        "x=np.random.randn(100)\n",
        "x@x"
      ],
      "id": "b0faad8a-8aa1-4fb3-b358-0d5e3bdbb497"
    },
    {
      "cell_type": "markdown",
      "metadata": {},
      "source": [
        "`(33)` 아래와 같은 배열을 생성하라.\n",
        "\n",
        "``` python\n",
        "a=np.array([1/100]*100)\n",
        "x=np.random.randn(100)\n",
        "```\n",
        "\n",
        "numpy의 `@`연산자를 이용하여 $\\frac{1}{n}\\sum_{i=1}^{n}x_i$를 계산하라.\n",
        "\n",
        "> note: 출제의도: @연산자의 계산 및 해석\n",
        "\n",
        "(풀이)"
      ],
      "id": "f230d400-aa16-4e00-937b-e319b63f7056"
    },
    {
      "cell_type": "code",
      "execution_count": 244,
      "metadata": {},
      "outputs": [],
      "source": [
        "a=np.array([1/100]*100)\n",
        "x=np.random.randn(100)\n",
        "a@x"
      ],
      "id": "b82c827a-0a47-4595-95fb-b2598e1db82a"
    },
    {
      "cell_type": "markdown",
      "metadata": {},
      "source": [
        "`(34)` 표준정규분포에서 100개의 난수를 생성하라.\n",
        "\n",
        "> note: 출제의도: 표준정규분포 생성\n",
        "\n",
        "(풀이)"
      ],
      "id": "2081f237-a045-44f4-a76f-3f70381ef6e0"
    },
    {
      "cell_type": "code",
      "execution_count": 80,
      "metadata": {},
      "outputs": [],
      "source": [
        "np.random.randn(100)"
      ],
      "id": "f6a6ce85-6d7e-49e7-bbd9-5ea9b8e78e67"
    },
    {
      "cell_type": "markdown",
      "metadata": {},
      "source": [
        "`(35)` 아래와 동일한 코드를 np.random.rand()로 구현하라.\n",
        "\n",
        "``` python\n",
        "np.random.uniform(low=2,high=4,size=(5,)) \n",
        "```\n",
        "\n",
        "> note: 출제의도: np.random.rand, np.random.uniform\n",
        "\n",
        "(풀이)"
      ],
      "id": "4f13479e-d3e6-4e75-8a3a-0a9e5f3326f9"
    },
    {
      "cell_type": "code",
      "execution_count": 84,
      "metadata": {},
      "outputs": [],
      "source": [
        "np.random.rand(5)*2+2"
      ],
      "id": "bd436ad8-0d3d-4ae2-a451-09ca2cf8a5e3"
    },
    {
      "cell_type": "markdown",
      "metadata": {},
      "source": [
        "`(36)` 아래와 같은 배열을 선언하라.\n",
        "\n",
        "``` python\n",
        "a=np.random.randn(100) \n",
        "```\n",
        "\n",
        "np.where를 이용하여 a의 모든 음수를 0으로 바꾸는 코드를 작성하라.\n",
        "\n",
        "> note: 출제의도: np.where 을 이용한 마스킹\n",
        "\n",
        "(풀이)"
      ],
      "id": "f54cbcd4-4b46-441c-9106-cfa7f1349d93"
    },
    {
      "cell_type": "code",
      "execution_count": 92,
      "metadata": {},
      "outputs": [],
      "source": [
        "a=np.random.randn(100)\n",
        "np.where(a<0,0,a)"
      ],
      "id": "4e338778-93a2-4854-861f-b53b5ee1988d"
    },
    {
      "cell_type": "markdown",
      "metadata": {},
      "source": [
        "`(37)` 아래와 같은 배열을 선언하라.\n",
        "\n",
        "``` python\n",
        "a=np.random.randn(100) \n",
        "```\n",
        "\n",
        "위 배열의 최소값이 위치한 index를 return하라.\n",
        "\n",
        "> note: 출제의도: np.where\n",
        "\n",
        "(풀이)"
      ],
      "id": "706d0359-3c91-4ea0-b422-e39d3d69805a"
    },
    {
      "cell_type": "code",
      "execution_count": 96,
      "metadata": {},
      "outputs": [],
      "source": [
        "a=np.random.randn(100)\n",
        "np.where(a==np.min(a))"
      ],
      "id": "91d2aa3b-b576-4eff-921a-188eb3b658dd"
    },
    {
      "cell_type": "markdown",
      "metadata": {},
      "source": [
        "`(38)` 아래와 같은 배열을 선언하라."
      ],
      "id": "22c7c8ec-9715-4a7d-890d-f71ec1c41ef4"
    },
    {
      "cell_type": "code",
      "execution_count": 97,
      "metadata": {},
      "outputs": [],
      "source": [
        "a=np.arange(12).reshape(3,4)\n",
        "a"
      ],
      "id": "d6dcb080-1d71-4a33-a7f1-c9707c2d5771"
    },
    {
      "cell_type": "markdown",
      "metadata": {},
      "source": [
        "차원의 수를 유지하면서 1열을 추출하는 코드를 작성하라. 즉 결과가 아래와\n",
        "같이 나오도록 하라.\n",
        "\n",
        "    array([[0],\n",
        "           [4],\n",
        "           [8]])\n",
        "\n",
        "> note: 출제의도: 차원을 유지하는 인덱싱\n",
        "\n",
        "(풀이)"
      ],
      "id": "1903c5d1-4b0b-43e6-b7c9-a95146cdd76a"
    },
    {
      "cell_type": "code",
      "execution_count": 99,
      "metadata": {},
      "outputs": [],
      "source": [
        "a[:,[0]]"
      ],
      "id": "48da5e0a-e695-4167-9d5b-ab4c3322eba4"
    },
    {
      "cell_type": "markdown",
      "metadata": {},
      "source": [
        "**(39)-(40)**\n",
        "\n",
        "`(39)` 자신의 학번으로 random seed 를 설정하라. \\[20,25)의 범위에서\n",
        "100개의 정수를 랜덤으로 생성해 (10,10) shape의 배열을 만들어라.\n",
        "\n",
        "> note: 출제의도: np.random.randint\n",
        "\n",
        "(풀이)"
      ],
      "id": "5577c06c-55c9-45d0-861d-b233d6eeb017"
    },
    {
      "cell_type": "code",
      "execution_count": 103,
      "metadata": {},
      "outputs": [],
      "source": [
        "np.random.seed(43052)\n",
        "a=np.random.randint(low=20,high=25,size=(10,10))"
      ],
      "id": "6c404d36-a6c4-4c07-ba35-7246d442646c"
    },
    {
      "cell_type": "markdown",
      "metadata": {},
      "source": [
        "`(40)` 39의 결과에서 20,21,22 는 각각 몇개씩 있는가?\n",
        "\n",
        "> note: 출제의도: bool형의 sum\n",
        "\n",
        "(풀이)"
      ],
      "id": "91d3db49-553c-4f90-86aa-c95e71223e14"
    },
    {
      "cell_type": "code",
      "execution_count": 108,
      "metadata": {},
      "outputs": [],
      "source": [
        "np.sum(a==20),np.sum(a==21),np.sum(a==22)"
      ],
      "id": "037e3616-7996-4cd3-809b-d78aee41b457"
    },
    {
      "cell_type": "markdown",
      "metadata": {},
      "source": [
        "## `2`. 코드구현 II (50점)\n",
        "\n",
        "------------------------------------------------------------------------\n",
        "\n",
        "**(1)-(6)** 아래의 코드를 실해하여 test_dic를 생성하라."
      ],
      "id": "da98ebf6-88da-4be2-aab9-baceeb500070"
    },
    {
      "cell_type": "code",
      "execution_count": 245,
      "metadata": {},
      "outputs": [],
      "source": [
        "np.random.seed(43052)\n",
        "att = np.random.choice(np.arange(10,21)*5,200)\n",
        "rep = np.random.choice(np.arange(5,21)*5,200)\n",
        "mid = np.random.choice(np.arange(0,21)*5,200)\n",
        "fin = np.random.choice(np.arange(0,21)*5,200)\n",
        "key = ['202212'+str(s) for s in np.random.choice(np.arange(300,501),200,replace=False)]\n",
        "test_dic = {key[i] : {'att':att[i], 'rep':rep[i], 'mid':mid[i], 'fin':fin[i]} for i in range(200)}\n",
        "del(att);del(rep);del(mid);del(fin);del(key)"
      ],
      "id": "3617a71a-717e-4612-8ae1-118854f405b1"
    },
    {
      "cell_type": "markdown",
      "metadata": {},
      "source": [
        "여기에서 `202212345`등은 학번을, att는 출석점수, rep는 레포트점수, mid는\n",
        "중간고사점수, fin은 기말고사 점수를 의미한다.\n",
        "\n",
        "`(1)` test_dic에서 출석점수가 70이상(70\\>=)인 학생들의 학번을 출력하는\n",
        "코드를 작성하라.\n",
        "\n",
        "> note: 출제의도: if문이 포함된 리스트컴프리헨션, for문과 딕셔너리\n",
        "\n",
        "(풀이)"
      ],
      "id": "38351c80-46e5-46f1-bb32-6133b2dd3f55"
    },
    {
      "cell_type": "code",
      "execution_count": 113,
      "metadata": {},
      "outputs": [],
      "source": [
        "ids= [k for k in test_dic if test_dic[k]['att']>=70]"
      ],
      "id": "0d044362-4cd2-4245-844f-ae76ae3b8bad"
    },
    {
      "cell_type": "markdown",
      "metadata": {},
      "source": [
        "`(2)` test_dic에서 출석점수가 70미만(\\<70)인 학생들의 수를 구하라.\n",
        "\n",
        "> note: 출제의도: if문이 포함된 리스트컴프리헨션, for문과 딕셔너리\n",
        "\n",
        "(풀이)"
      ],
      "id": "a130bcf2-bfae-4171-9c5b-36ac8ad6d3bc"
    },
    {
      "cell_type": "code",
      "execution_count": 114,
      "metadata": {},
      "outputs": [],
      "source": [
        "len([k for k in test_dic if test_dic[k]['att']<70])"
      ],
      "id": "61b1da37-170f-4b8a-8dd9-6c36527f51ae"
    },
    {
      "cell_type": "code",
      "execution_count": 116,
      "metadata": {},
      "outputs": [],
      "source": [
        "sum([test_dic[k]['att']<70 for k in test_dic])"
      ],
      "id": "0f696a24-5d91-4e31-80b7-0eb003c548a6"
    },
    {
      "cell_type": "markdown",
      "metadata": {},
      "source": [
        "`(3)` test_dic에서 출석점수가 70이상(70\\>=)인 학생들의 중간고사 점수의\n",
        "평균을 계산하라.\n",
        "\n",
        "> note: 출제의도: if문이 포함된 리스트컴프리헨션, for문과 딕셔너리\n",
        "\n",
        "(풀이)"
      ],
      "id": "59b95ad0-6819-403f-9ca3-c44f15e2877f"
    },
    {
      "cell_type": "code",
      "execution_count": 120,
      "metadata": {},
      "outputs": [],
      "source": [
        "np.mean([test_dic[k]['mid'] for k in test_dic if test_dic[k]['att']>=70])"
      ],
      "id": "83ef4e71-3365-4db4-b416-34054e13677c"
    },
    {
      "cell_type": "markdown",
      "metadata": {},
      "source": [
        "`(4)` test_dic에서 중간고사 점수를 출력하는 코드를 작성하라.\n",
        "\n",
        "> note: 출제의도: 리스트컴프리헨션, for문과 딕셔너리\n",
        "\n",
        "(풀이)"
      ],
      "id": "115ea12d-dd56-400c-bd2b-59af03474759"
    },
    {
      "cell_type": "code",
      "execution_count": 134,
      "metadata": {},
      "outputs": [],
      "source": [
        "mid=[test_dic[k]['mid'] for k in test_dic]"
      ],
      "id": "59bfd176-19da-4467-8493-6ccbe6aa0b2b"
    },
    {
      "cell_type": "markdown",
      "metadata": {},
      "source": [
        "`(5)` test_dic에서 중간고사 점수의 표준편차와 레포트점수의 표준편차를\n",
        "구하여라. 어떤것이 더 큰가?\n",
        "\n",
        "> note: 출제의도: 리스트컴프리헨션, for문과 딕셔너리, np.std\n",
        "\n",
        "(풀이)"
      ],
      "id": "3e3636ef-fe77-4405-8275-1288b90d4f35"
    },
    {
      "cell_type": "code",
      "execution_count": 135,
      "metadata": {},
      "outputs": [],
      "source": [
        "np.std([test_dic[k]['mid'] for k in test_dic]),np.std([test_dic[k]['rep'] for k in test_dic])"
      ],
      "id": "88fe0aa2-08f9-4fd6-9b57-76e86279f6fd"
    },
    {
      "cell_type": "markdown",
      "metadata": {},
      "source": [
        "`(6)` test_dic에서 중간고사 점수가 가장 높은 사람의 학번을 출력하라.\n",
        "\n",
        "**주의:** att,rep,mid,fin,key를 실행하여 소멸시키지 않고 그대로\n",
        "이용하거나 np.random.choice()를 이용하여 재생성한 뒤 계산할 경우 0점\n",
        "처리함. - 예를들면 (5)의 경우 np.std(mid), np.std(rep) 와 같은 식으로\n",
        "구현하면 0점 처리함.\n",
        "\n",
        "> note: 출제의도: 리스트컴프리헨션, for문과 딕셔너리\n",
        "\n",
        "(풀이)"
      ],
      "id": "8b7a4b06-e34d-4d89-8941-e65c97077730"
    },
    {
      "cell_type": "code",
      "execution_count": 136,
      "metadata": {},
      "outputs": [],
      "source": [
        "[k for k in test_dic if test_dic[k]['mid']==max(mid)]"
      ],
      "id": "43ef5667-614a-40b1-a3ae-5ed71f4b76de"
    },
    {
      "cell_type": "markdown",
      "metadata": {},
      "source": [
        "------------------------------------------------------------------------\n",
        "\n",
        "`(7)` 성공확률이 0.45인 시행이 있다고 하자. 이 시행을 100번의 시행하였을\n",
        "경우 73번 이상 성공할 확률은 얼마인가? 시뮬레이션을 이용하여\n",
        "근사계산하라.\n",
        "\n",
        "> note: 출제의도: np.random.binomial, bool형의 합\n",
        "\n",
        "(풀이)"
      ],
      "id": "e2ad6b11-4e85-471d-8c49-bf018727b3a8"
    },
    {
      "cell_type": "code",
      "execution_count": 148,
      "metadata": {},
      "outputs": [],
      "source": [
        "sum(np.random.binomial(n=100,p=0.45,size=(1000,)) >= 73)"
      ],
      "id": "99f2774b-d52f-487d-951c-96e0572e2530"
    },
    {
      "cell_type": "markdown",
      "metadata": {},
      "source": [
        "`(8)` 성공확률이 0.45인 시행이 있다고 하자. 이 시행을 100번 시행하였을\n",
        "경우 10번이하로 실패하거나 90번이상 성공할 확률은 얼마인가? 시뮬레이션을\n",
        "이용하여 근사계산하라.\n",
        "\n",
        "> note: 출제의도: np.random.binomial, bool형의 합\n",
        "\n",
        "(풀이)"
      ],
      "id": "e31f922e-06b5-4000-a1f6-1a94cb1778d7"
    },
    {
      "cell_type": "code",
      "execution_count": 258,
      "metadata": {},
      "outputs": [],
      "source": [
        "a=np.random.binomial(n=100,p=0.45,size=(1000,))\n",
        "sum((a>=90) | (a<=10))"
      ],
      "id": "492ac55c-5e9c-47cf-9820-371017093b2f"
    },
    {
      "cell_type": "code",
      "execution_count": 261,
      "metadata": {},
      "outputs": [],
      "source": [
        "sum(a>=90) + sum(a<=10) # 이것도 좋은 풀이"
      ],
      "id": "c173cb0f-822b-448b-af0a-cdd88484330a"
    },
    {
      "cell_type": "markdown",
      "metadata": {},
      "source": [
        "`(9)` 아래와 같은 행렬을 선언하자."
      ],
      "id": "d70422f6-b329-46f7-9a96-1a95b030f3aa"
    },
    {
      "cell_type": "code",
      "execution_count": 153,
      "metadata": {},
      "outputs": [],
      "source": [
        "A=np.arange(2*1).reshape(2,1)\n",
        "B=np.arange(2*2).reshape(2,2)\n",
        "C=np.arange(2*3).reshape(2,3)\n",
        "D=np.arange(3*3).reshape(3,3)\n",
        "E=np.arange(3*2).reshape(3,2)\n",
        "F=np.arange(3*1).reshape(3,1)"
      ],
      "id": "4f0af62e-2ee3-456f-a6e9-ec4e79395a2a"
    },
    {
      "cell_type": "markdown",
      "metadata": {},
      "source": [
        "아래의 블락매트릭스를 만들어라.\n",
        "\n",
        "$\\begin{bmatrix} a_{11} & b_{11} & b_{12} & c_{11} & c_{12} & c_{13} \\\\ a_{21} & b_{21} & b_{22} & c_{21} & c_{22} & c_{23} \\\\ d_{11} & d_{12} & d_{13} & e_{11} & e_{12} & f_{11} \\\\ d_{21} & d_{22} & d_{23} & e_{21} & e_{22} & f_{21} \\\\ d_{31} & d_{32} & d_{33} & e_{31} & e_{32} & f_{31} \\end{bmatrix}$\n",
        "\n",
        "여기에서 $a_{ij}$는 매트릭스 ${\\bf A}$의 원소이다.\n",
        "\n",
        "> note: 출제의도: np.concatenate\n",
        "\n",
        "(풀이)"
      ],
      "id": "f124354d-f3f3-4aa8-8f8e-91a7f43a1b62"
    },
    {
      "cell_type": "code",
      "execution_count": 159,
      "metadata": {},
      "outputs": [],
      "source": [
        "top = np.concatenate([A,B,C],axis=1)\n",
        "bottom = np.concatenate([D,E,F],axis=1)\n",
        "np.concatenate([top,bottom],axis=0)"
      ],
      "id": "42e81d22-fa99-4dd1-9f20-8efc5e6e9520"
    },
    {
      "cell_type": "markdown",
      "metadata": {},
      "source": [
        "`(10)` 표준정규분포에 10000개의 난수를 아래와 같이 생성하라."
      ],
      "id": "b5b28cb6-d514-43ba-ab63-b7f31791b6f2"
    },
    {
      "cell_type": "code",
      "execution_count": 160,
      "metadata": {},
      "outputs": [],
      "source": [
        "x=np.random.randn(10000)\n",
        "y=np.random.randn(10000)"
      ],
      "id": "2a7412c2-c068-4fe3-bca1-79afe7b3e684"
    },
    {
      "cell_type": "markdown",
      "metadata": {},
      "source": [
        "$(i,j)$ 번째 원소가 $(x_i-y_j)^2$인 (10000,10000) 매트릭스를 만들어라.\n",
        "\n",
        "> note: 출제의도: 브로드캐스팅\n",
        "\n",
        "(풀이)"
      ],
      "id": "feb00c17-7003-4a46-80f1-01137f2031aa"
    },
    {
      "cell_type": "code",
      "execution_count": 163,
      "metadata": {},
      "outputs": [],
      "source": [
        "(x.reshape(10000,1) - y.reshape(1,10000))**2"
      ],
      "id": "9b8494b4-5246-4199-b947-fd0be15c3927"
    },
    {
      "cell_type": "markdown",
      "metadata": {},
      "source": [
        "------------------------------------------------------------------------\n",
        "\n",
        "**(11)-(16)**\n",
        "\n",
        "아래와 같은 매트릭스를 생성하라."
      ],
      "id": "04e888c2-abdd-48d0-88f6-259a38e08e32"
    },
    {
      "cell_type": "code",
      "execution_count": 174,
      "metadata": {},
      "outputs": [],
      "source": [
        "np.random.seed(43052)\n",
        "a=np.random.randn(10000).reshape(100,100)\n",
        "a"
      ],
      "id": "502f7f9b-0b3b-49ee-bfb1-a7a7a6cbb6c3"
    },
    {
      "cell_type": "markdown",
      "metadata": {},
      "source": [
        "`(11)` 각 행의 합을 구하라. 즉 1행의 합, 2행의 합, … 100행의 합을\n",
        "계산하라. - 1행의합 = 0.38342049 + 1.0841745 + … + 1.18701443\n",
        "\n",
        "> note: 출제의도: np.sum with axis\n",
        "\n",
        "(풀이)"
      ],
      "id": "b9f394be-6893-41c0-8862-f7054735fd2a"
    },
    {
      "cell_type": "code",
      "execution_count": 175,
      "metadata": {},
      "outputs": [],
      "source": [
        "a.sum(axis=1)"
      ],
      "id": "ccc6cacf-f64c-45ff-9384-8874a992968e"
    },
    {
      "cell_type": "markdown",
      "metadata": {},
      "source": [
        "`(12)` `(11)`의 결과로 나온 배열의 표준편차를 구하라.\n",
        "\n",
        "> note: 출제의도: np.sum with axis, np.std\n",
        "\n",
        "(풀이)"
      ],
      "id": "11137914-c384-48c5-b727-baf1392b5a4a"
    },
    {
      "cell_type": "code",
      "execution_count": 178,
      "metadata": {},
      "outputs": [],
      "source": [
        "a.sum(axis=1).std()"
      ],
      "id": "05d7488d-a233-48d2-9543-6710b422a764"
    },
    {
      "cell_type": "markdown",
      "metadata": {},
      "source": [
        "`(13)` 각 열의 평균을 구하라. 즉 1열의 평균, 2열의 평균, … , 100열의\n",
        "평균을 계산하라.\n",
        "\n",
        "> note: 출제의도: np.sum with axis\n",
        "\n",
        "(풀이)"
      ],
      "id": "6ac24f46-5319-4433-a630-cd43bef498bb"
    },
    {
      "cell_type": "code",
      "execution_count": 180,
      "metadata": {},
      "outputs": [],
      "source": [
        "a.sum(axis=0)"
      ],
      "id": "bbd89e8e-27be-4e54-b36a-589be92fcfca"
    },
    {
      "cell_type": "markdown",
      "metadata": {},
      "source": [
        "`(14)` `(13)`의 결과로 나온 배열의 표준편차를 구하라.\n",
        "\n",
        "> note: 출제의도: np.sum with axis, np.std\n",
        "\n",
        "(풀이)"
      ],
      "id": "94eeb028-fb9a-46d1-b40d-17386b5b20d9"
    },
    {
      "cell_type": "code",
      "execution_count": 181,
      "metadata": {},
      "outputs": [],
      "source": [
        "a.sum(axis=0).std()"
      ],
      "id": "98443b2c-7036-4d21-96e0-9ef50b287807"
    },
    {
      "cell_type": "markdown",
      "metadata": {},
      "source": [
        "`(15)` a의 원소중 a\\>0 을 만족하는 원소의 평균을 구하여라.\n",
        "\n",
        "> note: 출제의도: bool을 이용한 인덱싱\n",
        "\n",
        "(풀이)"
      ],
      "id": "d71d9731-c8d0-4f6b-b802-71d8fc1e054c"
    },
    {
      "cell_type": "code",
      "execution_count": 183,
      "metadata": {},
      "outputs": [],
      "source": [
        "a[a>0].mean()"
      ],
      "id": "c7ef620c-670d-4591-8009-39acb6c1375b"
    },
    {
      "cell_type": "markdown",
      "metadata": {},
      "source": [
        "`(16)` a의 원소중 a\\>3을 만족하는 원소의 수를 count하라.\n",
        "\n",
        "> note: 출제의도: bool의 sum\n",
        "\n",
        "(풀이)"
      ],
      "id": "a7080057-7a3a-4ee5-b416-ecb600e92d69"
    },
    {
      "cell_type": "code",
      "execution_count": 187,
      "metadata": {},
      "outputs": [],
      "source": [
        "np.sum(a>3)"
      ],
      "id": "5452e6a6-7d68-4c02-9e76-2256ce5fd57b"
    },
    {
      "cell_type": "markdown",
      "metadata": {},
      "source": [
        "------------------------------------------------------------------------\n",
        "\n",
        "**(17)-(18)**\n",
        "\n",
        "아래와 같은 배열 a를 고려하자."
      ],
      "id": "80436014-99c6-407a-9dec-643947369752"
    },
    {
      "cell_type": "code",
      "execution_count": 188,
      "metadata": {},
      "outputs": [],
      "source": [
        "np.random.seed(43052)\n",
        "a=np.random.binomial(1,0.2,size=(10000,))\n",
        "a"
      ],
      "id": "8f1efaa7-4943-438d-b184-e08862280265"
    },
    {
      "cell_type": "markdown",
      "metadata": {},
      "source": [
        "`(17)` 0에서 1로 바뀌는 부분을 count하라.\n",
        "\n",
        "> note: 출제의도: np.diff 응용\n",
        "\n",
        "(풀이)"
      ],
      "id": "c5770c0e-0198-4fd4-9db0-74ecc2c4f44b"
    },
    {
      "cell_type": "code",
      "execution_count": 190,
      "metadata": {},
      "outputs": [],
      "source": [
        "np.sum(np.diff(a)==1)"
      ],
      "id": "12525160-485d-42be-961a-164753f26927"
    },
    {
      "cell_type": "markdown",
      "metadata": {},
      "source": [
        "`(18)` 1에서 0으로 바뀌는 부분을 count하라.\n",
        "\n",
        "**\\[예시\\]** 아래의 배열에서 0에서 1로 부분은 모두 세 군데이고, 1에서\n",
        "0으로 바뀌는 부분은 모두 두 군데 이다.\n",
        "\n",
        "    0 0 0 1 0 1 0 0 0 1 1 1 \n",
        "\n",
        "> note: 출제의도: np.diff 응용\n",
        "\n",
        "(풀이)"
      ],
      "id": "e647be36-7f0e-4f78-851e-1bfe78f3519b"
    },
    {
      "cell_type": "code",
      "execution_count": 191,
      "metadata": {},
      "outputs": [],
      "source": [
        "np.sum(np.diff(a)==-1)"
      ],
      "id": "f541bcc9-bcd1-47b3-bcda-e7ca80423ca1"
    },
    {
      "cell_type": "markdown",
      "metadata": {},
      "source": [
        "------------------------------------------------------------------------\n",
        "\n",
        "**(19)-(25)**\n",
        "\n",
        "`(19)` $i=1,2,\\dots,1000$에 대하여 아래를 각각 구하라.\n",
        "\n",
        "$$x_i= \\cos(t_i)+\\cos(3t_i)+\\cos(5t_i)$$\n",
        "\n",
        "$$y_i= \\sin(t_i)+\\sin(4t_i)$$\n",
        "\n",
        "여기에서 $t_i=\\frac{2\\pi i }{1000}$ 이다.\n",
        "\n",
        "> note: 출제의도: numpy를 이용한 수식표현\n",
        "\n",
        "(풀이)"
      ],
      "id": "1f14b54a-a2ae-45c5-a4b9-c3d735e37eb3"
    },
    {
      "cell_type": "code",
      "execution_count": 196,
      "metadata": {},
      "outputs": [],
      "source": [
        "i=np.arange(1,1001)\n",
        "t=i*2*np.pi/1000\n",
        "x=np.cos(t)+np.cos(3*t)+np.cos(5*t) \n",
        "y=np.sin(t)+np.sin(4*t) "
      ],
      "id": "a5c89c12-37d8-4df2-ba09-f2f43bd2a660"
    },
    {
      "cell_type": "markdown",
      "metadata": {},
      "source": [
        "`(20)` $(x_i,y_i)$를 그려라.\n",
        "\n",
        "> note: 출제의도: plt.plot\n",
        "\n",
        "(풀이)"
      ],
      "id": "644b814d-7f5c-4719-8e86-0587e08dd1c3"
    },
    {
      "cell_type": "code",
      "execution_count": 197,
      "metadata": {},
      "outputs": [
        {
          "output_type": "display_data",
          "metadata": {},
          "data": {
            "image/png": "[encoded data removed]"
          }
        }
      ],
      "source": [
        "plt.plot(x,y)"
      ],
      "id": "65370c60-3150-47eb-b622-c30ab68ffd85"
    },
    {
      "cell_type": "markdown",
      "metadata": {},
      "source": [
        "`(21)` 아래와 같은 변환을 통하여 $(w_i,z_i)$를 얻어라.\n",
        "\n",
        "$$w_i= \\frac{1}{\\sqrt{2}}x_i - \\frac{1}{\\sqrt{2}}y_i$$\n",
        "\n",
        "$$z_i= \\frac{1}{\\sqrt{2}}x_i + \\frac{1}{\\sqrt{2}}y_i$$\n",
        "\n",
        "$(w_i,z_i)$를 시각화 하라.\n",
        "\n",
        "> note: 출제의도: numpy를 이용한 연산, plt.plot\n",
        "\n",
        "(풀이)"
      ],
      "id": "aa16ad7a-cbc5-4c0c-a730-4b658609d08c"
    },
    {
      "cell_type": "code",
      "execution_count": 198,
      "metadata": {},
      "outputs": [
        {
          "output_type": "display_data",
          "metadata": {},
          "data": {
            "image/png": "[encoded data removed]"
          }
        }
      ],
      "source": [
        "w = 1/np.sqrt(2)*x -  1/np.sqrt(2)*y\n",
        "z = 1/np.sqrt(2)*x +  1/np.sqrt(2)*y\n",
        "plt.plot(w,z)"
      ],
      "id": "aa3adff3-5c0c-4961-8d1d-2481af5b8a2d"
    },
    {
      "cell_type": "markdown",
      "metadata": {},
      "source": [
        "`(22)` 아래와 같은 매트릭스를 만들어라.\n",
        "\n",
        "$${\\bf A}=\\begin{bmatrix}\n",
        "x_1 & y_1 \\\\\n",
        "x_2 & y_2 \\\\ \n",
        "\\dots & \\dots \\\\ \n",
        "x_n & y_n \n",
        "\\end{bmatrix}$$\n",
        "\n",
        "> note: 출제의도: np.stack\n",
        "\n",
        "(풀이)"
      ],
      "id": "59ae0ad6-c4db-4bc7-a4dc-aa332fe3cee2"
    },
    {
      "cell_type": "code",
      "execution_count": 217,
      "metadata": {},
      "outputs": [],
      "source": [
        "A=np.stack([x,y]).T\n",
        "A"
      ],
      "id": "ed64eae8-0750-4444-b769-e8218bb6f60c"
    },
    {
      "cell_type": "code",
      "execution_count": 218,
      "metadata": {},
      "outputs": [],
      "source": [
        "A=np.stack([x,y],axis=1)\n",
        "A"
      ],
      "id": "ce34cb3e-abf0-4284-88c6-559864047e03"
    },
    {
      "cell_type": "markdown",
      "metadata": {},
      "source": [
        "`(23)` ${\\bf A} {\\bf B}$의 첫번째 열과 두번째 열을 시각화한 결과가\n",
        "$(w_i,z_i)$과 동일하도록 적당한 (2,2) 매트릭스 ${\\bf B}$를 만들어라.\n",
        "\n",
        "> note: 출제의도: 행렬의 수식표현, 행렬의 곱\n",
        "\n",
        "(풀이)"
      ],
      "id": "95292fa4-c947-4fb0-8885-d91864ce59fe"
    },
    {
      "cell_type": "code",
      "execution_count": 226,
      "metadata": {},
      "outputs": [
        {
          "output_type": "display_data",
          "metadata": {},
          "data": {
            "image/png": "[encoded data removed]"
          }
        }
      ],
      "source": [
        "B= np.array([[1/np.sqrt(2), 1/np.sqrt(2)],[-1/np.sqrt(2), 1/np.sqrt(2)]])\n",
        "#B= np.array([[1, 1],[-1, 1]])/np.sqrt(2)\n",
        "plt.plot(A@B[:,0],A@B[:,1])"
      ],
      "id": "5fcc1b5b-25f8-4ea6-bdfc-f6d686aa10fa"
    },
    {
      "cell_type": "markdown",
      "metadata": {},
      "source": [
        "`(24)` ${\\bf A}{\\bf B}^2$의 첫번째 열과 두번째 열을 시각화 하라.\n",
        "\n",
        "> note: 출제의도: 행렬의 곱\n",
        "\n",
        "(풀이)"
      ],
      "id": "c2c7e2e1-b4a5-424b-8460-d26ce9d70434"
    },
    {
      "cell_type": "code",
      "execution_count": 227,
      "metadata": {},
      "outputs": [
        {
          "output_type": "display_data",
          "metadata": {},
          "data": {
            "image/png": "[encoded data removed]"
          }
        }
      ],
      "source": [
        "plt.plot((A@B@B)[:,0],(A@B@B)[:,1])"
      ],
      "id": "b4fd19b9-27d1-4484-9af1-59c99ac73f9f"
    },
    {
      "cell_type": "markdown",
      "metadata": {},
      "source": [
        "`(25)` $n=3,4,5,6,\\dots$ 에 대하여 ${\\bf A}{\\bf B}^n$을 반복적으로\n",
        "그려보라. $(x_i,y_i)$의 시각화 결과와 동일한 가장 작은 $n$은 얼마인가?\n",
        "$(w_i,z_i)$의 시각화 결과와 동일한 가장 작은 $n$은 얼마인가?\n",
        "\n",
        "> note: 출제의도: 회전변환의 유추, 역행렬의 개념응용\n",
        "\n",
        "(풀이)"
      ],
      "id": "d56c7fc9-5d1e-48bb-8b09-f5169c202752"
    },
    {
      "cell_type": "code",
      "execution_count": 228,
      "metadata": {},
      "outputs": [
        {
          "output_type": "display_data",
          "metadata": {},
          "data": {
            "image/png": "[encoded data removed]"
          }
        }
      ],
      "source": [
        "plt.plot((A@B@B@B)[:,0],(A@B@B@B)[:,1]) ## n=3"
      ],
      "id": "e800f6e7-a771-4edd-bcaf-e0bd7cc9731e"
    },
    {
      "cell_type": "code",
      "execution_count": 229,
      "metadata": {},
      "outputs": [
        {
          "output_type": "display_data",
          "metadata": {},
          "data": {
            "image/png": "[encoded data removed]"
          }
        }
      ],
      "source": [
        "plt.plot((A@B@B@B@B)[:,0],(A@B@B@B@B)[:,1]) ## n=4"
      ],
      "id": "cfc076f8-a1fd-4196-8f72-4d8dd888fa30"
    },
    {
      "cell_type": "code",
      "execution_count": 231,
      "metadata": {},
      "outputs": [],
      "source": [
        "(B@B)@(B@B)@(B@B)@(B@B)"
      ],
      "id": "db38dd93-c425-4343-96e5-fb5d5759f063"
    },
    {
      "cell_type": "code",
      "execution_count": 232,
      "metadata": {},
      "outputs": [],
      "source": [
        "(B@B)@(B@B)@(B@B)@(B@B)@B"
      ],
      "id": "f2a0e9b2-4a79-4227-8bb1-96cc971fd55c"
    },
    {
      "cell_type": "markdown",
      "metadata": {},
      "source": [
        "-   답: $(x_i,y_i)$의 시각화 결과와 동일한 가장 작은 $n=8$ 이고\n",
        "    $(w_i,z_i)$의 시각화 결과와 동일한 가장 작은 $n=9$ 이다.\n",
        "\n",
        "------------------------------------------------------------------------\n",
        "\n",
        "## `3`. 다음을 잘 읽고 물음에 답하라. (10점)\n",
        "\n",
        "`(1)` 아래는 python을 설치하는 방법을 소개한 url 이다. 직접 url에\n",
        "들어가서 설치하는 방법을 읽어보고 곤이, 철용, 아귀, 짝귀 중 옳은말을 한\n",
        "사람을 모두 골라라.\n",
        "\n",
        "-   <https://www.pythonlikeyoumeanit.com/Module1_GettingStartedWithPython/Installing_Python.html>\n",
        "\n",
        "**(곤이)** 해당 방법은 아나콘다를 이용하여 파이썬을 설치하는 방법이다.\n",
        "\n",
        "~~**(철용)** 그래서 이 방법으로는 가상환경을 만들 수 없겠군.~~\n",
        "\n",
        "**(아귀)** 위 url에 제시된 방법으로 설치하면 주피터가 자동설치 된다.\n",
        "\n",
        "~~**(짝귀)** 따라서 위의 방법으로 설치하면 IDE는 주피터만 사용할 수\n",
        "있다.~~\n",
        "\n",
        "> note: 출제의도: 아나콘다를 이용한 설치\n",
        "\n",
        "`(2)` 곤이는 1부터 10까지의 합을 구하는 코드를 작성하기 위하여 아래와\n",
        "같이 `mysum.py` 파일을 만들었다.\n",
        "\n",
        "``` python\n",
        "## mysum.py\n",
        "total = 0 \n",
        "for i in range(1,11): \n",
        "    total = total + i\n",
        "print(total)\n",
        "```\n",
        "\n",
        "곤이의 컴퓨터는 윈도우이며 아니콘다를 이용해 파이썬을 설치하였다고\n",
        "가정한다. 다음중 옳은 설명을 한 사람을 모두 고르라.\n",
        "\n",
        "~~**(곤이)** mysum.py를 실행하기 위해서는 anaconda prompt 에서\n",
        "mysum.py가 위치한 폴더로 이동한 뒤 %run mysum.py 를 실행하면 된다.~~\n",
        "\n",
        "**(철용)** anaconda prompt 에서 mysum.py가 위치한 폴더로 이동한 뒤\n",
        "ipython을 실행하고 %run mysum.py을 실행해도 된다.\n",
        "\n",
        "**(아귀)** 철용의 방법에서 %run mysum.py 대신에 !python mysum.py를 쳐도\n",
        "동작한다.\n",
        "\n",
        "~~**(짝귀)** 하지만 다른 가상환경을 만들 경우 철용과 아귀의 방법으로\n",
        "실행할 수 없다는 단점이 있다.~~\n",
        "\n",
        "> note: 출제의도: \\*.py 의 사용방법"
      ],
      "id": "d927f88d-09ad-4865-a4f6-9a1576e44efd"
    }
  ],
  "nbformat": 4,
  "nbformat_minor": 5,
  "metadata": {
    "kernelspec": {
      "name": "python3",
      "display_name": "Python 3",
      "language": "python"
    },
    "language_info": {
      "name": "python",
      "codemirror_mode": {
        "name": "ipython",
        "version": "3"
      },
      "file_extension": ".py",
      "mimetype": "text/x-python",
      "nbconvert_exporter": "python",
      "pygments_lexer": "ipython3",
      "version": "3.8.16"
    }
  }
}