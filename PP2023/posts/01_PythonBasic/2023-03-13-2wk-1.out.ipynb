{
  "cells": [
    {
      "cell_type": "markdown",
      "metadata": {},
      "source": [
        "# 02wk-1: 파이썬의 자료형 (2)\n",
        "\n",
        "최규빈  \n",
        "2023-03-13\n",
        "\n",
        "<a href=\"https://colab.research.google.com/github/guebin/PP2023/blob/main/posts/01_PythonBasic/2023-03-13-2wk-1.ipynb\"><img src=\"https://colab.research.google.com/assets/colab-badge.svg\" style=\"text-align: left\"></a>\n",
        "\n",
        "# 강의영상\n",
        "\n",
        "> <https://youtube.com/playlist?list=PLQqh36zP38-xyfFAJpOK00B4fIn6UQggd>\n",
        "\n",
        "# 강의노트의 저장 및 정리\n",
        "\n",
        "`1`. website에 들어가서 강의노트를 pdf 혹은 html 파일로 변환한다.\n",
        "\n",
        "-   강의노트를 출력, 책으로 만들거나..\n",
        "-   아이패드등에 저장하고 필기하면서 공부한다..\n",
        "\n",
        "`2`. 코랩이용\n",
        "\n",
        "-   <https://guebin.github.io/PP2023> 에서 원하는 강의노트 선택 $\\to$\n",
        "    collab 버튼을 누른뒤에 강의노트 파일을 연다 $\\to$ 다운로드 or 본인의\n",
        "    구글 드라이브에 저장\n",
        "-   코랩을 연다 $\\to$ 파일열기 $\\to$ github / guebin / PP2023 / 파일찾기\n",
        "    $\\to$ 강의노트 파일 열기 $\\to$ 다운로드 or 본인의 구글 드라이브에\n",
        "    저장\n",
        "\n",
        "`3`. 깃헙에서 저장\n",
        "\n",
        "-   파일하나씩 저장\n",
        "-   레포지토리 전체 저장\n",
        "\n",
        "# 참고도서 소개\n",
        "\n",
        "`-` 전자교재\n",
        "\n",
        "-   <https://docs.python.org/3.9/tutorial/index.html>\n",
        "-   <https://wikidocs.net/book/1>\n",
        "-   <https://jakevdp.github.io/PythonDataScienceHandbook/>\n",
        "\n",
        "`-` 종이책\n",
        "\n",
        "-   효율적 개발로 이끄는 파이썬 실천 기술\n",
        "-   Learning python: powerful object-oriented programming\n",
        "-   전문가를 위한 파이썬 : 파이썬3 버전 기준 \\| 간단하고, 명료하고,\n",
        "    효율적인 파이썬 프로그래밍\n",
        "\n",
        "# 주피터랩\n",
        "\n",
        "`-` 파일탐색기, 저장된 변수값 확인 등의 기능이 있음\n",
        "\n",
        "`-` interactive notebook이 아니다."
      ],
      "id": "1141f645-61be-4142-b823-a0acaa33c459"
    },
    {
      "cell_type": "code",
      "execution_count": 40,
      "metadata": {},
      "outputs": [],
      "source": [
        "a=1"
      ],
      "id": "dbe52b7a-0fc4-48e5-b25f-0af7d4508f65"
    },
    {
      "cell_type": "code",
      "execution_count": 41,
      "metadata": {},
      "outputs": [
        {
          "output_type": "stream",
          "name": "stdout",
          "text": [
            "1"
          ]
        }
      ],
      "source": [
        "print(a)"
      ],
      "id": "4a72952f-2c06-44d8-a751-452c5ab645b0"
    },
    {
      "cell_type": "code",
      "execution_count": 42,
      "metadata": {},
      "outputs": [],
      "source": [
        "a=3"
      ],
      "id": "3324a9bb-136b-42cb-9a56-9b1acdb6a4d8"
    },
    {
      "cell_type": "markdown",
      "metadata": {},
      "source": [
        "# 주석"
      ],
      "id": "b63b110c-3908-4210-8959-f82897c008b4"
    },
    {
      "cell_type": "code",
      "execution_count": 48,
      "metadata": {},
      "outputs": [
        {
          "output_type": "stream",
          "name": "stdout",
          "text": [
            "3"
          ]
        }
      ],
      "source": [
        "a=3  \n",
        "#a=4\n",
        "print(a)"
      ],
      "id": "8700d479-b27b-4ee1-9d70-45454074d752"
    },
    {
      "cell_type": "markdown",
      "metadata": {},
      "source": [
        "# str 기본내용\n",
        "\n",
        "## 선언\n",
        "\n",
        "`-` 예시1"
      ],
      "id": "5a32dd27-35b4-4741-9990-5ca453f010a6"
    },
    {
      "cell_type": "code",
      "execution_count": 85,
      "metadata": {},
      "outputs": [],
      "source": [
        "a='guebin'"
      ],
      "id": "a4248c6b-06f4-4257-89e2-4ad1f9ff987d"
    },
    {
      "cell_type": "code",
      "execution_count": 86,
      "metadata": {},
      "outputs": [],
      "source": [
        "a"
      ],
      "id": "d19c7a0d-6caf-4a98-b2c2-9e6293da8817"
    },
    {
      "cell_type": "markdown",
      "metadata": {},
      "source": [
        "`-` 예시2"
      ],
      "id": "8edfc1d1-f7fd-4c0e-9351-36fb3dc090f1"
    },
    {
      "cell_type": "code",
      "execution_count": 9,
      "metadata": {},
      "outputs": [],
      "source": [
        "a=\"guebin\""
      ],
      "id": "85d2d458-d7b3-417b-a95d-061d4412c40b"
    },
    {
      "cell_type": "code",
      "execution_count": 2,
      "metadata": {},
      "outputs": [],
      "source": [
        "a"
      ],
      "id": "c236cb4b-0f5e-4834-a6d5-d494ffb013b6"
    },
    {
      "cell_type": "markdown",
      "metadata": {},
      "source": [
        "## 연산\n",
        "\n",
        "`-` 더하기(+)연산"
      ],
      "id": "027aadc2-a970-46d8-84cb-1b42bdf54c96"
    },
    {
      "cell_type": "code",
      "execution_count": 87,
      "metadata": {},
      "outputs": [],
      "source": [
        "a='X'\n",
        "b='2'"
      ],
      "id": "4821d768-6982-407e-ac21-acbefa39e91d"
    },
    {
      "cell_type": "code",
      "execution_count": 91,
      "metadata": {},
      "outputs": [],
      "source": [
        "c=a+b\n",
        "c"
      ],
      "id": "6648aac8-60d3-493d-b10f-5dd1289939bf"
    },
    {
      "cell_type": "markdown",
      "metadata": {},
      "source": [
        "`-` 빼기(-)연산"
      ],
      "id": "346d99f1-018c-491e-9769-694b580a37d5"
    },
    {
      "cell_type": "code",
      "execution_count": 92,
      "metadata": {},
      "outputs": [],
      "source": [
        "a='X2'\n",
        "b='2'\n",
        "a-b"
      ],
      "id": "23e774f6-7d05-4c14-b1f8-92d3b5ef351f"
    },
    {
      "cell_type": "markdown",
      "metadata": {},
      "source": [
        "-   이런건 없다.\n",
        "\n",
        "`-` 곱하기(\\*)연산"
      ],
      "id": "eb137f90-3f87-452e-8b3d-848af90d8234"
    },
    {
      "cell_type": "code",
      "execution_count": 61,
      "metadata": {},
      "outputs": [],
      "source": [
        "a='X'"
      ],
      "id": "96204fc5-5fe9-4edf-8022-e887fcd6086a"
    },
    {
      "cell_type": "code",
      "execution_count": 94,
      "metadata": {},
      "outputs": [],
      "source": [
        "a+a+a"
      ],
      "id": "fb3a01ac-28ea-431f-8e6b-89468587948c"
    },
    {
      "cell_type": "code",
      "execution_count": 95,
      "metadata": {},
      "outputs": [],
      "source": [
        "a*3 # a*3 = a+a+a = 'X'+'X+'X'"
      ],
      "id": "2206ea1e-9c5e-4c51-aa01-308e8845ec9c"
    },
    {
      "cell_type": "markdown",
      "metadata": {},
      "source": [
        "아래도 가능하다."
      ],
      "id": "00520c78-d68a-4c4c-869a-ea1204667fd1"
    },
    {
      "cell_type": "code",
      "execution_count": 96,
      "metadata": {},
      "outputs": [],
      "source": [
        "3*a"
      ],
      "id": "5afac3cf-0c99-42f1-acc8-b008416eb433"
    },
    {
      "cell_type": "markdown",
      "metadata": {},
      "source": [
        "그리고 아래도 가능하다."
      ],
      "id": "5bdb4e64-6852-47ff-b443-637799e2ac5c"
    },
    {
      "cell_type": "code",
      "execution_count": 97,
      "metadata": {},
      "outputs": [],
      "source": [
        "a='X'\n",
        "b=3 \n",
        "a*b"
      ],
      "id": "8677606d-9cd0-425d-a352-5194cd10af37"
    },
    {
      "cell_type": "markdown",
      "metadata": {},
      "source": [
        "대신에 의미상 맞지 않는 것은 수행되지 않고 에러가 난다."
      ],
      "id": "71e2f499-3a74-4db3-b9b4-a3d5733d3ffb"
    },
    {
      "cell_type": "code",
      "execution_count": 69,
      "metadata": {},
      "outputs": [],
      "source": [
        "a='X'\n",
        "b='Y'\n",
        "a+b"
      ],
      "id": "3dda6310-73de-43b8-9c68-fe0da3683d11"
    },
    {
      "cell_type": "code",
      "execution_count": 70,
      "metadata": {},
      "outputs": [],
      "source": [
        "a*b"
      ],
      "id": "2184ff3c-3cbb-4024-b2ac-f29dec5527de"
    },
    {
      "cell_type": "markdown",
      "metadata": {},
      "source": [
        "`-` 나눗셈(/)연산"
      ],
      "id": "a2e9ca46-04b0-4d13-8848-629c38d9e260"
    },
    {
      "cell_type": "code",
      "execution_count": 72,
      "metadata": {},
      "outputs": [],
      "source": [
        "a='XX'"
      ],
      "id": "77f22e63-661b-4200-ab01-d24f92046de2"
    },
    {
      "cell_type": "code",
      "execution_count": 73,
      "metadata": {},
      "outputs": [],
      "source": [
        "a/2"
      ],
      "id": "107e7c94-e358-449c-8a92-b740be09420a"
    },
    {
      "cell_type": "markdown",
      "metadata": {},
      "source": [
        "-   이런건 없다..\n",
        "\n",
        "## 인덱싱\n",
        "\n",
        "`-` str은 하나의 벡터 문자가 여러개 있는 형태라고 생각하면 된다."
      ],
      "id": "d3d86848-ef3d-4252-bad6-5e15cc36a09b"
    },
    {
      "cell_type": "code",
      "execution_count": 89,
      "metadata": {},
      "outputs": [],
      "source": [
        "a='guebin'"
      ],
      "id": "79a5950b-59bb-47e2-9941-53f7d05252bc"
    },
    {
      "cell_type": "code",
      "execution_count": 90,
      "metadata": {},
      "outputs": [],
      "source": [
        "a"
      ],
      "id": "0305d453-7997-4df1-9845-d3d01a6ae94c"
    },
    {
      "cell_type": "markdown",
      "metadata": {},
      "source": [
        "-   6개의 칸에 글씨가 하나씩 들어가 있음.\n",
        "\n",
        "`-` 대괄호 `[]`안에 숫자를 넣는 방식으로 벡터의 원소를 호출할 수 있다.\n",
        "(주의: 인덱스가 0부터 시작함)"
      ],
      "id": "947df015-974c-46db-b4e6-106ffda1844e"
    },
    {
      "cell_type": "code",
      "execution_count": 77,
      "metadata": {},
      "outputs": [],
      "source": [
        "a[0] #첫번째원소"
      ],
      "id": "0c20884b-a3cb-4677-9103-71384adc19b2"
    },
    {
      "cell_type": "code",
      "execution_count": 78,
      "metadata": {},
      "outputs": [],
      "source": [
        "a[1] #두번째원소 "
      ],
      "id": "cc5d7fb3-a143-4c89-998a-ada55a958ba1"
    },
    {
      "cell_type": "markdown",
      "metadata": {},
      "source": [
        "마지막원소는 -1로 호출할 수도 있다."
      ],
      "id": "972d5bc8-5f40-4822-92ca-94bfd367d627"
    },
    {
      "cell_type": "code",
      "execution_count": 114,
      "metadata": {},
      "outputs": [],
      "source": [
        "a[-1]"
      ],
      "id": "18d020ce-b09d-4a90-918c-58276c13544c"
    },
    {
      "cell_type": "markdown",
      "metadata": {},
      "source": [
        "마지막에서 2번째 원소는 -2로 호출가능하다."
      ],
      "id": "4157541c-52b7-46b4-85aa-2f3f6e4465be"
    },
    {
      "cell_type": "code",
      "execution_count": 115,
      "metadata": {},
      "outputs": [],
      "source": [
        "a[-2]"
      ],
      "id": "85e70a24-25b6-4a6c-b5eb-953ca74241cb"
    },
    {
      "cell_type": "markdown",
      "metadata": {},
      "source": [
        "`-` 요약하면 아래와 같은 방식으로 호출가능함.\n",
        "\n",
        "|  g  |  u  |  e  |  b  |  i  |  n  |\n",
        "|:---:|:---:|:---:|:---:|:---:|:---:|\n",
        "|  0  |  1  |  2  |  3  |  4  |  5  |\n",
        "|  0  | -5  | -4  | -3  | -2  | -1  |"
      ],
      "id": "0b6d23e7-ff1d-44c1-a545-b970906da697"
    },
    {
      "cell_type": "code",
      "execution_count": 95,
      "metadata": {},
      "outputs": [],
      "source": [
        "a[4]"
      ],
      "id": "0a8ade8b-88df-463b-88c7-14e8de1f7fff"
    },
    {
      "cell_type": "code",
      "execution_count": 96,
      "metadata": {},
      "outputs": [],
      "source": [
        "a[-2]"
      ],
      "id": "d31d3740-d7bc-41bb-a9d9-bc21fee57e36"
    },
    {
      "cell_type": "code",
      "execution_count": 97,
      "metadata": {},
      "outputs": [],
      "source": [
        "a[-4]"
      ],
      "id": "cc5e4f41-e7cf-4ba8-9e62-cad834da57d8"
    },
    {
      "cell_type": "markdown",
      "metadata": {},
      "source": [
        "`-` `:`을 이용하여 여러개의 원소를 호출할 수 있음."
      ],
      "id": "b0631356-8991-43fa-9d0c-aba017b5c261"
    },
    {
      "cell_type": "code",
      "execution_count": 98,
      "metadata": {},
      "outputs": [],
      "source": [
        "a='guebin'"
      ],
      "id": "62fe50e4-71e5-4f54-8a9a-bb6954cf52cd"
    },
    {
      "cell_type": "code",
      "execution_count": 102,
      "metadata": {},
      "outputs": [],
      "source": [
        "a[0:3] # a[0],a[1],a[2],a[3]이 아니라 a[0],a[1],a[2]까지만 뽑힌다. 즉 마지막의 3은 호출되지 않는다. "
      ],
      "id": "a5c7057c-e167-45a2-988f-b48aab9b44e2"
    },
    {
      "cell_type": "code",
      "execution_count": 103,
      "metadata": {},
      "outputs": [],
      "source": [
        "a[1:3] # a[1], a[2] 만 호출 // start=1,  stop=3 "
      ],
      "id": "0d69e7dc-4b06-4c59-9e6b-039629b86f43"
    },
    {
      "cell_type": "markdown",
      "metadata": {},
      "source": [
        "index=1부터 시작해서 마지막원소까지 호출하려면?"
      ],
      "id": "20cffbd1-4d0f-4e6e-9c14-d9c35b35b262"
    },
    {
      "cell_type": "code",
      "execution_count": 153,
      "metadata": {},
      "outputs": [],
      "source": [
        "a='guebin'"
      ],
      "id": "7303340b-1a8f-4a4f-9fca-d7ad8d0ae623"
    },
    {
      "cell_type": "code",
      "execution_count": 130,
      "metadata": {},
      "outputs": [],
      "source": [
        "a[5] # guebin의 마지막원소 'n'이 출려 "
      ],
      "id": "ac81185d-9137-448e-944b-881eb0ec698b"
    },
    {
      "cell_type": "code",
      "execution_count": 135,
      "metadata": {},
      "outputs": [],
      "source": [
        "a[1:5] # 5는 포함되지 않으므로 틀림"
      ],
      "id": "cff760ab-17f2-4d3e-bb67-81020304f53a"
    },
    {
      "cell_type": "code",
      "execution_count": 136,
      "metadata": {},
      "outputs": [],
      "source": [
        "a[1:6] # 정답"
      ],
      "id": "755d4763-1455-4911-abdf-54c7a01e57e5"
    },
    {
      "cell_type": "markdown",
      "metadata": {},
      "source": [
        "안 헷갈리는 방법은 없을까? 생략한다."
      ],
      "id": "d3de7441-6357-4428-a36d-b86839c91bcf"
    },
    {
      "cell_type": "code",
      "execution_count": 140,
      "metadata": {},
      "outputs": [],
      "source": [
        "a[1:]"
      ],
      "id": "3ec43f1f-488f-4773-933d-9ff06b884772"
    },
    {
      "cell_type": "markdown",
      "metadata": {},
      "source": [
        "`-` 생략의 응용1"
      ],
      "id": "40d8b024-5b04-4e76-bd19-f92fca1ba9be"
    },
    {
      "cell_type": "code",
      "execution_count": 160,
      "metadata": {},
      "outputs": [],
      "source": [
        "a='k-pop' \n",
        "a"
      ],
      "id": "58d29252-8cd3-431e-b6fa-e63c85ef37e3"
    },
    {
      "cell_type": "code",
      "execution_count": 159,
      "metadata": {},
      "outputs": [],
      "source": [
        "a[2:5]"
      ],
      "id": "5d83b129-2cee-40b4-b2a0-d3c40aff0f0d"
    },
    {
      "cell_type": "code",
      "execution_count": 160,
      "metadata": {},
      "outputs": [],
      "source": [
        "a[2:]"
      ],
      "id": "3195fc64-eff8-4664-aae1-c7a3513bc4b8"
    },
    {
      "cell_type": "markdown",
      "metadata": {},
      "source": [
        "`-` 생략의 응용2"
      ],
      "id": "3c457f9e-e65f-44b8-9142-aeb35e837e08"
    },
    {
      "cell_type": "code",
      "execution_count": 168,
      "metadata": {},
      "outputs": [],
      "source": [
        "a='k-pop'\n",
        "a"
      ],
      "id": "1956b74a-9928-4325-afdb-a30d964b1b78"
    },
    {
      "cell_type": "code",
      "execution_count": 173,
      "metadata": {},
      "outputs": [],
      "source": [
        "a[0:2] # a[0],a[1]"
      ],
      "id": "69e55965-b902-49eb-afe9-de61885cba2e"
    },
    {
      "cell_type": "code",
      "execution_count": 174,
      "metadata": {},
      "outputs": [],
      "source": [
        "a[:2] # a[0],a[1] "
      ],
      "id": "0b57d2ab-3d16-4761-848b-c8f742431513"
    },
    {
      "cell_type": "markdown",
      "metadata": {},
      "source": [
        "`-` 생략의 응용3"
      ],
      "id": "91efcb96-5d37-4409-bf98-c84496cf460f"
    },
    {
      "cell_type": "code",
      "execution_count": 175,
      "metadata": {},
      "outputs": [],
      "source": [
        "a='k-pop'\n",
        "a"
      ],
      "id": "7ec04af6-d7f6-4ebe-97f8-e670bf4142b2"
    },
    {
      "cell_type": "code",
      "execution_count": 176,
      "metadata": {},
      "outputs": [],
      "source": [
        "a[0:5] # a[0],...,a[4]"
      ],
      "id": "e251c5d4-b724-4674-806a-5b3cc2490db0"
    },
    {
      "cell_type": "code",
      "execution_count": 177,
      "metadata": {},
      "outputs": [],
      "source": [
        "a[:]"
      ],
      "id": "70f8a025-5ae8-4e03-bedc-e79c8a25d151"
    },
    {
      "cell_type": "markdown",
      "metadata": {},
      "source": [
        "## str 특수기능\n",
        "\n",
        "`-` 파이썬의 변수는 단순히 정보를 담는 그릇이 아니다. 유용한 기능을\n",
        "제공하는 경우가 있다."
      ],
      "id": "3c28d5fb-e2c9-455c-a9dd-46f0aa00526d"
    },
    {
      "cell_type": "code",
      "execution_count": 135,
      "metadata": {},
      "outputs": [],
      "source": [
        "a='ABCD' # a라는 변수는 'ABCD'라는 정보를 담는 그릇의 역할만 하지 않고, 특화된 어떠한 기능도 제공한다. \n",
        "a"
      ],
      "id": "4f7ed308-37da-4d2d-8acd-5a4980a47abe"
    },
    {
      "cell_type": "code",
      "execution_count": 140,
      "metadata": {},
      "outputs": [],
      "source": [
        "a.lower() # a.lower()를 쓰면 a의 모든 문자를 소문자로 바꾸는 기능을 제공, lower(a)라고 읽자!"
      ],
      "id": "49c16c42-9833-4d27-bc1a-f087121956d3"
    },
    {
      "cell_type": "markdown",
      "metadata": {},
      "source": [
        "여기에서 lower()는 문자열에 특화된 기능임. 따라서 당연히 아래는 불가능"
      ],
      "id": "8c85109b-7899-46a9-abbf-1eb95e7380aa"
    },
    {
      "cell_type": "code",
      "execution_count": 194,
      "metadata": {},
      "outputs": [],
      "source": [
        "a=3.14\n",
        "a.lower() # lower(a)"
      ],
      "id": "467117d1-7157-4f67-8189-883625c13d7e"
    },
    {
      "cell_type": "markdown",
      "metadata": {},
      "source": [
        "`-` 자료형에 특화된 기능(=함수)을 확인하는 방법? `a.`+ `tab` 으로 목록\n",
        "확인 가능"
      ],
      "id": "81624b0a-e61a-428e-b9e1-e1ed738473af"
    },
    {
      "cell_type": "code",
      "execution_count": 193,
      "metadata": {},
      "outputs": [],
      "source": [
        "a='guebin'"
      ],
      "id": "c9965258-c6be-41fe-9739-9281296be760"
    },
    {
      "cell_type": "code",
      "execution_count": 194,
      "metadata": {},
      "outputs": [],
      "source": [
        "a.upper?"
      ],
      "id": "301f3fb7-cac2-4cf0-9fdf-f83bd1b0ac97"
    },
    {
      "cell_type": "code",
      "execution_count": 195,
      "metadata": {},
      "outputs": [],
      "source": [
        "a.upper() # upper(a) "
      ],
      "id": "f8af36d2-2f22-426a-a6b7-a83d51ee9aef"
    },
    {
      "cell_type": "code",
      "execution_count": 143,
      "metadata": {},
      "outputs": [],
      "source": [
        "a.capitalize() # capitalize(a) "
      ],
      "id": "0f91d3e0-d258-4b4c-a354-18fa05e6d4dd"
    },
    {
      "cell_type": "code",
      "execution_count": 198,
      "metadata": {},
      "outputs": [],
      "source": [
        "a='asdf'"
      ],
      "id": "6313107d-2d52-4c0b-af38-e85a5c0505e6"
    },
    {
      "cell_type": "markdown",
      "metadata": {},
      "source": [
        "`-` 문자열에 대한 다른 내용들은 추후에 다루겠음.\n",
        "\n",
        "`-` 마음의눈: `a.f()` 형태를 읽는 팁\n",
        "\n",
        "-   `a.f()`는 `f(a)`로 생각하면 편리함.\n",
        "-   `a.f(2)`는 `f(a,2)`로 생각하면 편리함.\n",
        "-   이런점에서 R `%>%` 연산자와 비슷하다고 생각할 수 있다. (약간\n",
        "    다르긴함)\n",
        "\n",
        "`-` 사실 `.`은 좀 더 다양한 상황에서 쓰일 수 있다. `변수이름.함수이름()`\n",
        "의 형태가 아니라\n",
        "\n",
        "-   `패지키이름.함수이름()`\n",
        "-   `패키지이름.변수이름`\n",
        "-   `패키지이름.패키지이름.함수이름()`\n",
        "-   …\n",
        "\n",
        "와 같이 다양한 형태가 가능하다. 근본적인 공통점은 `.`을 기준으로\n",
        "`상위개념.하위개념` 으로 이해하는 것이 좋다.\n",
        "\n",
        "## len\n",
        "\n",
        "`-` `len`함수 소개: 원소의 갯수를 알려주는 함수."
      ],
      "id": "7899d1dd-2bee-41b1-b903-cd6e4b190379"
    },
    {
      "cell_type": "code",
      "execution_count": 206,
      "metadata": {},
      "outputs": [],
      "source": [
        "a='ABCD' \n",
        "len(a)"
      ],
      "id": "491c469d-1a5a-45fe-9c83-28e4b3e4ff2d"
    },
    {
      "cell_type": "markdown",
      "metadata": {},
      "source": [
        "`-` 참고: len은 0차원 변수형에서는 동작하지 않고 1차원 변수형에서만\n",
        "동작한다.\n",
        "\n",
        "(0차원) `len` 함수가 동작하지 않음."
      ],
      "id": "cccebed1-cc1c-434e-8d5b-4546ee7b0f06"
    },
    {
      "cell_type": "code",
      "execution_count": 209,
      "metadata": {},
      "outputs": [],
      "source": [
        "a=3.14"
      ],
      "id": "3a11e307-85e2-4194-aeeb-f8d6363c3a26"
    },
    {
      "cell_type": "code",
      "execution_count": 210,
      "metadata": {},
      "outputs": [],
      "source": [
        "len(a)"
      ],
      "id": "0daa3095-7acc-4860-8f68-7a6f5d46a3f6"
    },
    {
      "cell_type": "code",
      "execution_count": 211,
      "metadata": {},
      "outputs": [],
      "source": [
        "b=True"
      ],
      "id": "83746dc1-87e1-47ad-8ba1-5cfaff4d2a3a"
    },
    {
      "cell_type": "code",
      "execution_count": 212,
      "metadata": {},
      "outputs": [],
      "source": [
        "len(b)"
      ],
      "id": "3354bca3-b748-4e17-a44f-30eec029533c"
    },
    {
      "cell_type": "markdown",
      "metadata": {},
      "source": [
        "(1차원) `len` 함수가 잘 동작함."
      ],
      "id": "d0741b86-553c-4dc8-b65d-cb2764afc23e"
    },
    {
      "cell_type": "code",
      "execution_count": 213,
      "metadata": {},
      "outputs": [],
      "source": [
        "a='3.14'\n",
        "len(a)"
      ],
      "id": "9b28a788-f91c-481b-aed8-4ba1a9916c35"
    },
    {
      "cell_type": "code",
      "execution_count": 214,
      "metadata": {},
      "outputs": [],
      "source": [
        "b=[1,2,3]"
      ],
      "id": "a999f4d6-5cf5-4b9c-8b34-b8a2ab35f9ad"
    },
    {
      "cell_type": "code",
      "execution_count": 215,
      "metadata": {},
      "outputs": [],
      "source": [
        "len(b)"
      ],
      "id": "9d607870-3baa-4288-91d4-4a0991480b15"
    },
    {
      "cell_type": "markdown",
      "metadata": {},
      "source": [
        "# HW: 0315\n",
        "\n",
        "아래와 같은 문자열이 있다고 하자."
      ],
      "id": "3e9ac392-8d60-468c-a5b7-acf2687b57cd"
    },
    {
      "cell_type": "code",
      "execution_count": null,
      "metadata": {},
      "outputs": [],
      "source": [
        "a='Jeonbuk National University' "
      ],
      "id": "97d226d3-afa2-43fe-8b26-1245e01b2ddf"
    },
    {
      "cell_type": "markdown",
      "metadata": {},
      "source": [
        "`1`. 적당한 인덱싱을 통하여 출력결과가 아래와 같도록 하라."
      ],
      "id": "ea806102-2bce-49c9-9013-2c121beac39e"
    },
    {
      "cell_type": "code",
      "execution_count": null,
      "metadata": {},
      "outputs": [],
      "source": [
        "# 적당한 인덱싱"
      ],
      "id": "b75af562-5b0e-488f-98a1-616405552ec0"
    },
    {
      "cell_type": "markdown",
      "metadata": {},
      "source": [
        "**hint**: University는 10글자이다.\n",
        "\n",
        "`2`. 출력결과가 아래와 같도록 하는 코드를 작성하라. (lower 함수를 이용할\n",
        "것)"
      ],
      "id": "ae92c244-f097-49e2-b039-a46c04eaf2b2"
    },
    {
      "cell_type": "code",
      "execution_count": null,
      "metadata": {},
      "outputs": [],
      "source": [
        "# 적당한 코드 "
      ],
      "id": "753bcd16-e62a-4c10-a4dc-4ff14a2d17b7"
    },
    {
      "cell_type": "markdown",
      "metadata": {},
      "source": [
        "`3`. 아래의 코드를 관찰하고 isupper()의 기능이 무엇인지 스스로\n",
        "정리해보라."
      ],
      "id": "36e3c416-8f4d-4a49-8a5e-9b2c30f854d8"
    },
    {
      "cell_type": "code",
      "execution_count": null,
      "metadata": {},
      "outputs": [],
      "source": [
        "'A'.isupper()"
      ],
      "id": "82567453-19a2-49d9-a8bc-22492ba55d4a"
    },
    {
      "cell_type": "code",
      "execution_count": null,
      "metadata": {},
      "outputs": [],
      "source": [
        "'AA'.isupper()"
      ],
      "id": "97216c74-fde6-4976-ab98-524787e39120"
    },
    {
      "cell_type": "code",
      "execution_count": null,
      "metadata": {},
      "outputs": [],
      "source": [
        "'Aa'.isupper()"
      ],
      "id": "dda2089e-220e-4b0c-90fb-392fafe9da8f"
    },
    {
      "cell_type": "code",
      "execution_count": null,
      "metadata": {},
      "outputs": [],
      "source": [
        "'aa'.isupper()"
      ],
      "id": "d35cba09-1b59-46b7-a18e-6e3b15b2bc5f"
    },
    {
      "cell_type": "code",
      "execution_count": null,
      "metadata": {},
      "outputs": [],
      "source": [
        "'aA'.isupper()"
      ],
      "id": "83e1a853-0d6b-48e0-9e38-28d93cdb7011"
    },
    {
      "cell_type": "markdown",
      "metadata": {},
      "source": [
        "유추한 기능이 맞는지 ChatGPT를 통하여 확인하라.\n",
        "\n",
        "`4`. 다음중 실행 불가능한 코드를 모두 골라라.\n",
        "\n",
        "``` python\n",
        "(a) 'a'*2 \n",
        "\n",
        "(b) 'a'*'2'\n",
        "\n",
        "(c) 'a'+2 \n",
        "\n",
        "(d) 'a'+'2'\n",
        "```"
      ],
      "id": "fc9e3932-090b-46e3-a7b2-95f449164341"
    }
  ],
  "nbformat": 4,
  "nbformat_minor": 5,
  "metadata": {
    "kernelspec": {
      "name": "python3",
      "display_name": "Python 3",
      "language": "python"
    },
    "language_info": {
      "name": "python",
      "codemirror_mode": {
        "name": "ipython",
        "version": "3"
      },
      "file_extension": ".py",
      "mimetype": "text/x-python",
      "nbconvert_exporter": "python",
      "pygments_lexer": "ipython3",
      "version": "3.8.16"
    }
  }
}